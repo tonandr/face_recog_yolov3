{
 "cells": [
  {
   "cell_type": "code",
   "execution_count": 44,
   "metadata": {
    "scrolled": false
   },
   "outputs": [
    {
     "name": "stdout",
     "output_type": "stream",
     "text": [
      "Populating the interactive namespace from numpy and matplotlib\n"
     ]
    },
    {
     "name": "stderr",
     "output_type": "stream",
     "text": [
      "D:\\Users\\gutom\\Anaconda3\\envs\\tf36\\lib\\site-packages\\IPython\\core\\magics\\pylab.py:160: UserWarning: pylab import has clobbered these variables: ['add', 'norm', 'entropy', 'imread', 'imsave']\n",
      "`%matplotlib` prevents importing * from pylab and numpy\n",
      "  \"\\n`%matplotlib` prevents importing * from pylab and numpy\"\n"
     ]
    }
   ],
   "source": [
    "%pylab inline\n",
    "\n",
    "import pandas as pd\n",
    "import pickle\n",
    "from scipy.linalg import norm\n",
    "import cv2 as cv\n",
    "import os\n",
    "import importlib\n",
    "from sklearn.preprocessing import normalize\n",
    "from skimage.io import imsave, imread\n",
    "import os\n",
    "import glob\n",
    "import argparse\n",
    "import time\n",
    "import pickle\n",
    "import platform\n",
    "import shutil\n",
    "\n",
    "import numpy as np\n",
    "import pandas as pd\n",
    "import cv2 as cv\n",
    "from skimage.io import imsave\n",
    "from scipy.stats import entropy\n",
    "from scipy.linalg import norm\n",
    "import h5py\n",
    "\n",
    "from keras.applications.mobilenet_v2 import MobileNetV2\n",
    "from keras.models import Model, load_model\n",
    "from keras.layers import Input, Dense, Lambda, ZeroPadding2D, LeakyReLU, Flatten, Concatenate\n",
    "from keras.layers.merge import add\n",
    "from keras.utils import multi_gpu_model\n",
    "from keras.utils.data_utils import Sequence\n",
    "import keras.backend as K\n",
    "from keras import optimizers\n"
   ]
  },
  {
   "cell_type": "code",
   "execution_count": 7,
   "metadata": {
    "scrolled": false
   },
   "outputs": [
    {
     "name": "stdout",
     "output_type": "stream",
     "text": [
      "D:\\topcoder\\face_recog\\src\\space\n"
     ]
    }
   ],
   "source": [
    "cd D:\\\\topcoder\\\\face_recog\\\\src\\\\space"
   ]
  },
  {
   "cell_type": "code",
   "execution_count": 8,
   "metadata": {
    "scrolled": false
   },
   "outputs": [],
   "source": [
    "import sys\n",
    "sys.path.append('D:\\\\topcoder\\\\face_recog\\\\src')"
   ]
  },
  {
   "cell_type": "code",
   "execution_count": 9,
   "metadata": {
    "scrolled": false
   },
   "outputs": [],
   "source": [
    "with open('db_facial_id.pobj', 'rb') as f:\n",
    "    facial_ids = pickle.load(f)"
   ]
  },
  {
   "cell_type": "code",
   "execution_count": 10,
   "metadata": {
    "scrolled": false
   },
   "outputs": [],
   "source": [
    "diff_norms = []\n",
    "for subject_id in facial_ids:\n",
    "    diff_norms.append(norm(facial_ids[1] - facial_ids[subject_id]))\n",
    "diff_norms = np.asarray(diff_norms)[1:]"
   ]
  },
  {
   "cell_type": "code",
   "execution_count": 11,
   "metadata": {
    "scrolled": false
   },
   "outputs": [
    {
     "data": {
      "text/plain": [
       "(0.22102928161621094, 1.1220169067382812, 0.6192618016981416)"
      ]
     },
     "execution_count": 11,
     "metadata": {},
     "output_type": "execute_result"
    }
   ],
   "source": [
    "diff_norms.min(), diff_norms.max(), diff_norms.mean()"
   ]
  },
  {
   "cell_type": "code",
   "execution_count": 12,
   "metadata": {
    "scrolled": false
   },
   "outputs": [
    {
     "data": {
      "text/plain": [
       "(array([ 1.,  3.,  1.,  2.,  8.,  4.,  9.,  7., 14., 17., 12., 15., 11.,\n",
       "        12.,  9.,  9., 15.,  3., 21.,  8.,  9., 14., 17., 19., 20.,  9.,\n",
       "         8., 19., 10., 18., 19.,  7., 16.,  9., 15., 19., 15., 26., 20.,\n",
       "        20., 19., 23., 11., 22., 11., 18., 20., 11., 11., 13., 21., 12.,\n",
       "        10., 18., 15., 16., 22.,  8.,  7., 15.,  9., 16., 11., 13., 14.,\n",
       "        19., 12.,  9.,  8., 17., 10.,  9.,  9.,  4.,  9., 12., 11., 11.,\n",
       "         4.,  8.,  7.,  4.,  7.,  7.,  7.,  5.,  3.,  1.,  3.,  8.,  1.,\n",
       "         3.,  2.,  5.,  3.,  2.,  2.,  0.,  1.,  1.]),\n",
       " array([0.22102928, 0.23003916, 0.23904903, 0.24805891, 0.25706879,\n",
       "        0.26607866, 0.27508854, 0.28409842, 0.29310829, 0.30211817,\n",
       "        0.31112804, 0.32013792, 0.3291478 , 0.33815767, 0.34716755,\n",
       "        0.35617743, 0.3651873 , 0.37419718, 0.38320705, 0.39221693,\n",
       "        0.40122681, 0.41023668, 0.41924656, 0.42825644, 0.43726631,\n",
       "        0.44627619, 0.45528606, 0.46429594, 0.47330582, 0.48231569,\n",
       "        0.49132557, 0.50033545, 0.50934532, 0.5183552 , 0.52736507,\n",
       "        0.53637495, 0.54538483, 0.5543947 , 0.56340458, 0.57241446,\n",
       "        0.58142433, 0.59043421, 0.59944408, 0.60845396, 0.61746384,\n",
       "        0.62647371, 0.63548359, 0.64449347, 0.65350334, 0.66251322,\n",
       "        0.67152309, 0.68053297, 0.68954285, 0.69855272, 0.7075626 ,\n",
       "        0.71657248, 0.72558235, 0.73459223, 0.7436021 , 0.75261198,\n",
       "        0.76162186, 0.77063173, 0.77964161, 0.78865149, 0.79766136,\n",
       "        0.80667124, 0.81568111, 0.82469099, 0.83370087, 0.84271074,\n",
       "        0.85172062, 0.8607305 , 0.86974037, 0.87875025, 0.88776012,\n",
       "        0.89677   , 0.90577988, 0.91478975, 0.92379963, 0.93280951,\n",
       "        0.94181938, 0.95082926, 0.95983913, 0.96884901, 0.97785889,\n",
       "        0.98686876, 0.99587864, 1.00488852, 1.01389839, 1.02290827,\n",
       "        1.03191814, 1.04092802, 1.0499379 , 1.05894777, 1.06795765,\n",
       "        1.07696753, 1.0859774 , 1.09498728, 1.10399715, 1.11300703,\n",
       "        1.12201691]),\n",
       " <a list of 100 Patch objects>)"
      ]
     },
     "execution_count": 12,
     "metadata": {},
     "output_type": "execute_result"
    },
    {
     "data": {
      "image/png": "[encoded data removed]",
      "text/plain": [
       "<Figure size 432x288 with 1 Axes>"
      ]
     },
     "metadata": {
      "needs_background": "light"
     },
     "output_type": "display_data"
    }
   ],
   "source": [
    "hist(diff_norms, bins=100)"
   ]
  },
  {
   "cell_type": "code",
   "execution_count": 13,
   "metadata": {
    "scrolled": false
   },
   "outputs": [
    {
     "name": "stdout",
     "output_type": "stream",
     "text": [
      "0.0 1.1574599742889404 0.7958166379547031\n"
     ]
    },
    {
     "data": {
      "text/plain": [
       "(array([ 1.,  0.,  0.,  0.,  0.,  0.,  0.,  0.,  0.,  0.,  0.,  0.,  0.,\n",
       "         0.,  0.,  0.,  0.,  0.,  0.,  0.,  0.,  0.,  0.,  0.,  0.,  0.,\n",
       "         0.,  0.,  0.,  0.,  0.,  0.,  1.,  2.,  0.,  0.,  2.,  0.,  0.,\n",
       "         0.,  2.,  3.,  2.,  3.,  5.,  3.,  6.,  7.,  5.,  5.,  4., 10.,\n",
       "         5.,  9., 15., 15., 26., 25., 25., 27., 24., 35., 37., 40., 37.,\n",
       "        38., 46., 27., 52., 37., 47., 45., 45., 39., 45., 35., 29., 29.,\n",
       "        19., 20., 19., 15., 15., 14.,  8., 12.,  5., 13., 13.,  6.,  6.,\n",
       "         5.,  7.,  1.,  3.,  2.,  1.,  1.,  0.,  1.]),\n",
       " array([0.        , 0.0115746 , 0.0231492 , 0.0347238 , 0.0462984 ,\n",
       "        0.057873  , 0.0694476 , 0.0810222 , 0.0925968 , 0.1041714 ,\n",
       "        0.115746  , 0.1273206 , 0.1388952 , 0.1504698 , 0.1620444 ,\n",
       "        0.173619  , 0.1851936 , 0.1967682 , 0.2083428 , 0.2199174 ,\n",
       "        0.23149199, 0.24306659, 0.25464119, 0.26621579, 0.27779039,\n",
       "        0.28936499, 0.30093959, 0.31251419, 0.32408879, 0.33566339,\n",
       "        0.34723799, 0.35881259, 0.37038719, 0.38196179, 0.39353639,\n",
       "        0.40511099, 0.41668559, 0.42826019, 0.43983479, 0.45140939,\n",
       "        0.46298399, 0.47455859, 0.48613319, 0.49770779, 0.50928239,\n",
       "        0.52085699, 0.53243159, 0.54400619, 0.55558079, 0.56715539,\n",
       "        0.57872999, 0.59030459, 0.60187919, 0.61345379, 0.62502839,\n",
       "        0.63660299, 0.64817759, 0.65975219, 0.67132679, 0.68290138,\n",
       "        0.69447598, 0.70605058, 0.71762518, 0.72919978, 0.74077438,\n",
       "        0.75234898, 0.76392358, 0.77549818, 0.78707278, 0.79864738,\n",
       "        0.81022198, 0.82179658, 0.83337118, 0.84494578, 0.85652038,\n",
       "        0.86809498, 0.87966958, 0.89124418, 0.90281878, 0.91439338,\n",
       "        0.92596798, 0.93754258, 0.94911718, 0.96069178, 0.97226638,\n",
       "        0.98384098, 0.99541558, 1.00699018, 1.01856478, 1.03013938,\n",
       "        1.04171398, 1.05328858, 1.06486318, 1.07643778, 1.08801238,\n",
       "        1.09958698, 1.11116158, 1.12273618, 1.13431077, 1.14588537,\n",
       "        1.15745997]),\n",
       " <a list of 100 Patch objects>)"
      ]
     },
     "execution_count": 13,
     "metadata": {},
     "output_type": "execute_result"
    },
    {
     "data": {
      "image/png": "[encoded data removed]",
      "text/plain": [
       "<Figure size 432x288 with 1 Axes>"
      ]
     },
     "metadata": {
      "needs_background": "light"
     },
     "output_type": "display_data"
    }
   ],
   "source": [
    "diff_norms = []\n",
    "for subject_id in facial_ids:\n",
    "    diff_norms.append(norm(facial_ids[2] - facial_ids[subject_id]))\n",
    "diff_norms = np.asarray(diff_norms)\n",
    "print(diff_norms.min(), diff_norms.max(), diff_norms.mean())\n",
    "hist(diff_norms, bins=100)"
   ]
  },
  {
   "cell_type": "code",
   "execution_count": 14,
   "metadata": {
    "scrolled": false
   },
   "outputs": [
    {
     "name": "stdout",
     "output_type": "stream",
     "text": [
      "0.0 1.2462674379348755 0.868333381182832\n"
     ]
    },
    {
     "data": {
      "text/plain": [
       "(array([ 1.,  0.,  0.,  0.,  0.,  0.,  0.,  0.,  0.,  0.,  0.,  0.,  0.,\n",
       "         0.,  0.,  0.,  0.,  0.,  0.,  0.,  1.,  0.,  0.,  1.,  2.,  2.,\n",
       "         2.,  3.,  2.,  2.,  3.,  3.,  4.,  4.,  8.,  5.,  5.,  4.,  3.,\n",
       "         5.,  2.,  3.,  4.,  6.,  4.,  7., 10.,  5., 16., 11.,  9.,  7.,\n",
       "         7., 13.,  8., 10., 15., 17., 17., 16., 11., 18., 18., 13., 21.,\n",
       "        13., 19., 29., 20., 22., 33., 32., 27., 31., 33., 44., 35., 45.,\n",
       "        36., 47., 41., 47., 36., 43., 25., 29., 26.,  9.,  8.,  4.,  2.,\n",
       "         2.,  4.,  3.,  2.,  1.,  1.,  0.,  1.,  3.]),\n",
       " array([0.        , 0.01246267, 0.02492535, 0.03738802, 0.0498507 ,\n",
       "        0.06231337, 0.07477605, 0.08723872, 0.0997014 , 0.11216407,\n",
       "        0.12462674, 0.13708942, 0.14955209, 0.16201477, 0.17447744,\n",
       "        0.18694012, 0.19940279, 0.21186546, 0.22432814, 0.23679081,\n",
       "        0.24925349, 0.26171616, 0.27417884, 0.28664151, 0.29910419,\n",
       "        0.31156686, 0.32402953, 0.33649221, 0.34895488, 0.36141756,\n",
       "        0.37388023, 0.38634291, 0.39880558, 0.41126825, 0.42373093,\n",
       "        0.4361936 , 0.44865628, 0.46111895, 0.47358163, 0.4860443 ,\n",
       "        0.49850698, 0.51096965, 0.52343232, 0.535895  , 0.54835767,\n",
       "        0.56082035, 0.57328302, 0.5857457 , 0.59820837, 0.61067104,\n",
       "        0.62313372, 0.63559639, 0.64805907, 0.66052174, 0.67298442,\n",
       "        0.68544709, 0.69790977, 0.71037244, 0.72283511, 0.73529779,\n",
       "        0.74776046, 0.76022314, 0.77268581, 0.78514849, 0.79761116,\n",
       "        0.81007383, 0.82253651, 0.83499918, 0.84746186, 0.85992453,\n",
       "        0.87238721, 0.88484988, 0.89731256, 0.90977523, 0.9222379 ,\n",
       "        0.93470058, 0.94716325, 0.95962593, 0.9720886 , 0.98455128,\n",
       "        0.99701395, 1.00947662, 1.0219393 , 1.03440197, 1.04686465,\n",
       "        1.05932732, 1.07179   , 1.08425267, 1.09671535, 1.10917802,\n",
       "        1.12164069, 1.13410337, 1.14656604, 1.15902872, 1.17149139,\n",
       "        1.18395407, 1.19641674, 1.20887941, 1.22134209, 1.23380476,\n",
       "        1.24626744]),\n",
       " <a list of 100 Patch objects>)"
      ]
     },
     "execution_count": 14,
     "metadata": {},
     "output_type": "execute_result"
    },
    {
     "data": {
      "image/png": "[encoded data removed]",
      "text/plain": [
       "<Figure size 432x288 with 1 Axes>"
      ]
     },
     "metadata": {
      "needs_background": "light"
     },
     "output_type": "display_data"
    }
   ],
   "source": [
    "diff_norms = []\n",
    "for subject_id in facial_ids:\n",
    "    diff_norms.append(norm(facial_ids[3] - facial_ids[subject_id]))\n",
    "diff_norms = np.asarray(diff_norms)\n",
    "print(diff_norms.min(), diff_norms.max(), diff_norms.mean())\n",
    "hist(diff_norms, bins=100)"
   ]
  },
  {
   "cell_type": "code",
   "execution_count": 15,
   "metadata": {
    "scrolled": false
   },
   "outputs": [
    {
     "name": "stdout",
     "output_type": "stream",
     "text": [
      "1\n",
      "0.0 1.1220169067382812 0.618688941567061\n"
     ]
    },
    {
     "data": {
      "image/png": "[encoded data removed]",
      "text/plain": [
       "<Figure size 432x288 with 1 Axes>"
      ]
     },
     "metadata": {
      "needs_background": "light"
     },
     "output_type": "display_data"
    }
   ],
   "source": [
    "for subject_id_t in list(facial_ids.keys())[:1]:\n",
    "    print(subject_id_t)\n",
    "    diff_norms = []\n",
    "    for subject_id_b in facial_ids:\n",
    "        diff_norms.append(norm(facial_ids[subject_id_t] - facial_ids[subject_id_b]))\n",
    "    diff_norms = np.asarray(diff_norms)\n",
    "    print(diff_norms.min(), diff_norms.max(), diff_norms.mean())\n",
    "    hist(diff_norms, bins=100)"
   ]
  },
  {
   "cell_type": "code",
   "execution_count": 16,
   "metadata": {
    "scrolled": false
   },
   "outputs": [],
   "source": [
    "ref_facial_ids = facial_ids"
   ]
  },
  {
   "cell_type": "code",
   "execution_count": 17,
   "metadata": {
    "scrolled": false
   },
   "outputs": [],
   "source": [
    "hps = {}\n",
    "hps['step'] = 1\n",
    "raw_data_path = 'D:\\\\topcoder\\\\face_recog\\\\resource\\\\training'\n",
    "output_file_path = 'D:\\\\topcoder\\\\face_recog\\\\resource\\\\solution_training.csv'\n",
    "hps['image_size'] = 416\n",
    "hps['num_dense1_layers'] = 1\n",
    "hps['dense1'] = 64\n",
    "hps['num_dense2_layers'] = 1\n",
    "hps['dense2'] = 64\n",
    "hps['lr'] = 0.0001\n",
    "hps['beta_1'] = 0.99\n",
    "hps['beta_2'] = 0.99\n",
    "hps['decay'] = 0.0\n",
    "hps['batch_size'] = 5\n",
    "hps['epochs'] = 2\n",
    "hps['face_conf_th'] = 0.5\n",
    "hps['nms_iou_th'] = 0.5\n",
    "hps['num_cands'] = 60\n",
    "hps['sim_th'] = 0.1\n",
    "model_loading = True"
   ]
  },
  {
   "cell_type": "code",
   "execution_count": 18,
   "metadata": {
    "scrolled": false
   },
   "outputs": [],
   "source": [
    "import face_identification"
   ]
  },
  {
   "cell_type": "code",
   "execution_count": 19,
   "metadata": {
    "scrolled": false
   },
   "outputs": [
    {
     "data": {
      "text/plain": [
       "<module 'face_identification' from 'D:\\\\topcoder\\\\face_recog\\\\src\\\\space\\\\face_identification.py'>"
      ]
     },
     "execution_count": 19,
     "metadata": {},
     "output_type": "execute_result"
    }
   ],
   "source": [
    "importlib.reload(face_identification)"
   ]
  },
  {
   "cell_type": "code",
   "execution_count": 20,
   "metadata": {
    "scrolled": false
   },
   "outputs": [],
   "source": [
    "fr = face_identification.FaceIdentifier(raw_data_path, hps, model_loading)"
   ]
  },
  {
   "cell_type": "code",
   "execution_count": 21,
   "metadata": {
    "scrolled": false
   },
   "outputs": [],
   "source": [
    "db = pd.read_csv('db.csv')\n",
    "db = db.iloc[:, 1:]\n",
    "db_g = db.groupby('subject_id')"
   ]
  },
  {
   "cell_type": "code",
   "execution_count": 22,
   "metadata": {
    "scrolled": false
   },
   "outputs": [],
   "source": [
    "subject_ids = db_g.groups.keys()"
   ]
  },
  {
   "cell_type": "code",
   "execution_count": 23,
   "metadata": {
    "scrolled": false
   },
   "outputs": [
    {
     "data": {
      "text/plain": [
       "dict_keys([1, 2, 3, 5, 6, 7, 8, 9, 10, 11, 12, 13, 16, 17, 18, 20, 21, 22, 23, 24, 25, 26, 27, 28, 29, 31, 33, 34, 35, 36, 37, 38, 39, 40, 41, 42, 43, 45, 46, 47, 48, 50, 52, 53, 55, 56, 57, 58, 59, 60, 62, 64, 65, 67, 68, 69, 70, 72, 73, 74, 75, 77, 79, 80, 82, 83, 84, 85, 87, 89, 90, 91, 92, 93, 94, 95, 99, 101, 102, 103, 104, 105, 106, 107, 108, 109, 111, 112, 114, 115, 116, 117, 119, 120, 122, 123, 124, 125, 126, 127, 129, 130, 131, 133, 134, 136, 137, 138, 139, 140, 144, 146, 148, 149, 150, 151, 152, 153, 155, 156, 157, 158, 159, 160, 161, 162, 164, 165, 166, 167, 168, 170, 172, 175, 178, 179, 181, 182, 183, 184, 186, 187, 188, 190, 191, 192, 193, 194, 195, 197, 198, 199, 200, 202, 203, 204, 205, 206, 207, 208, 209, 211, 213, 214, 216, 218, 219, 220, 224, 227, 228, 229, 230, 231, 232, 233, 234, 235, 237, 239, 241, 244, 245, 246, 247, 248, 249, 250, 251, 252, 253, 254, 255, 256, 257, 259, 260, 261, 262, 264, 266, 267, 268, 269, 271, 272, 273, 274, 276, 277, 278, 279, 280, 281, 282, 284, 285, 288, 289, 291, 292, 295, 297, 298, 301, 302, 303, 304, 305, 307, 308, 309, 310, 316, 317, 318, 319, 321, 323, 324, 326, 327, 329, 330, 334, 335, 338, 339, 340, 341, 345, 347, 348, 349, 350, 352, 354, 355, 356, 357, 358, 360, 362, 363, 364, 365, 366, 368, 369, 370, 372, 373, 374, 375, 376, 377, 378, 379, 380, 381, 383, 384, 387, 388, 389, 390, 391, 392, 393, 394, 395, 396, 397, 398, 400, 402, 403, 404, 407, 408, 409, 410, 411, 412, 413, 415, 416, 417, 418, 419, 420, 422, 423, 425, 431, 432, 433, 435, 436, 438, 442, 446, 448, 449, 450, 452, 453, 454, 455, 456, 457, 458, 460, 463, 464, 465, 466, 469, 470, 472, 475, 478, 480, 482, 483, 484, 486, 487, 489, 490, 491, 492, 494, 498, 502, 503, 504, 506, 507, 508, 510, 513, 516, 518, 519, 522, 523, 525, 526, 527, 528, 529, 530, 531, 536, 537, 540, 541, 543, 544, 545, 546, 550, 551, 554, 555, 556, 558, 560, 562, 564, 566, 568, 570, 574, 578, 579, 580, 583, 584, 586, 587, 590, 593, 596, 599, 600, 601, 602, 603, 604, 605, 606, 607, 608, 609, 610, 611, 612, 614, 615, 616, 617, 618, 619, 620, 621, 622, 624, 625, 626, 627, 628, 629, 630, 631, 632, 633, 634, 635, 636, 637, 638, 640, 642, 643, 644, 645, 647, 648, 649, 650, 651, 652, 653, 654, 655, 656, 657, 658, 659, 660, 661, 662, 664, 666, 667, 668, 669, 670, 671, 672, 673, 674, 675, 676, 677, 678, 679, 680, 681, 682, 685, 686, 688, 689, 690, 691, 692, 693, 694, 697, 698, 699, 701, 702, 703, 704, 705, 707, 708, 709, 711, 714, 715, 717, 718, 719, 720, 721, 722, 723, 725, 726, 727, 729, 732, 733, 735, 736, 737, 739, 740, 742, 743, 744, 745, 747, 749, 750, 751, 752, 753, 756, 757, 761, 763, 765, 766, 767, 768, 769, 770, 774, 775, 776, 777, 780, 782, 783, 785, 786, 787, 788, 789, 790, 792, 794, 795, 796, 797, 799, 802, 803, 804, 806, 808, 809, 812, 814, 815, 816, 817, 818, 820, 822, 823, 826, 828, 829, 830, 832, 833, 834, 835, 837, 839, 841, 842, 843, 844, 846, 849, 850, 852, 853, 854, 855, 856, 858, 861, 862, 864, 866, 867, 868, 870, 871, 872, 874, 875, 876, 877, 878, 879, 880, 882, 883, 884, 885, 886, 888, 889, 890, 892, 893, 896, 898, 899, 900, 901, 902, 903, 904, 908, 909, 910, 911, 913, 914, 916, 917, 919, 927, 931, 932, 935, 936, 937, 938, 939, 940, 941, 942, 949, 951, 952, 955, 956, 957, 958, 959, 961, 962, 963, 965, 969, 970, 971, 974, 980, 984, 986, 989, 990, 991, 992, 995, 997, 998, 999, 1005, 1009, 1010, 1012, 1018, 1022, 1024, 1026, 1032, 1033, 1034, 1037, 1039, 1040, 1041, 1043, 1044, 1045, 1046, 1047, 1049, 1050, 1051, 1053, 1057, 1058, 1059, 1060, 1061, 1067, 1068, 1072, 1073, 1074, 1075, 1077, 1078, 1079, 1080, 1082, 1083, 1084, 1087, 1089, 1095, 1096, 1097, 1098, 1100, 1102, 1104, 1105, 1107, 1109, 1111, 1112, 1116, 1119, 1120, 1121, 1126, 1130, 1133, 1134, 1136, 1139, 1140, 1141, 1144, 1145, 1146, 1147, 1149, 1150, 1151, 1152, 1153, 1154, 1155, 1156, 1157, 1158, 1162, 1163, 1165, 1167, 1169, 1170, 1171, 1175, 1177, 1178, 1188, 1189, 1190, 1191, 1192, 1195, 1198, 1200, 1202, 1204, 1206, 1210, 1211, 1212, 1213, 1217, 1218, 1219, 1220, 1221, 1223, 1224, 1225, 1227, 1228, 1234, 1238, 1239, 1248, 1249, 1252, 1258, 1259, 1266, 1268, 1269, 1271, 1274, 1278, 1279, 1280, 1285, 1286, 1290, 1297, 1299, 1300, 1301, 1302, 1304, 1309, 1311, 1315, 1317, 1318, 1319, 1320, 1321, 1322, 1324, 1325, 1327, 1328, 1329, 1332, 1333, 1335, 1336, 1340, 1343, 1344, 1346, 1350, 1351, 1354, 1355, 1356, 1361, 1363, 1366, 1367, 1372, 1373, 1377, 1380, 1381, 1382, 1385, 1388, 1389, 1390, 1391, 1392, 1396, 1397, 1399, 1400, 1403, 1405, 1409, 1410, 1411, 1414, 1419, 1421, 1422, 1423, 1424, 1426, 1428, 1431, 1432, 1433, 1434, 1435, 1436, 1439, 1440, 1444, 1445, 1446, 1447, 1448, 1449, 1450, 1451, 1452, 1455, 1462, 1463, 1465, 1468, 1475, 1479, 1484, 1489, 1491, 1492, 1493, 1494, 1496, 1497, 1498, 1499, 1500, 1501, 1502, 1504, 1506, 1507, 1509, 1511, 1512, 1515, 1516, 1520, 1525, 1527, 1528, 1530, 1531, 1532, 1535, 1537, 1538, 1542, 1543, 1544, 1545, 1546, 1547, 1548, 1551, 1552, 1555, 1557, 1558, 1562, 1565, 1566, 1567, 1569, 1571, 1572, 1573, 1575, 1576, 1577, 1579, 1580, 1581, 1583, 1584, 1585, 1586, 1587, 1588, 1591, 1593, 1597, 1598, 1599, 1600, 1602, 1604, 1607, 1609, 1610, 1611, 1612, 1613, 1615, 1618, 1619, 1621, 1624, 1625, 1627, 1628, 1629, 1630, 1634, 1636, 1637, 1638, 1639, 1640, 1641, 1642, 1644, 1646, 1647, 1650, 1651, 1652, 1654, 1656, 1657, 1658, 1666, 1667, 1668, 1669, 1673, 1675, 1676, 1684, 1685, 1686, 1687, 1689, 1690, 1695, 1696, 1697, 1699, 1702, 1704, 1707, 1710, 1711, 1713, 1721, 1725, 1729, 1730, 1731, 1734, 1739, 1740, 1744, 1747, 1748, 1751, 1752, 1755, 1762, 1764, 1766, 1768, 1769, 1770, 1772, 1774, 1777, 1778, 1781, 1784, 1785, 1786, 1787, 1793, 1797, 1798, 1799, 1801, 1802, 1805, 1807, 1808, 1810, 1811, 1812, 1813, 1814, 1815, 1818, 1821])"
      ]
     },
     "execution_count": 23,
     "metadata": {},
     "output_type": "execute_result"
    }
   ],
   "source": [
    "subject_ids"
   ]
  },
  {
   "cell_type": "code",
   "execution_count": 25,
   "metadata": {},
   "outputs": [
    {
     "data": {
      "text/html": [
       "<div>\n",
       "<style scoped>\n",
       "    .dataframe tbody tr th:only-of-type {\n",
       "        vertical-align: middle;\n",
       "    }\n",
       "\n",
       "    .dataframe tbody tr th {\n",
       "        vertical-align: top;\n",
       "    }\n",
       "\n",
       "    .dataframe thead th {\n",
       "        text-align: right;\n",
       "    }\n",
       "</style>\n",
       "<table border=\"1\" class=\"dataframe\">\n",
       "  <thead>\n",
       "    <tr style=\"text-align: right;\">\n",
       "      <th></th>\n",
       "      <th>subject_id</th>\n",
       "      <th>face_file</th>\n",
       "      <th>w</th>\n",
       "      <th>h</th>\n",
       "    </tr>\n",
       "  </thead>\n",
       "  <tbody>\n",
       "    <tr>\n",
       "      <th>0</th>\n",
       "      <td>1</td>\n",
       "      <td>3021f5723e5af668c77ef2e41423dcf8_1_2948_1923.jpg</td>\n",
       "      <td>378</td>\n",
       "      <td>453</td>\n",
       "    </tr>\n",
       "    <tr>\n",
       "      <th>1</th>\n",
       "      <td>1</td>\n",
       "      <td>b0cc228dbe4ac1854b3f3a697e92296f_1_4729_2290.jpg</td>\n",
       "      <td>307</td>\n",
       "      <td>428</td>\n",
       "    </tr>\n",
       "    <tr>\n",
       "      <th>2</th>\n",
       "      <td>2</td>\n",
       "      <td>01819edd97f84cf2c50f416af260f024_2_545_2080.jpg</td>\n",
       "      <td>350</td>\n",
       "      <td>420</td>\n",
       "    </tr>\n",
       "    <tr>\n",
       "      <th>3</th>\n",
       "      <td>2</td>\n",
       "      <td>0e455dac98b2983d35e42c8ee22d8fd9_2_1035_2343.jpg</td>\n",
       "      <td>310</td>\n",
       "      <td>392</td>\n",
       "    </tr>\n",
       "    <tr>\n",
       "      <th>4</th>\n",
       "      <td>2</td>\n",
       "      <td>0f4c89efef478bd2ab00f9538b3fbd35_2_382_2017.jpg</td>\n",
       "      <td>331</td>\n",
       "      <td>398</td>\n",
       "    </tr>\n",
       "    <tr>\n",
       "      <th>5</th>\n",
       "      <td>2</td>\n",
       "      <td>171629db8796252437c3e8f7d88790cf_2_88_1996.jpg</td>\n",
       "      <td>335</td>\n",
       "      <td>402</td>\n",
       "    </tr>\n",
       "    <tr>\n",
       "      <th>6</th>\n",
       "      <td>2</td>\n",
       "      <td>50aa0096bd1faf54fe523498a1994c24_2_1104_3016.jpg</td>\n",
       "      <td>355</td>\n",
       "      <td>407</td>\n",
       "    </tr>\n",
       "    <tr>\n",
       "      <th>7</th>\n",
       "      <td>2</td>\n",
       "      <td>62905eff888b35e9f8e0cb091f5240ef_2_1310_2350.jpg</td>\n",
       "      <td>316</td>\n",
       "      <td>366</td>\n",
       "    </tr>\n",
       "    <tr>\n",
       "      <th>8</th>\n",
       "      <td>2</td>\n",
       "      <td>7181a932f3dc4ef412d3595d690649e4_2_844_2164.jpg</td>\n",
       "      <td>333</td>\n",
       "      <td>400</td>\n",
       "    </tr>\n",
       "    <tr>\n",
       "      <th>9</th>\n",
       "      <td>2</td>\n",
       "      <td>958d8cf433d6f4d573563600c9d2eb8e_2_1382_2439.jpg</td>\n",
       "      <td>351</td>\n",
       "      <td>408</td>\n",
       "    </tr>\n",
       "    <tr>\n",
       "      <th>10</th>\n",
       "      <td>2</td>\n",
       "      <td>9fc38eb3885bb58d46dd43f3c8935c47_2_987_2255.jpg</td>\n",
       "      <td>340</td>\n",
       "      <td>412</td>\n",
       "    </tr>\n",
       "    <tr>\n",
       "      <th>11</th>\n",
       "      <td>2</td>\n",
       "      <td>ab0e13c76540ac077895577b89c87fb4_2_703_2177.jpg</td>\n",
       "      <td>339</td>\n",
       "      <td>409</td>\n",
       "    </tr>\n",
       "    <tr>\n",
       "      <th>12</th>\n",
       "      <td>2</td>\n",
       "      <td>e489105535a9eb75128dd39c67eea36b_2_545_2000.jpg</td>\n",
       "      <td>335</td>\n",
       "      <td>416</td>\n",
       "    </tr>\n",
       "    <tr>\n",
       "      <th>13</th>\n",
       "      <td>2</td>\n",
       "      <td>e88ee23b67bae1be9646434c2b95875c_2_787_2164.jpg</td>\n",
       "      <td>345</td>\n",
       "      <td>417</td>\n",
       "    </tr>\n",
       "    <tr>\n",
       "      <th>14</th>\n",
       "      <td>2</td>\n",
       "      <td>f0da56452903388dc9d67fd9c4909596_2_1117_2321.jpg</td>\n",
       "      <td>347</td>\n",
       "      <td>398</td>\n",
       "    </tr>\n",
       "    <tr>\n",
       "      <th>15</th>\n",
       "      <td>3</td>\n",
       "      <td>035917952220ad35a0ab0db3244c2a86_3_2348_3033.jpg</td>\n",
       "      <td>333</td>\n",
       "      <td>359</td>\n",
       "    </tr>\n",
       "    <tr>\n",
       "      <th>16</th>\n",
       "      <td>3</td>\n",
       "      <td>05a46f5b1c5107f4547f608d06731aa2_3_761_2141.jpg</td>\n",
       "      <td>297</td>\n",
       "      <td>354</td>\n",
       "    </tr>\n",
       "    <tr>\n",
       "      <th>17</th>\n",
       "      <td>3</td>\n",
       "      <td>17523048aea611023d6c4a3e4ba6744d_3_1907_2377.jpg</td>\n",
       "      <td>289</td>\n",
       "      <td>380</td>\n",
       "    </tr>\n",
       "    <tr>\n",
       "      <th>18</th>\n",
       "      <td>3</td>\n",
       "      <td>1cdebdd37344cff575afd0eda0c3f0f5_3_2298_2706.jpg</td>\n",
       "      <td>323</td>\n",
       "      <td>387</td>\n",
       "    </tr>\n",
       "    <tr>\n",
       "      <th>19</th>\n",
       "      <td>3</td>\n",
       "      <td>1e3f1d13e2046b8574d2b98d1c110602_3_2117_3078.jpg</td>\n",
       "      <td>333</td>\n",
       "      <td>319</td>\n",
       "    </tr>\n",
       "    <tr>\n",
       "      <th>20</th>\n",
       "      <td>3</td>\n",
       "      <td>284fe498b0fd035d48de9907da77d659_3_2449_3026.jpg</td>\n",
       "      <td>343</td>\n",
       "      <td>394</td>\n",
       "    </tr>\n",
       "    <tr>\n",
       "      <th>21</th>\n",
       "      <td>3</td>\n",
       "      <td>290b040289101e2fa1110227d313ce54_3_421_2013.jpg</td>\n",
       "      <td>288</td>\n",
       "      <td>306</td>\n",
       "    </tr>\n",
       "    <tr>\n",
       "      <th>22</th>\n",
       "      <td>3</td>\n",
       "      <td>32f65feb9b9b3c70cc1f801de12f2177_3_906_2180.jpg</td>\n",
       "      <td>310</td>\n",
       "      <td>363</td>\n",
       "    </tr>\n",
       "    <tr>\n",
       "      <th>23</th>\n",
       "      <td>3</td>\n",
       "      <td>43448e27dc179818674517d246b634ea_3_2381_2850.jpg</td>\n",
       "      <td>324</td>\n",
       "      <td>391</td>\n",
       "    </tr>\n",
       "    <tr>\n",
       "      <th>24</th>\n",
       "      <td>3</td>\n",
       "      <td>43e4152d4ca4a49ccdb879eaac89e19f_3_1686_2309.jpg</td>\n",
       "      <td>314</td>\n",
       "      <td>377</td>\n",
       "    </tr>\n",
       "    <tr>\n",
       "      <th>25</th>\n",
       "      <td>3</td>\n",
       "      <td>4e48cf9514f93abd749c1fa8f39f3f34_3_55_1982.jpg</td>\n",
       "      <td>280</td>\n",
       "      <td>333</td>\n",
       "    </tr>\n",
       "    <tr>\n",
       "      <th>26</th>\n",
       "      <td>3</td>\n",
       "      <td>57df713630c1cc024a06bd66f3b87cca_3_611_2133.jpg</td>\n",
       "      <td>297</td>\n",
       "      <td>337</td>\n",
       "    </tr>\n",
       "    <tr>\n",
       "      <th>27</th>\n",
       "      <td>3</td>\n",
       "      <td>654a8a914700c7efbaa8957a9386b3a5_3_2389_2869.jpg</td>\n",
       "      <td>326</td>\n",
       "      <td>392</td>\n",
       "    </tr>\n",
       "    <tr>\n",
       "      <th>28</th>\n",
       "      <td>3</td>\n",
       "      <td>694c36ada8b02ef7c99f9585c694bcf1_3_937_2167.jpg</td>\n",
       "      <td>290</td>\n",
       "      <td>369</td>\n",
       "    </tr>\n",
       "    <tr>\n",
       "      <th>29</th>\n",
       "      <td>3</td>\n",
       "      <td>725f05d58b14ad91639d515b8ef53535_3_993_2147.jpg</td>\n",
       "      <td>307</td>\n",
       "      <td>352</td>\n",
       "    </tr>\n",
       "    <tr>\n",
       "      <th>...</th>\n",
       "      <td>...</td>\n",
       "      <td>...</td>\n",
       "      <td>...</td>\n",
       "      <td>...</td>\n",
       "    </tr>\n",
       "    <tr>\n",
       "      <th>11227</th>\n",
       "      <td>1815</td>\n",
       "      <td>0210938940728172511f59f518d454ae_1815_2975_752...</td>\n",
       "      <td>287</td>\n",
       "      <td>431</td>\n",
       "    </tr>\n",
       "    <tr>\n",
       "      <th>11228</th>\n",
       "      <td>1815</td>\n",
       "      <td>235494d3aade5ac0ce548733a7d83e64_1815_35_595.jpg</td>\n",
       "      <td>316</td>\n",
       "      <td>406</td>\n",
       "    </tr>\n",
       "    <tr>\n",
       "      <th>11229</th>\n",
       "      <td>1815</td>\n",
       "      <td>283cbba9f07fa84494d9466e6276773a_1815_129_554.jpg</td>\n",
       "      <td>289</td>\n",
       "      <td>396</td>\n",
       "    </tr>\n",
       "    <tr>\n",
       "      <th>11230</th>\n",
       "      <td>1815</td>\n",
       "      <td>29d7f2943b2f473ffdebd2fee794ab79_1815_894_557.jpg</td>\n",
       "      <td>308</td>\n",
       "      <td>448</td>\n",
       "    </tr>\n",
       "    <tr>\n",
       "      <th>11231</th>\n",
       "      <td>1815</td>\n",
       "      <td>2c08f4e7055a79094950edd58a4acacf_1815_4392_880...</td>\n",
       "      <td>478</td>\n",
       "      <td>440</td>\n",
       "    </tr>\n",
       "    <tr>\n",
       "      <th>11232</th>\n",
       "      <td>1815</td>\n",
       "      <td>2e3a2c04392125add9350bba65bd4e03_1815_4646_118...</td>\n",
       "      <td>303</td>\n",
       "      <td>492</td>\n",
       "    </tr>\n",
       "    <tr>\n",
       "      <th>11233</th>\n",
       "      <td>1815</td>\n",
       "      <td>2ee611e28de8adb3a8906d5efb070c87_1815_2320_758...</td>\n",
       "      <td>350</td>\n",
       "      <td>421</td>\n",
       "    </tr>\n",
       "    <tr>\n",
       "      <th>11234</th>\n",
       "      <td>1815</td>\n",
       "      <td>35a7bb0a850480e5cb9f9770673b1bff_1815_1055_519...</td>\n",
       "      <td>354</td>\n",
       "      <td>433</td>\n",
       "    </tr>\n",
       "    <tr>\n",
       "      <th>11235</th>\n",
       "      <td>1815</td>\n",
       "      <td>4bca5308a2099b70a7ce647cbd8f8ede_1815_4459_102...</td>\n",
       "      <td>341</td>\n",
       "      <td>451</td>\n",
       "    </tr>\n",
       "    <tr>\n",
       "      <th>11236</th>\n",
       "      <td>1815</td>\n",
       "      <td>5cb426ab75343784d95c9c02c3178a1c_1815_2802_716...</td>\n",
       "      <td>280</td>\n",
       "      <td>420</td>\n",
       "    </tr>\n",
       "    <tr>\n",
       "      <th>11237</th>\n",
       "      <td>1815</td>\n",
       "      <td>670bdfbce7bcad96fd926e08fa536957_1815_2229_770...</td>\n",
       "      <td>354</td>\n",
       "      <td>425</td>\n",
       "    </tr>\n",
       "    <tr>\n",
       "      <th>11238</th>\n",
       "      <td>1815</td>\n",
       "      <td>7ba22cea9eb3b9ece8e662e47c779339_1815_2118_664...</td>\n",
       "      <td>288</td>\n",
       "      <td>409</td>\n",
       "    </tr>\n",
       "    <tr>\n",
       "      <th>11239</th>\n",
       "      <td>1815</td>\n",
       "      <td>82318509abb161389d779ccc7d9b77cf_1815_1571_532...</td>\n",
       "      <td>303</td>\n",
       "      <td>410</td>\n",
       "    </tr>\n",
       "    <tr>\n",
       "      <th>11240</th>\n",
       "      <td>1815</td>\n",
       "      <td>8a51f40e710ac1cd2d960919bcee8403_1815_1857_593...</td>\n",
       "      <td>302</td>\n",
       "      <td>455</td>\n",
       "    </tr>\n",
       "    <tr>\n",
       "      <th>11241</th>\n",
       "      <td>1815</td>\n",
       "      <td>923cd6565d4d37f549620ce0f270c037_1815_2753_731...</td>\n",
       "      <td>284</td>\n",
       "      <td>408</td>\n",
       "    </tr>\n",
       "    <tr>\n",
       "      <th>11242</th>\n",
       "      <td>1815</td>\n",
       "      <td>9c4c6b1a6321a2dd4f0190ba2a04dc99_1815_1722_679...</td>\n",
       "      <td>282</td>\n",
       "      <td>427</td>\n",
       "    </tr>\n",
       "    <tr>\n",
       "      <th>11243</th>\n",
       "      <td>1815</td>\n",
       "      <td>a02380a412d07a7d82680ac48f8c495c_1815_3153_732...</td>\n",
       "      <td>308</td>\n",
       "      <td>453</td>\n",
       "    </tr>\n",
       "    <tr>\n",
       "      <th>11244</th>\n",
       "      <td>1815</td>\n",
       "      <td>a5ea30f18147923d107c04d9cc02f148_1815_4669_118...</td>\n",
       "      <td>308</td>\n",
       "      <td>452</td>\n",
       "    </tr>\n",
       "    <tr>\n",
       "      <th>11245</th>\n",
       "      <td>1815</td>\n",
       "      <td>b31d5e1693f05afea621078288b2b4db_1815_1418_568...</td>\n",
       "      <td>250</td>\n",
       "      <td>434</td>\n",
       "    </tr>\n",
       "    <tr>\n",
       "      <th>11246</th>\n",
       "      <td>1815</td>\n",
       "      <td>c0bd263dc477266aa04033c8632a4dd7_1815_4583_106...</td>\n",
       "      <td>292</td>\n",
       "      <td>415</td>\n",
       "    </tr>\n",
       "    <tr>\n",
       "      <th>11247</th>\n",
       "      <td>1815</td>\n",
       "      <td>c34b5f8334fd2e11e827679605f08100_1815_4566_112...</td>\n",
       "      <td>330</td>\n",
       "      <td>425</td>\n",
       "    </tr>\n",
       "    <tr>\n",
       "      <th>11248</th>\n",
       "      <td>1815</td>\n",
       "      <td>cd287c432b44efbcd85d72bdfef975ef_1815_2587_730...</td>\n",
       "      <td>296</td>\n",
       "      <td>445</td>\n",
       "    </tr>\n",
       "    <tr>\n",
       "      <th>11249</th>\n",
       "      <td>1815</td>\n",
       "      <td>ed1cf0da54f4f1cf533a0b12bf72a5d6_1815_486_564.jpg</td>\n",
       "      <td>339</td>\n",
       "      <td>417</td>\n",
       "    </tr>\n",
       "    <tr>\n",
       "      <th>11250</th>\n",
       "      <td>1818</td>\n",
       "      <td>01af7bca29d6d8dd00e3bf646019bf7d_1818_2757_38.jpg</td>\n",
       "      <td>230</td>\n",
       "      <td>266</td>\n",
       "    </tr>\n",
       "    <tr>\n",
       "      <th>11251</th>\n",
       "      <td>1818</td>\n",
       "      <td>50a16d918bc13686d7f0ba106ec69ca6_1818_2163_103...</td>\n",
       "      <td>227</td>\n",
       "      <td>265</td>\n",
       "    </tr>\n",
       "    <tr>\n",
       "      <th>11252</th>\n",
       "      <td>1818</td>\n",
       "      <td>e74667d769ae184f3b19ace6165df110_1818_3514_48.jpg</td>\n",
       "      <td>222</td>\n",
       "      <td>254</td>\n",
       "    </tr>\n",
       "    <tr>\n",
       "      <th>11253</th>\n",
       "      <td>1821</td>\n",
       "      <td>51213d968b789ddc07cf5107a6390ddb_1821_2042_125...</td>\n",
       "      <td>300</td>\n",
       "      <td>386</td>\n",
       "    </tr>\n",
       "    <tr>\n",
       "      <th>11254</th>\n",
       "      <td>1821</td>\n",
       "      <td>631cbd75e93a632f53cd286394e00010_1821_1535_128...</td>\n",
       "      <td>230</td>\n",
       "      <td>276</td>\n",
       "    </tr>\n",
       "    <tr>\n",
       "      <th>11255</th>\n",
       "      <td>1821</td>\n",
       "      <td>fa235ab2e291d035083b3405e88e919b_1821_245_1074...</td>\n",
       "      <td>278</td>\n",
       "      <td>363</td>\n",
       "    </tr>\n",
       "    <tr>\n",
       "      <th>11256</th>\n",
       "      <td>1821</td>\n",
       "      <td>fe521d366dc14726d0e028b68df1182e_1821_4718_133...</td>\n",
       "      <td>184</td>\n",
       "      <td>280</td>\n",
       "    </tr>\n",
       "  </tbody>\n",
       "</table>\n",
       "<p>11257 rows × 4 columns</p>\n",
       "</div>"
      ],
      "text/plain": [
       "       subject_id                                          face_file    w    h\n",
       "0               1   3021f5723e5af668c77ef2e41423dcf8_1_2948_1923.jpg  378  453\n",
       "1               1   b0cc228dbe4ac1854b3f3a697e92296f_1_4729_2290.jpg  307  428\n",
       "2               2    01819edd97f84cf2c50f416af260f024_2_545_2080.jpg  350  420\n",
       "3               2   0e455dac98b2983d35e42c8ee22d8fd9_2_1035_2343.jpg  310  392\n",
       "4               2    0f4c89efef478bd2ab00f9538b3fbd35_2_382_2017.jpg  331  398\n",
       "5               2     171629db8796252437c3e8f7d88790cf_2_88_1996.jpg  335  402\n",
       "6               2   50aa0096bd1faf54fe523498a1994c24_2_1104_3016.jpg  355  407\n",
       "7               2   62905eff888b35e9f8e0cb091f5240ef_2_1310_2350.jpg  316  366\n",
       "8               2    7181a932f3dc4ef412d3595d690649e4_2_844_2164.jpg  333  400\n",
       "9               2   958d8cf433d6f4d573563600c9d2eb8e_2_1382_2439.jpg  351  408\n",
       "10              2    9fc38eb3885bb58d46dd43f3c8935c47_2_987_2255.jpg  340  412\n",
       "11              2    ab0e13c76540ac077895577b89c87fb4_2_703_2177.jpg  339  409\n",
       "12              2    e489105535a9eb75128dd39c67eea36b_2_545_2000.jpg  335  416\n",
       "13              2    e88ee23b67bae1be9646434c2b95875c_2_787_2164.jpg  345  417\n",
       "14              2   f0da56452903388dc9d67fd9c4909596_2_1117_2321.jpg  347  398\n",
       "15              3   035917952220ad35a0ab0db3244c2a86_3_2348_3033.jpg  333  359\n",
       "16              3    05a46f5b1c5107f4547f608d06731aa2_3_761_2141.jpg  297  354\n",
       "17              3   17523048aea611023d6c4a3e4ba6744d_3_1907_2377.jpg  289  380\n",
       "18              3   1cdebdd37344cff575afd0eda0c3f0f5_3_2298_2706.jpg  323  387\n",
       "19              3   1e3f1d13e2046b8574d2b98d1c110602_3_2117_3078.jpg  333  319\n",
       "20              3   284fe498b0fd035d48de9907da77d659_3_2449_3026.jpg  343  394\n",
       "21              3    290b040289101e2fa1110227d313ce54_3_421_2013.jpg  288  306\n",
       "22              3    32f65feb9b9b3c70cc1f801de12f2177_3_906_2180.jpg  310  363\n",
       "23              3   43448e27dc179818674517d246b634ea_3_2381_2850.jpg  324  391\n",
       "24              3   43e4152d4ca4a49ccdb879eaac89e19f_3_1686_2309.jpg  314  377\n",
       "25              3     4e48cf9514f93abd749c1fa8f39f3f34_3_55_1982.jpg  280  333\n",
       "26              3    57df713630c1cc024a06bd66f3b87cca_3_611_2133.jpg  297  337\n",
       "27              3   654a8a914700c7efbaa8957a9386b3a5_3_2389_2869.jpg  326  392\n",
       "28              3    694c36ada8b02ef7c99f9585c694bcf1_3_937_2167.jpg  290  369\n",
       "29              3    725f05d58b14ad91639d515b8ef53535_3_993_2147.jpg  307  352\n",
       "...           ...                                                ...  ...  ...\n",
       "11227        1815  0210938940728172511f59f518d454ae_1815_2975_752...  287  431\n",
       "11228        1815   235494d3aade5ac0ce548733a7d83e64_1815_35_595.jpg  316  406\n",
       "11229        1815  283cbba9f07fa84494d9466e6276773a_1815_129_554.jpg  289  396\n",
       "11230        1815  29d7f2943b2f473ffdebd2fee794ab79_1815_894_557.jpg  308  448\n",
       "11231        1815  2c08f4e7055a79094950edd58a4acacf_1815_4392_880...  478  440\n",
       "11232        1815  2e3a2c04392125add9350bba65bd4e03_1815_4646_118...  303  492\n",
       "11233        1815  2ee611e28de8adb3a8906d5efb070c87_1815_2320_758...  350  421\n",
       "11234        1815  35a7bb0a850480e5cb9f9770673b1bff_1815_1055_519...  354  433\n",
       "11235        1815  4bca5308a2099b70a7ce647cbd8f8ede_1815_4459_102...  341  451\n",
       "11236        1815  5cb426ab75343784d95c9c02c3178a1c_1815_2802_716...  280  420\n",
       "11237        1815  670bdfbce7bcad96fd926e08fa536957_1815_2229_770...  354  425\n",
       "11238        1815  7ba22cea9eb3b9ece8e662e47c779339_1815_2118_664...  288  409\n",
       "11239        1815  82318509abb161389d779ccc7d9b77cf_1815_1571_532...  303  410\n",
       "11240        1815  8a51f40e710ac1cd2d960919bcee8403_1815_1857_593...  302  455\n",
       "11241        1815  923cd6565d4d37f549620ce0f270c037_1815_2753_731...  284  408\n",
       "11242        1815  9c4c6b1a6321a2dd4f0190ba2a04dc99_1815_1722_679...  282  427\n",
       "11243        1815  a02380a412d07a7d82680ac48f8c495c_1815_3153_732...  308  453\n",
       "11244        1815  a5ea30f18147923d107c04d9cc02f148_1815_4669_118...  308  452\n",
       "11245        1815  b31d5e1693f05afea621078288b2b4db_1815_1418_568...  250  434\n",
       "11246        1815  c0bd263dc477266aa04033c8632a4dd7_1815_4583_106...  292  415\n",
       "11247        1815  c34b5f8334fd2e11e827679605f08100_1815_4566_112...  330  425\n",
       "11248        1815  cd287c432b44efbcd85d72bdfef975ef_1815_2587_730...  296  445\n",
       "11249        1815  ed1cf0da54f4f1cf533a0b12bf72a5d6_1815_486_564.jpg  339  417\n",
       "11250        1818  01af7bca29d6d8dd00e3bf646019bf7d_1818_2757_38.jpg  230  266\n",
       "11251        1818  50a16d918bc13686d7f0ba106ec69ca6_1818_2163_103...  227  265\n",
       "11252        1818  e74667d769ae184f3b19ace6165df110_1818_3514_48.jpg  222  254\n",
       "11253        1821  51213d968b789ddc07cf5107a6390ddb_1821_2042_125...  300  386\n",
       "11254        1821  631cbd75e93a632f53cd286394e00010_1821_1535_128...  230  276\n",
       "11255        1821  fa235ab2e291d035083b3405e88e919b_1821_245_1074...  278  363\n",
       "11256        1821  fe521d366dc14726d0e028b68df1182e_1821_4718_133...  184  280\n",
       "\n",
       "[11257 rows x 4 columns]"
      ]
     },
     "execution_count": 25,
     "metadata": {},
     "output_type": "execute_result"
    }
   ],
   "source": [
    "db"
   ]
  },
  {
   "cell_type": "code",
   "execution_count": 69,
   "metadata": {
    "scrolled": false
   },
   "outputs": [],
   "source": [
    "facial_ids_dict= {}"
   ]
  },
  {
   "cell_type": "code",
   "execution_count": 70,
   "metadata": {
    "scrolled": false
   },
   "outputs": [
    {
     "data": {
      "text/plain": [
       "(2, 64)"
      ]
     },
     "execution_count": 70,
     "metadata": {},
     "output_type": "execute_result"
    }
   ],
   "source": [
    "subject_id = 1\n",
    "df = db_g.get_group(subject_id)\n",
    "images = []\n",
    "for ff in list(df.iloc[:, 1]):\n",
    "    image = imread(os.path.join('subject_faces', ff))\n",
    "    images.append(image/255)\n",
    "images = np.asarray(images)\n",
    "facial_ids = fr.fid_extractor.predict(images)\n",
    "facial_ids_dict[subject_id] = facial_ids\n",
    "facial_ids.shape"
   ]
  },
  {
   "cell_type": "code",
   "execution_count": 71,
   "metadata": {
    "scrolled": false
   },
   "outputs": [
    {
     "data": {
      "text/plain": [
       "(0.33885938466856186, 0.792156862745098)"
      ]
     },
     "execution_count": 71,
     "metadata": {},
     "output_type": "execute_result"
    }
   ],
   "source": [
    "images[0].mean(), images[0].max()"
   ]
  },
  {
   "cell_type": "code",
   "execution_count": 72,
   "metadata": {
    "scrolled": false
   },
   "outputs": [
    {
     "data": {
      "text/plain": [
       "0.6564363837242126"
      ]
     },
     "execution_count": 72,
     "metadata": {},
     "output_type": "execute_result"
    }
   ],
   "source": [
    "norm(facial_ids[1] - facial_ids[0]) "
   ]
  },
  {
   "cell_type": "code",
   "execution_count": 73,
   "metadata": {
    "scrolled": false
   },
   "outputs": [
    {
     "data": {
      "text/plain": [
       "0.9999999403953552"
      ]
     },
     "execution_count": 73,
     "metadata": {},
     "output_type": "execute_result"
    }
   ],
   "source": [
    "norm(facial_ids[1])"
   ]
  },
  {
   "cell_type": "code",
   "execution_count": 74,
   "metadata": {
    "scrolled": false
   },
   "outputs": [
    {
     "data": {
      "text/plain": [
       "0.3282181918621063"
      ]
     },
     "execution_count": 74,
     "metadata": {},
     "output_type": "execute_result"
    }
   ],
   "source": [
    "norm(facial_ids[0] - ref_facial_ids[1])"
   ]
  },
  {
   "cell_type": "code",
   "execution_count": 75,
   "metadata": {
    "scrolled": false
   },
   "outputs": [
    {
     "name": "stdout",
     "output_type": "stream",
     "text": [
      "0.04090014 0.0 0.02045007\n",
      "0.03977998 0.0 0.01988999\n",
      "0.19046932 0.0 0.09523466\n",
      "0.0 0.0 0.0\n",
      "0.0 0.0 0.0\n",
      "0.0 0.0 0.0\n",
      "0.0 0.09083261 0.045416307\n",
      "0.0 0.0 0.0\n",
      "0.10685497 0.0 0.053427484\n",
      "0.0 0.0 0.0\n",
      "0.09216177 0.09694002 0.09455089\n",
      "0.06337923 0.0 0.031689614\n",
      "0.16797353 0.07752244 0.12274799\n",
      "0.0 0.0 0.0\n",
      "0.0 0.064892024 0.032446012\n",
      "0.0 0.15904397 0.079521984\n",
      "0.0 0.0 0.0\n",
      "0.33197746 0.30113384 0.31655565\n",
      "0.0 0.057104085 0.028552042\n",
      "0.34729454 0.3217736 0.33453405\n",
      "0.0 0.22355926 0.11177963\n",
      "0.0 0.0 0.0\n",
      "0.0 0.014336667 0.0071683335\n",
      "0.079082675 0.0 0.039541338\n",
      "0.0 0.0 0.0\n",
      "0.0 0.0 0.0\n",
      "0.12397027 0.0 0.061985135\n",
      "0.0 0.03314824 0.01657412\n",
      "0.0 0.0 0.0\n",
      "0.18859637 0.23819974 0.21339805\n",
      "0.0 0.0 0.0\n",
      "0.0 0.0 0.0\n",
      "0.0 0.0 0.0\n",
      "0.0 0.10889461 0.054447304\n",
      "0.27906024 0.16343652 0.22124839\n",
      "0.0 0.0 0.0\n",
      "0.0 0.0 0.0\n",
      "0.0 0.17898594 0.08949297\n",
      "0.0 0.13046496 0.06523248\n",
      "0.0 0.0 0.0\n",
      "0.014301421 0.0 0.0071507106\n",
      "0.22975554 0.24071017 0.23523286\n",
      "0.0 0.0 0.0\n",
      "0.0 0.0 0.0\n",
      "0.0 0.0 0.0\n",
      "0.0 0.0063292254 0.0031646127\n",
      "0.27587554 0.20527865 0.2405771\n",
      "0.10310437 0.21230085 0.15770261\n",
      "0.0 0.0 0.0\n",
      "0.4855536 0.42029572 0.45292467\n",
      "0.20542474 0.14418186 0.1748033\n",
      "0.0 0.0 0.0\n",
      "0.22057068 0.33656347 0.27856708\n",
      "0.0 0.03857858 0.01928929\n",
      "0.10548661 0.0 0.052743305\n",
      "0.0 0.0 0.0\n",
      "0.018453406 0.306136 0.16229472\n",
      "0.17662685 0.033475112 0.10505098\n",
      "0.0 0.0 0.0\n",
      "0.0 0.0 0.0\n",
      "0.0 0.0 0.0\n",
      "0.18282764 0.038397536 0.110612586\n",
      "0.0 0.0 0.0\n",
      "0.0 0.0 0.0\n"
     ]
    }
   ],
   "source": [
    "for i in range(facial_ids.shape[1]):\n",
    "    print(facial_ids[0,i], facial_ids[1,i], ref_facial_ids[1][i])"
   ]
  },
  {
   "cell_type": "code",
   "execution_count": 76,
   "metadata": {
    "scrolled": false
   },
   "outputs": [
    {
     "data": {
      "text/plain": [
       "(13, 64)"
      ]
     },
     "execution_count": 76,
     "metadata": {},
     "output_type": "execute_result"
    }
   ],
   "source": [
    "subject_id = 2\n",
    "df = db_g.get_group(subject_id)\n",
    "images = []\n",
    "for ff in list(df.iloc[:, 1]):\n",
    "    image = cv.imread(os.path.join('subject_faces', ff))\n",
    "    r = image[:, :, 0].copy()\n",
    "    g = image[:, :, 1].copy()\n",
    "    b = image[:, :, 2].copy()\n",
    "    image[:, :, 0] = b\n",
    "    image[:, :, 1] = g\n",
    "    image[:, :, 2] = r \n",
    "    images.append(image/255)\n",
    "images = np.asarray(images)\n",
    "facial_ids = fr.fid_extractor.predict(images)\n",
    "facial_ids_dict[subject_id] = facial_ids\n",
    "facial_ids.shape"
   ]
  },
  {
   "cell_type": "code",
   "execution_count": 77,
   "metadata": {
    "scrolled": false
   },
   "outputs": [
    {
     "name": "stdout",
     "output_type": "stream",
     "text": [
      "0.9999999403953552\n",
      "1.0000001192092896\n",
      "1.0\n",
      "0.9999999403953552\n",
      "1.0\n",
      "1.0\n",
      "0.9999999403953552\n",
      "0.9999999403953552\n",
      "1.0\n",
      "1.0\n",
      "0.9999999403953552\n",
      "1.0\n",
      "1.0\n"
     ]
    }
   ],
   "source": [
    "for i in range(facial_ids.shape[0]): print(norm(facial_ids[i]))"
   ]
  },
  {
   "cell_type": "code",
   "execution_count": 78,
   "metadata": {
    "scrolled": false
   },
   "outputs": [
    {
     "data": {
      "text/plain": [
       "0.135909765958786"
      ]
     },
     "execution_count": 78,
     "metadata": {},
     "output_type": "execute_result"
    }
   ],
   "source": [
    "norm(facial_ids[0] - facial_ids[1]) "
   ]
  },
  {
   "cell_type": "code",
   "execution_count": 79,
   "metadata": {
    "scrolled": false
   },
   "outputs": [
    {
     "name": "stdout",
     "output_type": "stream",
     "text": [
      "0.0781058669090271 0.6144140362739563 0.29359102497498196\n"
     ]
    }
   ],
   "source": [
    "dists = []\n",
    "for i in range(facial_ids.shape[0] - 1):\n",
    "    for j in range(i + 1, facial_ids.shape[0]):\n",
    "        dists.append(norm(facial_ids[i] - facial_ids[j]))\n",
    "dists = np.asarray(dists)\n",
    "print(dists.min(), dists.max(), dists.mean())"
   ]
  },
  {
   "cell_type": "code",
   "execution_count": 80,
   "metadata": {
    "scrolled": false
   },
   "outputs": [
    {
     "data": {
      "text/plain": [
       "1.3032399415969849"
      ]
     },
     "execution_count": 80,
     "metadata": {},
     "output_type": "execute_result"
    }
   ],
   "source": [
    "norm(facial_ids_dict[1][0] - facial_ids[1][1])"
   ]
  },
  {
   "cell_type": "code",
   "execution_count": 81,
   "metadata": {
    "scrolled": false
   },
   "outputs": [],
   "source": [
    "res = fr.fid_extractor.predict(np.random.rand(1, 416, 416, 3))"
   ]
  },
  {
   "cell_type": "code",
   "execution_count": 82,
   "metadata": {
    "scrolled": false
   },
   "outputs": [
    {
     "data": {
      "text/plain": [
       "1.0"
      ]
     },
     "execution_count": 82,
     "metadata": {},
     "output_type": "execute_result"
    }
   ],
   "source": [
    "norm(res)"
   ]
  },
  {
   "cell_type": "code",
   "execution_count": 83,
   "metadata": {
    "scrolled": false
   },
   "outputs": [],
   "source": [
    "subject_id = 3\n",
    "df = db_g.get_group(subject_id)\n",
    "images = []\n",
    "for ff in list(df.iloc[:, 1]):\n",
    "    image = imread(os.path.join('subject_faces', ff))\n",
    "    images.append(image/255)\n",
    "images = np.asarray(images)"
   ]
  },
  {
   "cell_type": "code",
   "execution_count": 84,
   "metadata": {
    "scrolled": false
   },
   "outputs": [
    {
     "data": {
      "text/plain": [
       "(28, 416, 416, 3)"
      ]
     },
     "execution_count": 84,
     "metadata": {},
     "output_type": "execute_result"
    }
   ],
   "source": [
    "images.shape"
   ]
  },
  {
   "cell_type": "code",
   "execution_count": 85,
   "metadata": {
    "scrolled": false
   },
   "outputs": [
    {
     "data": {
      "text/plain": [
       "(416, 416, 3)"
      ]
     },
     "execution_count": 85,
     "metadata": {},
     "output_type": "execute_result"
    }
   ],
   "source": [
    "images[0].shape"
   ]
  },
  {
   "cell_type": "code",
   "execution_count": 86,
   "metadata": {
    "scrolled": false
   },
   "outputs": [],
   "source": [
    "facial_ids = fr.fid_extractor.predict(images)"
   ]
  },
  {
   "cell_type": "code",
   "execution_count": 87,
   "metadata": {
    "scrolled": false
   },
   "outputs": [
    {
     "data": {
      "text/plain": [
       "(28, 64)"
      ]
     },
     "execution_count": 87,
     "metadata": {},
     "output_type": "execute_result"
    }
   ],
   "source": [
    "facial_ids.shape"
   ]
  },
  {
   "cell_type": "code",
   "execution_count": 88,
   "metadata": {
    "scrolled": false
   },
   "outputs": [
    {
     "data": {
      "text/plain": [
       "(64,)"
      ]
     },
     "execution_count": 88,
     "metadata": {},
     "output_type": "execute_result"
    }
   ],
   "source": [
    "res = facial_ids[0]\n",
    "res.shape"
   ]
  },
  {
   "cell_type": "code",
   "execution_count": 89,
   "metadata": {
    "scrolled": false
   },
   "outputs": [
    {
     "data": {
      "text/plain": [
       "1.0"
      ]
     },
     "execution_count": 89,
     "metadata": {},
     "output_type": "execute_result"
    }
   ],
   "source": [
    "norm(res)"
   ]
  },
  {
   "cell_type": "code",
   "execution_count": 90,
   "metadata": {
    "scrolled": false
   },
   "outputs": [
    {
     "data": {
      "text/plain": [
       "1.0"
      ]
     },
     "execution_count": 90,
     "metadata": {},
     "output_type": "execute_result"
    }
   ],
   "source": [
    "norm(facial_ids[0])"
   ]
  },
  {
   "cell_type": "code",
   "execution_count": 91,
   "metadata": {
    "scrolled": false
   },
   "outputs": [],
   "source": [
    "res = fr.fid_extractor.predict(images[0:2])"
   ]
  },
  {
   "cell_type": "code",
   "execution_count": 92,
   "metadata": {
    "scrolled": false
   },
   "outputs": [
    {
     "data": {
      "text/plain": [
       "(2, 64)"
      ]
     },
     "execution_count": 92,
     "metadata": {},
     "output_type": "execute_result"
    }
   ],
   "source": [
    "res.shape"
   ]
  },
  {
   "cell_type": "code",
   "execution_count": 93,
   "metadata": {
    "scrolled": false
   },
   "outputs": [
    {
     "data": {
      "text/plain": [
       "(64,)"
      ]
     },
     "execution_count": 93,
     "metadata": {},
     "output_type": "execute_result"
    }
   ],
   "source": [
    "res[0].shape"
   ]
  },
  {
   "cell_type": "code",
   "execution_count": 94,
   "metadata": {
    "scrolled": false
   },
   "outputs": [
    {
     "data": {
      "text/plain": [
       "0.9999999403953552"
      ]
     },
     "execution_count": 94,
     "metadata": {},
     "output_type": "execute_result"
    }
   ],
   "source": [
    "norm(res[1])"
   ]
  },
  {
   "cell_type": "code",
   "execution_count": 95,
   "metadata": {
    "scrolled": false
   },
   "outputs": [
    {
     "name": "stdout",
     "output_type": "stream",
     "text": [
      "0.119878850877285 0.8533779978752136 0.3935427498368044\n"
     ]
    }
   ],
   "source": [
    "dists = []\n",
    "for i in range(facial_ids.shape[0] - 1):\n",
    "    for j in range(i + 1, facial_ids.shape[0]):\n",
    "        dists.append(norm(facial_ids[i] - facial_ids[j]))\n",
    "dists = np.asarray(dists)\n",
    "print(dists.min(), dists.max(), dists.mean())"
   ]
  },
  {
   "cell_type": "code",
   "execution_count": 96,
   "metadata": {
    "scrolled": false
   },
   "outputs": [],
   "source": [
    "image = imread(os.path.join('subject_faces', ff))"
   ]
  },
  {
   "cell_type": "code",
   "execution_count": 97,
   "metadata": {
    "scrolled": false
   },
   "outputs": [
    {
     "data": {
      "text/plain": [
       "<matplotlib.image.AxesImage at 0x1789bebfef0>"
      ]
     },
     "execution_count": 97,
     "metadata": {},
     "output_type": "execute_result"
    },
    {
     "data": {
      "image/png": "[encoded data removed]",
      "text/plain": [
       "<Figure size 432x288 with 1 Axes>"
      ]
     },
     "metadata": {
      "needs_background": "light"
     },
     "output_type": "display_data"
    }
   ],
   "source": [
    "imshow(image)"
   ]
  },
  {
   "cell_type": "code",
   "execution_count": 12,
   "metadata": {
    "collapsed": true,
    "scrolled": false
   },
   "outputs": [],
   "source": [
    "from skimage.io import imread, imsave\n",
    "from skimage.transform import resize \n",
    "from skimage.draw import polygon_perimeter, set_color\n",
    "\n",
    "from PIL import Image, ImageFont, ImageDraw"
   ]
  },
  {
   "cell_type": "code",
   "execution_count": 16,
   "metadata": {
    "collapsed": true,
    "scrolled": false
   },
   "outputs": [],
   "source": [
    "imageObject = Image.fromarray(image, mode='RGB')\n",
    "imageDraw = ImageDraw.Draw(imageObject)"
   ]
  },
  {
   "cell_type": "code",
   "execution_count": 17,
   "metadata": {
    "collapsed": true,
    "scrolled": false
   },
   "outputs": [
    {
     "data": {
      "text/plain": [
       "<matplotlib.image.AxesImage at 0x13dd709e550>"
      ]
     },
     "execution_count": 17,
     "metadata": {},
     "output_type": "execute_result"
    },
    {
     "data": {
      "image/png": "[encoded data removed]",
      "text/plain": [
       "<Figure size 432x288 with 1 Axes>"
      ]
     },
     "metadata": {
      "needs_background": "light"
     },
     "output_type": "display_data"
    }
   ],
   "source": [
    "font = ImageFont.truetype('arial.ttf', 30)\n",
    "imageDraw.text((100, 100), 'test', fill=(0,255,0), font=font)\n",
    "imageDraw.rectangle([10, 10, 50, 50], outline=(0,255,0), width=3)\n",
    "imshow(np.asarray(imageObject))"
   ]
  },
  {
   "cell_type": "code",
   "execution_count": 45,
   "metadata": {
    "collapsed": true,
    "scrolled": false
   },
   "outputs": [],
   "source": [
    "res = fr.fid_extractor.predict(image[np.newaxis, ...]/255)"
   ]
  },
  {
   "cell_type": "code",
   "execution_count": 46,
   "metadata": {
    "collapsed": true,
    "scrolled": false
   },
   "outputs": [
    {
     "data": {
      "text/plain": [
       "(1, 64)"
      ]
     },
     "execution_count": 46,
     "metadata": {},
     "output_type": "execute_result"
    }
   ],
   "source": [
    "res.shape"
   ]
  },
  {
   "cell_type": "code",
   "execution_count": 47,
   "metadata": {
    "collapsed": true,
    "scrolled": false
   },
   "outputs": [
    {
     "data": {
      "text/plain": [
       "0.9999999"
      ]
     },
     "execution_count": 47,
     "metadata": {},
     "output_type": "execute_result"
    }
   ],
   "source": [
    "norm(res)"
   ]
  },
  {
   "cell_type": "code",
   "execution_count": 48,
   "metadata": {
    "collapsed": true,
    "scrolled": false
   },
   "outputs": [],
   "source": [
    "b, g, t = cv.split(image)"
   ]
  },
  {
   "cell_type": "code",
   "execution_count": 49,
   "metadata": {
    "collapsed": true,
    "scrolled": false
   },
   "outputs": [],
   "source": [
    "m_image = cv.merge((b, np.zeros(shape=(416,416), dtype=uint8), np.zeros(shape=(416,416), dtype=uint8)))"
   ]
  },
  {
   "cell_type": "code",
   "execution_count": 50,
   "metadata": {
    "collapsed": true,
    "scrolled": false
   },
   "outputs": [
    {
     "data": {
      "text/plain": [
       "'fd5723edbcc50150c7cdbd06fe2f9111_3_2399_2776.jpg'"
      ]
     },
     "execution_count": 50,
     "metadata": {},
     "output_type": "execute_result"
    }
   ],
   "source": [
    "ff"
   ]
  },
  {
   "cell_type": "code",
   "execution_count": 51,
   "metadata": {
    "collapsed": true,
    "scrolled": false
   },
   "outputs": [],
   "source": [
    "image2 = imread(os.path.join('subject_faces', ff))"
   ]
  },
  {
   "cell_type": "code",
   "execution_count": 52,
   "metadata": {
    "collapsed": true,
    "scrolled": false
   },
   "outputs": [
    {
     "data": {
      "text/plain": [
       "<matplotlib.image.AxesImage at 0x21a9afd7b38>"
      ]
     },
     "execution_count": 52,
     "metadata": {},
     "output_type": "execute_result"
    },
    {
     "data": {
      "image/png": "[encoded data removed]",
      "text/plain": [
       "<Figure size 432x288 with 1 Axes>"
      ]
     },
     "metadata": {
      "needs_background": "light"
     },
     "output_type": "display_data"
    }
   ],
   "source": [
    "imshow(image2)"
   ]
  },
  {
   "cell_type": "code",
   "execution_count": 80,
   "metadata": {
    "collapsed": true,
    "scrolled": false
   },
   "outputs": [
    {
     "data": {
      "text/plain": [
       "(416, 416, 3)"
      ]
     },
     "execution_count": 80,
     "metadata": {},
     "output_type": "execute_result"
    }
   ],
   "source": [
    "image2.shape"
   ]
  },
  {
   "cell_type": "code",
   "execution_count": 46,
   "metadata": {
    "collapsed": true,
    "scrolled": true
   },
   "outputs": [
    {
     "name": "stdout",
     "output_type": "stream",
     "text": [
      "1 0.3282181918621063 0.3282181918621063 0.3282181918621063\n",
      "2 0.09776227176189423 0.4496275782585144 0.19587569454541573\n",
      "3 0.14648465812206268 0.6909347772598267 0.27209533963884625\n",
      "5 0.22532857954502106 0.6506620645523071 0.3906365147658757\n",
      "6 0.1292135864496231 0.46190983057022095 0.24524033218622207\n",
      "7 0.1636487990617752 0.4223509132862091 0.2570698857307434\n",
      "8 0.11237556487321854 0.3275497257709503 0.22105075005027983\n",
      "9 0.1800781637430191 0.4633833169937134 0.2848810525167556\n",
      "10 0.27548903226852417 0.27548903226852417 0.27548903226852417\n",
      "11 0.4075438976287842 0.5887928605079651 0.4979041814804077\n",
      "12 0.12606452405452728 0.6607770323753357 0.25329342221512513\n",
      "13 0.3103359639644623 0.31033599376678467 0.3103359788656235\n",
      "16 0.10277058184146881 0.5460433959960938 0.21784452108606214\n",
      "17 0.34336137771606445 0.4759681522846222 0.39208707213401794\n",
      "18 0.3369521200656891 0.41645216941833496 0.37697476893663406\n",
      "20 0.4359006881713867 0.4359006881713867 0.4359006881713867\n",
      "21 0.3247784376144409 0.4918125569820404 0.3877932627995809\n",
      "22 0.3220153748989105 0.4389573633670807 0.38960006833076477\n",
      "23 0.10896944999694824 0.2129555493593216 0.17491533500807627\n",
      "24 0.3101889193058014 0.3101889193058014 0.3101889193058014\n",
      "25 0.2817368507385254 0.4584561586380005 0.364787620306015\n",
      "26 0.18997441232204437 0.5999894142150879 0.2836901232600212\n",
      "27 0.38090312480926514 0.5999343991279602 0.487796093026797\n",
      "28 0.21081377565860748 0.5346242785453796 0.3558857034553181\n",
      "29 0.1617731899023056 0.1617731899023056 0.1617731899023056\n",
      "31 0.12826237082481384 0.3771611154079437 0.27191287956454535\n",
      "33 0.18545271456241608 0.2328212708234787 0.20872976382573447\n",
      "34 0.1586984097957611 0.23235119879245758 0.19809584816296896\n",
      "35 0.20870812237262726 0.20870812237262726 0.20870812237262726\n",
      "36 0.23915542662143707 0.5025331377983093 0.3515044723947843\n",
      "37 0.1528049111366272 0.6784846782684326 0.32098426504267585\n",
      "38 0.1278991848230362 0.5114182829856873 0.2977517755894825\n",
      "39 0.3519986867904663 0.47430992126464844 0.42422160506248474\n",
      "40 0.20292237401008606 0.34090977907180786 0.29408736030260724\n",
      "41 0.26688146591186523 0.6937331557273865 0.40073437492052716\n",
      "42 0.15779082477092743 0.4478815793991089 0.2651756288189637\n",
      "43 0.3198487460613251 0.31984877586364746 0.31984876096248627\n",
      "45 0.13865822553634644 0.5245214104652405 0.3017297737300396\n",
      "46 0.24707622826099396 0.6390672922134399 0.3865261089343291\n",
      "47 0.1267055869102478 0.5744870901107788 0.2147248351573944\n",
      "48 0.19391703605651855 0.62760990858078 0.320656401515007\n",
      "50 0.25881361961364746 0.25881361961364746 0.25881361961364746\n",
      "52 0.20264078676700592 0.3199499547481537 0.26256583631038666\n",
      "53 0.0790594220161438 0.3541436195373535 0.16291525916141622\n",
      "55 0.2227511703968048 0.222751185297966 0.2227511778473854\n",
      "56 0.32127583026885986 0.487051784992218 0.3769315878550212\n",
      "57 0.1959262639284134 0.5814850926399231 0.3520217971957248\n",
      "58 0.15819226205348969 0.7391268610954285 0.30203279852867126\n",
      "59 0.10126709192991257 0.35360726714134216 0.16054960464437804\n",
      "60 0.15052200853824615 0.30789339542388916 0.21376087764898935\n",
      "62 0.3769512176513672 0.5133703947067261 0.4499901086091995\n",
      "64 0.2678168714046478 0.3826829195022583 0.3235257963339488\n",
      "65 0.11561070382595062 0.26726189255714417 0.1879855878651142\n",
      "67 0.1387566775083542 0.46716201305389404 0.2554774060845375\n",
      "68 0.19718608260154724 0.38297346234321594 0.2832732007784002\n",
      "69 0.12019012868404388 0.4797932207584381 0.2431514047086239\n",
      "70 0.18272146582603455 0.28561100363731384 0.22593554854393005\n",
      "72 0.4511141777038574 0.4511142075061798 0.4511141926050186\n",
      "73 0.28560012578964233 0.36415964365005493 0.33359503000974655\n",
      "74 0.14380915462970734 0.48023533821105957 0.27098206281661985\n",
      "75 0.16613620519638062 0.5747144818305969 0.2631090711802244\n",
      "77 0.18443961441516876 0.444892942905426 0.24374291939394815\n",
      "80 0.13204242289066315 0.430698037147522 0.21436085265416366\n",
      "83 0.31331729888916016 0.7264036536216736 0.49797024991777206\n",
      "84 0.2600298523902893 0.5360550284385681 0.4194617672608449\n",
      "85 0.10129870474338531 0.3942640721797943 0.1936370146771272\n",
      "87 0.13358770310878754 0.47223538160324097 0.2758329262336095\n",
      "89 0.3752698600292206 0.3752698600292206 0.3752698600292206\n",
      "90 0.1736857295036316 0.4733114540576935 0.31207775076230365\n",
      "91 0.16052711009979248 0.444069504737854 0.31476303272777134\n",
      "93 0.14455349743366241 0.5720409750938416 0.2422664389014244\n",
      "94 0.12409958988428116 0.46742796897888184 0.22009072168951943\n",
      "95 0.07249567657709122 0.6505886316299438 0.16666074842214584\n",
      "99 0.15782827138900757 0.39708417654037476 0.2653765930184003\n",
      "101 0.2215290367603302 0.5455591678619385 0.35391946964793736\n",
      "102 0.3088357746601105 0.3088357746601105 0.3088357746601105\n",
      "103 0.5951208472251892 0.5951208472251892 0.5951208472251892\n",
      "104 0.42380714416503906 0.42380714416503906 0.42380714416503906\n",
      "105 0.14250008761882782 0.3992358148097992 0.2637103431754642\n",
      "106 0.13866837322711945 0.44492772221565247 0.24116681143641472\n",
      "107 0.5419430136680603 0.7379029989242554 0.5979412347078323\n",
      "108 0.19476661086082458 0.40841925144195557 0.2558730360534456\n",
      "109 0.34796175360679626 0.5538684725761414 0.4188045263290405\n",
      "111 0.1492520272731781 0.8052762150764465 0.32823048159480095\n",
      "112 0.3865808844566345 0.6008287072181702 0.5194830099741617\n",
      "114 0.12004098296165466 0.12004100531339645 0.12004099413752556\n",
      "115 0.2169443815946579 0.2169443815946579 0.2169443815946579\n",
      "116 0.2662968337535858 0.46131592988967896 0.3244981633292304\n",
      "117 0.2353457510471344 0.7609527111053467 0.35613303246169253\n",
      "119 0.1658269762992859 0.5437402129173279 0.27487023174762726\n",
      "120 0.25084707140922546 0.626500129699707 0.35742209951082865\n",
      "122 0.17838792502880096 0.17838793992996216 0.17838793247938156\n",
      "123 0.17062658071517944 0.45234906673431396 0.2714408167770931\n",
      "124 0.3541164994239807 0.45103320479393005 0.4014346202214559\n",
      "125 0.13985559344291687 0.4028530418872833 0.2582023807547309\n",
      "126 0.23658664524555206 0.6759719848632812 0.3850615206691954\n",
      "127 0.2819057106971741 0.28190574049949646 0.28190572559833527\n"
     ]
    }
   ],
   "source": [
    "for subject_id in list(subject_ids)[:100]:\n",
    "    df = db_g.get_group(subject_id)\n",
    "    images = []\n",
    "    for ff in list(df.iloc[:, 1]):\n",
    "        image = imread(os.path.join('subject_faces', ff))\n",
    "        images.append(image/255)\n",
    "    images = np.asarray(images)\n",
    "    facial_ids = fr.fid_extractor.predict(images)\n",
    "    \n",
    "    dists = []\n",
    "    for i in range(facial_ids.shape[0] - 1):\n",
    "        for j in range(i + 1, facial_ids.shape[0]):\n",
    "            dists.append(norm(facial_ids[i] - facial_ids[j]))\n",
    "    dists = np.asarray(dists)\n",
    "    \n",
    "    ref_dists = []\n",
    "    for i in range(facial_ids.shape[0]):\n",
    "        ref_dists.append(norm(ref_facial_ids[subject_id] - facial_ids[i]))\n",
    "    ref_dists = np.asarray(ref_dists)\n",
    "    \n",
    "    #if len(dists) != 0: print(subject_id, dists.min(), dists.max(), dists.mean())\n",
    "    if len(dists) != 0: print(subject_id, ref_dists.min(), ref_dists.max(), ref_dists.mean()) "
   ]
  },
  {
   "cell_type": "code",
   "execution_count": 47,
   "metadata": {
    "collapsed": true,
    "scrolled": false
   },
   "outputs": [
    {
     "name": "stdout",
     "output_type": "stream",
     "text": [
      "1 0.30392056703567505 1.2681528329849243 0.622514363491174\n",
      "2 0.5279995203018188 1.1687475442886353 0.8758791570248489\n",
      "3 0.2531627416610718 1.2098956108093262 0.8236650763587519\n",
      "5 0.23516255617141724 1.2391843795776367 0.6389886435750243\n",
      "6 0.2377052903175354 1.2061262130737305 0.6133693524081297\n",
      "7 0.2037312239408493 1.2438901662826538 0.6614966954095195\n",
      "8 0.2082042247056961 1.2929039001464844 0.6628061068044635\n",
      "9 0.19181610643863678 1.2440906763076782 0.6434196394013922\n",
      "10 0.3424980342388153 1.2475141286849976 0.6403603859321035\n",
      "11 0.20997650921344757 1.2108741998672485 0.7054000479554889\n",
      "12 0.2144407033920288 1.216333031654358 0.6214638077036936\n",
      "13 0.2653812766075134 1.1587035655975342 0.6531599480094332\n",
      "16 0.17491118609905243 1.253640055656433 0.5894149730777694\n",
      "17 0.33631473779678345 1.189286470413208 0.7542514649505165\n",
      "18 0.21779915690422058 1.2106177806854248 0.6757441926183123\n",
      "20 0.31721100211143494 1.2196459770202637 0.7084443414151066\n",
      "21 0.30964940786361694 1.3016996383666992 0.7109066725579978\n",
      "22 0.3218415677547455 1.2539212703704834 0.6980073190849236\n",
      "23 0.1837712526321411 1.2450402975082397 0.6039832744634512\n",
      "24 0.29694873094558716 1.154557228088379 0.7178930813314939\n",
      "25 0.31974393129348755 1.1774295568466187 0.755563064115216\n",
      "26 0.31819817423820496 1.1362130641937256 0.666978901544404\n",
      "27 0.34901437163352966 1.2073274850845337 0.7573758438982144\n",
      "28 0.24495527148246765 1.1614181995391846 0.7241439763097395\n",
      "29 0.1498897820711136 1.2751374244689941 0.61896394915653\n",
      "31 0.265280157327652 1.1316345930099487 0.6523567704403477\n",
      "33 0.31449154019355774 1.1872146129608154 0.7424455774753583\n",
      "34 0.1984783411026001 1.2358148097991943 0.5794398577426018\n",
      "35 0.3106236159801483 1.1567445993423462 0.6431603743271395\n",
      "36 0.2847941517829895 1.1642308235168457 0.7175884200667693\n",
      "37 0.19289818406105042 1.2179166078567505 0.7041993520894704\n",
      "38 0.24855884909629822 1.1407934427261353 0.716322236206838\n",
      "39 0.40122154355049133 1.2264909744262695 0.7577949419166102\n",
      "40 0.262115478515625 1.3026889562606812 0.6113359189595438\n",
      "41 0.2736896276473999 1.2153538465499878 0.6532037489693173\n",
      "42 0.23921340703964233 1.220200777053833 0.8047199937446139\n",
      "43 0.2871048152446747 1.2597328424453735 0.6677398865271096\n",
      "45 0.20781901478767395 1.3144623041152954 0.6288103285010415\n",
      "46 0.2319818139076233 1.333171010017395 0.7237700716459946\n",
      "47 0.25554031133651733 1.2008789777755737 0.8075013344336037\n",
      "48 0.2304159253835678 1.1899513006210327 0.6800621570059747\n",
      "50 0.4667183458805084 1.0967551469802856 0.8422273511838432\n",
      "52 0.46274158358573914 1.088224172592163 0.7134145380872668\n",
      "53 0.16882826387882233 1.259207844734192 0.6191185798431817\n",
      "55 0.3529231548309326 1.236601710319519 0.6400697749070446\n",
      "56 0.2520084083080292 1.291401743888855 0.6243901088181569\n",
      "57 0.26339131593704224 1.231500506401062 0.690728579519818\n",
      "58 0.3247237503528595 1.1813814640045166 0.7998489173908961\n",
      "59 0.2701302170753479 1.168911099433899 0.7622353881430278\n",
      "60 0.15847110748291016 1.2291336059570312 0.5851787756940331\n",
      "62 0.2615208327770233 1.1121758222579956 0.7112194131871666\n",
      "64 0.26810482144355774 1.2681339979171753 0.6265715408806849\n",
      "65 0.31845712661743164 1.245996117591858 0.6986472161505559\n",
      "67 0.24337299168109894 1.1923646926879883 0.7641749458641491\n",
      "68 0.21884703636169434 1.191534399986267 0.781561004198242\n",
      "69 0.16827274858951569 1.2547439336776733 0.5800570454335574\n",
      "70 0.2743608355522156 1.1092298030853271 0.6263466050929895\n",
      "72 0.43525102734565735 1.0786643028259277 0.7380061705004085\n",
      "73 0.26528534293174744 1.1656649112701416 0.6155215741106959\n",
      "74 0.24987554550170898 1.1467026472091675 0.6903642562302676\n",
      "75 0.5943430662155151 1.3337702751159668 1.0621656452365194\n",
      "77 0.24291250109672546 1.2661815881729126 0.681239174084918\n",
      "79 0.4035170078277588 1.0291727781295776 0.7184572397458433\n",
      "80 0.1788526475429535 1.2938770055770874 0.6285925806263388\n",
      "82 0.3369252681732178 1.1424912214279175 0.6149372919039293\n",
      "83 0.25709253549575806 1.2659939527511597 0.8038635098037763\n",
      "84 0.2484683245420456 1.2038755416870117 0.644758850503959\n",
      "85 0.1735910177230835 1.2793382406234741 0.6533697061700585\n",
      "87 0.2775198221206665 1.2093840837478638 0.596537128391892\n",
      "89 0.23069636523723602 1.2029948234558105 0.6616230496402943\n",
      "90 0.21486853063106537 1.2407379150390625 0.6267252395851444\n",
      "91 0.3025767505168915 1.1562519073486328 0.7042439622275624\n",
      "92 0.616307258605957 1.1508363485336304 0.8897372586558564\n",
      "93 0.3225058913230896 1.2007672786712646 0.7153548423388991\n",
      "94 0.17031316459178925 1.2841172218322754 0.6451713668362575\n",
      "95 0.11912423372268677 1.272993803024292 0.6537793452568907\n",
      "99 0.1923917979001999 1.3062070608139038 0.6469777774900063\n",
      "101 0.22466346621513367 1.2385475635528564 0.6248813999020291\n",
      "102 0.2779240906238556 1.2639650106430054 0.6359224533191835\n",
      "103 0.324420690536499 1.267991304397583 0.8510305560899504\n",
      "104 0.24084141850471497 1.1273683309555054 0.7861509154541324\n",
      "105 0.25614598393440247 1.1935278177261353 0.7823689775301016\n",
      "106 0.19453169405460358 1.2457525730133057 0.6150983191951357\n",
      "107 0.181242436170578 1.2655671834945679 0.7904654603564378\n",
      "108 0.24501286447048187 1.2512202262878418 0.5926210076185455\n",
      "109 0.3006484806537628 1.2409567832946777 0.6794080600292995\n",
      "111 0.3139076828956604 1.2464191913604736 0.820116514622262\n",
      "112 0.2106301188468933 1.2519538402557373 0.7950634848991227\n",
      "114 0.15730462968349457 1.2662773132324219 0.6318190054911555\n",
      "115 0.3393007218837738 1.2631011009216309 0.6697251086283211\n",
      "116 0.23997682332992554 1.1374787092208862 0.6570741529215868\n",
      "117 0.18795756995677948 1.2885922193527222 0.6274819839648443\n",
      "119 0.5350584387779236 1.217179298400879 0.9837123611856041\n",
      "120 0.18163356184959412 1.2249295711517334 0.6470830274551405\n",
      "122 0.1710376739501953 1.2816287279129028 0.6180147783774318\n",
      "123 0.37090054154396057 1.2266117334365845 0.8424472245905135\n",
      "124 0.30264830589294434 1.251145601272583 0.6656525543442479\n",
      "125 0.24134421348571777 1.1950610876083374 0.6088507500630218\n",
      "126 0.2408820390701294 1.1789880990982056 0.6596324652868222\n",
      "127 0.2988525331020355 1.0929896831512451 0.6190568348675063\n"
     ]
    }
   ],
   "source": [
    "for subject_id in list(subject_ids)[:100]:\n",
    "    df = db_g.get_group(subject_id)\n",
    "    images = []\n",
    "    for ff in list(df.iloc[:, 1]):\n",
    "        image = imread(os.path.join('subject_faces', ff))\n",
    "        images.append(image/255)\n",
    "    images = np.asarray(images)\n",
    "    facial_ids = fr.fid_extractor.predict(images)\n",
    "    \n",
    "    dists = []\n",
    "        \n",
    "    for i in range(facial_ids.shape[0]):\n",
    "        for subject_id_p in list(subject_ids)[:100]:\n",
    "            if subject_id_p == subject_id: continue\n",
    "            dists.append(norm(facial_ids[i] - ref_facial_ids[subject_id_p]))\n",
    "                \n",
    "    dists = np.asarray(dists)\n",
    "        \n",
    "    if len(dists) != 0: print(subject_id, dists.min(), dists.max(), dists.mean())"
   ]
  },
  {
   "cell_type": "code",
   "execution_count": 83,
   "metadata": {
    "collapsed": true,
    "scrolled": false
   },
   "outputs": [],
   "source": [
    "from keras import backend as K\n",
    "from keras.layers import Layer, Input, Flatten, Dense\n",
    "from keras.models import Model\n",
    "\n",
    "class MyLayer(Layer):\n",
    "\n",
    "    def __init__(self, output_dim, **kwargs):\n",
    "        self.output_dim = output_dim\n",
    "        super(MyLayer, self).__init__(**kwargs)\n",
    "\n",
    "    def build(self, input_shape):\n",
    "        # Create a trainable weight variable for this layer.\n",
    "        self.rbm_weight = self.add_weight(name='rbm_weight'\n",
    "                                 , shape=(input_shape[1], self.output_dim)\n",
    "                                 , initializer='uniform' # Which initializer is optimal?\n",
    "                                 , trainable=True)\n",
    "\n",
    "        self.hidden_bias = self.add_weight(name='rbm_hidden_bias'\n",
    "                                           , shape=(self.output_dim, )\n",
    "                                           , initializer='uniform'\n",
    "                                           , trainable=True)\n",
    "        super(MyLayer, self).build(input_shape)  # Be sure to call this at the end\n",
    "\n",
    "    def call(self, x):\n",
    "        return K.sigmoid(K.dot(x, self.rbm_weight) + self.hidden_bias) # Float type?\n",
    "\n",
    "    def compute_output_shape(self, input_shape):\n",
    "        return (input_shape[0], self.output_dim)\n",
    "    \n",
    "    def fit(self, x):\n",
    "        pass"
   ]
  },
  {
   "cell_type": "code",
   "execution_count": 85,
   "metadata": {
    "collapsed": true,
    "scrolled": false
   },
   "outputs": [
    {
     "name": "stdout",
     "output_type": "stream",
     "text": [
      "Epoch 1/1\n",
      "1/1 [==============================] - 8s 8s/step - loss: 11.2390\n"
     ]
    },
    {
     "data": {
      "text/plain": [
       "<keras.callbacks.History at 0x1ae0f0d4fd0>"
      ]
     },
     "execution_count": 85,
     "metadata": {},
     "output_type": "execute_result"
    }
   ],
   "source": [
    "input1 = Input(shape=(100,))\n",
    "x = MyLayer(10)(input1)\n",
    "x = Dense(10, activation='softmax')(x)\n",
    "model = Model(input1, x)\n",
    "model.compile(optimizer='sgd', loss='categorical_crossentropy')\n",
    "model.fit(np.random.rand(1,100), np.random.rand(1,10))"
   ]
  },
  {
   "cell_type": "code",
   "execution_count": 3,
   "metadata": {
    "collapsed": true,
    "scrolled": false
   },
   "outputs": [
    {
     "name": "stderr",
     "output_type": "stream",
     "text": [
      "Using TensorFlow backend.\n"
     ]
    }
   ],
   "source": [
    "import numpy as np\n",
    "\n",
    "from keras import backend as K\n",
    "from keras.layers import Layer, Input\n",
    "from tensorflow.keras import initializers\n",
    "\n",
    "class RBM(Layer):\n",
    "    \"\"\"Restricted Boltzmann Machine based on Keras.\"\"\"\n",
    "    def __init__(self, hps, output_dim, name=None, **kwargs):\n",
    "        self.hps = hps\n",
    "        self.output_dim = output_dim\n",
    "        self.name = name\n",
    "        super(RBM, self).__init__(**kwargs)\n",
    "    \n",
    "    def build(self, input_shape):\n",
    "        self.rbm_weight = self.add_weight(name='rbm_weight'\n",
    "                                 , shape=(input_shape[1], self.output_dim)\n",
    "                                 , initializer='uniform' # Which initializer is optimal?\n",
    "                                 , trainable=True)\n",
    "\n",
    "        self.hidden_bias = self.add_weight(name='rbm_hidden_bias'\n",
    "                                           , shape=(self.output_dim, )\n",
    "                                           , initializer='uniform'\n",
    "                                           , trainable=True)\n",
    "        self.visible_bias = K.variable(initializers.get('uniform')((input_shape[1], ))\n",
    "                            , dtype=K.floatx()\n",
    "                            , name='rbm_visible_bias')\n",
    "        \n",
    "        # Make symbolic computation objects.\n",
    "        # Transform visible units.\n",
    "        self.input_visible = K.placeholder(shape=(None, input_shape[1]), name='input_visible')\n",
    "        self.transform = K.sigmoid(K.dot(self.input_visible, self.rbm_weight) + self.hidden_bias)\n",
    "        self.transform_func = K.function([self.input_visible], [self.transform])\n",
    "  \n",
    "        # Transform hidden units.      \n",
    "        self.input_hidden = K.placeholder(shape=(None, self.output_dim), name='input_hidden')\n",
    "        self.inv_transform = K.sigmoid(K.dot(self.input_hidden, K.transpose(self.rbm_weight)) + self.visible_bias)\n",
    "        self.inv_transform_func = K.function([self.input_hidden], [self.inv_transform])\n",
    "        \n",
    "        super(RBM, self).build(input_shape)\n",
    "        \n",
    "    def call(self, x):\n",
    "        return K.sigmoid(K.dot(x, self.rbm_weight) + self.hidden_bias) # Float type?\n",
    "    \n",
    "    def transform(self, v):\n",
    "        return self.transform_func(v)\n",
    "    \n",
    "    def inv_transform(self, h):\n",
    "        return self.inv_transform_func(h)\n",
    "        \n",
    "    def compute_output_shape(self, input_shape):\n",
    "        return (input_shape[0], self.output_dim)\n",
    "    \n",
    "    def fit(self, V, verbose=1):\n",
    "        \"\"\"Train RBM with the data V.\n",
    "        \n",
    "        Parameters\n",
    "        ----------\n",
    "        V : 2d numpy array\n",
    "            Visible data (batch size x input_dim).\n",
    "        verbose : integer\n",
    "            Verbose mode (default, 1).\n",
    "        \"\"\"\n",
    "        num_step = V.shape[0] // self.hps['batch_size'] \\\n",
    "            if V.shape[0] % self.hps['batch_size'] == 0 else V.shape[0] // self.hps['batch_size'] + 1 # Exception processing?\n",
    "        \n",
    "        # Contrastive divergence.\n",
    "        v_pos = self.input_visible\n",
    "        h_pos = self.transform\n",
    "        v_neg = K.cast(K.less(K.random_uniform(shape=(self.hps['batch_size'], V.shape[1]))\n",
    "                       , K.sigmoid(K.dot(h_pos, K.transpose(self.rbm_weight)) + self.visible_bias))\n",
    "                       , dtype=np.float32)\n",
    "        h_neg = K.sigmoid(K.dot(v_neg, self.rbm_weight) + self.hidden_bias)\n",
    "        update = K.transpose(K.transpose(K.dot(K.transpose(v_pos), h_pos)) \\\n",
    "                             - K.dot(K.transpose(h_neg), v_neg))\n",
    "        self.rbm_weight_update_func = K.function([self.input_visible], \n",
    "                                [K.update_add(self.rbm_weight, self.hps['lr'] * update)])\n",
    "        self.hidden_bias_update_func = K.function([self.input_visible], \n",
    "                                [K.update_add(self.hidden_bias, self.hps['lr'] \\\n",
    "                                * (K.sum(h_pos, axis=0) - K.sum(h_neg, axis=0)))])\n",
    "        self.visible_bias_update_func = K.function([self.input_visible], \n",
    "                                [K.update_add(self.visible_bias, self.hps['lr'] \\\n",
    "                                * (K.sum(v_pos, axis=0) - K.sum(v_neg, axis=0)))])\n",
    "        \n",
    "        for k in range(self.hps['epochs']):\n",
    "            if verbose == 1:\n",
    "                print(k, '/', self.hps['epochs'], ' epochs')\n",
    "                \n",
    "            for i in range(num_step):\n",
    "                if i == (num_step - 1):\n",
    "                    # Contrastive divergence.\n",
    "                    v_pos = self.input_visible\n",
    "                    h_pos = self.transform\n",
    "                    v_neg = K.cast(K.less(K.random_uniform(shape=(V.shape[0] \\\n",
    "                                   - int(i*self.hps['batch_size']), V.shape[1])) #?\n",
    "                                   , K.sigmoid(K.dot(h_pos, K.transpose(self.rbm_weight)) \\\n",
    "                                   + self.visible_bias)), dtype=np.float32)\n",
    "                    h_neg = K.sigmoid(K.dot(v_neg, self.rbm_weight) + self.hidden_bias)\n",
    "                    update = K.transpose(K.transpose(K.dot(K.transpose(v_pos), h_pos)) \\\n",
    "                                         - K.dot(K.transpose(h_neg), v_neg))\n",
    "                    self.rbm_weight_update_func = K.function([self.input_visible], \n",
    "                            [K.update_add(self.rbm_weight, self.hps['lr'] * update)])\n",
    "                    self.hidden_bias_update_func = K.function([self.input_visible], \n",
    "                            [K.update_add(self.hidden_bias, self.hps['lr'] \\\n",
    "                            * (K.sum(h_pos, axis=0) - K.sum(h_neg, axis=0)))])\n",
    "                    self.visible_bias_update_func = K.function([self.input_visible], \n",
    "                            [K.update_add(self.visible_bias, self.hps['lr'] \\\n",
    "                            * (K.sum(v_pos, axis=0) - K.sum(v_neg, axis=0)))])\n",
    "\n",
    "                    V_batch = [V[int(i*self.hps['batch_size']):V.shape[0]]]\n",
    "                    \n",
    "                    # Train.\n",
    "                    self.rbm_weight_update_func(V_batch)\n",
    "                    self.hidden_bias_update_func(V_batch)\n",
    "                    self.visible_bias_update_func(V_batch)\n",
    "                else:\n",
    "                    V_batch = [V[int(i*self.hps['batch_size']):int((i+1)*self.hps['batch_size'])]]\n",
    "                    \n",
    "                    # Train.\n",
    "                    self.rbm_weight_update_func(V_batch)\n",
    "                    self.hidden_bias_update_func(V_batch)\n",
    "                    self.visible_bias_update_func(V_batch)  "
   ]
  },
  {
   "cell_type": "code",
   "execution_count": 4,
   "metadata": {
    "collapsed": true,
    "scrolled": false
   },
   "outputs": [
    {
     "ename": "NameError",
     "evalue": "name 'Flatten' is not defined",
     "output_type": "error",
     "traceback": [
      "\u001b[1;31m---------------------------------------------------------------------------\u001b[0m",
      "\u001b[1;31mNameError\u001b[0m                                 Traceback (most recent call last)",
      "\u001b[1;32m<ipython-input-4-fc81ba510d11>\u001b[0m in \u001b[0;36m<module>\u001b[1;34m\u001b[0m\n\u001b[0;32m      9\u001b[0m \u001b[0mrbm_layer\u001b[0m \u001b[1;33m=\u001b[0m \u001b[0mRBM\u001b[0m\u001b[1;33m(\u001b[0m\u001b[0mhps\u001b[0m\u001b[1;33m,\u001b[0m \u001b[1;36m10\u001b[0m\u001b[1;33m)\u001b[0m\u001b[1;33m\u001b[0m\u001b[1;33m\u001b[0m\u001b[0m\n\u001b[0;32m     10\u001b[0m \u001b[0minput1\u001b[0m \u001b[1;33m=\u001b[0m \u001b[0mInput\u001b[0m\u001b[1;33m(\u001b[0m\u001b[0mshape\u001b[0m\u001b[1;33m=\u001b[0m\u001b[1;33m(\u001b[0m\u001b[1;36m10\u001b[0m\u001b[1;33m,\u001b[0m \u001b[1;36m10\u001b[0m\u001b[1;33m,\u001b[0m \u001b[1;36m3\u001b[0m\u001b[1;33m)\u001b[0m\u001b[1;33m)\u001b[0m\u001b[1;33m\u001b[0m\u001b[1;33m\u001b[0m\u001b[0m\n\u001b[1;32m---> 11\u001b[1;33m \u001b[0mx\u001b[0m \u001b[1;33m=\u001b[0m \u001b[0mFlatten\u001b[0m\u001b[1;33m(\u001b[0m\u001b[1;33m)\u001b[0m\u001b[1;33m(\u001b[0m\u001b[0minput1\u001b[0m\u001b[1;33m)\u001b[0m\u001b[1;33m\u001b[0m\u001b[1;33m\u001b[0m\u001b[0m\n\u001b[0m\u001b[0;32m     12\u001b[0m \u001b[0mx\u001b[0m \u001b[1;33m=\u001b[0m \u001b[0mrbm_layer\u001b[0m\u001b[1;33m(\u001b[0m\u001b[0mx\u001b[0m\u001b[1;33m)\u001b[0m\u001b[1;33m\u001b[0m\u001b[1;33m\u001b[0m\u001b[0m\n\u001b[0;32m     13\u001b[0m \u001b[0moutput\u001b[0m \u001b[1;33m=\u001b[0m \u001b[0mDense\u001b[0m\u001b[1;33m(\u001b[0m\u001b[1;36m10\u001b[0m\u001b[1;33m,\u001b[0m \u001b[0mactivation\u001b[0m\u001b[1;33m=\u001b[0m\u001b[1;34m'softmax'\u001b[0m\u001b[1;33m)\u001b[0m\u001b[1;33m(\u001b[0m\u001b[0mx\u001b[0m\u001b[1;33m)\u001b[0m\u001b[1;33m\u001b[0m\u001b[1;33m\u001b[0m\u001b[0m\n",
      "\u001b[1;31mNameError\u001b[0m: name 'Flatten' is not defined"
     ]
    }
   ],
   "source": [
    "hps = {}\n",
    "hps['lr'] = 0.1\n",
    "hps['batch_size'] = 1\n",
    "hps['epochs'] = 10\n",
    "hps['beta_1'] = 0.99\n",
    "hps['beta_2'] = 0.99\n",
    "hps['decay'] = 0.0\n",
    "\n",
    "rbm_layer = RBM(hps, 10)\n",
    "input1 = Input(shape=(10, 10, 3))\n",
    "x = Flatten()(input1)\n",
    "x = rbm_layer(x)\n",
    "output = Dense(10, activation='softmax')(x)\n",
    "model = Model(inputs=[input1], outputs=[output])\n",
    "opt = optimizers.Adam(lr=hps['lr']\n",
    "                                , beta_1=hps['beta_1']\n",
    "                                , beta_2=hps['beta_2']\n",
    "                                , decay=hps['decay'])\n",
    "\n",
    "model.compile(optimizer=opt, loss='mse')"
   ]
  },
  {
   "cell_type": "code",
   "execution_count": 47,
   "metadata": {
    "collapsed": true,
    "scrolled": false
   },
   "outputs": [
    {
     "data": {
      "text/plain": [
       "array([[0.05225093, 0.08817174, 0.16123906, 0.06477234, 0.12430384,\n",
       "        0.06368855, 0.09730622, 0.1456283 , 0.0880848 , 0.11455426]],\n",
       "      dtype=float32)"
      ]
     },
     "execution_count": 47,
     "metadata": {},
     "output_type": "execute_result"
    }
   ],
   "source": [
    "model.predict(np.random.rand(1,10,10,3))"
   ]
  },
  {
   "cell_type": "code",
   "execution_count": 48,
   "metadata": {
    "collapsed": true,
    "scrolled": false
   },
   "outputs": [
    {
     "name": "stdout",
     "output_type": "stream",
     "text": [
      "0 / 10  epochs\n",
      "1 / 10  epochs\n",
      "2 / 10  epochs\n",
      "3 / 10  epochs\n",
      "4 / 10  epochs\n",
      "5 / 10  epochs\n",
      "6 / 10  epochs\n",
      "7 / 10  epochs\n",
      "8 / 10  epochs\n",
      "9 / 10  epochs\n"
     ]
    }
   ],
   "source": [
    "rbm_layer.fit(np.random.rand(1, 300))"
   ]
  },
  {
   "cell_type": "code",
   "execution_count": 49,
   "metadata": {
    "collapsed": true,
    "scrolled": false
   },
   "outputs": [
    {
     "name": "stdout",
     "output_type": "stream",
     "text": [
      "Epoch 1/1\n",
      "10/10 [==============================] - 8s 807ms/step - loss: 0.2910\n"
     ]
    },
    {
     "data": {
      "text/plain": [
       "<keras.callbacks.History at 0x1dd1b532390>"
      ]
     },
     "execution_count": 49,
     "metadata": {},
     "output_type": "execute_result"
    }
   ],
   "source": [
    "model.fit(np.random.rand(10,10,10,3), np.random.rand(10, 10))"
   ]
  },
  {
   "cell_type": "code",
   "execution_count": 52,
   "metadata": {
    "collapsed": true,
    "scrolled": false
   },
   "outputs": [],
   "source": [
    "input1 = Input(shape=(10,))\n",
    "x = Lambda(lambda x: K.l2_normalize(x, axis=1))(input1)\n",
    "model = Model(input1, x)"
   ]
  },
  {
   "cell_type": "code",
   "execution_count": 74,
   "metadata": {
    "collapsed": true,
    "scrolled": false
   },
   "outputs": [],
   "source": [
    "res = model.predict(np.random.rand(2,10))"
   ]
  },
  {
   "cell_type": "code",
   "execution_count": 75,
   "metadata": {
    "collapsed": true,
    "scrolled": false
   },
   "outputs": [
    {
     "data": {
      "text/plain": [
       "(2, 10)"
      ]
     },
     "execution_count": 75,
     "metadata": {},
     "output_type": "execute_result"
    }
   ],
   "source": [
    "res.shape"
   ]
  },
  {
   "cell_type": "code",
   "execution_count": 77,
   "metadata": {
    "collapsed": true,
    "scrolled": false
   },
   "outputs": [
    {
     "data": {
      "text/plain": [
       "1.0"
      ]
     },
     "execution_count": 77,
     "metadata": {},
     "output_type": "execute_result"
    }
   ],
   "source": [
    "norm(res[0])"
   ]
  },
  {
   "cell_type": "code",
   "execution_count": 59,
   "metadata": {
    "collapsed": true,
    "scrolled": false
   },
   "outputs": [],
   "source": [
    "input1 = Input(shape=(10,))\n",
    "input2 = Input(shape=(10,))\n",
    "x = Lambda(lambda x: K.cast(K.less(x[0], x[1]), dtype=float32))([input1, input2])\n",
    "model = Model(inputs=[input1, input2], outputs=[x])"
   ]
  },
  {
   "cell_type": "code",
   "execution_count": 60,
   "metadata": {
    "collapsed": true,
    "scrolled": false
   },
   "outputs": [
    {
     "data": {
      "text/plain": [
       "array([[0., 0., 1., 0., 0., 1., 0., 0., 0., 0.]], dtype=float32)"
      ]
     },
     "execution_count": 60,
     "metadata": {},
     "output_type": "execute_result"
    }
   ],
   "source": [
    "model.predict([np.random.rand(1,10), np.random.rand(1, 10)])"
   ]
  },
  {
   "cell_type": "code",
   "execution_count": 62,
   "metadata": {
    "collapsed": true,
    "scrolled": false
   },
   "outputs": [
    {
     "name": "stderr",
     "output_type": "stream",
     "text": [
      "D:\\Users\\gutom\\Anaconda3\\envs\\tf36\\lib\\site-packages\\keras_applications\\mobilenet_v2.py:306: UserWarning: MobileNet shape is undefined. Weights for input shape(224, 224) will be loaded.\n",
      "  warnings.warn('MobileNet shape is undefined.'\n"
     ]
    },
    {
     "name": "stdout",
     "output_type": "stream",
     "text": [
      "Downloading data from https://github.com/JonathanCMitchell/mobilenet_v2_keras/releases/download/v1.1/mobilenet_v2_weights_tf_dim_ordering_tf_kernels_1.0_224_no_top.h5\n",
      "9412608/9406464 [==============================] - 4s 0us/step\n"
     ]
    }
   ],
   "source": [
    "base = MobileNetV2(include_top = False)"
   ]
  },
  {
   "cell_type": "code",
   "execution_count": 63,
   "metadata": {
    "collapsed": true,
    "scrolled": true
   },
   "outputs": [
    {
     "name": "stdout",
     "output_type": "stream",
     "text": [
      "__________________________________________________________________________________________________\n",
      "Layer (type)                    Output Shape         Param #     Connected to                     \n",
      "==================================================================================================\n",
      "input_2 (InputLayer)            (None, None, None, 3 0                                            \n",
      "__________________________________________________________________________________________________\n",
      "Conv1_pad (ZeroPadding2D)       (None, None, None, 3 0           input_2[0][0]                    \n",
      "__________________________________________________________________________________________________\n",
      "Conv1 (Conv2D)                  (None, None, None, 3 864         Conv1_pad[0][0]                  \n",
      "__________________________________________________________________________________________________\n",
      "bn_Conv1 (BatchNormalization)   (None, None, None, 3 128         Conv1[0][0]                      \n",
      "__________________________________________________________________________________________________\n",
      "Conv1_relu (ReLU)               (None, None, None, 3 0           bn_Conv1[0][0]                   \n",
      "__________________________________________________________________________________________________\n",
      "expanded_conv_depthwise (Depthw (None, None, None, 3 288         Conv1_relu[0][0]                 \n",
      "__________________________________________________________________________________________________\n",
      "expanded_conv_depthwise_BN (Bat (None, None, None, 3 128         expanded_conv_depthwise[0][0]    \n",
      "__________________________________________________________________________________________________\n",
      "expanded_conv_depthwise_relu (R (None, None, None, 3 0           expanded_conv_depthwise_BN[0][0] \n",
      "__________________________________________________________________________________________________\n",
      "expanded_conv_project (Conv2D)  (None, None, None, 1 512         expanded_conv_depthwise_relu[0][0\n",
      "__________________________________________________________________________________________________\n",
      "expanded_conv_project_BN (Batch (None, None, None, 1 64          expanded_conv_project[0][0]      \n",
      "__________________________________________________________________________________________________\n",
      "block_1_expand (Conv2D)         (None, None, None, 9 1536        expanded_conv_project_BN[0][0]   \n",
      "__________________________________________________________________________________________________\n",
      "block_1_expand_BN (BatchNormali (None, None, None, 9 384         block_1_expand[0][0]             \n",
      "__________________________________________________________________________________________________\n",
      "block_1_expand_relu (ReLU)      (None, None, None, 9 0           block_1_expand_BN[0][0]          \n",
      "__________________________________________________________________________________________________\n",
      "block_1_pad (ZeroPadding2D)     (None, None, None, 9 0           block_1_expand_relu[0][0]        \n",
      "__________________________________________________________________________________________________\n",
      "block_1_depthwise (DepthwiseCon (None, None, None, 9 864         block_1_pad[0][0]                \n",
      "__________________________________________________________________________________________________\n",
      "block_1_depthwise_BN (BatchNorm (None, None, None, 9 384         block_1_depthwise[0][0]          \n",
      "__________________________________________________________________________________________________\n",
      "block_1_depthwise_relu (ReLU)   (None, None, None, 9 0           block_1_depthwise_BN[0][0]       \n",
      "__________________________________________________________________________________________________\n",
      "block_1_project (Conv2D)        (None, None, None, 2 2304        block_1_depthwise_relu[0][0]     \n",
      "__________________________________________________________________________________________________\n",
      "block_1_project_BN (BatchNormal (None, None, None, 2 96          block_1_project[0][0]            \n",
      "__________________________________________________________________________________________________\n",
      "block_2_expand (Conv2D)         (None, None, None, 1 3456        block_1_project_BN[0][0]         \n",
      "__________________________________________________________________________________________________\n",
      "block_2_expand_BN (BatchNormali (None, None, None, 1 576         block_2_expand[0][0]             \n",
      "__________________________________________________________________________________________________\n",
      "block_2_expand_relu (ReLU)      (None, None, None, 1 0           block_2_expand_BN[0][0]          \n",
      "__________________________________________________________________________________________________\n",
      "block_2_depthwise (DepthwiseCon (None, None, None, 1 1296        block_2_expand_relu[0][0]        \n",
      "__________________________________________________________________________________________________\n",
      "block_2_depthwise_BN (BatchNorm (None, None, None, 1 576         block_2_depthwise[0][0]          \n",
      "__________________________________________________________________________________________________\n",
      "block_2_depthwise_relu (ReLU)   (None, None, None, 1 0           block_2_depthwise_BN[0][0]       \n",
      "__________________________________________________________________________________________________\n",
      "block_2_project (Conv2D)        (None, None, None, 2 3456        block_2_depthwise_relu[0][0]     \n",
      "__________________________________________________________________________________________________\n",
      "block_2_project_BN (BatchNormal (None, None, None, 2 96          block_2_project[0][0]            \n",
      "__________________________________________________________________________________________________\n",
      "block_2_add (Add)               (None, None, None, 2 0           block_1_project_BN[0][0]         \n",
      "                                                                 block_2_project_BN[0][0]         \n",
      "__________________________________________________________________________________________________\n",
      "block_3_expand (Conv2D)         (None, None, None, 1 3456        block_2_add[0][0]                \n",
      "__________________________________________________________________________________________________\n",
      "block_3_expand_BN (BatchNormali (None, None, None, 1 576         block_3_expand[0][0]             \n",
      "__________________________________________________________________________________________________\n",
      "block_3_expand_relu (ReLU)      (None, None, None, 1 0           block_3_expand_BN[0][0]          \n",
      "__________________________________________________________________________________________________\n",
      "block_3_pad (ZeroPadding2D)     (None, None, None, 1 0           block_3_expand_relu[0][0]        \n",
      "__________________________________________________________________________________________________\n",
      "block_3_depthwise (DepthwiseCon (None, None, None, 1 1296        block_3_pad[0][0]                \n",
      "__________________________________________________________________________________________________\n",
      "block_3_depthwise_BN (BatchNorm (None, None, None, 1 576         block_3_depthwise[0][0]          \n",
      "__________________________________________________________________________________________________\n",
      "block_3_depthwise_relu (ReLU)   (None, None, None, 1 0           block_3_depthwise_BN[0][0]       \n",
      "__________________________________________________________________________________________________\n",
      "block_3_project (Conv2D)        (None, None, None, 3 4608        block_3_depthwise_relu[0][0]     \n",
      "__________________________________________________________________________________________________\n",
      "block_3_project_BN (BatchNormal (None, None, None, 3 128         block_3_project[0][0]            \n",
      "__________________________________________________________________________________________________\n",
      "block_4_expand (Conv2D)         (None, None, None, 1 6144        block_3_project_BN[0][0]         \n",
      "__________________________________________________________________________________________________\n",
      "block_4_expand_BN (BatchNormali (None, None, None, 1 768         block_4_expand[0][0]             \n",
      "__________________________________________________________________________________________________\n",
      "block_4_expand_relu (ReLU)      (None, None, None, 1 0           block_4_expand_BN[0][0]          \n",
      "__________________________________________________________________________________________________\n",
      "block_4_depthwise (DepthwiseCon (None, None, None, 1 1728        block_4_expand_relu[0][0]        \n",
      "__________________________________________________________________________________________________\n",
      "block_4_depthwise_BN (BatchNorm (None, None, None, 1 768         block_4_depthwise[0][0]          \n",
      "__________________________________________________________________________________________________\n",
      "block_4_depthwise_relu (ReLU)   (None, None, None, 1 0           block_4_depthwise_BN[0][0]       \n",
      "__________________________________________________________________________________________________\n",
      "block_4_project (Conv2D)        (None, None, None, 3 6144        block_4_depthwise_relu[0][0]     \n",
      "__________________________________________________________________________________________________\n",
      "block_4_project_BN (BatchNormal (None, None, None, 3 128         block_4_project[0][0]            \n",
      "__________________________________________________________________________________________________\n",
      "block_4_add (Add)               (None, None, None, 3 0           block_3_project_BN[0][0]         \n",
      "                                                                 block_4_project_BN[0][0]         \n",
      "__________________________________________________________________________________________________\n",
      "block_5_expand (Conv2D)         (None, None, None, 1 6144        block_4_add[0][0]                \n",
      "__________________________________________________________________________________________________\n",
      "block_5_expand_BN (BatchNormali (None, None, None, 1 768         block_5_expand[0][0]             \n",
      "__________________________________________________________________________________________________\n",
      "block_5_expand_relu (ReLU)      (None, None, None, 1 0           block_5_expand_BN[0][0]          \n",
      "__________________________________________________________________________________________________\n",
      "block_5_depthwise (DepthwiseCon (None, None, None, 1 1728        block_5_expand_relu[0][0]        \n",
      "__________________________________________________________________________________________________\n",
      "block_5_depthwise_BN (BatchNorm (None, None, None, 1 768         block_5_depthwise[0][0]          \n",
      "__________________________________________________________________________________________________\n",
      "block_5_depthwise_relu (ReLU)   (None, None, None, 1 0           block_5_depthwise_BN[0][0]       \n",
      "__________________________________________________________________________________________________\n",
      "block_5_project (Conv2D)        (None, None, None, 3 6144        block_5_depthwise_relu[0][0]     \n",
      "__________________________________________________________________________________________________\n",
      "block_5_project_BN (BatchNormal (None, None, None, 3 128         block_5_project[0][0]            \n",
      "__________________________________________________________________________________________________\n",
      "block_5_add (Add)               (None, None, None, 3 0           block_4_add[0][0]                \n",
      "                                                                 block_5_project_BN[0][0]         \n",
      "__________________________________________________________________________________________________\n",
      "block_6_expand (Conv2D)         (None, None, None, 1 6144        block_5_add[0][0]                \n",
      "__________________________________________________________________________________________________\n",
      "block_6_expand_BN (BatchNormali (None, None, None, 1 768         block_6_expand[0][0]             \n",
      "__________________________________________________________________________________________________\n",
      "block_6_expand_relu (ReLU)      (None, None, None, 1 0           block_6_expand_BN[0][0]          \n",
      "__________________________________________________________________________________________________\n",
      "block_6_pad (ZeroPadding2D)     (None, None, None, 1 0           block_6_expand_relu[0][0]        \n",
      "__________________________________________________________________________________________________\n",
      "block_6_depthwise (DepthwiseCon (None, None, None, 1 1728        block_6_pad[0][0]                \n",
      "__________________________________________________________________________________________________\n",
      "block_6_depthwise_BN (BatchNorm (None, None, None, 1 768         block_6_depthwise[0][0]          \n",
      "__________________________________________________________________________________________________\n",
      "block_6_depthwise_relu (ReLU)   (None, None, None, 1 0           block_6_depthwise_BN[0][0]       \n",
      "__________________________________________________________________________________________________\n",
      "block_6_project (Conv2D)        (None, None, None, 6 12288       block_6_depthwise_relu[0][0]     \n",
      "__________________________________________________________________________________________________\n",
      "block_6_project_BN (BatchNormal (None, None, None, 6 256         block_6_project[0][0]            \n",
      "__________________________________________________________________________________________________\n",
      "block_7_expand (Conv2D)         (None, None, None, 3 24576       block_6_project_BN[0][0]         \n",
      "__________________________________________________________________________________________________\n",
      "block_7_expand_BN (BatchNormali (None, None, None, 3 1536        block_7_expand[0][0]             \n",
      "__________________________________________________________________________________________________\n",
      "block_7_expand_relu (ReLU)      (None, None, None, 3 0           block_7_expand_BN[0][0]          \n",
      "__________________________________________________________________________________________________\n",
      "block_7_depthwise (DepthwiseCon (None, None, None, 3 3456        block_7_expand_relu[0][0]        \n",
      "__________________________________________________________________________________________________\n",
      "block_7_depthwise_BN (BatchNorm (None, None, None, 3 1536        block_7_depthwise[0][0]          \n",
      "__________________________________________________________________________________________________\n",
      "block_7_depthwise_relu (ReLU)   (None, None, None, 3 0           block_7_depthwise_BN[0][0]       \n",
      "__________________________________________________________________________________________________\n",
      "block_7_project (Conv2D)        (None, None, None, 6 24576       block_7_depthwise_relu[0][0]     \n",
      "__________________________________________________________________________________________________\n",
      "block_7_project_BN (BatchNormal (None, None, None, 6 256         block_7_project[0][0]            \n",
      "__________________________________________________________________________________________________\n",
      "block_7_add (Add)               (None, None, None, 6 0           block_6_project_BN[0][0]         \n",
      "                                                                 block_7_project_BN[0][0]         \n",
      "__________________________________________________________________________________________________\n",
      "block_8_expand (Conv2D)         (None, None, None, 3 24576       block_7_add[0][0]                \n",
      "__________________________________________________________________________________________________\n",
      "block_8_expand_BN (BatchNormali (None, None, None, 3 1536        block_8_expand[0][0]             \n",
      "__________________________________________________________________________________________________\n",
      "block_8_expand_relu (ReLU)      (None, None, None, 3 0           block_8_expand_BN[0][0]          \n",
      "__________________________________________________________________________________________________\n",
      "block_8_depthwise (DepthwiseCon (None, None, None, 3 3456        block_8_expand_relu[0][0]        \n",
      "__________________________________________________________________________________________________\n",
      "block_8_depthwise_BN (BatchNorm (None, None, None, 3 1536        block_8_depthwise[0][0]          \n",
      "__________________________________________________________________________________________________\n",
      "block_8_depthwise_relu (ReLU)   (None, None, None, 3 0           block_8_depthwise_BN[0][0]       \n",
      "__________________________________________________________________________________________________\n",
      "block_8_project (Conv2D)        (None, None, None, 6 24576       block_8_depthwise_relu[0][0]     \n",
      "__________________________________________________________________________________________________\n",
      "block_8_project_BN (BatchNormal (None, None, None, 6 256         block_8_project[0][0]            \n",
      "__________________________________________________________________________________________________\n",
      "block_8_add (Add)               (None, None, None, 6 0           block_7_add[0][0]                \n",
      "                                                                 block_8_project_BN[0][0]         \n",
      "__________________________________________________________________________________________________\n",
      "block_9_expand (Conv2D)         (None, None, None, 3 24576       block_8_add[0][0]                \n",
      "__________________________________________________________________________________________________\n",
      "block_9_expand_BN (BatchNormali (None, None, None, 3 1536        block_9_expand[0][0]             \n",
      "__________________________________________________________________________________________________\n",
      "block_9_expand_relu (ReLU)      (None, None, None, 3 0           block_9_expand_BN[0][0]          \n",
      "__________________________________________________________________________________________________\n",
      "block_9_depthwise (DepthwiseCon (None, None, None, 3 3456        block_9_expand_relu[0][0]        \n",
      "__________________________________________________________________________________________________\n",
      "block_9_depthwise_BN (BatchNorm (None, None, None, 3 1536        block_9_depthwise[0][0]          \n",
      "__________________________________________________________________________________________________\n",
      "block_9_depthwise_relu (ReLU)   (None, None, None, 3 0           block_9_depthwise_BN[0][0]       \n",
      "__________________________________________________________________________________________________\n",
      "block_9_project (Conv2D)        (None, None, None, 6 24576       block_9_depthwise_relu[0][0]     \n",
      "__________________________________________________________________________________________________\n",
      "block_9_project_BN (BatchNormal (None, None, None, 6 256         block_9_project[0][0]            \n",
      "__________________________________________________________________________________________________\n",
      "block_9_add (Add)               (None, None, None, 6 0           block_8_add[0][0]                \n",
      "                                                                 block_9_project_BN[0][0]         \n",
      "__________________________________________________________________________________________________\n",
      "block_10_expand (Conv2D)        (None, None, None, 3 24576       block_9_add[0][0]                \n",
      "__________________________________________________________________________________________________\n",
      "block_10_expand_BN (BatchNormal (None, None, None, 3 1536        block_10_expand[0][0]            \n",
      "__________________________________________________________________________________________________\n",
      "block_10_expand_relu (ReLU)     (None, None, None, 3 0           block_10_expand_BN[0][0]         \n",
      "__________________________________________________________________________________________________\n",
      "block_10_depthwise (DepthwiseCo (None, None, None, 3 3456        block_10_expand_relu[0][0]       \n",
      "__________________________________________________________________________________________________\n",
      "block_10_depthwise_BN (BatchNor (None, None, None, 3 1536        block_10_depthwise[0][0]         \n",
      "__________________________________________________________________________________________________\n",
      "block_10_depthwise_relu (ReLU)  (None, None, None, 3 0           block_10_depthwise_BN[0][0]      \n",
      "__________________________________________________________________________________________________\n",
      "block_10_project (Conv2D)       (None, None, None, 9 36864       block_10_depthwise_relu[0][0]    \n",
      "__________________________________________________________________________________________________\n",
      "block_10_project_BN (BatchNorma (None, None, None, 9 384         block_10_project[0][0]           \n",
      "__________________________________________________________________________________________________\n",
      "block_11_expand (Conv2D)        (None, None, None, 5 55296       block_10_project_BN[0][0]        \n",
      "__________________________________________________________________________________________________\n",
      "block_11_expand_BN (BatchNormal (None, None, None, 5 2304        block_11_expand[0][0]            \n",
      "__________________________________________________________________________________________________\n",
      "block_11_expand_relu (ReLU)     (None, None, None, 5 0           block_11_expand_BN[0][0]         \n",
      "__________________________________________________________________________________________________\n",
      "block_11_depthwise (DepthwiseCo (None, None, None, 5 5184        block_11_expand_relu[0][0]       \n",
      "__________________________________________________________________________________________________\n",
      "block_11_depthwise_BN (BatchNor (None, None, None, 5 2304        block_11_depthwise[0][0]         \n",
      "__________________________________________________________________________________________________\n",
      "block_11_depthwise_relu (ReLU)  (None, None, None, 5 0           block_11_depthwise_BN[0][0]      \n",
      "__________________________________________________________________________________________________\n",
      "block_11_project (Conv2D)       (None, None, None, 9 55296       block_11_depthwise_relu[0][0]    \n",
      "__________________________________________________________________________________________________\n",
      "block_11_project_BN (BatchNorma (None, None, None, 9 384         block_11_project[0][0]           \n",
      "__________________________________________________________________________________________________\n",
      "block_11_add (Add)              (None, None, None, 9 0           block_10_project_BN[0][0]        \n",
      "                                                                 block_11_project_BN[0][0]        \n",
      "__________________________________________________________________________________________________\n",
      "block_12_expand (Conv2D)        (None, None, None, 5 55296       block_11_add[0][0]               \n",
      "__________________________________________________________________________________________________\n",
      "block_12_expand_BN (BatchNormal (None, None, None, 5 2304        block_12_expand[0][0]            \n",
      "__________________________________________________________________________________________________\n",
      "block_12_expand_relu (ReLU)     (None, None, None, 5 0           block_12_expand_BN[0][0]         \n",
      "__________________________________________________________________________________________________\n",
      "block_12_depthwise (DepthwiseCo (None, None, None, 5 5184        block_12_expand_relu[0][0]       \n",
      "__________________________________________________________________________________________________\n",
      "block_12_depthwise_BN (BatchNor (None, None, None, 5 2304        block_12_depthwise[0][0]         \n",
      "__________________________________________________________________________________________________\n",
      "block_12_depthwise_relu (ReLU)  (None, None, None, 5 0           block_12_depthwise_BN[0][0]      \n",
      "__________________________________________________________________________________________________\n",
      "block_12_project (Conv2D)       (None, None, None, 9 55296       block_12_depthwise_relu[0][0]    \n",
      "__________________________________________________________________________________________________\n",
      "block_12_project_BN (BatchNorma (None, None, None, 9 384         block_12_project[0][0]           \n",
      "__________________________________________________________________________________________________\n",
      "block_12_add (Add)              (None, None, None, 9 0           block_11_add[0][0]               \n",
      "                                                                 block_12_project_BN[0][0]        \n",
      "__________________________________________________________________________________________________\n",
      "block_13_expand (Conv2D)        (None, None, None, 5 55296       block_12_add[0][0]               \n",
      "__________________________________________________________________________________________________\n",
      "block_13_expand_BN (BatchNormal (None, None, None, 5 2304        block_13_expand[0][0]            \n",
      "__________________________________________________________________________________________________\n",
      "block_13_expand_relu (ReLU)     (None, None, None, 5 0           block_13_expand_BN[0][0]         \n",
      "__________________________________________________________________________________________________\n",
      "block_13_pad (ZeroPadding2D)    (None, None, None, 5 0           block_13_expand_relu[0][0]       \n",
      "__________________________________________________________________________________________________\n",
      "block_13_depthwise (DepthwiseCo (None, None, None, 5 5184        block_13_pad[0][0]               \n",
      "__________________________________________________________________________________________________\n",
      "block_13_depthwise_BN (BatchNor (None, None, None, 5 2304        block_13_depthwise[0][0]         \n",
      "__________________________________________________________________________________________________\n",
      "block_13_depthwise_relu (ReLU)  (None, None, None, 5 0           block_13_depthwise_BN[0][0]      \n",
      "__________________________________________________________________________________________________\n",
      "block_13_project (Conv2D)       (None, None, None, 1 92160       block_13_depthwise_relu[0][0]    \n",
      "__________________________________________________________________________________________________\n",
      "block_13_project_BN (BatchNorma (None, None, None, 1 640         block_13_project[0][0]           \n",
      "__________________________________________________________________________________________________\n",
      "block_14_expand (Conv2D)        (None, None, None, 9 153600      block_13_project_BN[0][0]        \n",
      "__________________________________________________________________________________________________\n",
      "block_14_expand_BN (BatchNormal (None, None, None, 9 3840        block_14_expand[0][0]            \n",
      "__________________________________________________________________________________________________\n",
      "block_14_expand_relu (ReLU)     (None, None, None, 9 0           block_14_expand_BN[0][0]         \n",
      "__________________________________________________________________________________________________\n",
      "block_14_depthwise (DepthwiseCo (None, None, None, 9 8640        block_14_expand_relu[0][0]       \n",
      "__________________________________________________________________________________________________\n",
      "block_14_depthwise_BN (BatchNor (None, None, None, 9 3840        block_14_depthwise[0][0]         \n",
      "__________________________________________________________________________________________________\n",
      "block_14_depthwise_relu (ReLU)  (None, None, None, 9 0           block_14_depthwise_BN[0][0]      \n",
      "__________________________________________________________________________________________________\n",
      "block_14_project (Conv2D)       (None, None, None, 1 153600      block_14_depthwise_relu[0][0]    \n",
      "__________________________________________________________________________________________________\n",
      "block_14_project_BN (BatchNorma (None, None, None, 1 640         block_14_project[0][0]           \n",
      "__________________________________________________________________________________________________\n",
      "block_14_add (Add)              (None, None, None, 1 0           block_13_project_BN[0][0]        \n",
      "                                                                 block_14_project_BN[0][0]        \n",
      "__________________________________________________________________________________________________\n",
      "block_15_expand (Conv2D)        (None, None, None, 9 153600      block_14_add[0][0]               \n",
      "__________________________________________________________________________________________________\n",
      "block_15_expand_BN (BatchNormal (None, None, None, 9 3840        block_15_expand[0][0]            \n",
      "__________________________________________________________________________________________________\n",
      "block_15_expand_relu (ReLU)     (None, None, None, 9 0           block_15_expand_BN[0][0]         \n",
      "__________________________________________________________________________________________________\n",
      "block_15_depthwise (DepthwiseCo (None, None, None, 9 8640        block_15_expand_relu[0][0]       \n",
      "__________________________________________________________________________________________________\n",
      "block_15_depthwise_BN (BatchNor (None, None, None, 9 3840        block_15_depthwise[0][0]         \n",
      "__________________________________________________________________________________________________\n",
      "block_15_depthwise_relu (ReLU)  (None, None, None, 9 0           block_15_depthwise_BN[0][0]      \n",
      "__________________________________________________________________________________________________\n",
      "block_15_project (Conv2D)       (None, None, None, 1 153600      block_15_depthwise_relu[0][0]    \n",
      "__________________________________________________________________________________________________\n",
      "block_15_project_BN (BatchNorma (None, None, None, 1 640         block_15_project[0][0]           \n",
      "__________________________________________________________________________________________________\n",
      "block_15_add (Add)              (None, None, None, 1 0           block_14_add[0][0]               \n",
      "                                                                 block_15_project_BN[0][0]        \n",
      "__________________________________________________________________________________________________\n",
      "block_16_expand (Conv2D)        (None, None, None, 9 153600      block_15_add[0][0]               \n",
      "__________________________________________________________________________________________________\n",
      "block_16_expand_BN (BatchNormal (None, None, None, 9 3840        block_16_expand[0][0]            \n",
      "__________________________________________________________________________________________________\n",
      "block_16_expand_relu (ReLU)     (None, None, None, 9 0           block_16_expand_BN[0][0]         \n",
      "__________________________________________________________________________________________________\n",
      "block_16_depthwise (DepthwiseCo (None, None, None, 9 8640        block_16_expand_relu[0][0]       \n",
      "__________________________________________________________________________________________________\n",
      "block_16_depthwise_BN (BatchNor (None, None, None, 9 3840        block_16_depthwise[0][0]         \n",
      "__________________________________________________________________________________________________\n",
      "block_16_depthwise_relu (ReLU)  (None, None, None, 9 0           block_16_depthwise_BN[0][0]      \n",
      "__________________________________________________________________________________________________\n",
      "block_16_project (Conv2D)       (None, None, None, 3 307200      block_16_depthwise_relu[0][0]    \n",
      "__________________________________________________________________________________________________\n",
      "block_16_project_BN (BatchNorma (None, None, None, 3 1280        block_16_project[0][0]           \n",
      "__________________________________________________________________________________________________\n",
      "Conv_1 (Conv2D)                 (None, None, None, 1 409600      block_16_project_BN[0][0]        \n",
      "__________________________________________________________________________________________________\n",
      "Conv_1_bn (BatchNormalization)  (None, None, None, 1 5120        Conv_1[0][0]                     \n",
      "__________________________________________________________________________________________________\n",
      "out_relu (ReLU)                 (None, None, None, 1 0           Conv_1_bn[0][0]                  \n",
      "==================================================================================================\n",
      "Total params: 2,257,984\n",
      "Trainable params: 2,223,872\n",
      "Non-trainable params: 34,112\n",
      "__________________________________________________________________________________________________\n"
     ]
    }
   ],
   "source": [
    "base.summary()"
   ]
  },
  {
   "cell_type": "code",
   "execution_count": 2,
   "metadata": {
    "collapsed": true,
    "scrolled": false
   },
   "outputs": [
    {
     "name": "stdout",
     "output_type": "stream",
     "text": [
      "Help on method raw_input in module ipykernel.kernelbase:\n",
      "\n",
      "raw_input(prompt='') method of ipykernel.ipkernel.IPythonKernel instance\n",
      "    Forward raw_input to frontends\n",
      "    \n",
      "    Raises\n",
      "    ------\n",
      "    StdinNotImplentedError if active frontend doesn't support stdin.\n",
      "\n"
     ]
    }
   ],
   "source": [
    "help(input)"
   ]
  },
  {
   "cell_type": "code",
   "execution_count": 4,
   "metadata": {
    "collapsed": true,
    "scrolled": false
   },
   "outputs": [
    {
     "name": "stdout",
     "output_type": "stream",
     "text": [
      ">hello\n"
     ]
    }
   ],
   "source": [
    "res = input('>')"
   ]
  },
  {
   "cell_type": "code",
   "execution_count": 5,
   "metadata": {
    "collapsed": true,
    "scrolled": false
   },
   "outputs": [
    {
     "data": {
      "text/plain": [
       "'hello'"
      ]
     },
     "execution_count": 5,
     "metadata": {},
     "output_type": "execute_result"
    }
   ],
   "source": [
    "res"
   ]
  },
  {
   "cell_type": "code",
   "execution_count": 7,
   "metadata": {
    "collapsed": true,
    "scrolled": false
   },
   "outputs": [
    {
     "name": "stdout",
     "output_type": "stream",
     "text": [
      "Score  1.800000\n"
     ]
    }
   ],
   "source": [
    "print('Score {0: f}'.format(1.8))"
   ]
  },
  {
   "cell_type": "code",
   "execution_count": 5,
   "metadata": {
    "collapsed": true,
    "scrolled": false
   },
   "outputs": [
    {
     "data": {
      "text/plain": [
       "{'lr': 0.1,\n",
       " 'batch_size': 1,\n",
       " 'epochs': 10,\n",
       " 'beta_1': 0.99,\n",
       " 'beta_2': 0.99,\n",
       " 'decay': 0.0}"
      ]
     },
     "execution_count": 5,
     "metadata": {},
     "output_type": "execute_result"
    }
   ],
   "source": [
    "hps"
   ]
  },
  {
   "cell_type": "code",
   "execution_count": 6,
   "metadata": {
    "collapsed": true,
    "scrolled": false
   },
   "outputs": [],
   "source": [
    "import json"
   ]
  },
  {
   "cell_type": "code",
   "execution_count": 7,
   "metadata": {
    "collapsed": true,
    "scrolled": false
   },
   "outputs": [],
   "source": [
    "res = json.dumps(hps)"
   ]
  },
  {
   "cell_type": "code",
   "execution_count": 8,
   "metadata": {
    "collapsed": true,
    "scrolled": false
   },
   "outputs": [
    {
     "data": {
      "text/plain": [
       "'{\"lr\": 0.1, \"batch_size\": 1, \"epochs\": 10, \"beta_1\": 0.99, \"beta_2\": 0.99, \"decay\": 0.0}'"
      ]
     },
     "execution_count": 8,
     "metadata": {},
     "output_type": "execute_result"
    }
   ],
   "source": [
    "res"
   ]
  },
  {
   "cell_type": "code",
   "execution_count": 9,
   "metadata": {
    "collapsed": true,
    "scrolled": false
   },
   "outputs": [],
   "source": [
    "hps['flag'] = True"
   ]
  },
  {
   "cell_type": "code",
   "execution_count": 10,
   "metadata": {
    "collapsed": true,
    "scrolled": false
   },
   "outputs": [
    {
     "data": {
      "text/plain": [
       "'{\"lr\": 0.1, \"batch_size\": 1, \"epochs\": 10, \"beta_1\": 0.99, \"beta_2\": 0.99, \"decay\": 0.0, \"flag\": true}'"
      ]
     },
     "execution_count": 10,
     "metadata": {},
     "output_type": "execute_result"
    }
   ],
   "source": [
    "res = json.dumps(hps)\n",
    "res"
   ]
  },
  {
   "cell_type": "code",
   "execution_count": 13,
   "metadata": {
    "collapsed": true,
    "scrolled": false
   },
   "outputs": [],
   "source": [
    "res = json.loads('{\"mode\" : \"train\", \"hps\" : {\"lr\" : 0.001, \"beta_1\" : 0.99, \"beta_2\" : 0.99, \"decay\" : 0.0, \"epochs\" : 1, \"batch_size\" : 128}, \"rbm_hps\" : { \"lr\" : 0.001, \"epochs\" : 1, \"batch_size\" : 128}, \"nn_arch\" : {\"output_dim\" : 128}, \"model_loading\": false}')"
   ]
  },
  {
   "cell_type": "code",
   "execution_count": 16,
   "metadata": {
    "collapsed": true,
    "scrolled": false
   },
   "outputs": [
    {
     "data": {
      "text/plain": [
       "dict"
      ]
     },
     "execution_count": 16,
     "metadata": {},
     "output_type": "execute_result"
    }
   ],
   "source": [
    "type(res)"
   ]
  },
  {
   "cell_type": "code",
   "execution_count": 20,
   "metadata": {
    "collapsed": true,
    "scrolled": false
   },
   "outputs": [
    {
     "data": {
      "text/plain": [
       "array([0.71868607, 0.7595842 , 0.10236726, 0.63356467, 0.08557064,\n",
       "       0.14795317, 0.66096607, 0.94096301, 0.87105102, 0.98301912])"
      ]
     },
     "execution_count": 20,
     "metadata": {},
     "output_type": "execute_result"
    }
   ],
   "source": [
    "p = np.random.rand(10)\n",
    "p"
   ]
  },
  {
   "cell_type": "code",
   "execution_count": 21,
   "metadata": {
    "collapsed": true,
    "scrolled": false
   },
   "outputs": [
    {
     "data": {
      "text/plain": [
       "array([[1., 0., 0., 0., 0., 0., 0., 0., 0., 0.],\n",
       "       [0., 1., 0., 0., 0., 0., 0., 0., 0., 0.],\n",
       "       [0., 0., 1., 0., 0., 0., 0., 0., 0., 0.],\n",
       "       [0., 0., 0., 1., 0., 0., 0., 0., 0., 0.],\n",
       "       [0., 0., 0., 0., 1., 0., 0., 0., 0., 0.],\n",
       "       [0., 0., 0., 0., 0., 1., 0., 0., 0., 0.],\n",
       "       [0., 0., 0., 0., 0., 0., 1., 0., 0., 0.],\n",
       "       [0., 0., 0., 0., 0., 0., 0., 1., 0., 0.],\n",
       "       [0., 0., 0., 0., 0., 0., 0., 0., 1., 0.],\n",
       "       [0., 0., 0., 0., 0., 0., 0., 0., 0., 1.]])"
      ]
     },
     "execution_count": 21,
     "metadata": {},
     "output_type": "execute_result"
    }
   ],
   "source": [
    "sample = np.identity(10)\n",
    "sample"
   ]
  },
  {
   "cell_type": "code",
   "execution_count": 19,
   "metadata": {
    "collapsed": true,
    "scrolled": false
   },
   "outputs": [
    {
     "data": {
      "text/plain": [
       "array([ 0.72697841, -0.38562431, -0.47842945,  0.40895143, -0.24434335,\n",
       "       -0.29382098, -1.31171756,  0.83955232, -1.66124913,  0.26366205])"
      ]
     },
     "execution_count": 19,
     "metadata": {},
     "output_type": "execute_result"
    }
   ],
   "source": [
    "p = p/p.sum()\n",
    "res = np.random.multivariate_normal(p, np.identity(10))\n",
    "res"
   ]
  },
  {
   "cell_type": "code",
   "execution_count": 17,
   "metadata": {
    "collapsed": true,
    "scrolled": false
   },
   "outputs": [],
   "source": [
    "sol_df = pd.read_csv('d:\\\\topcoder\\\\face_recog\\\\src\\\\space\\\\solution.csv', header=None)"
   ]
  },
  {
   "cell_type": "code",
   "execution_count": 18,
   "metadata": {
    "collapsed": true,
    "scrolled": false
   },
   "outputs": [],
   "source": [
    "res = sol_df.iloc[0]"
   ]
  },
  {
   "cell_type": "code",
   "execution_count": 19,
   "metadata": {
    "collapsed": true,
    "scrolled": false
   },
   "outputs": [
    {
     "data": {
      "text/plain": [
       "pandas.core.series.Series"
      ]
     },
     "execution_count": 19,
     "metadata": {},
     "output_type": "execute_result"
    }
   ],
   "source": [
    "type(res)"
   ]
  },
  {
   "cell_type": "code",
   "execution_count": 20,
   "metadata": {
    "collapsed": true,
    "scrolled": false
   },
   "outputs": [
    {
     "data": {
      "text/plain": [
       "0    1389.jpg\n",
       "1         301\n",
       "2     2495.47\n",
       "3      1049.5\n",
       "4     256.543\n",
       "5      326.51\n",
       "6    0.773768\n",
       "Name: 0, dtype: object"
      ]
     },
     "execution_count": 20,
     "metadata": {},
     "output_type": "execute_result"
    }
   ],
   "source": [
    "res"
   ]
  },
  {
   "cell_type": "code",
   "execution_count": 21,
   "metadata": {
    "collapsed": true,
    "scrolled": false
   },
   "outputs": [
    {
     "data": {
      "text/plain": [
       "0    1389.jpg\n",
       "1         301\n",
       "2     2495.47\n",
       "3      1049.5\n",
       "4     256.543\n",
       "5      326.51\n",
       "6    0.773768\n",
       "Name: 0, dtype: object"
      ]
     },
     "execution_count": 21,
     "metadata": {},
     "output_type": "execute_result"
    }
   ],
   "source": [
    "sol_df.iloc[0, :]"
   ]
  },
  {
   "cell_type": "code",
   "execution_count": 26,
   "metadata": {
    "collapsed": true,
    "scrolled": false
   },
   "outputs": [
    {
     "data": {
      "text/plain": [
       "0    1389.jpg\n",
       "1         301\n",
       "2     2495.47\n",
       "3      1049.5\n",
       "4     256.543\n",
       "5      326.51\n",
       "6    0.773768\n",
       "Name: 0, dtype: object"
      ]
     },
     "execution_count": 26,
     "metadata": {},
     "output_type": "execute_result"
    }
   ],
   "source": [
    "sol_df.loc[0]"
   ]
  },
  {
   "cell_type": "code",
   "execution_count": 25,
   "metadata": {
    "collapsed": true,
    "scrolled": false
   },
   "outputs": [],
   "source": [
    "import pandas as pd\n",
    "import numpy as np\n",
    "sample = pd.DataFrame([(0, 0, 1), (0, 1, 10), (1, 0, 2), (1, 1, 3)])"
   ]
  },
  {
   "cell_type": "code",
   "execution_count": 26,
   "metadata": {
    "collapsed": true,
    "scrolled": false
   },
   "outputs": [
    {
     "data": {
      "text/html": [
       "<div>\n",
       "<style scoped>\n",
       "    .dataframe tbody tr th:only-of-type {\n",
       "        vertical-align: middle;\n",
       "    }\n",
       "\n",
       "    .dataframe tbody tr th {\n",
       "        vertical-align: top;\n",
       "    }\n",
       "\n",
       "    .dataframe thead th {\n",
       "        text-align: right;\n",
       "    }\n",
       "</style>\n",
       "<table border=\"1\" class=\"dataframe\">\n",
       "  <thead>\n",
       "    <tr style=\"text-align: right;\">\n",
       "      <th></th>\n",
       "      <th>0</th>\n",
       "      <th>1</th>\n",
       "      <th>2</th>\n",
       "    </tr>\n",
       "  </thead>\n",
       "  <tbody>\n",
       "    <tr>\n",
       "      <th>1</th>\n",
       "      <td>0</td>\n",
       "      <td>1</td>\n",
       "      <td>10</td>\n",
       "    </tr>\n",
       "    <tr>\n",
       "      <th>3</th>\n",
       "      <td>1</td>\n",
       "      <td>1</td>\n",
       "      <td>3</td>\n",
       "    </tr>\n",
       "    <tr>\n",
       "      <th>2</th>\n",
       "      <td>1</td>\n",
       "      <td>0</td>\n",
       "      <td>2</td>\n",
       "    </tr>\n",
       "    <tr>\n",
       "      <th>0</th>\n",
       "      <td>0</td>\n",
       "      <td>0</td>\n",
       "      <td>1</td>\n",
       "    </tr>\n",
       "  </tbody>\n",
       "</table>\n",
       "</div>"
      ],
      "text/plain": [
       "   0  1   2\n",
       "1  0  1  10\n",
       "3  1  1   3\n",
       "2  1  0   2\n",
       "0  0  0   1"
      ]
     },
     "execution_count": 26,
     "metadata": {},
     "output_type": "execute_result"
    }
   ],
   "source": [
    "sample.sort_values(by=2, ascending=False)"
   ]
  },
  {
   "cell_type": "code",
   "execution_count": 27,
   "metadata": {
    "collapsed": true,
    "scrolled": false
   },
   "outputs": [
    {
     "data": {
      "text/plain": [
       "0    1\n",
       "1    0\n",
       "2    2\n",
       "Name: 2, dtype: int64"
      ]
     },
     "execution_count": 27,
     "metadata": {},
     "output_type": "execute_result"
    }
   ],
   "source": [
    "df = sample.iloc[2]\n",
    "df"
   ]
  },
  {
   "cell_type": "code",
   "execution_count": 28,
   "metadata": {
    "collapsed": true,
    "scrolled": false
   },
   "outputs": [],
   "source": [
    "df.iloc[2] = 100"
   ]
  },
  {
   "cell_type": "code",
   "execution_count": 29,
   "metadata": {
    "collapsed": true,
    "scrolled": false
   },
   "outputs": [
    {
     "data": {
      "text/html": [
       "<div>\n",
       "<style scoped>\n",
       "    .dataframe tbody tr th:only-of-type {\n",
       "        vertical-align: middle;\n",
       "    }\n",
       "\n",
       "    .dataframe tbody tr th {\n",
       "        vertical-align: top;\n",
       "    }\n",
       "\n",
       "    .dataframe thead th {\n",
       "        text-align: right;\n",
       "    }\n",
       "</style>\n",
       "<table border=\"1\" class=\"dataframe\">\n",
       "  <thead>\n",
       "    <tr style=\"text-align: right;\">\n",
       "      <th></th>\n",
       "      <th>0</th>\n",
       "      <th>1</th>\n",
       "      <th>2</th>\n",
       "    </tr>\n",
       "  </thead>\n",
       "  <tbody>\n",
       "    <tr>\n",
       "      <th>0</th>\n",
       "      <td>0</td>\n",
       "      <td>0</td>\n",
       "      <td>1</td>\n",
       "    </tr>\n",
       "    <tr>\n",
       "      <th>1</th>\n",
       "      <td>0</td>\n",
       "      <td>1</td>\n",
       "      <td>10</td>\n",
       "    </tr>\n",
       "    <tr>\n",
       "      <th>2</th>\n",
       "      <td>1</td>\n",
       "      <td>0</td>\n",
       "      <td>100</td>\n",
       "    </tr>\n",
       "    <tr>\n",
       "      <th>3</th>\n",
       "      <td>1</td>\n",
       "      <td>1</td>\n",
       "      <td>3</td>\n",
       "    </tr>\n",
       "  </tbody>\n",
       "</table>\n",
       "</div>"
      ],
      "text/plain": [
       "   0  1    2\n",
       "0  0  0    1\n",
       "1  0  1   10\n",
       "2  1  0  100\n",
       "3  1  1    3"
      ]
     },
     "execution_count": 29,
     "metadata": {},
     "output_type": "execute_result"
    }
   ],
   "source": [
    "sample"
   ]
  },
  {
   "cell_type": "code",
   "execution_count": 30,
   "metadata": {
    "collapsed": true,
    "scrolled": false
   },
   "outputs": [],
   "source": [
    "res = sample[sample[2] != 100]"
   ]
  },
  {
   "cell_type": "code",
   "execution_count": 31,
   "metadata": {
    "collapsed": true,
    "scrolled": false
   },
   "outputs": [
    {
     "data": {
      "text/html": [
       "<div>\n",
       "<style scoped>\n",
       "    .dataframe tbody tr th:only-of-type {\n",
       "        vertical-align: middle;\n",
       "    }\n",
       "\n",
       "    .dataframe tbody tr th {\n",
       "        vertical-align: top;\n",
       "    }\n",
       "\n",
       "    .dataframe thead th {\n",
       "        text-align: right;\n",
       "    }\n",
       "</style>\n",
       "<table border=\"1\" class=\"dataframe\">\n",
       "  <thead>\n",
       "    <tr style=\"text-align: right;\">\n",
       "      <th></th>\n",
       "      <th>0</th>\n",
       "      <th>1</th>\n",
       "      <th>2</th>\n",
       "    </tr>\n",
       "  </thead>\n",
       "  <tbody>\n",
       "    <tr>\n",
       "      <th>0</th>\n",
       "      <td>0</td>\n",
       "      <td>0</td>\n",
       "      <td>1</td>\n",
       "    </tr>\n",
       "    <tr>\n",
       "      <th>1</th>\n",
       "      <td>0</td>\n",
       "      <td>1</td>\n",
       "      <td>10</td>\n",
       "    </tr>\n",
       "    <tr>\n",
       "      <th>3</th>\n",
       "      <td>1</td>\n",
       "      <td>1</td>\n",
       "      <td>3</td>\n",
       "    </tr>\n",
       "  </tbody>\n",
       "</table>\n",
       "</div>"
      ],
      "text/plain": [
       "   0  1   2\n",
       "0  0  0   1\n",
       "1  0  1  10\n",
       "3  1  1   3"
      ]
     },
     "execution_count": 31,
     "metadata": {},
     "output_type": "execute_result"
    }
   ],
   "source": [
    "res"
   ]
  },
  {
   "cell_type": "code",
   "execution_count": 34,
   "metadata": {
    "collapsed": true,
    "scrolled": false
   },
   "outputs": [],
   "source": [
    "res_g = res.groupby(2)"
   ]
  },
  {
   "cell_type": "code",
   "execution_count": 35,
   "metadata": {
    "collapsed": true,
    "scrolled": false
   },
   "outputs": [
    {
     "data": {
      "text/plain": [
       "dict_keys([1, 3, 10])"
      ]
     },
     "execution_count": 35,
     "metadata": {},
     "output_type": "execute_result"
    }
   ],
   "source": [
    "res_g.groups.keys()"
   ]
  },
  {
   "cell_type": "code",
   "execution_count": 1,
   "metadata": {
    "collapsed": true,
    "scrolled": false
   },
   "outputs": [
    {
     "name": "stdout",
     "output_type": "stream",
     "text": [
      "d:\\topcoder\\face_recog\\src\\space\n"
     ]
    }
   ],
   "source": [
    "cd ../src/space"
   ]
  },
  {
   "cell_type": "code",
   "execution_count": 2,
   "metadata": {
    "collapsed": true,
    "scrolled": false
   },
   "outputs": [],
   "source": [
    "import pdb"
   ]
  },
  {
   "cell_type": "code",
   "execution_count": 78,
   "metadata": {
    "scrolled": false
   },
   "outputs": [],
   "source": [
    "import numpy as np\n",
    "import pandas as pd\n",
    "\n",
    "class BoundBox:\n",
    "    def __init__(self, xmin, ymin, xmax, ymax\n",
    "                 , objness = None\n",
    "                 , classes = None\n",
    "                 , anchor = None\n",
    "                 , subject_id = -1):\n",
    "        self.xmin = xmin\n",
    "        self.ymin = ymin\n",
    "        self.xmax = xmax\n",
    "        self.ymax = ymax\n",
    "        \n",
    "        self.objness = objness\n",
    "        self.classes = classes\n",
    "        self.anchor = anchor\n",
    "        self.subject_id = subject_id\n",
    "\n",
    "        self.label = -1\n",
    "        self.score = -1\n",
    "\n",
    "    def get_label(self):\n",
    "        if self.label == -1:\n",
    "            self.label = np.argmax(self.classes)\n",
    "        \n",
    "        return self.label\n",
    "    \n",
    "    def get_score(self):\n",
    "        if self.score == -1:\n",
    "            self.score = self.classes[self.get_label()]\n",
    "            \n",
    "        return np.min([self.score, 1.0])\n",
    "        \n",
    "    def get_relative_bb(self, width, height):\n",
    "        left = int(self.xmin/width * 100.)\n",
    "        top = int(self.ymin/height * 100.)\n",
    "        width = int((self.xmax - self.xmin)/width * 100.)\n",
    "        height = int((self.ymax - self.ymin)/height * 100.)\n",
    "        \n",
    "        return (left, top, width, height)\n",
    "\n",
    "def bbox_iou(box1, box2):\n",
    "    intersect_w = _interval_overlap([box1.xmin, box1.xmax], [box2.xmin, box2.xmax])\n",
    "    intersect_h = _interval_overlap([box1.ymin, box1.ymax], [box2.ymin, box2.ymax])\n",
    "    \n",
    "    intersect = intersect_w * intersect_h\n",
    "\n",
    "    w1, h1 = box1.xmax-box1.xmin, box1.ymax-box1.ymin\n",
    "    w2, h2 = box2.xmax-box2.xmin, box2.ymax-box2.ymin\n",
    "    \n",
    "    union = w1*h1 + w2*h2 - intersect\n",
    "    \n",
    "    return float(intersect) / union    \n",
    "\n",
    "def _interval_overlap(interval_a, interval_b):\n",
    "    x1, x2 = interval_a\n",
    "    x3, x4 = interval_b\n",
    "\n",
    "    if x3 < x1:\n",
    "        if x4 < x1:\n",
    "            return 0\n",
    "        else:\n",
    "            return min(x2,x4) - x1\n",
    "    else:\n",
    "        if x2 < x3:\n",
    "             return 0\n",
    "        else:\n",
    "            return min(x2,x4) - x3 \n",
    "\n",
    "sol_path='D:\\\\topcoder\\\\face_recog\\\\resource\\\\solution_training_fd.csv'\n",
    "gt_path='D:\\\\topcoder\\\\face_recog\\\\resource\\\\training.csv'\n",
    "\n",
    "def evaluate_fd(gt_path, sol_path, iou_th):\n",
    "    # Load ground truth, predicted results and calculate IoU.\n",
    "    sol_df = pd.read_csv(sol_path, header=None)\n",
    "    sol_df = pd.concat([sol_df, pd.DataFrame(np.zeros(shape=(sol_df.shape[0]), dtype=np.float64), columns=[7])], axis=1) # IoU\n",
    "    sol_df.iloc[:, 6] = -1.0\n",
    "    sol_df_g = sol_df.groupby(0) #?\n",
    "        \n",
    "    gt_df = pd.read_csv(gt_path)\n",
    "    gt_df = pd.concat([gt_df, pd.DataFrame(np.zeros(shape=(gt_df.shape[0]), dtype=np.float64), columns=[8])], axis=1) # IoU\n",
    "    gt_df.iloc[:, 7] = -1.0\n",
    "    gt_df_g = gt_df.groupby('FILE') #?\n",
    "    \n",
    "    for k, image_id in enumerate(list(gt_df_g.groups.keys())):\n",
    "        print(k, '/', len(gt_df_g.groups.keys()), ':', image_id, end='\\r')\n",
    "        df = gt_df_g.get_group(image_id)\n",
    "        \n",
    "        try:\n",
    "            rel_sol_df = sol_df_g.get_group(image_id)\n",
    "        except KeyError:\n",
    "            continue\n",
    "        \n",
    "        gt_ious = {}\n",
    "        \n",
    "        for i in range(df.shape[0]):\n",
    "            gt_ious[i] = []\n",
    "            gt_sample = df.iloc[i]\n",
    "            gt_sample_bb = BoundBox(gt_sample[3]\n",
    "                                      , gt_sample[4]\n",
    "                                      , gt_sample[3] + gt_sample[5]\n",
    "                                      , gt_sample[4] + gt_sample[6])\n",
    "                    \n",
    "            # Check exception.\n",
    "            if rel_sol_df.shape[0] == 0: continue\n",
    "        \n",
    "            # Calculate IoUs between a gt region and detected regions\n",
    "            for j in range(rel_sol_df.shape[0]):\n",
    "                rel_sol = rel_sol_df.iloc[j]\n",
    "                rel_sol_bb = BoundBox(rel_sol[1]\n",
    "                                      , rel_sol[2]\n",
    "                                      , rel_sol[1] + rel_sol[3]\n",
    "                                      , rel_sol[2] + rel_sol[4])\n",
    "            \n",
    "                iou = bbox_iou(gt_sample_bb, rel_sol_bb)\n",
    "                if iou > 0.: #? \n",
    "                    gt_ious[i].append((i, j, iou))\n",
    "        \n",
    "        total_gt_ious = []\n",
    "        for i in gt_ious:\n",
    "            total_gt_ious += gt_ious[i]\n",
    "            \n",
    "        if len(total_gt_ious) == 0: continue\n",
    "            \n",
    "        total_gt_ious_df = pd.DataFrame(total_gt_ious)\n",
    "        \n",
    "        # IoU descending order sorting.\n",
    "        total_gt_ious_df = total_gt_ious_df.sort_values(by=2, ascending=False)\n",
    "        \n",
    "        # Determine IoU for each detected region.\n",
    "        while total_gt_ious_df.shape[0] != 0: #?\n",
    "            df_p = total_gt_ious_df.iloc[0]\n",
    "            i = int(df_p.iloc[0])\n",
    "            j = int(df_p.iloc[1])\n",
    "            iou = df_p.iloc[2]\n",
    "            \n",
    "            #df.iloc[i, -1] = iou \n",
    "            rel_sol_df.iloc[j, -1] = iou \n",
    "            \n",
    "            # Remove assigned samples.\n",
    "            total_gt_ious_df = total_gt_ious_df[total_gt_ious_df[0] != i]\n",
    "            total_gt_ious_df = total_gt_ious_df[total_gt_ious_df[1] != j]\n",
    "            \n",
    "        if k == 0:\n",
    "            res_df = rel_sol_df\n",
    "        else:\n",
    "            res_df = pd.concat([res_df, rel_sol_df])\n",
    "        \n",
    "    # Get the p-r curve.\n",
    "    # Sort the solution in confidence descending order.\n",
    "    res_df = res_df.sort_values(by=5, ascending=False)\n",
    "    ps = []\n",
    "    rs = []\n",
    "    tp_count = 0\n",
    "    count = 0\n",
    "    gt_count = gt_df.shape[0]\n",
    "    \n",
    "    for i in range(gt_df.shape[0]):\n",
    "        count +=1\n",
    "        \n",
    "        if i < res_df.shape[0] and res_df.iloc[i, 6] >= iou_th:\n",
    "            tp_count += 1\n",
    "            \n",
    "        ps.append(tp_count / count)\n",
    "        rs.append(tp_count / gt_count)\n",
    "    \n",
    "    ps = np.asarray(ps)\n",
    "    rs = np.asarray(rs)\n",
    "    \n",
    "    func = interp1d(rs, ps)\n",
    "    mAP = quad(lambda x: func(x), rs[0], rs[-1])\n",
    "    \n",
    "    return (ps, rs, mAP[0])"
   ]
  },
  {
   "cell_type": "code",
   "execution_count": 80,
   "metadata": {
    "scrolled": false
   },
   "outputs": [
    {
     "name": "stdout",
     "output_type": "stream",
     "text": [
      "9811 / 10916 : e72a77b8b745a003de0ef73f7c7cce3a.jpg 10916 : 003e5ac87f021ed99108973d87c3a26f.jpg 10916 : 0060629d1d4499ff6a2d053b355f430d.jpg / 10916 : 0086b162f62fbfa5c315153c8a8f052a.jpg / 10916 : 04c25db1c459de97bb2e46485553fd8e.jpg10916 : 063d039678d944bb411154880544a9ce.jpg/ 10916 : 08ccebceb4ec9db4d2024163e8c751e5.jpg / 10916 : 0a165f4d385134ab2e1957b7ff0c210b.jpg / 10916 : 0ce298bc887f921a27f40de743e0b64e.jpg 0db98e5d994ff4e60a72c7ae9c0ee9e5.jpg / 10916 : 0eeae042739301b85dc39285aea570e7.jpg / 10916 : 0ff13f95dd2412988d27ffd60850b0f9.jpg / 10916 : 115eaf230bf36453ab3ac2d31e8c9181.jpg117b427dea33af43ebeafcb30a92f263.jpg : 11d07af07b3b6162212ddeada848d3a8.jpg : 1454e47f8b6637d511716837143f97eb.jpg: 1553ddba5789786110f950b57ceb9ff6.jpg / 10916 : 164330be2e0e8a0ed63260696fd06016.jpg/ 10916 : 16abd09b9c9a37fac6269c113109fd60.jpg / 10916 : 1712886a017b4afe53310a54b770f4f6.jpg10916 : 18c22746926348c34dd5023b7f5075bf.jpg/ 10916 : 20181631e3c793c983516a3332d57574.jpg / 10916 : 20e4c2cb312c3d82cd1413255b985215.jpg / 10916 : 2192de81998ea5c55eaa17dc16d8436f.jpg 234e8143ef3106fd2711653cecb860f9.jpg / 10916 : 2543876283081dd72746f7a1c7dee4c2.jpg / 10916 : 274b7d67a4538ec271cf2c4a3541fd98.jpg: 27a0cbe9ef6eac1a1f3d4b69cea29361.jpg / 10916 : 2a22acf04474399e9a3a3ceafead07e7.jpg: 2dc3140452bd75c66a266a93e4c3f734.jpg / 10916 : 2ebd19066fa76a6e78ee22a1cd91c653.jpg / 10916 : 2f863940656260217a19c24a6d115f41.jpg / 10916 : 2fa8c103e413da65227a4623b37c6ed0.jpg / 10916 : 307502d143ca872f7816496275038db6.jpg / 10916 : 337aa5b0f688cb607645c6656d08ad2a.jpg10916 : 3650fdad023e28a2ee3ebcbc49f4e1ed.jpg: 36d1358c9d6b8266effcd83ecbea6c6b.jpg / 10916 : 372bd8e6e9eb8d1b3e259185352f22cb.jpg 10916 : 394dc2bc4473833b9120f1095af06860.jpg10916 : 3bfe113210019a328efb0af42588a590.jpg: 3c858007cdc0e41fab859820c6de8e7c.jpg: 3da7874932345447cbbcf1121258b463.jpg: 423a22dfbaed02cfa15d54cee475a8da.jpg: 478c47beeda5be3ae22e7bc033825d5c.jpg : 4cbb618a3de59e0e09741c3ac4d138ac.jpg / 10916 : 4d7d9021475393b4a5fc621e71a2322b.jpg / 10916 : 4d7f2853dce62b735e8a263d73aaf155.jpg / 10916 : 4d9d281655402027530b05fde227cf27.jpg / 10916 : 4dec7131dcf8d8f8a79775d52f7a1e2d.jpg / 10916 : 4e347ae8c051111fd95430cba7dbfb36.jpg / 10916 : 4e7fc0236fac00e4601e7f5fce89572c.jpg / 10916 : 4e84a476c1817ae7181100fc3fd31a5d.jpg10916 : 4ec188daa7d35914e951bd416bbad4a5.jpg / 10916 : 500f7e897d81e33f512d90c7cdc585bd.jpg : 5167b01f8547d83b62789e8420d62323.jpg10916 : 5225498d473a39479ac26d4012d57814.jpg / 10916 : 52472725a479f4244a97d040e1404bdc.jpg / 10916 : 52c75b2b26eb2afd948f5ee676b7ee2d.jpg : 550bd13673562cace9bc11a2d3826b32.jpg10916 : 55606eb1e5a2760c1ffaabc370ba002c.jpg / 10916 : 559dab953cdf5c419c7193b887c1f42c.jpg567138a0a344e222666ff634e462ead1.jpg : 56eaec2f7a46de8339153d5f4a44c24d.jpg / 10916 : 572fb9c0d830f91157e78806162f03b9.jpg / 10916 : 5792694bd8f2cae5cf0814b0ae1a1431.jpg10916 : 5894661be6a013920351212b1056358f.jpg / 10916 : 593d0d8ecb42c5a2fe2bdd90d63a402b.jpg / 10916 : 59a9bbc68f5482a390787166a544f569.jpg / 10916 : 5a35519f4180f743fecc38d9ed5485e2.jpg/ 10916 : 5b5440965cc8ac028eb4370c0efd3275.jpg : 5bf7aaf6a80c8d1b66d6ce835bc4e0bd.jpg / 10916 : 5e48936c12e96bfd8bd26868a10395cd.jpg / 10916 : 5efe18510afe21513537c4464b0c49aa.jpg10916 : 5f07f32093a1d8a57c4d6bfe68b8fcd5.jpg / 10916 : 5f5cc9266d98e981c008e00aaa80fec7.jpg600d9496fed74c927294fe3b7144bc00.jpg / 10916 : 6381da4ca2d5500faeca402232f38bd4.jpg / 10916 : 64745d9bcd8398903afc7bc1962f9f75.jpg / 10916 : 650c343ceea4b1a47ebc5881d9665a5c.jpg / 10916 : 6640505543b1f7c9053fb667bb122b1c.jpg / 10916 : 66f1fc78750f817b7542f5aabce591bf.jpg10916 : 67396c5fb27a1c32bb0724f05d4f2bf7.jpg10916 : 67839bfb9dd82c0ad7da05378ad5acbc.jpg / 10916 : 682f77d6091f8869982458cb6dde9822.jpg / 10916 : 69497e1d1e16cfe47adfb953b326d42d.jpg / 10916 : 6c3af471b8697f176589be7f8d11f48b.jpg/ 10916 : 6d266f84da9585094ce625b503a9542f.jpg : 6f340c73593a7404db30332a508486a8.jpg/ 10916 : 6fc600c8ced2f651f0f2f39effd3f7ef.jpg / 10916 : 7472e17912f73be7c57baad3ebc0def4.jpg / 10916 : 761e718e9a1672900bca5e96bad789cf.jpg7b5c6d193f2ffce4f79fb78ad46d9e2d.jpg / 10916 : 7bb82a9605e3412fb831fea319aa2fb2.jpg10916 : 7cf73544eb285082432dd883ca9d77f1.jpg 10916 : 7d4cd411e12fce97bef62750ddaddba4.jpg / 10916 : 81d4565e79a94dc2b07040a8b107eae8.jpg / 10916 : 821324f6f6258c0419cbe0b7ff0e6f44.jpg / 10916 : 82d0f8f4b0c39f57313cf735abb969a1.jpg / 10916 : 833e4d6b79a637eba29051291c02e0e9.jpg / 10916 : 8556e2ad929990ce8d7bab1aef4d1125.jpg8573f79357774e0287a7d1d0c908018c.jpg / 10916 : 863a4c22398c762c2422031bb9818b8a.jpg / 10916 : 8887949744bff73c013a5afa659786cb.jpg : 88cf9df782e3bb738bfe62bb5d7e6883.jpg / 10916 : 88d41836d298449e91ff72c9428c9750.jpg / 10916 : 893be80fed8c306d7df5fa211ccc86b9.jpg / 10916 : 8a32707abf39635384555c83081d1d54.jpg / 10916 : 8b6747ba4bd584619801650070eadc9c.jpg/ 10916 : 8bf2297b1df418c5cbbba1cc58a71490.jpg8c1a799245419bd297c9048e80b33449.jpg / 10916 : 8d7d124d427d1869c472bcebd32bd0fd.jpg / 10916 : 8d920cc04afbe6b719696f125fdb5f2f.jpg / 10916 : 8fed4b531b12f99541f6f9a66d4a98be.jpg10916 : 9129413fac4cc9cf534d30b803ca5d51.jpg / 10916 : 92d24dda18ceb243edfc18133249fe32.jpg / 10916 : 931135ce9c00e2b94cc42ea5ea64b90a.jpg / 10916 : 9343405619545c15a23f8c2de2afe0ad.jpg / 10916 : 9344bcae9b5cebedbc372d2d2d54c358.jpg / 10916 : 94a4e72160ba775030172f695c5518c2.jpg / 10916 : 951dc63acd8498ad7c5d3baa0e03713c.jpg : 9861172ad89bd539035b5813f3284eb5.jpg : 9936a7ee8313c0cb07242c7d7248137a.jpg : 99a137806813147afbbb9f363c43a720.jpg10916 : 99ed965f005c931e35791a1a0ce1915e.jpg / 10916 : 99f9d89123e51724e7a84d1de9963ce2.jpg : 9ded1256429e8f379683b53c7ccddc0c.jpg / 10916 : 9e66e1e7ce882d38bea79b517dd05df7.jpg/ 10916 : 9ece2cc640671810db7a9c0e3e76f623.jpg10916 : a22ec42f0b6434d9a4383dc86dafd752.jpg/ 10916 : a2d2fb97a5dc5293a5f67fe5e68f079c.jpg / 10916 : a31543147f2a9490733f75e25a4dacf9.jpg: a3c82325c0f9ccaa05c5b035feda47c5.jpg 10916 : a3f7f8e01cb967570caff603107207c8.jpg / 10916 : a5ccf1c4c07092e8e52c1d7fd6e10ef6.jpg / 10916 : a624bcd55d132cb46ca3a27469c0b0c2.jpg : a816f08ac100e6bcfd118da731e836cc.jpg / 10916 : a8d510dbfbd1faf90678b3a528a243cd.jpg / 10916 : a8ecc034b27d14f958a6e03ce23aa800.jpg/ 10916 : aa4f58fd0a37e7147c738096d879576d.jpg/ 10916 : ad9c7ccd7dab0a66da00239979546383.jpg / 10916 : aef75ae9bddd6afcdae65eed0c91052b.jpg/ 10916 : af8997e077bab002bfe473947eae7f33.jpg / 10916 : b21e38e69845b7fab4575b9028a456ec.jpg/ 10916 : b5c067cd72a339b1044c5d80a15c4a8f.jpg / 10916 : b5ff68c67bd36b92058af74d89daa41e.jpg b66a2fc329264e7330474ef427252ef9.jpg b7223b6e2e4fd11be8b3074ffd98288a.jpg / 10916 : b792f43708522ea729949c903756fc47.jpg / 10916 : b82e89b61473b773c26aaf120ce31578.jpg / 10916 : b9b304d7906424700d30ced68be22bf2.jpg / 10916 : ba1dc9ea7bd92016a8d339456db6f4a5.jpg : ba9fd46f5f43650f461af8daee846bd5.jpg bfdbdb6bec0f79c82a92572b3aff2aa3.jpg : c05e7856f72ea62467f955036a26a0a1.jpg / 10916 : c1af19fc9e3c33377210053fc7d69854.jpg / 10916 : c649702b29bc8db371478a7bb9077cbe.jpg 10916 : c6f798664af2f8d5d15533a45eda7833.jpg / 10916 : c89c64c62d4d291c58c5497406d72166.jpg / 10916 : c983d592a2cfb01ae2b6351af9486c18.jpg / 10916 : c9a28a193c589dde2c6a07750a23805e.jpg / 10916 : c9cc3518c0bd5dc165495897d6ac354f.jpg ccc40fd7dfc90af1b33fbbb97d55c04f.jpg / 10916 : ce318b324f3225fcee7806acb01a46df.jpg / 10916 : d08f7b7306c688ad345cfab26f04f24a.jpg10916 : d29319341a8df004db87094c6857a600.jpg : d32ef172f63053844ccb00cadfb1efc9.jpg: d361990ce291bd925d2b18a5db431c56.jpg/ 10916 : d4e4b0adc7305f895e390013c064c6c5.jpg / 10916 : d8657e0e5eb25dc7ba4213c6d243f5bd.jpg/ 10916 : d9d4543a66f7fe6037e9082d6394cd4c.jpg / 10916 : da0a6a3f1a48aaae9a681116a233756f.jpg / 10916 : da8822f57078a2ec7c162e99e16522d6.jpg / 10916 : da8c18770a36c6a9d751964ee66b3acb.jpg: db6e2f8678ff55c9426a909060795955.jpg / 10916 : dd9a1c90b976970792be33cdca3b3f25.jpg : df3b94c812b3a79443622a7f8c128728.jpg / 10916 : dfeb402cae5127dd73011bfbf564f03f.jpg / 10916 : e184c123b7861b0247f80163f8d5e708.jpg / 10916 : e18bb82aedb81d671486f34715b5cd2f.jpg / 10916 : e2542f503e084981262df5ec56cfa7da.jpg10916 : e3345493222ba578b67b7d8088f93b55.jpg/ 10916 : e39b7ae4c65c944789a35e71b53b67ad.jpg/ 10916 : e5194ec44a77f30a240e5f1d8ff7e739.jpg / 10916 : e721ed3aa357da1f94d36d1438d15953.jpg\r"
     ]
    },
    {
     "name": "stdout",
     "output_type": "stream",
     "text": [
      "10915 / 10916 : fff83eb60e6ab68b787d573c3d0a104f.jpg/ 10916 : e7573ed2e7f344263497f24301375985.jpg: ed5dea9a10912a44b7b8638aca0717f9.jpg ed8dac9f8bf83b95e9396a1b9312b26b.jpg / 10916 : efe1bb79220137a2e30476559608993a.jpg / 10916 : f006a570e8cd2bcb11f8624509fd8d03.jpg / 10916 : f07b7ef2e85c91029a720b2aaad6ce29.jpg / 10916 : f0b87dca949ad2df6e3e5e85570a7143.jpg / 10916 : f0edff2753163e4e04d2d763c5401936.jpg / 10916 : f30574ed1d93632f4363a35b6a49c4ec.jpg / 10916 : f4d2f0576354d7df3e8a4a7830624e7d.jpg / 10916 : f6eee4623a888f60a56314877fe9dd25.jpg 10916 : f75a73a81ecf9e977a2b586bb648c4e1.jpg / 10916 : f8d8b26e4de045150051a11d8e94866d.jpg: f94bac096977915fd2062136997eb573.jpg/ 10916 : fa47ace57c9cfbac1efd649a0d0157bf.jpg / 10916 : fc5bbb536d9da7aaf316ddc0169d13b8.jpg / 10916 : fd3b0de9329d94da257a74fd562cf83c.jpg / 10916 : fda3f9cb8b1ed91f2f37386e691d0a68.jpg / 10916 : feac78f300b0cccc1a2b8ad5b7e01b26.jpg\r"
     ]
    },
    {
     "name": "stderr",
     "output_type": "stream",
     "text": [
      "D:\\Users\\gutom\\Anaconda3\\envs\\tf36\\lib\\site-packages\\ipykernel_launcher.py:172: IntegrationWarning: The maximum number of subdivisions (50) has been achieved.\n",
      "  If increasing the limit yields no improvement it is advised to analyze \n",
      "  the integrand in order to determine the difficulties.  If the position of a \n",
      "  local difficulty can be determined (singularity, discontinuity) one will \n",
      "  probably gain from splitting up the interval and calling the integrator \n",
      "  on the subranges.  Perhaps a special-purpose integrator should be used.\n"
     ]
    }
   ],
   "source": [
    "res_5 = evaluate_fd(gt_path, sol_path, 0.5)"
   ]
  },
  {
   "cell_type": "code",
   "execution_count": 81,
   "metadata": {},
   "outputs": [
    {
     "data": {
      "text/plain": [
       "(array([1.        , 1.        , 1.        , ..., 0.68895176, 0.68892611,\n",
       "        0.68890047]),\n",
       " array([3.72217673e-05, 7.44435346e-05, 1.11665302e-04, ...,\n",
       "        6.88900469e-01, 6.88900469e-01, 6.88900469e-01]),\n",
       " 0.5553575171975492)"
      ]
     },
     "execution_count": 81,
     "metadata": {},
     "output_type": "execute_result"
    }
   ],
   "source": [
    "res_5"
   ]
  },
  {
   "cell_type": "code",
   "execution_count": 84,
   "metadata": {},
   "outputs": [],
   "source": [
    "ps = res_5[0]\n",
    "rs = res_5[1]"
   ]
  },
  {
   "cell_type": "code",
   "execution_count": 87,
   "metadata": {},
   "outputs": [
    {
     "data": {
      "text/plain": [
       "(26866,)"
      ]
     },
     "execution_count": 87,
     "metadata": {},
     "output_type": "execute_result"
    }
   ],
   "source": [
    "rs.shape"
   ]
  },
  {
   "cell_type": "code",
   "execution_count": 85,
   "metadata": {
    "scrolled": true
   },
   "outputs": [
    {
     "data": {
      "image/png": "[encoded data removed]",
      "text/plain": [
       "<Figure size 1440x720 with 1 Axes>"
      ]
     },
     "metadata": {
      "needs_background": "light"
     },
     "output_type": "display_data"
    }
   ],
   "source": [
    "figure(figsize=(20,10))\n",
    "plot(rs, ps)\n",
    "grid()"
   ]
  },
  {
   "cell_type": "code",
   "execution_count": 49,
   "metadata": {},
   "outputs": [
    {
     "name": "stdout",
     "output_type": "stream",
     "text": [
      "0\r",
      "1\r",
      "2\r",
      "3\r",
      "4\r",
      "5\r",
      "6\r",
      "7\r",
      "8\r",
      "9\r"
     ]
    }
   ],
   "source": [
    "for i in range(10): print(i, end='\\r')"
   ]
  },
  {
   "cell_type": "code",
   "execution_count": 55,
   "metadata": {},
   "outputs": [
    {
     "data": {
      "text/plain": [
       "0.6889004689942678"
      ]
     },
     "execution_count": 55,
     "metadata": {},
     "output_type": "execute_result"
    }
   ],
   "source": [
    "rs.max()"
   ]
  },
  {
   "cell_type": "code",
   "execution_count": 56,
   "metadata": {},
   "outputs": [
    {
     "data": {
      "text/plain": [
       "3.722176728951091e-05"
      ]
     },
     "execution_count": 56,
     "metadata": {},
     "output_type": "execute_result"
    }
   ],
   "source": [
    "rs.min()"
   ]
  },
  {
   "cell_type": "code",
   "execution_count": 57,
   "metadata": {},
   "outputs": [],
   "source": [
    "from scipy.interpolate import interp1d\n",
    "from scipy.integrate import quad"
   ]
  },
  {
   "cell_type": "code",
   "execution_count": 59,
   "metadata": {},
   "outputs": [],
   "source": [
    "func = interp1d(rs, ps)"
   ]
  },
  {
   "cell_type": "code",
   "execution_count": 65,
   "metadata": {},
   "outputs": [
    {
     "name": "stderr",
     "output_type": "stream",
     "text": [
      "D:\\Users\\gutom\\Anaconda3\\envs\\tf36\\lib\\site-packages\\ipykernel_launcher.py:1: IntegrationWarning: The maximum number of subdivisions (50) has been achieved.\n",
      "  If increasing the limit yields no improvement it is advised to analyze \n",
      "  the integrand in order to determine the difficulties.  If the position of a \n",
      "  local difficulty can be determined (singularity, discontinuity) one will \n",
      "  probably gain from splitting up the interval and calling the integrator \n",
      "  on the subranges.  Perhaps a special-purpose integrator should be used.\n",
      "  \"\"\"Entry point for launching an IPython kernel.\n"
     ]
    }
   ],
   "source": [
    "mAP = quad(lambda x: func(x), rs[0], rs[-1])"
   ]
  },
  {
   "cell_type": "code",
   "execution_count": 66,
   "metadata": {},
   "outputs": [
    {
     "data": {
      "text/plain": [
       "(0.5553826637303485, 5.407731600481913e-05)"
      ]
     },
     "execution_count": 66,
     "metadata": {},
     "output_type": "execute_result"
    }
   ],
   "source": [
    "mAP"
   ]
  },
  {
   "cell_type": "code",
   "execution_count": 67,
   "metadata": {},
   "outputs": [
    {
     "name": "stdout",
     "output_type": "stream",
     "text": [
      "0 / 10916 : 00056475158675a7f26160c17b6643bb.jpg\r"
     ]
    },
    {
     "name": "stderr",
     "output_type": "stream",
     "text": [
      "D:\\Users\\gutom\\Anaconda3\\envs\\tf36\\lib\\site-packages\\pandas\\core\\indexing.py:543: SettingWithCopyWarning: \n",
      "A value is trying to be set on a copy of a slice from a DataFrame.\n",
      "Try using .loc[row_indexer,col_indexer] = value instead\n",
      "\n",
      "See the caveats in the documentation: http://pandas.pydata.org/pandas-docs/stable/indexing.html#indexing-view-versus-copy\n",
      "  self.obj[item] = s\n"
     ]
    },
    {
     "name": "stdout",
     "output_type": "stream",
     "text": [
      "8890 / 10916 : d1ba03104c4ee50aea9a02de8a6ac86d.jpg 10916 : 00705f8a0e1331de1cadbd6326392953.jpg / 10916 : 009c8ad5fe84916fe989fa48752f2bf2.jpg / 10916 : 00ccc05926722cb8cb88219b8b7142c8.jpg : 02a74348671f163991a5436d85cb6306.jpg: 0452de6a75c8ed6f99eff8c7e8c31ebb.jpg : 054639f9a4787a79531b8eecc80d72f0.jpg : 0691224312b9b862b24ee7264b0b1c52.jpg 0830cf4f24a54bd61faf3a109172b58b.jpg / 10916 : 08d23bb651a5b80a0e7fb3e177d5bd89.jpg / 10916 : 09821af6999f75fdafccb9e775d757bd.jpg / 10916 : 0992d4fc2d7197f41f7250156995ac81.jpg / 10916 : 0a537679b8a0439dc2c55a7c8189cd24.jpg / 10916 : 0a804ce735f05244292d156979f39b5c.jpg / 10916 : 0abf809edddda0d93bd89ad4d9208755.jpg / 10916 : 0b0ad6c073491f0a6904987ee8e700ae.jpg / 10916 : 0c92e4bfd571ab2a69e0d6eaad8cdecb.jpg10916 : 0ce4af7c4bf3f6519970309d153837e2.jpg / 10916 : 11070caecdf750119269014216f4594e.jpg10916 : 117b427dea33af43ebeafcb30a92f263.jpg / 10916 : 1243e3f6682208b4024cfc06c55e8105.jpg / 10916 : 12d784fba056243b5d158126d8ffaf3d.jpg / 10916 : 1302a86e3c7a5c508295f9d93f4927bb.jpg / 10916 : 131aab6ae0ced505731341ff15b5fb3c.jpg10916 : 13b681abe3a7e7763f167ed7ab2f673e.jpg / 10916 : 13e872603d053894d9f0b64383f1a38d.jpg / 10916 : 17dec60bc653e030a3acebb02f5ff563.jpg / 10916 : 18cc6dd6af3d9a1e501b4d5350b6db6b.jpg / 10916 : 1b5bcfce430e3a3f5bb5954760d33aaa.jpg / 10916 : 1f092acaea0b49704e659e0c216160ca.jpg10916 : 1f94d90be02a8f1b4d92fdcdb013523b.jpg 1fe38e8c3809ca91e66ba3843f835a09.jpg 10916 : 203ed17165104944e52bf3edeff9548f.jpg / 10916 : 277cd5b22004b07cb0b155949587ca8e.jpg / 10916 : 2856a4536b64dfc99a84e5f7ff29e11b.jpg / 10916 : 2c2b08a38062e28e2da69fdf2344dc7b.jpg/ 10916 : 2cb294eb6cf7621be94ddbf652e1ed82.jpg / 10916 : 2ea2d0ee42c0fc79f23ec43591511b80.jpg: 33ac98a55286b5ed66fac3033108b197.jpg 33c1a2461422e16e71b4b85f662fcec8.jpg 342661628b1c66b00c2974fdcb3345ae.jpg / 10916 : 34a0fccb50a635a6cfd1e74569c446fb.jpg: 3701cad759185320865586b8a467a1df.jpg : 374be9ffd607c88a6781834011eda1c4.jpg / 10916 : 397f8831f68b16a7a245184817ff21db.jpg: 3d9db3136141fafd5b9d6b09ba350d1d.jpg / 10916 : 3e61294bb8e7d1f2640329c687320350.jpg 10916 : 3ff0071149cae86e115c8b80d445ed46.jpg10916 : 4156e63e8fe3dc252fb2e18f374dc245.jpg / 10916 : 451d4b0cce37a40731b81fe1224bfdaf.jpg / 10916 : 45819911a000bf731cb10396be978b1c.jpg / 10916 : 45e74b607eebc858b324a3903dff585b.jpg / 10916 : 46a3a5fdba3cd424b504dfefa602dc3b.jpg/ 10916 : 47d75c896079e1e700b48396f3859a49.jpg / 10916 : 47f685f69a4e95cefab98a5968ddb3d7.jpg / 10916 : 489038959052543571a46ab52fe0ca1f.jpg / 10916 : 497d20c1d790273fef4d4dce3deeffff.jpg / 10916 : 4bc92139e3a99d390cb3e332905e05b2.jpg4cbd9717093a25e6ee46a960e9d32b53.jpg / 10916 : 4ea049fc3fa5ad85b9d9b91fdfd5fef3.jpg : 4f7da8925d91c3d3d4cd2855c72721c6.jpg10916 : 4fcf60eb985e7a1811fef6d45284cfa9.jpg: 50a16d918bc13686d7f0ba106ec69ca6.jpg / 10916 : 50adbb287570bd9363efc540f5caaa96.jpg / 10916 : 53268221d22049daa6ae16ec517a7b93.jpg/ 10916 : 53479603051159a43793f6eefb8425dd.jpg / 10916 : 5384c4829d586dc14215e1b73394197a.jpg 58600931c71f6d21c26630ec4c73fd62.jpg/ 10916 : 5861f1a557705d7793334cbdb2918f6d.jpg 58948f68da4d877e2ac0680ef497023c.jpg / 10916 : 58c5edf755dc5c5ecb65ad724f58d653.jpg / 10916 : 592b4afee4c7a694297c68ab48b017e1.jpg5985e520d7b801794e7f932259d0cdd0.jpg / 10916 : 59b18edc261955d0bb2a59814313f606.jpg/ 10916 : 59e182965adeefa4007fb9ce63ec24c7.jpg 5a505443df556b80ebf62d859dc0ec84.jpg10916 : 5c5c9e5b93042ef6d7fcfe466fdff439.jpg : 5cf16866fa49634731cd31cc8635ef3b.jpg : 5d9d04a533a9bf35b00d90f9feb08000.jpg/ 10916 : 5deb35c5c1fcdfde0e6b574a13725874.jpg / 10916 : 5ef9feb2ecbf7acc1ea50c9f139e0acd.jpg/ 10916 : 621874034d75ae4e28e3830a27fbcf20.jpg 62fa839deaa2f76133312131c230b1a4.jpg10916 : 64d13244d54ed5be92743f7113485019.jpg / 10916 : 65a807c021998359d319aa16434b8576.jpg / 10916 : 65eda9deae75b047aa4ed1c411b9975d.jpg/ 10916 : 65fd1c33478f652889ecd5e6a92cd6ea.jpg / 10916 : 661c93ec73fcd273eaf46ed77930d003.jpg 674b2fb3601a622c31c8bc4f12123eaa.jpg : 6836fdf78fa822327fdebdba8632ca82.jpg/ 10916 : 692f7e0e39bafdf62253d20901b3841e.jpg : 6a404711bd2c4d132331c6958c1d5e27.jpg10916 : 6abde73be43aad147d7ce7884075184a.jpg : 6fb355aaa9e5bbebfbeac7fa3f8754fb.jpg6fd07a34d0f8a6e0ecd4d13c9cb6e5ad.jpg / 10916 : 72c0e68108b95cfd3b326273fa773ca4.jpg10916 : 738fdfa1cf1456728497d58c47ab3fba.jpg / 10916 : 761e718e9a1672900bca5e96bad789cf.jpg / 10916 : 77423ae5ad0866c0f62583cc087a5e7b.jpg / 10916 : 796892e517ce74a6627ba9d40a76923a.jpg / 10916 : 7a22ae78970d3397e498e5ab3dca0362.jpg / 10916 : 7a2f1fa6c799040609c038c180cbd500.jpg: 7a341b017a954e3c0775052b439b83e7.jpg / 10916 : 7b66636055c45d866d782be16635b0a4.jpg / 10916 : 7b8f6f1f9a8f4211b3ab215ebd85b5b2.jpg / 10916 : 7c7385b9d1710ae7cdcacd56f71182b7.jpg : 7cb9d898febb4370bc07fe21bcc98781.jpg / 10916 : 7cd0947478a3c8c1652752f93f4fa5bc.jpg/ 10916 : 7e86db8f0675ffb4ec996fa17e578d08.jpg8234273039201b71988cd83770d828c6.jpg: 8a1bba32d14863f228110d4aab67290b.jpg / 10916 : 8b06f6105c489998b18a0309c760c22b.jpg : 8cd2c2d41b90765047f8eb6129b63ae2.jpg/ 10916 : 8e1aa3cb8c39959329ca185c68a6ec04.jpg: 8fc9e789f344a18a80cdcdc294d2094b.jpg : 91216249a826aa158c45efd056260ce5.jpg / 10916 : 920215332a33adb0aab873e1021105f5.jpg / 10916 : 932c4f717b49eba96f645ea8a892c4ed.jpg / 10916 : 93c672f3497006a2ed2655c23b88be53.jpg / 10916 : 93cca5b348804329b6db13daf884c787.jpg / 10916 : 94d004bc5e4a84b6aa9621d928bbc762.jpg / 10916 : 98aca7b8a614506cae74ba326cb8b4dc.jpg / 10916 : 9b124ee4c81e9707035c8c22aa7e023d.jpg / 10916 : 9b9d6ca41a0b2c5b3b71286186b930fe.jpg / 10916 : 9f46e9be584ccfb9a8fdd872eb3bea4d.jpg / 10916 : a2cdd2a5e61725c09e3548a23ad10991.jpg / 10916 : a379e27840d052f1ab0c03279b6bb0a6.jpg 10916 : a3a265634817d423243eb8e4622f05cf.jpg / 10916 : a3deaabc9988ccc73b40ac4a8adc006f.jpg / 10916 : a4cb66031bbd92215f24a2e494320763.jpg / 10916 : a50f906164d3bcf7a68d48f291ae0053.jpg / 10916 : a6636e050a4cc7bf46c789b03f4adbbd.jpg / 10916 : a69a33efb4767bd444fedeba1c4f77e5.jpg / 10916 : a9052e42630a4320c3000e61697d8f13.jpg / 10916 : aaa30ea6ce2ae829bf292f44b750b812.jpg / 10916 : aca8e0d0c8ee1afdbe6e81cc488bc44c.jpg : ad47df81db56d362c99ff0f298c21cd0.jpg / 10916 : ad951ac5f1fe2aafd2ee621c9bd8d997.jpg 10916 : adad6c928fe3a9e31bfa7a6593f56899.jpg / 10916 : aebec6604a601b7f4d9ac045ecabee6d.jpg / 10916 : b00b507c388f2b0d17ff39a261450fc0.jpg / 10916 : b0848ca41bbe849023c77eeef0717599.jpg / 10916 : b0bdf4fbd1fcccc3e2c469869e56485c.jpg / 10916 : b34ec7cdf54eb7626fab38077b839edc.jpg / 10916 : b39719c2686f629da0f2ac5cec0f2753.jpg: b433591d55eb9d416941dda2bbbc41d4.jpg / 10916 : b4d932f1af3c834abd86a21bff6e1f9a.jpg / 10916 : b4ff317cc21d3430394a3b4faea65104.jpg / 10916 : b58cbe9fd62cd5b0bef16cb7236a1c1a.jpg / 10916 : b7a8d7a28f2a5cdf69bcb0031b341812.jpg / 10916 : ba93cb6d19008fb9d9a8880de5b34041.jpg / 10916 : bb35c1484e092c2ed81a5e0aa5cad696.jpg / 10916 : bbc781c11b990b2522bbd139105c22e7.jpg / 10916 : bcf1d0aa9fd8770f0b0ec8bc5200dcc6.jpg / 10916 : bd359ecc937946be98f1eab323c3be34.jpg / 10916 : be309848e50aeea40089041955727610.jpg / 10916 : be53fd60bc25e50a37fb713fb4d4269a.jpg / 10916 : be6902a62b937f7784b564a69aa1cd4d.jpg / 10916 : beae50324ef275e06895fa1cbae00534.jpg / 10916 : bf8b1791828484fdbb5958374b77fb29.jpg / 10916 : c0306d2b4ec69c131fd1c3a860a130c6.jpg / 10916 : c04f15d439ceca23d1341130d0b4b186.jpg/ 10916 : c0fca8681159118fe0310c77d681c98e.jpg / 10916 : c290ac1d6032ddc163cace03ed7e1a7b.jpg / 10916 : c34c68eceba7974e4667d73a37513336.jpg / 10916 : c37f594bf7c90f94ea0e098d2a2025eb.jpg / 10916 : c5c4b106fe3d9dfc11e10d8dd3606b22.jpgc63ea3fbbf39692f9525e7e32c92798c.jpg/ 10916 : c82fd27ac2da9d136a17b3ee2e06ada9.jpg : c90ac97f20e68b9c565c3e7058e9f28c.jpg / 10916 : c92cc11e9cfbddc5225ccf9800c8dab8.jpg / 10916 : ca9ac0219223d7a8e643bb26448a0f5c.jpg / 10916 : cb2c7c19678da587e7fe274093972f0f.jpg / 10916 : cbd8560bc54e2e72e51b3cb5b9ebc32d.jpg / 10916 : cbf28725e0279fd81321d35159e23212.jpg10916 : ce5d475eed5ceabbeebedffb9758a410.jpg : cee3c036718137ad7ac1a45e65940132.jpg / 10916 : d0005f4d0b36aedef5a3161d7c69c78d.jpg / 10916 : d0a40f247017b6469eb3007ac772e42d.jpg / 10916 : d1558e5c0ae60a0d38e6e7f04cacb294.jpg / 10916 : d15e01fc03e6a5da70663b520e170090.jpg / 10916 : d1828090177d23e93a828194ce4a3347.jpg / 10916 : d1b759bab8f0989bbbc96eab96a08c72.jpg\r"
     ]
    },
    {
     "name": "stdout",
     "output_type": "stream",
     "text": [
      "10915 / 10916 : fff83eb60e6ab68b787d573c3d0a104f.jpg/ 10916 : d1fbc4fee7c59b1b8ff9136a17c4447c.jpg / 10916 : d2ce0f72d8001fe04eced2b1c9ce2fa8.jpg / 10916 : d3765bcd9e2dd119742f3bf3b292ddac.jpg / 10916 : d39baf7305ba948bfb5b555340d1cc28.jpg / 10916 : d3cbc9f918ec2c7fd1abc910bcf327c2.jpg / 10916 : d41a45ffc7e3f954e72a68e3c295fb3f.jpg / 10916 : d42ad25f53867b1003d13080add6b8ce.jpg / 10916 : d4baf4217e24bb7a8d3a971f7ac60117.jpg / 10916 : d62d712ac72dadacd308a7a0e7e5d7d2.jpg / 10916 : d9eeac46687201424975e78868fe56dc.jpg / 10916 : db45e6df055bcea50898c178a7e8b428.jpg / 10916 : dbe3b9272a9822749569e0ce8f9344fc.jpg / 10916 : dbf221011733653ded7a2ae275e2dfc6.jpg/ 10916 : dca4084c4e145fab7610b79f901f3b5d.jpg 10916 : dd2c3dbfeb873847e671ee52ee576378.jpg / 10916 : dd9ff9f4bb670fba5f78bdbe39640779.jpg / 10916 : de73cda2950ad23ffb1a78e875b25924.jpg / 10916 : dfa8674f64d5debb3c098943d363d657.jpg / 10916 : e0a0b8237f6b59b3cea6c508386d2127.jpg / 10916 : e0bdfa8cc799aa36069124729b46fd3a.jpg / 10916 : e0cb4e4c2c010586e6b20d3404b64728.jpg / 10916 : e3bd97af24a9ad69f068cfc4c6710987.jpg / 10916 : e4cb13bbf5002cc11672eaee44e2af29.jpg / 10916 : e529ad8a816aa86c77256baa16c6515e.jpg: e58092139a852dccfc1c6e5ad71860d0.jpg / 10916 : e6a3097500977865db9c7a58196b2c44.jpg : e85196ddede52ebe73a05bd750bdd03f.jpg / 10916 : e8eb5fa9cc2bbe93f019d1979ad64e5c.jpg / 10916 : ec461e0e11b65a8ca47441d52ac5bee8.jpg : ed2255420110087b9dbb431c0372352a.jpg / 10916 : ee66b7249a5febfa4cdabc034e562268.jpg / 10916 : efc07fccc4b75bf4dd4c030bb485ee18.jpg/ 10916 : efd0d4c0f9812d60833133f0c22b0f21.jpg / 10916 : f218256d868d6f7cf911c5a8340e7b41.jpg / 10916 : f3aba68c100116a0c3c1642dfb2d0673.jpg / 10916 : f53f9091331efb038b29792162be90d1.jpg/ 10916 : f73222782761280018d67d714aa24e63.jpg / 10916 : f79ee83fc055d14ba874bc1bbda9f132.jpg10916 : f7e5e8fe39adcceedd1ff86b37d6808d.jpg / 10916 : f8d8b26e4de045150051a11d8e94866d.jpg/ 10916 : f9489624a4fb33a5556447458492d131.jpg / 10916 : fa7ed5384beea64633866e469426de91.jpg / 10916 : fd1f0ad3f9e15dbbd89cd8930bbc5596.jpg / 10916 : fd708724aac549b46295506ccc11c70d.jpg / 10916 : fda3f9cb8b1ed91f2f37386e691d0a68.jpg\r"
     ]
    }
   ],
   "source": [
    "ps_9, rs_9 = evaluate_fd(gt_path, sol_path, 0.9)"
   ]
  },
  {
   "cell_type": "code",
   "execution_count": 68,
   "metadata": {},
   "outputs": [
    {
     "name": "stderr",
     "output_type": "stream",
     "text": [
      "D:\\Users\\gutom\\Anaconda3\\envs\\tf36\\lib\\site-packages\\ipykernel_launcher.py:2: IntegrationWarning: The maximum number of subdivisions (50) has been achieved.\n",
      "  If increasing the limit yields no improvement it is advised to analyze \n",
      "  the integrand in order to determine the difficulties.  If the position of a \n",
      "  local difficulty can be determined (singularity, discontinuity) one will \n",
      "  probably gain from splitting up the interval and calling the integrator \n",
      "  on the subranges.  Perhaps a special-purpose integrator should be used.\n",
      "  \n"
     ]
    },
    {
     "data": {
      "text/plain": [
       "(4.525356868807096e-05, 1.2643668468998018e-07)"
      ]
     },
     "execution_count": 68,
     "metadata": {},
     "output_type": "execute_result"
    }
   ],
   "source": [
    "func = interp1d(rs_9, ps_9)\n",
    "quad(lambda x: func(x), rs_9[0], rs_9[-1])"
   ]
  },
  {
   "cell_type": "code",
   "execution_count": 69,
   "metadata": {},
   "outputs": [
    {
     "data": {
      "image/png": "[encoded data removed]",
      "text/plain": [
       "<Figure size 1440x720 with 1 Axes>"
      ]
     },
     "metadata": {
      "needs_background": "light"
     },
     "output_type": "display_data"
    }
   ],
   "source": [
    "figure(figsize=(20,10))\n",
    "plot(rs_9, ps_9)\n",
    "grid()"
   ]
  },
  {
   "cell_type": "code",
   "execution_count": 70,
   "metadata": {},
   "outputs": [
    {
     "data": {
      "text/plain": [
       "0.004838829747636417"
      ]
     },
     "execution_count": 70,
     "metadata": {},
     "output_type": "execute_result"
    }
   ],
   "source": [
    "rs_9.max()"
   ]
  },
  {
   "cell_type": "code",
   "execution_count": 71,
   "metadata": {},
   "outputs": [
    {
     "name": "stdout",
     "output_type": "stream",
     "text": [
      "10915 / 10916 : fff83eb60e6ab68b787d573c3d0a104f.jpg0916 : 002e2cbe8e3166addb2baf9b56dcef98.jpg/ 10916 : 022227161de6dfbe91c4dc7fd3733e90.jpg10916 : 025fbde418777954135958ce6e6ed336.jpg: 042272f1f38fd9a2f90a397837e1789f.jpg / 10916 : 08ccebceb4ec9db4d2024163e8c751e5.jpg / 10916 : 091d176cd2d8e1b9bcd8a6b3196506c1.jpg / 10916 : 0992f67c5892d6fcb6c0fb37ea1a2376.jpg / 10916 : 09cbc08038fc54aeb725e7388a0a07ee.jpg / 10916 : 0a6b3b9f64f755c3c3f70566e7fc1ce1.jpg / 10916 : 0b273dffc42186843bff0681cd30bf83.jpg : 0c706f0ef29b21d8cab7388d097dbc5f.jpg / 10916 : 0e227209d919233afce1173cf86cb425.jpg / 10916 : 103454a456b58525aa2907c3c7e02bd9.jpg10916 : 112161ff3b9ecdee6844422ecfaef937.jpg : 1214291cbd12a2ff3282ce4acec57415.jpg / 10916 : 1451fe7e10748afe565715f253a84dc7.jpg / 10916 : 1a4eacecb06e5e069103c9b9f4b58c6e.jpg / 10916 : 1bfa8ee3331ca3bcee16f62d4bcb33cf.jpg / 10916 : 1d19c4c50a112d56f4767688d41b752a.jpg : 1f8cfccc22036261f39ab325066cdc64.jpg10916 : 1f94d90be02a8f1b4d92fdcdb013523b.jpg / 10916 : 24cfb531f654a0300b4a3cbea4a05d24.jpg/ 10916 : 26f4007af48c4adf820d825130d12c5f.jpg : 2966ccf8606c00b328d3d63421f01dfc.jpg / 10916 : 2b00a4d81944ddca59dfa9f616956afb.jpg / 10916 : 2d2a19afcb362b8d198debf84e459c3c.jpg / 10916 : 2d410538bd3fc2b16cd508c609c1a31d.jpg 10916 : 2f78841e6b7dad5012f5c7b9664807e8.jpg10916 : 31b990dceb6a24ee3754982ee567bc0e.jpg / 10916 : 31e59be6aa6cf204e30c0ddd4ef8ab17.jpg : 341946a4db1da95657fb7dfb0cdeef17.jpg / 10916 : 374c63b96e683ad83541c0c344177c83.jpg / 10916 : 38828edd4259ed83b0a4313c36f5b865.jpg / 10916 : 3a13bc52a33ce8e9c6b08d2325258c12.jpg : 3a372c11fbc2126aaa2d1bd37801d410.jpg/ 10916 : 3fe6db0b5b2d8fb24b400c014c1b44c7.jpg : 42dbdd15747ceedabdd3130938f9e6ee.jpg : 44feff1c5f47e6a181654793e39134b9.jpg / 10916 : 4538937de59f28c8a707417108449ae6.jpg / 10916 : 46a357276503bff60b7ebba5ab7e449a.jpg / 10916 : 4885b363184f768537539a802b678083.jpg / 10916 : 4a59b6b9b50cf6fc87e45caa0fdb86df.jpg / 10916 : 4ce7b201a4bd88c81b3f4f25a574d976.jpg50adbb287570bd9363efc540f5caaa96.jpg / 10916 : 518aa5c5a83961155e5e168276a81b67.jpg / 10916 : 51f00c7f2f5070a3d436c6e242b11fc4.jpg 5225ac404da107b61af5fe39c64df569.jpg / 10916 : 54022d07bc6377bd836d55c2f3b9f2a7.jpg / 10916 : 54a230f9265f298dcea130e7429ca058.jpg / 10916 : 5523819b61ca7692aa1075007dfc6ef0.jpg: 5790f2275c88f4c2ca6c0ac0cfd4c4c2.jpg 10916 : 587fd69e75e31e89c66aeca1be499925.jpg : 58f185ad4dc33e94868c0f3777a67fa9.jpg : 5ab8cd0c97e7562c9aca64486db2008e.jpg : 5cb426ab75343784d95c9c02c3178a1c.jpg/ 10916 : 5d54d84dd351a18b9f5f29532887689b.jpg / 10916 : 6110f27c6e8ecbd966e210103b1d346a.jpg : 620b4f18c35c47291ba431cc1cd675c6.jpg 10916 : 639841c671f5503066b79c841e439127.jpg 10916 : 6a0d68aa31f6d37001e3ce9134f09255.jpg / 10916 : 6abafc68feeef87da49c7358d40d9480.jpg: 6ac3c6cb79edde19dcbe04013ee5cf1e.jpg / 10916 : 6b10e73ffd878133464000d5ca3b74cf.jpg10916 : 6c18b30be216490e734c2e3b34b520fe.jpg / 10916 : 6eca041c06fcfc7943c0fecfd57a43c2.jpg 10916 : 71d46697d00b1626d35369138d28eef8.jpg / 10916 : 72c3297ef543a7b9d03a3c40e6535a7a.jpg : 72e4e9a42eb5ff1740ca091d012a68cb.jpg10916 : 74bbb93c73556e1c0b912ed6a7af2120.jpg10916 : 7987b4bbc9deffff8ba9857cfc1cf215.jpg / 10916 : 7b988c661aed64449f28e144cf2ca7bd.jpg : 7da9ae0fb0e7a10f1cd5f37f2599d2b7.jpg 10916 : 7e5b73c5ac9261c4902b1651ede74bac.jpg / 10916 : 7ebfc70937763210675c257c1e5751de.jpg/ 10916 : 803450691b6bc735642563a84bfbad06.jpg / 10916 : 84b10f631319d1a4b27c3490a787fa92.jpg / 10916 : 84fc9ddcd3f9b12f917e1e57e2dd2b4d.jpg85a4ae19b6bc133bf7c25ca023ce5d24.jpg / 10916 : 86153693585206a875e0a4cc8739ace3.jpg : 87650cb752b5b15a318081458ed8df32.jpg / 10916 : 88cf9df782e3bb738bfe62bb5d7e6883.jpg / 10916 : 892fd97a9a22ba13d15857c6db5f5728.jpg 897bf7c268adedabc52da2caff83cefd.jpg / 10916 : 8b1a501bc9cf2777fcd39a56efb746d3.jpg / 10916 : 8b6747ba4bd584619801650070eadc9c.jpg / 10916 : 8ca0e31b5477950b908a1d06c646530f.jpg8d7d124d427d1869c472bcebd32bd0fd.jpg / 10916 : 8e1e3ebe86fe94e394ffa6f97ee73397.jpg / 10916 : 8ee294ef840cdd162989c4eaadac3dfe.jpg / 10916 : 8f5429f501705bfa4e5d17f030c3ac7e.jpg / 10916 : 90a266d3e4ca7ea4c9fe5a91c4995a81.jpg / 10916 : 9143e6afa6eb212c9143af0c91d796b4.jpg10916 : 922d8eb9d34c77de1c6d33b09883a98f.jpg/ 10916 : 930bf482051ba2a3fbe1a0f4e26f77df.jpg : 930e96fbc08d9158da82bc74cbc062e1.jpg / 10916 : 948ffc99022140fe71a1ab034e5beb0f.jpg / 10916 : 96bb9f5a602f9bc1ca374fdd69c1bc26.jpg: 96f13bb37189964691bf9a4e5c4e87be.jpg / 10916 : 973aa8393966e3715b90e48b4f187224.jpg10916 : 98a271063c4a837624444fe7f7b503a5.jpg : 995db5b07df605b5f89402da77232444.jpg / 10916 : 9a20eb5542f82ad5a16bf05a8652024a.jpg 9bd61d19418866788780dcd3cbffb86b.jpg : 9daab4a170d7f46039018d50056fefad.jpg / 10916 : 9f46e9be584ccfb9a8fdd872eb3bea4d.jpg / 10916 : a4292660fd619b7968b1384f3b6f19a4.jpg / 10916 : a5d497f08b61c356cdfdbe6364a29b71.jpg/ 10916 : a928c66919e604553b22e1ed36e2d280.jpg : ab4d5da4321979505b565d401def30dc.jpg / 10916 : adb1816c88a21c9b7b97d9cbc4b1af7c.jpgaf1056ab1e4318598d76dbb057055f7d.jpgb0848ca41bbe849023c77eeef0717599.jpg / 10916 : b20efc85332725df19b4ff4e4b85c8cb.jpg / 10916 : b3fdb911990f5dd5fe0e8c7f60437694.jpg / 10916 : b5a6562ca6f022a6972dd53a88001173.jpg / 10916 : ba93cb6d19008fb9d9a8880de5b34041.jpg / 10916 : bb4f743ebb5a09acf1dca3330121bed9.jpg / 10916 : bc88e55a200e3c73a7e9406390d1c1d3.jpg / 10916 : c0ea35b405347775d41309f163f408bd.jpg / 10916 : c3a250319d62d503443cda049f0c24ed.jpg / 10916 : c62f721972c9033f74d419cf9f35e2dd.jpg / 10916 : c9f21488f1d9d714bc3307e08445d3ae.jpg / 10916 : cb94162d0b87338e95587fe80a19e56f.jpg : cc756b377514776d768d1c040d8f351c.jpg / 10916 : cca7f4d245f4c716f1be7bd85f20be60.jpg / 10916 : cd05a7591230f0c8cb2b9f4e5341cd80.jpg/ 10916 : cf4e370617721c4c8302c040c4a19e35.jpg d43ee7515cd8c2df31eddb86593be2d1.jpg / 10916 : d4fd9e52fb36832183a92e031210ff18.jpg / 10916 : d57eeec14922edfa21552a287cf31829.jpg : d9f8cf175241a12ae0e39cab0d9f2868.jpg/ 10916 : dc21f28a33d3076f23b524d1dcc45a08.jpg: dcfc7a0de78ac9eb797eb29bf0bde353.jpg/ 10916 : dd304d84bd4f1324d83187ffafc280a9.jpg 10916 : e1e44f66b2a261571f3a86da7c527610.jpg / 10916 : e24ab134e920f67c65ac875e3d85c1a7.jpg / 10916 : e24cebd6baae91a3167a6b1e78c9f6a3.jpg / 10916 : e4612bfdf5cea56ab6c97bb03df64c92.jpg10916 : e4919940343ad575fe2a2e4fefc2ee44.jpg / 10916 : e584a63127813a1d29249196f5295888.jpg 10916 : e69362e8413d5bf2f966d747c2a825c1.jpg / 10916 : e728bb0bf466d1a9d57805249b6e3eb7.jpg / 10916 : e7ef3ceb76a497140650a50477fd31ad.jpg / 10916 : e80be9cf2be1a716bee655d0f2511da3.jpg/ 10916 : eb18eeb69d00888585a1c40bc8b6aca8.jpg / 10916 : f2541f9035f5752b9a60a7cd06c7fe42.jpg / 10916 : f3ca788708cb37a73042605fb9af99c5.jpg10916 : f42c693041b443b54028bf53acd65656.jpg / 10916 : f500da01598b7a13250dbfaa4675c778.jpg / 10916 : f59613016594ecea454b8aa4051ddfed.jpg : f5b7c03d652373051bc5963c194b40a0.jpgfb176477674fb1bf4ed05410dd11a88b.jpg / 10916 : fb60df447b86644c5612da030b77335c.jpg / 10916 : fda3f9cb8b1ed91f2f37386e691d0a68.jpg / 10916 : fec249585de83fd9164865c8abb3c392.jpg\r"
     ]
    }
   ],
   "source": [
    "ps_7, rs_7 = evaluate_fd(gt_path, sol_path, 0.7)"
   ]
  },
  {
   "cell_type": "code",
   "execution_count": 72,
   "metadata": {},
   "outputs": [
    {
     "data": {
      "image/png": "[encoded data removed]",
      "text/plain": [
       "<Figure size 1440x720 with 1 Axes>"
      ]
     },
     "metadata": {
      "needs_background": "light"
     },
     "output_type": "display_data"
    }
   ],
   "source": [
    "figure(figsize=(20,10))\n",
    "plot(rs_7, ps_7)\n",
    "grid()"
   ]
  },
  {
   "cell_type": "code",
   "execution_count": 73,
   "metadata": {},
   "outputs": [
    {
     "name": "stderr",
     "output_type": "stream",
     "text": [
      "D:\\Users\\gutom\\Anaconda3\\envs\\tf36\\lib\\site-packages\\ipykernel_launcher.py:2: IntegrationWarning: The maximum number of subdivisions (50) has been achieved.\n",
      "  If increasing the limit yields no improvement it is advised to analyze \n",
      "  the integrand in order to determine the difficulties.  If the position of a \n",
      "  local difficulty can be determined (singularity, discontinuity) one will \n",
      "  probably gain from splitting up the interval and calling the integrator \n",
      "  on the subranges.  Perhaps a special-purpose integrator should be used.\n",
      "  \n"
     ]
    },
    {
     "data": {
      "text/plain": [
       "(0.08274781890970458, 7.646777534869864e-06)"
      ]
     },
     "execution_count": 73,
     "metadata": {},
     "output_type": "execute_result"
    }
   ],
   "source": [
    "func = interp1d(rs_7, ps_7)\n",
    "quad(lambda x: func(x), rs_7[0], rs_7[-1])"
   ]
  },
  {
   "cell_type": "code",
   "execution_count": 26,
   "metadata": {},
   "outputs": [],
   "source": [
    "import h5py"
   ]
  },
  {
   "cell_type": "code",
   "execution_count": 53,
   "metadata": {},
   "outputs": [],
   "source": [
    "f = h5py.File('sample.h5','w')"
   ]
  },
  {
   "cell_type": "code",
   "execution_count": 54,
   "metadata": {},
   "outputs": [],
   "source": [
    "top = f.create_group('top')"
   ]
  },
  {
   "cell_type": "code",
   "execution_count": 55,
   "metadata": {},
   "outputs": [],
   "source": [
    "top['0'] = np.random.rand(10)\n",
    "top['1'] = np.random.rand(10)"
   ]
  },
  {
   "cell_type": "code",
   "execution_count": 56,
   "metadata": {},
   "outputs": [
    {
     "data": {
      "text/plain": [
       "(10,)"
      ]
     },
     "execution_count": 56,
     "metadata": {},
     "output_type": "execute_result"
    }
   ],
   "source": [
    "top['0'].shape"
   ]
  },
  {
   "cell_type": "code",
   "execution_count": 57,
   "metadata": {},
   "outputs": [],
   "source": [
    "top['0'].attrs['id'] = 100"
   ]
  },
  {
   "cell_type": "code",
   "execution_count": 58,
   "metadata": {},
   "outputs": [
    {
     "data": {
      "text/plain": [
       "100"
      ]
     },
     "execution_count": 58,
     "metadata": {},
     "output_type": "execute_result"
    }
   ],
   "source": [
    "top['0'].attrs['id']"
   ]
  },
  {
   "cell_type": "code",
   "execution_count": 59,
   "metadata": {},
   "outputs": [],
   "source": [
    "f.close()"
   ]
  },
  {
   "cell_type": "code",
   "execution_count": 60,
   "metadata": {},
   "outputs": [
    {
     "name": "stdout",
     "output_type": "stream",
     "text": [
      " D 드라이브의 볼륨: DATA\n",
      " 볼륨 일련 번호: 40C4-7DAF\n",
      "\n",
      " D:\\topcoder\\face_recog\\src\\space 디렉터리\n",
      "\n",
      "2019-05-29  오후 09:12    <DIR>          .\n",
      "2019-05-29  오후 09:12    <DIR>          ..\n",
      "2019-04-25  오후 05:13               158 .gitignore\n",
      "2019-05-27  오후 11:10                92 __init__.py\n",
      "2019-05-22  오전 02:45    <DIR>          __pycache__\n",
      "2019-04-21  오후 10:08           744,004 db.csv\n",
      "2019-05-22  오전 02:27           340,791 db_facial_id.pobj\n",
      "2019-04-29  오후 11:01           604,649 es.csv\n",
      "2019-05-29  오후 04:52             5,806 evaluate.py\n",
      "2019-05-29  오후 07:14            40,904 face_detection.py\n",
      "2019-05-22  오전 11:35       488,322,408 face_detector.h5\n",
      "2019-05-29  오후 07:29            47,025 face_identification.py\n",
      "2019-05-22  오전 02:26       620,573,520 face_identifier.h5\n",
      "2019-05-17  오후 01:03       620,573,520 face_reidentifier.hd5\n",
      "2019-05-29  오후 07:24             1,195 face_vijnana_yolov3.json\n",
      "2019-05-03  오전 07:31         8,701,531 img_triplet_pairs.pickle\n",
      "2019-05-29  오후 09:23             4,752 sample.h5\n",
      "2019-04-25  오후 12:28           402,670 solution.csv\n",
      "2019-05-02  오후 04:53    <DIR>          subject_faces\n",
      "2018-03-25  오후 01:49       248,007,048 yolov3.weights\n",
      "2019-04-24  오후 08:39       162,994,288 yolov3_base.hd5\n",
      "2019-05-21  오후 10:22            25,626 yolov3_detect.py\n",
      "              18개 파일       2,151,389,987 바이트\n",
      "               4개 디렉터리  338,396,741,632 바이트 남음\n"
     ]
    }
   ],
   "source": [
    "ls"
   ]
  },
  {
   "cell_type": "code",
   "execution_count": 61,
   "metadata": {},
   "outputs": [],
   "source": [
    "f = h5py.File('sample.h5','r')"
   ]
  },
  {
   "cell_type": "code",
   "execution_count": 62,
   "metadata": {},
   "outputs": [
    {
     "data": {
      "text/plain": [
       "KeysView(<HDF5 file \"sample.h5\" (mode r)>)"
      ]
     },
     "execution_count": 62,
     "metadata": {},
     "output_type": "execute_result"
    }
   ],
   "source": [
    "f.keys()"
   ]
  },
  {
   "cell_type": "code",
   "execution_count": 63,
   "metadata": {},
   "outputs": [
    {
     "data": {
      "text/plain": [
       "'/'"
      ]
     },
     "execution_count": 63,
     "metadata": {},
     "output_type": "execute_result"
    }
   ],
   "source": [
    "f.name"
   ]
  },
  {
   "cell_type": "code",
   "execution_count": 64,
   "metadata": {},
   "outputs": [
    {
     "name": "stdout",
     "output_type": "stream",
     "text": [
      "top\n"
     ]
    }
   ],
   "source": [
    "for name in f: print(name)"
   ]
  },
  {
   "cell_type": "code",
   "execution_count": 68,
   "metadata": {},
   "outputs": [
    {
     "data": {
      "text/plain": [
       "array([0.34670551, 0.57372988, 0.53244002, 0.37849571, 0.69450392,\n",
       "       0.19979125, 0.62840678, 0.59146162, 0.85161414, 0.22788428])"
      ]
     },
     "execution_count": 68,
     "metadata": {},
     "output_type": "execute_result"
    }
   ],
   "source": [
    "f['top']['0'].value"
   ]
  },
  {
   "cell_type": "code",
   "execution_count": 98,
   "metadata": {},
   "outputs": [],
   "source": [
    "sample = np.random.rand(10)\n",
    "sample = sample <= 0.5"
   ]
  },
  {
   "cell_type": "code",
   "execution_count": 99,
   "metadata": {},
   "outputs": [
    {
     "data": {
      "text/plain": [
       "array([ True, False,  True,  True,  True,  True, False, False,  True,\n",
       "        True])"
      ]
     },
     "execution_count": 99,
     "metadata": {},
     "output_type": "execute_result"
    }
   ],
   "source": [
    "sample"
   ]
  },
  {
   "cell_type": "code",
   "execution_count": 100,
   "metadata": {},
   "outputs": [],
   "source": [
    "sample2 = sample.astype(np.int64)"
   ]
  },
  {
   "cell_type": "code",
   "execution_count": 101,
   "metadata": {},
   "outputs": [
    {
     "data": {
      "text/plain": [
       "array([1, 0, 1, 1, 1, 1, 0, 0, 1, 1], dtype=int64)"
      ]
     },
     "execution_count": 101,
     "metadata": {},
     "output_type": "execute_result"
    }
   ],
   "source": [
    "sample2"
   ]
  },
  {
   "cell_type": "code",
   "execution_count": 102,
   "metadata": {},
   "outputs": [
    {
     "data": {
      "text/plain": [
       "7"
      ]
     },
     "execution_count": 102,
     "metadata": {},
     "output_type": "execute_result"
    }
   ],
   "source": [
    "sample2.sum()"
   ]
  },
  {
   "cell_type": "code",
   "execution_count": 2,
   "metadata": {},
   "outputs": [
    {
     "name": "stdout",
     "output_type": "stream",
     "text": [
      "D:\\topcoder\\face_recog\\src\\space\n"
     ]
    }
   ],
   "source": [
    "cd D:\\topcoder\\\\face_recog\\src\\space"
   ]
  },
  {
   "cell_type": "code",
   "execution_count": 3,
   "metadata": {},
   "outputs": [
    {
     "name": "stderr",
     "output_type": "stream",
     "text": [
      "Using TensorFlow backend.\n"
     ]
    }
   ],
   "source": [
    "import evaluate"
   ]
  },
  {
   "cell_type": "code",
   "execution_count": 6,
   "metadata": {},
   "outputs": [
    {
     "data": {
      "text/plain": [
       "<module 'evaluate' from 'D:\\\\topcoder\\\\face_recog\\\\src\\\\space\\\\evaluate.py'>"
      ]
     },
     "execution_count": 6,
     "metadata": {},
     "output_type": "execute_result"
    }
   ],
   "source": [
    "import importlib\n",
    "importlib.reload(evaluate)"
   ]
  },
  {
   "cell_type": "code",
   "execution_count": 9,
   "metadata": {},
   "outputs": [],
   "source": [
    "import pandas as pd\n",
    "sample = pd.DataFrame({'a': range(10), 'b': range(10)})"
   ]
  },
  {
   "cell_type": "code",
   "execution_count": 14,
   "metadata": {},
   "outputs": [
    {
     "data": {
      "text/plain": [
       "a    0\n",
       "b    0\n",
       "Name: 0, dtype: int64"
      ]
     },
     "execution_count": 14,
     "metadata": {},
     "output_type": "execute_result"
    }
   ],
   "source": [
    "sample.iloc[0, :]"
   ]
  },
  {
   "cell_type": "code",
   "execution_count": 16,
   "metadata": {},
   "outputs": [
    {
     "name": "stdout",
     "output_type": "stream",
     "text": [
      " D 드라이브의 볼륨: DATA\n",
      " 볼륨 일련 번호: 40C4-7DAF\n",
      "\n",
      " D:\\topcoder\\face_recog\\src\\space 디렉터리\n",
      "\n",
      "2019-05-31  오전 09:37    <DIR>          .\n",
      "2019-05-31  오전 09:37    <DIR>          ..\n",
      "2019-04-25  오후 05:13               158 .gitignore\n",
      "2019-05-27  오후 11:10                92 __init__.py\n",
      "2019-05-30  오후 03:38    <DIR>          __pycache__\n",
      "2019-05-22  오전 02:27           340,791 db_facial_id.pobj\n",
      "2019-04-29  오후 11:01           604,649 es.csv\n",
      "2019-05-31  오전 09:39            11,831 evaluate.py\n",
      "2019-05-30  오후 03:54            40,888 face_detection.py\n",
      "2019-05-30  오전 10:27       488,322,408 face_detector.h5\n",
      "2019-05-22  오전 11:35       488,322,408 face_detector.h5.v1\n",
      "2019-05-30  오전 03:48            47,141 face_identification.py\n",
      "2019-05-22  오전 02:26       620,573,520 face_identifier.h5\n",
      "2019-05-17  오후 01:03       620,573,520 face_reidentifier.hd5\n",
      "2019-05-30  오후 05:30             1,185 face_vijnana_yolov3.json\n",
      "2019-05-03  오전 07:31         8,701,531 img_triplet_pairs.pickle\n",
      "2019-05-31  오전 09:37           190,216 p_r_curve.h5\n",
      "2019-05-29  오후 09:23             4,752 sample.h5\n",
      "2019-04-25  오후 12:28           402,670 solution.csv\n",
      "2019-05-30  오후 07:08         1,396,675 solution_fd.csv\n",
      "2019-05-02  오후 04:53    <DIR>          subject_faces\n",
      "2019-05-30  오전 10:40         7,374,936 subject_facial_ids.h5\n",
      "2019-04-21  오후 10:08           744,004 subject_image_db.csv\n",
      "2018-03-25  오후 01:49       248,007,048 yolov3.weights\n",
      "2019-04-24  오후 08:39       162,994,288 yolov3_base.hd5\n",
      "2019-05-21  오후 10:22            25,626 yolov3_detect.py\n",
      "              22개 파일       2,648,680,337 바이트\n",
      "               4개 디렉터리  337,894,264,832 바이트 남음\n"
     ]
    }
   ],
   "source": [
    "ls"
   ]
  },
  {
   "cell_type": "code",
   "execution_count": 19,
   "metadata": {},
   "outputs": [],
   "source": [
    "import h5py\n",
    "f = h5py.File('p_r_curve.h5', 'r')"
   ]
  },
  {
   "cell_type": "code",
   "execution_count": 20,
   "metadata": {},
   "outputs": [],
   "source": [
    "ps = f['ps'].value"
   ]
  },
  {
   "cell_type": "code",
   "execution_count": 21,
   "metadata": {},
   "outputs": [],
   "source": [
    "rs = f['rs'].value"
   ]
  },
  {
   "cell_type": "code",
   "execution_count": 23,
   "metadata": {},
   "outputs": [
    {
     "data": {
      "text/plain": [
       "0.6856955426575898"
      ]
     },
     "execution_count": 23,
     "metadata": {},
     "output_type": "execute_result"
    }
   ],
   "source": [
    "f['mAP'].value"
   ]
  },
  {
   "cell_type": "code",
   "execution_count": 24,
   "metadata": {},
   "outputs": [
    {
     "name": "stdout",
     "output_type": "stream",
     "text": [
      "Populating the interactive namespace from numpy and matplotlib\n"
     ]
    },
    {
     "name": "stderr",
     "output_type": "stream",
     "text": [
      "D:\\Users\\gutom\\Anaconda3\\envs\\tf36\\lib\\site-packages\\IPython\\core\\magics\\pylab.py:160: UserWarning: pylab import has clobbered these variables: ['sample', 'f']\n",
      "`%matplotlib` prevents importing * from pylab and numpy\n",
      "  \"\\n`%matplotlib` prevents importing * from pylab and numpy\"\n"
     ]
    }
   ],
   "source": [
    "%pylab inline"
   ]
  },
  {
   "cell_type": "code",
   "execution_count": 26,
   "metadata": {},
   "outputs": [
    {
     "data": {
      "image/png": "[encoded data removed]",
      "text/plain": [
       "<Figure size 1440x720 with 1 Axes>"
      ]
     },
     "metadata": {
      "needs_background": "light"
     },
     "output_type": "display_data"
    }
   ],
   "source": [
    "figure(figsize=(20, 10))\n",
    "plot(rs, ps)\n",
    "grid()"
   ]
  },
  {
   "cell_type": "code",
   "execution_count": 50,
   "metadata": {},
   "outputs": [],
   "source": [
    "input1 = Input(shape=(10,10,3))\n",
    "x = Lambda(lambda x: K.sigmoid(x[..., 0:2]))(input1)\n",
    "#x1 = Lambda(lambda x: K.expand_dims(K.sigmoid(x[..., 0:3])))(input1)\n",
    "#x2 = Lambda(lambda x: K.expand_dims(K.log(x[..., 1])))(input1)\n",
    "#x3 = Lambda(lambda x: K.expand_dims(K.exp(x[..., 2])))(input1)\n",
    "#x = Concatenate()([x1, x2, x3])\n",
    "model = Model(input1, x)"
   ]
  },
  {
   "cell_type": "code",
   "execution_count": 51,
   "metadata": {},
   "outputs": [],
   "source": [
    "res = model.predict(np.ones(shape=(1,10,10,3)))"
   ]
  },
  {
   "cell_type": "code",
   "execution_count": 52,
   "metadata": {},
   "outputs": [
    {
     "data": {
      "text/plain": [
       "(1, 10, 10, 2)"
      ]
     },
     "execution_count": 52,
     "metadata": {},
     "output_type": "execute_result"
    }
   ],
   "source": [
    "res.shape"
   ]
  },
  {
   "cell_type": "code",
   "execution_count": 53,
   "metadata": {},
   "outputs": [
    {
     "data": {
      "text/plain": [
       "array([[[[0.7310586, 0.7310586],\n",
       "         [0.7310586, 0.7310586],\n",
       "         [0.7310586, 0.7310586],\n",
       "         [0.7310586, 0.7310586],\n",
       "         [0.7310586, 0.7310586],\n",
       "         [0.7310586, 0.7310586],\n",
       "         [0.7310586, 0.7310586],\n",
       "         [0.7310586, 0.7310586],\n",
       "         [0.7310586, 0.7310586],\n",
       "         [0.7310586, 0.7310586]],\n",
       "\n",
       "        [[0.7310586, 0.7310586],\n",
       "         [0.7310586, 0.7310586],\n",
       "         [0.7310586, 0.7310586],\n",
       "         [0.7310586, 0.7310586],\n",
       "         [0.7310586, 0.7310586],\n",
       "         [0.7310586, 0.7310586],\n",
       "         [0.7310586, 0.7310586],\n",
       "         [0.7310586, 0.7310586],\n",
       "         [0.7310586, 0.7310586],\n",
       "         [0.7310586, 0.7310586]],\n",
       "\n",
       "        [[0.7310586, 0.7310586],\n",
       "         [0.7310586, 0.7310586],\n",
       "         [0.7310586, 0.7310586],\n",
       "         [0.7310586, 0.7310586],\n",
       "         [0.7310586, 0.7310586],\n",
       "         [0.7310586, 0.7310586],\n",
       "         [0.7310586, 0.7310586],\n",
       "         [0.7310586, 0.7310586],\n",
       "         [0.7310586, 0.7310586],\n",
       "         [0.7310586, 0.7310586]],\n",
       "\n",
       "        [[0.7310586, 0.7310586],\n",
       "         [0.7310586, 0.7310586],\n",
       "         [0.7310586, 0.7310586],\n",
       "         [0.7310586, 0.7310586],\n",
       "         [0.7310586, 0.7310586],\n",
       "         [0.7310586, 0.7310586],\n",
       "         [0.7310586, 0.7310586],\n",
       "         [0.7310586, 0.7310586],\n",
       "         [0.7310586, 0.7310586],\n",
       "         [0.7310586, 0.7310586]],\n",
       "\n",
       "        [[0.7310586, 0.7310586],\n",
       "         [0.7310586, 0.7310586],\n",
       "         [0.7310586, 0.7310586],\n",
       "         [0.7310586, 0.7310586],\n",
       "         [0.7310586, 0.7310586],\n",
       "         [0.7310586, 0.7310586],\n",
       "         [0.7310586, 0.7310586],\n",
       "         [0.7310586, 0.7310586],\n",
       "         [0.7310586, 0.7310586],\n",
       "         [0.7310586, 0.7310586]],\n",
       "\n",
       "        [[0.7310586, 0.7310586],\n",
       "         [0.7310586, 0.7310586],\n",
       "         [0.7310586, 0.7310586],\n",
       "         [0.7310586, 0.7310586],\n",
       "         [0.7310586, 0.7310586],\n",
       "         [0.7310586, 0.7310586],\n",
       "         [0.7310586, 0.7310586],\n",
       "         [0.7310586, 0.7310586],\n",
       "         [0.7310586, 0.7310586],\n",
       "         [0.7310586, 0.7310586]],\n",
       "\n",
       "        [[0.7310586, 0.7310586],\n",
       "         [0.7310586, 0.7310586],\n",
       "         [0.7310586, 0.7310586],\n",
       "         [0.7310586, 0.7310586],\n",
       "         [0.7310586, 0.7310586],\n",
       "         [0.7310586, 0.7310586],\n",
       "         [0.7310586, 0.7310586],\n",
       "         [0.7310586, 0.7310586],\n",
       "         [0.7310586, 0.7310586],\n",
       "         [0.7310586, 0.7310586]],\n",
       "\n",
       "        [[0.7310586, 0.7310586],\n",
       "         [0.7310586, 0.7310586],\n",
       "         [0.7310586, 0.7310586],\n",
       "         [0.7310586, 0.7310586],\n",
       "         [0.7310586, 0.7310586],\n",
       "         [0.7310586, 0.7310586],\n",
       "         [0.7310586, 0.7310586],\n",
       "         [0.7310586, 0.7310586],\n",
       "         [0.7310586, 0.7310586],\n",
       "         [0.7310586, 0.7310586]],\n",
       "\n",
       "        [[0.7310586, 0.7310586],\n",
       "         [0.7310586, 0.7310586],\n",
       "         [0.7310586, 0.7310586],\n",
       "         [0.7310586, 0.7310586],\n",
       "         [0.7310586, 0.7310586],\n",
       "         [0.7310586, 0.7310586],\n",
       "         [0.7310586, 0.7310586],\n",
       "         [0.7310586, 0.7310586],\n",
       "         [0.7310586, 0.7310586],\n",
       "         [0.7310586, 0.7310586]],\n",
       "\n",
       "        [[0.7310586, 0.7310586],\n",
       "         [0.7310586, 0.7310586],\n",
       "         [0.7310586, 0.7310586],\n",
       "         [0.7310586, 0.7310586],\n",
       "         [0.7310586, 0.7310586],\n",
       "         [0.7310586, 0.7310586],\n",
       "         [0.7310586, 0.7310586],\n",
       "         [0.7310586, 0.7310586],\n",
       "         [0.7310586, 0.7310586],\n",
       "         [0.7310586, 0.7310586]]]], dtype=float32)"
      ]
     },
     "execution_count": 53,
     "metadata": {},
     "output_type": "execute_result"
    }
   ],
   "source": [
    "res"
   ]
  },
  {
   "cell_type": "code",
   "execution_count": null,
   "metadata": {},
   "outputs": [],
   "source": []
  }
 ],
 "metadata": {
  "kernelspec": {
   "display_name": "Python 3",
   "language": "python",
   "name": "python3"
  },
  "language_info": {
   "codemirror_mode": {
    "name": "ipython",
    "version": 3
   },
   "file_extension": ".py",
   "mimetype": "text/x-python",
   "name": "python",
   "nbconvert_exporter": "python",
   "pygments_lexer": "ipython3",
   "version": "3.6.8"
  }
 },
 "nbformat": 4,
 "nbformat_minor": 2
}
