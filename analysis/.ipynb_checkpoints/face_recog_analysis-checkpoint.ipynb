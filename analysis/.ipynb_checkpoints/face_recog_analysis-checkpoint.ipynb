{
 "cells": [
  {
   "cell_type": "code",
   "execution_count": 41,
   "metadata": {
    "scrolled": false
   },
   "outputs": [
    {
     "name": "stdout",
     "output_type": "stream",
     "text": [
      "Populating the interactive namespace from numpy and matplotlib\n"
     ]
    },
    {
     "data": {
      "text/plain": [
       "'\\nimport pandas as pd\\nimport pickle\\nfrom scipy.linalg import norm\\nimport cv2 as cv\\nimport os\\nimport importlib\\nfrom sklearn.preprocessing import normalize\\nfrom skimage.io import imsave, imread\\nimport os\\nimport glob\\nimport argparse\\nimport time\\nimport pickle\\nimport platform\\nimport shutil\\n\\nimport numpy as np\\nimport pandas as pd\\nimport cv2 as cv\\nfrom skimage.io import imsave\\nfrom scipy.stats import entropy\\nfrom scipy.linalg import norm\\n\\nfrom keras.applications.mobilenet_v2 import MobileNetV2\\nfrom keras.models import Model, load_model\\nfrom keras.layers import Input, Dense, Lambda, ZeroPadding2D, LeakyReLU, Flatten, Concatenate\\nfrom keras.layers.merge import add\\nfrom keras.utils import multi_gpu_model\\nfrom keras.utils.data_utils import Sequence\\nimport keras.backend as K\\nfrom keras import optimizers\\n'"
      ]
     },
     "execution_count": 41,
     "metadata": {},
     "output_type": "execute_result"
    }
   ],
   "source": [
    "%pylab inline\n",
    "'''\n",
    "import pandas as pd\n",
    "import pickle\n",
    "from scipy.linalg import norm\n",
    "import cv2 as cv\n",
    "import os\n",
    "import importlib\n",
    "from sklearn.preprocessing import normalize\n",
    "from skimage.io import imsave, imread\n",
    "import os\n",
    "import glob\n",
    "import argparse\n",
    "import time\n",
    "import pickle\n",
    "import platform\n",
    "import shutil\n",
    "\n",
    "import numpy as np\n",
    "import pandas as pd\n",
    "import cv2 as cv\n",
    "from skimage.io import imsave\n",
    "from scipy.stats import entropy\n",
    "from scipy.linalg import norm\n",
    "\n",
    "from keras.applications.mobilenet_v2 import MobileNetV2\n",
    "from keras.models import Model, load_model\n",
    "from keras.layers import Input, Dense, Lambda, ZeroPadding2D, LeakyReLU, Flatten, Concatenate\n",
    "from keras.layers.merge import add\n",
    "from keras.utils import multi_gpu_model\n",
    "from keras.utils.data_utils import Sequence\n",
    "import keras.backend as K\n",
    "from keras import optimizers\n",
    "'''"
   ]
  },
  {
   "cell_type": "code",
   "execution_count": 2,
   "metadata": {
    "collapsed": true,
    "scrolled": false
   },
   "outputs": [
    {
     "name": "stdout",
     "output_type": "stream",
     "text": [
      "D:\\topcoder\\face_recog\\src\\space\n"
     ]
    }
   ],
   "source": [
    "cd D:\\\\topcoder\\\\face_recog\\\\src\\\\space"
   ]
  },
  {
   "cell_type": "code",
   "execution_count": 3,
   "metadata": {
    "collapsed": true,
    "scrolled": false
   },
   "outputs": [],
   "source": [
    "import sys\n",
    "sys.path.append('D:\\\\topcoder\\\\face_recog\\\\src')"
   ]
  },
  {
   "cell_type": "code",
   "execution_count": 4,
   "metadata": {
    "collapsed": true,
    "scrolled": false
   },
   "outputs": [],
   "source": [
    "with open('db_facial_id.pobj', 'rb') as f:\n",
    "    facial_ids = pickle.load(f)"
   ]
  },
  {
   "cell_type": "code",
   "execution_count": 5,
   "metadata": {
    "collapsed": true,
    "scrolled": false
   },
   "outputs": [],
   "source": [
    "diff_norms = []\n",
    "for subject_id in facial_ids:\n",
    "    diff_norms.append(norm(facial_ids[1] - facial_ids[subject_id]))\n",
    "diff_norms = np.asarray(diff_norms)[1:]"
   ]
  },
  {
   "cell_type": "code",
   "execution_count": 6,
   "metadata": {
    "collapsed": true,
    "scrolled": false
   },
   "outputs": [
    {
     "data": {
      "text/plain": [
       "(0.22102928161621094, 1.1220169067382812, 0.6192618016981416)"
      ]
     },
     "execution_count": 6,
     "metadata": {},
     "output_type": "execute_result"
    }
   ],
   "source": [
    "diff_norms.min(), diff_norms.max(), diff_norms.mean()"
   ]
  },
  {
   "cell_type": "code",
   "execution_count": 7,
   "metadata": {
    "collapsed": true,
    "scrolled": false
   },
   "outputs": [
    {
     "data": {
      "text/plain": [
       "(array([ 1.,  3.,  1.,  2.,  8.,  4.,  9.,  7., 14., 17., 12., 15., 11.,\n",
       "        12.,  9.,  9., 15.,  3., 21.,  8.,  9., 14., 17., 19., 20.,  9.,\n",
       "         8., 19., 10., 18., 19.,  7., 16.,  9., 15., 19., 15., 26., 20.,\n",
       "        20., 19., 23., 11., 22., 11., 18., 20., 11., 11., 13., 21., 12.,\n",
       "        10., 18., 15., 16., 22.,  8.,  7., 15.,  9., 16., 11., 13., 14.,\n",
       "        19., 12.,  9.,  8., 17., 10.,  9.,  9.,  4.,  9., 12., 11., 11.,\n",
       "         4.,  8.,  7.,  4.,  7.,  7.,  7.,  5.,  3.,  1.,  3.,  8.,  1.,\n",
       "         3.,  2.,  5.,  3.,  2.,  2.,  0.,  1.,  1.]),\n",
       " array([0.22102928, 0.23003916, 0.23904903, 0.24805891, 0.25706879,\n",
       "        0.26607866, 0.27508854, 0.28409842, 0.29310829, 0.30211817,\n",
       "        0.31112804, 0.32013792, 0.3291478 , 0.33815767, 0.34716755,\n",
       "        0.35617743, 0.3651873 , 0.37419718, 0.38320705, 0.39221693,\n",
       "        0.40122681, 0.41023668, 0.41924656, 0.42825644, 0.43726631,\n",
       "        0.44627619, 0.45528606, 0.46429594, 0.47330582, 0.48231569,\n",
       "        0.49132557, 0.50033545, 0.50934532, 0.5183552 , 0.52736507,\n",
       "        0.53637495, 0.54538483, 0.5543947 , 0.56340458, 0.57241446,\n",
       "        0.58142433, 0.59043421, 0.59944408, 0.60845396, 0.61746384,\n",
       "        0.62647371, 0.63548359, 0.64449347, 0.65350334, 0.66251322,\n",
       "        0.67152309, 0.68053297, 0.68954285, 0.69855272, 0.7075626 ,\n",
       "        0.71657248, 0.72558235, 0.73459223, 0.7436021 , 0.75261198,\n",
       "        0.76162186, 0.77063173, 0.77964161, 0.78865149, 0.79766136,\n",
       "        0.80667124, 0.81568111, 0.82469099, 0.83370087, 0.84271074,\n",
       "        0.85172062, 0.8607305 , 0.86974037, 0.87875025, 0.88776012,\n",
       "        0.89677   , 0.90577988, 0.91478975, 0.92379963, 0.93280951,\n",
       "        0.94181938, 0.95082926, 0.95983913, 0.96884901, 0.97785889,\n",
       "        0.98686876, 0.99587864, 1.00488852, 1.01389839, 1.02290827,\n",
       "        1.03191814, 1.04092802, 1.0499379 , 1.05894777, 1.06795765,\n",
       "        1.07696753, 1.0859774 , 1.09498728, 1.10399715, 1.11300703,\n",
       "        1.12201691]),\n",
       " <a list of 100 Patch objects>)"
      ]
     },
     "execution_count": 7,
     "metadata": {},
     "output_type": "execute_result"
    },
    {
     "data": {
      "image/png": "[encoded data removed]",
      "text/plain": [
       "<Figure size 432x288 with 1 Axes>"
      ]
     },
     "metadata": {
      "needs_background": "light"
     },
     "output_type": "display_data"
    }
   ],
   "source": [
    "hist(diff_norms, bins=100)"
   ]
  },
  {
   "cell_type": "code",
   "execution_count": 8,
   "metadata": {
    "collapsed": true,
    "scrolled": false
   },
   "outputs": [
    {
     "name": "stdout",
     "output_type": "stream",
     "text": [
      "0.0 1.1574599742889404 0.7958166379547031\n"
     ]
    },
    {
     "data": {
      "text/plain": [
       "(array([ 1.,  0.,  0.,  0.,  0.,  0.,  0.,  0.,  0.,  0.,  0.,  0.,  0.,\n",
       "         0.,  0.,  0.,  0.,  0.,  0.,  0.,  0.,  0.,  0.,  0.,  0.,  0.,\n",
       "         0.,  0.,  0.,  0.,  0.,  0.,  1.,  2.,  0.,  0.,  2.,  0.,  0.,\n",
       "         0.,  2.,  3.,  2.,  3.,  5.,  3.,  6.,  7.,  5.,  5.,  4., 10.,\n",
       "         5.,  9., 15., 15., 26., 25., 25., 27., 24., 35., 37., 40., 37.,\n",
       "        38., 46., 27., 52., 37., 47., 45., 45., 39., 45., 35., 29., 29.,\n",
       "        19., 20., 19., 15., 15., 14.,  8., 12.,  5., 13., 13.,  6.,  6.,\n",
       "         5.,  7.,  1.,  3.,  2.,  1.,  1.,  0.,  1.]),\n",
       " array([0.        , 0.0115746 , 0.0231492 , 0.0347238 , 0.0462984 ,\n",
       "        0.057873  , 0.0694476 , 0.0810222 , 0.0925968 , 0.1041714 ,\n",
       "        0.115746  , 0.1273206 , 0.1388952 , 0.1504698 , 0.1620444 ,\n",
       "        0.173619  , 0.1851936 , 0.1967682 , 0.2083428 , 0.2199174 ,\n",
       "        0.23149199, 0.24306659, 0.25464119, 0.26621579, 0.27779039,\n",
       "        0.28936499, 0.30093959, 0.31251419, 0.32408879, 0.33566339,\n",
       "        0.34723799, 0.35881259, 0.37038719, 0.38196179, 0.39353639,\n",
       "        0.40511099, 0.41668559, 0.42826019, 0.43983479, 0.45140939,\n",
       "        0.46298399, 0.47455859, 0.48613319, 0.49770779, 0.50928239,\n",
       "        0.52085699, 0.53243159, 0.54400619, 0.55558079, 0.56715539,\n",
       "        0.57872999, 0.59030459, 0.60187919, 0.61345379, 0.62502839,\n",
       "        0.63660299, 0.64817759, 0.65975219, 0.67132679, 0.68290138,\n",
       "        0.69447598, 0.70605058, 0.71762518, 0.72919978, 0.74077438,\n",
       "        0.75234898, 0.76392358, 0.77549818, 0.78707278, 0.79864738,\n",
       "        0.81022198, 0.82179658, 0.83337118, 0.84494578, 0.85652038,\n",
       "        0.86809498, 0.87966958, 0.89124418, 0.90281878, 0.91439338,\n",
       "        0.92596798, 0.93754258, 0.94911718, 0.96069178, 0.97226638,\n",
       "        0.98384098, 0.99541558, 1.00699018, 1.01856478, 1.03013938,\n",
       "        1.04171398, 1.05328858, 1.06486318, 1.07643778, 1.08801238,\n",
       "        1.09958698, 1.11116158, 1.12273618, 1.13431077, 1.14588537,\n",
       "        1.15745997]),\n",
       " <a list of 100 Patch objects>)"
      ]
     },
     "execution_count": 8,
     "metadata": {},
     "output_type": "execute_result"
    },
    {
     "data": {
      "image/png": "[encoded data removed]",
      "text/plain": [
       "<Figure size 432x288 with 1 Axes>"
      ]
     },
     "metadata": {
      "needs_background": "light"
     },
     "output_type": "display_data"
    }
   ],
   "source": [
    "diff_norms = []\n",
    "for subject_id in facial_ids:\n",
    "    diff_norms.append(norm(facial_ids[2] - facial_ids[subject_id]))\n",
    "diff_norms = np.asarray(diff_norms)\n",
    "print(diff_norms.min(), diff_norms.max(), diff_norms.mean())\n",
    "hist(diff_norms, bins=100)"
   ]
  },
  {
   "cell_type": "code",
   "execution_count": 9,
   "metadata": {
    "collapsed": true,
    "scrolled": false
   },
   "outputs": [
    {
     "name": "stdout",
     "output_type": "stream",
     "text": [
      "0.0 1.2462674379348755 0.868333381182832\n"
     ]
    },
    {
     "data": {
      "text/plain": [
       "(array([ 1.,  0.,  0.,  0.,  0.,  0.,  0.,  0.,  0.,  0.,  0.,  0.,  0.,\n",
       "         0.,  0.,  0.,  0.,  0.,  0.,  0.,  1.,  0.,  0.,  1.,  2.,  2.,\n",
       "         2.,  3.,  2.,  2.,  3.,  3.,  4.,  4.,  8.,  5.,  5.,  4.,  3.,\n",
       "         5.,  2.,  3.,  4.,  6.,  4.,  7., 10.,  5., 16., 11.,  9.,  7.,\n",
       "         7., 13.,  8., 10., 15., 17., 17., 16., 11., 18., 18., 13., 21.,\n",
       "        13., 19., 29., 20., 22., 33., 32., 27., 31., 33., 44., 35., 45.,\n",
       "        36., 47., 41., 47., 36., 43., 25., 29., 26.,  9.,  8.,  4.,  2.,\n",
       "         2.,  4.,  3.,  2.,  1.,  1.,  0.,  1.,  3.]),\n",
       " array([0.        , 0.01246267, 0.02492535, 0.03738802, 0.0498507 ,\n",
       "        0.06231337, 0.07477605, 0.08723872, 0.0997014 , 0.11216407,\n",
       "        0.12462674, 0.13708942, 0.14955209, 0.16201477, 0.17447744,\n",
       "        0.18694012, 0.19940279, 0.21186546, 0.22432814, 0.23679081,\n",
       "        0.24925349, 0.26171616, 0.27417884, 0.28664151, 0.29910419,\n",
       "        0.31156686, 0.32402953, 0.33649221, 0.34895488, 0.36141756,\n",
       "        0.37388023, 0.38634291, 0.39880558, 0.41126825, 0.42373093,\n",
       "        0.4361936 , 0.44865628, 0.46111895, 0.47358163, 0.4860443 ,\n",
       "        0.49850698, 0.51096965, 0.52343232, 0.535895  , 0.54835767,\n",
       "        0.56082035, 0.57328302, 0.5857457 , 0.59820837, 0.61067104,\n",
       "        0.62313372, 0.63559639, 0.64805907, 0.66052174, 0.67298442,\n",
       "        0.68544709, 0.69790977, 0.71037244, 0.72283511, 0.73529779,\n",
       "        0.74776046, 0.76022314, 0.77268581, 0.78514849, 0.79761116,\n",
       "        0.81007383, 0.82253651, 0.83499918, 0.84746186, 0.85992453,\n",
       "        0.87238721, 0.88484988, 0.89731256, 0.90977523, 0.9222379 ,\n",
       "        0.93470058, 0.94716325, 0.95962593, 0.9720886 , 0.98455128,\n",
       "        0.99701395, 1.00947662, 1.0219393 , 1.03440197, 1.04686465,\n",
       "        1.05932732, 1.07179   , 1.08425267, 1.09671535, 1.10917802,\n",
       "        1.12164069, 1.13410337, 1.14656604, 1.15902872, 1.17149139,\n",
       "        1.18395407, 1.19641674, 1.20887941, 1.22134209, 1.23380476,\n",
       "        1.24626744]),\n",
       " <a list of 100 Patch objects>)"
      ]
     },
     "execution_count": 9,
     "metadata": {},
     "output_type": "execute_result"
    },
    {
     "data": {
      "image/png": "[encoded data removed]",
      "text/plain": [
       "<Figure size 432x288 with 1 Axes>"
      ]
     },
     "metadata": {
      "needs_background": "light"
     },
     "output_type": "display_data"
    }
   ],
   "source": [
    "diff_norms = []\n",
    "for subject_id in facial_ids:\n",
    "    diff_norms.append(norm(facial_ids[3] - facial_ids[subject_id]))\n",
    "diff_norms = np.asarray(diff_norms)\n",
    "print(diff_norms.min(), diff_norms.max(), diff_norms.mean())\n",
    "hist(diff_norms, bins=100)"
   ]
  },
  {
   "cell_type": "code",
   "execution_count": 10,
   "metadata": {
    "collapsed": true,
    "scrolled": false
   },
   "outputs": [
    {
     "name": "stdout",
     "output_type": "stream",
     "text": [
      "1\n",
      "0.0 1.1220169067382812 0.618688941567061\n"
     ]
    },
    {
     "data": {
      "image/png": "[encoded data removed]",
      "text/plain": [
       "<Figure size 432x288 with 1 Axes>"
      ]
     },
     "metadata": {
      "needs_background": "light"
     },
     "output_type": "display_data"
    }
   ],
   "source": [
    "for subject_id_t in list(facial_ids.keys())[:1]:\n",
    "    print(subject_id_t)\n",
    "    diff_norms = []\n",
    "    for subject_id_b in facial_ids:\n",
    "        diff_norms.append(norm(facial_ids[subject_id_t] - facial_ids[subject_id_b]))\n",
    "    diff_norms = np.asarray(diff_norms)\n",
    "    print(diff_norms.min(), diff_norms.max(), diff_norms.mean())\n",
    "    hist(diff_norms, bins=100)"
   ]
  },
  {
   "cell_type": "code",
   "execution_count": 11,
   "metadata": {
    "collapsed": true,
    "scrolled": false
   },
   "outputs": [],
   "source": [
    "ref_facial_ids = facial_ids"
   ]
  },
  {
   "cell_type": "code",
   "execution_count": 12,
   "metadata": {
    "collapsed": true,
    "scrolled": false
   },
   "outputs": [],
   "source": [
    "hps = {}\n",
    "hps['step'] = 1\n",
    "raw_data_path = 'D:\\\\topcoder\\\\face_recog\\\\resource\\\\training'\n",
    "output_file_path = 'D:\\\\topcoder\\\\face_recog\\\\resource\\\\solution_training.csv'\n",
    "hps['image_size'] = 416\n",
    "hps['num_dense1_layers'] = 1\n",
    "hps['dense1'] = 64\n",
    "hps['num_dense2_layers'] = 1\n",
    "hps['dense2'] = 64\n",
    "hps['lr'] = 0.0001\n",
    "hps['beta_1'] = 0.99\n",
    "hps['beta_2'] = 0.99\n",
    "hps['decay'] = 0.0\n",
    "hps['batch_size'] = 5\n",
    "hps['epochs'] = 2\n",
    "hps['face_conf_th'] = 0.5\n",
    "hps['nms_iou_th'] = 0.5\n",
    "hps['num_cands'] = 60\n",
    "hps['sim_th'] = 0.1\n",
    "model_loading = True"
   ]
  },
  {
   "cell_type": "code",
   "execution_count": 13,
   "metadata": {
    "collapsed": true,
    "scrolled": false
   },
   "outputs": [],
   "source": [
    "import face_identification"
   ]
  },
  {
   "cell_type": "code",
   "execution_count": 14,
   "metadata": {
    "collapsed": true,
    "scrolled": false
   },
   "outputs": [
    {
     "data": {
      "text/plain": [
       "<module 'face_identification' from 'D:\\\\topcoder\\\\face_recog\\\\src\\\\space\\\\face_identification.py'>"
      ]
     },
     "execution_count": 14,
     "metadata": {},
     "output_type": "execute_result"
    }
   ],
   "source": [
    "importlib.reload(face_identification)"
   ]
  },
  {
   "cell_type": "code",
   "execution_count": 15,
   "metadata": {
    "collapsed": true,
    "scrolled": false
   },
   "outputs": [],
   "source": [
    "fr = face_identification.FaceIdentifier(raw_data_path, hps, model_loading)"
   ]
  },
  {
   "cell_type": "code",
   "execution_count": 16,
   "metadata": {
    "collapsed": true,
    "scrolled": false
   },
   "outputs": [],
   "source": [
    "db = pd.read_csv('db.csv')\n",
    "db = db.iloc[:, 1:]\n",
    "db_g = db.groupby('subject_id')"
   ]
  },
  {
   "cell_type": "code",
   "execution_count": 17,
   "metadata": {
    "collapsed": true,
    "scrolled": false
   },
   "outputs": [],
   "source": [
    "subject_ids = db_g.groups.keys()"
   ]
  },
  {
   "cell_type": "code",
   "execution_count": 18,
   "metadata": {
    "collapsed": true,
    "scrolled": false
   },
   "outputs": [
    {
     "data": {
      "text/plain": [
       "dict_keys([1, 2, 3, 5, 6, 7, 8, 9, 10, 11, 12, 13, 16, 17, 18, 20, 21, 22, 23, 24, 25, 26, 27, 28, 29, 31, 33, 34, 35, 36, 37, 38, 39, 40, 41, 42, 43, 45, 46, 47, 48, 50, 52, 53, 55, 56, 57, 58, 59, 60, 62, 64, 65, 67, 68, 69, 70, 72, 73, 74, 75, 77, 79, 80, 82, 83, 84, 85, 87, 89, 90, 91, 92, 93, 94, 95, 99, 101, 102, 103, 104, 105, 106, 107, 108, 109, 111, 112, 114, 115, 116, 117, 119, 120, 122, 123, 124, 125, 126, 127, 129, 130, 131, 133, 134, 136, 137, 138, 139, 140, 144, 146, 148, 149, 150, 151, 152, 153, 155, 156, 157, 158, 159, 160, 161, 162, 164, 165, 166, 167, 168, 170, 172, 175, 178, 179, 181, 182, 183, 184, 186, 187, 188, 190, 191, 192, 193, 194, 195, 197, 198, 199, 200, 202, 203, 204, 205, 206, 207, 208, 209, 211, 213, 214, 216, 218, 219, 220, 224, 227, 228, 229, 230, 231, 232, 233, 234, 235, 237, 239, 241, 244, 245, 246, 247, 248, 249, 250, 251, 252, 253, 254, 255, 256, 257, 259, 260, 261, 262, 264, 266, 267, 268, 269, 271, 272, 273, 274, 276, 277, 278, 279, 280, 281, 282, 284, 285, 288, 289, 291, 292, 295, 297, 298, 301, 302, 303, 304, 305, 307, 308, 309, 310, 316, 317, 318, 319, 321, 323, 324, 326, 327, 329, 330, 334, 335, 338, 339, 340, 341, 345, 347, 348, 349, 350, 352, 354, 355, 356, 357, 358, 360, 362, 363, 364, 365, 366, 368, 369, 370, 372, 373, 374, 375, 376, 377, 378, 379, 380, 381, 383, 384, 387, 388, 389, 390, 391, 392, 393, 394, 395, 396, 397, 398, 400, 402, 403, 404, 407, 408, 409, 410, 411, 412, 413, 415, 416, 417, 418, 419, 420, 422, 423, 425, 431, 432, 433, 435, 436, 438, 442, 446, 448, 449, 450, 452, 453, 454, 455, 456, 457, 458, 460, 463, 464, 465, 466, 469, 470, 472, 475, 478, 480, 482, 483, 484, 486, 487, 489, 490, 491, 492, 494, 498, 502, 503, 504, 506, 507, 508, 510, 513, 516, 518, 519, 522, 523, 525, 526, 527, 528, 529, 530, 531, 536, 537, 540, 541, 543, 544, 545, 546, 550, 551, 554, 555, 556, 558, 560, 562, 564, 566, 568, 570, 574, 578, 579, 580, 583, 584, 586, 587, 590, 593, 596, 599, 600, 601, 602, 603, 604, 605, 606, 607, 608, 609, 610, 611, 612, 614, 615, 616, 617, 618, 619, 620, 621, 622, 624, 625, 626, 627, 628, 629, 630, 631, 632, 633, 634, 635, 636, 637, 638, 640, 642, 643, 644, 645, 647, 648, 649, 650, 651, 652, 653, 654, 655, 656, 657, 658, 659, 660, 661, 662, 664, 666, 667, 668, 669, 670, 671, 672, 673, 674, 675, 676, 677, 678, 679, 680, 681, 682, 685, 686, 688, 689, 690, 691, 692, 693, 694, 697, 698, 699, 701, 702, 703, 704, 705, 707, 708, 709, 711, 714, 715, 717, 718, 719, 720, 721, 722, 723, 725, 726, 727, 729, 732, 733, 735, 736, 737, 739, 740, 742, 743, 744, 745, 747, 749, 750, 751, 752, 753, 756, 757, 761, 763, 765, 766, 767, 768, 769, 770, 774, 775, 776, 777, 780, 782, 783, 785, 786, 787, 788, 789, 790, 792, 794, 795, 796, 797, 799, 802, 803, 804, 806, 808, 809, 812, 814, 815, 816, 817, 818, 820, 822, 823, 826, 828, 829, 830, 832, 833, 834, 835, 837, 839, 841, 842, 843, 844, 846, 849, 850, 852, 853, 854, 855, 856, 858, 861, 862, 864, 866, 867, 868, 870, 871, 872, 874, 875, 876, 877, 878, 879, 880, 882, 883, 884, 885, 886, 888, 889, 890, 892, 893, 896, 898, 899, 900, 901, 902, 903, 904, 908, 909, 910, 911, 913, 914, 916, 917, 919, 927, 931, 932, 935, 936, 937, 938, 939, 940, 941, 942, 949, 951, 952, 955, 956, 957, 958, 959, 961, 962, 963, 965, 969, 970, 971, 974, 980, 984, 986, 989, 990, 991, 992, 995, 997, 998, 999, 1005, 1009, 1010, 1012, 1018, 1022, 1024, 1026, 1032, 1033, 1034, 1037, 1039, 1040, 1041, 1043, 1044, 1045, 1046, 1047, 1049, 1050, 1051, 1053, 1057, 1058, 1059, 1060, 1061, 1067, 1068, 1072, 1073, 1074, 1075, 1077, 1078, 1079, 1080, 1082, 1083, 1084, 1087, 1089, 1095, 1096, 1097, 1098, 1100, 1102, 1104, 1105, 1107, 1109, 1111, 1112, 1116, 1119, 1120, 1121, 1126, 1130, 1133, 1134, 1136, 1139, 1140, 1141, 1144, 1145, 1146, 1147, 1149, 1150, 1151, 1152, 1153, 1154, 1155, 1156, 1157, 1158, 1162, 1163, 1165, 1167, 1169, 1170, 1171, 1175, 1177, 1178, 1188, 1189, 1190, 1191, 1192, 1195, 1198, 1200, 1202, 1204, 1206, 1210, 1211, 1212, 1213, 1217, 1218, 1219, 1220, 1221, 1223, 1224, 1225, 1227, 1228, 1234, 1238, 1239, 1248, 1249, 1252, 1258, 1259, 1266, 1268, 1269, 1271, 1274, 1278, 1279, 1280, 1285, 1286, 1290, 1297, 1299, 1300, 1301, 1302, 1304, 1309, 1311, 1315, 1317, 1318, 1319, 1320, 1321, 1322, 1324, 1325, 1327, 1328, 1329, 1332, 1333, 1335, 1336, 1340, 1343, 1344, 1346, 1350, 1351, 1354, 1355, 1356, 1361, 1363, 1366, 1367, 1372, 1373, 1377, 1380, 1381, 1382, 1385, 1388, 1389, 1390, 1391, 1392, 1396, 1397, 1399, 1400, 1403, 1405, 1409, 1410, 1411, 1414, 1419, 1421, 1422, 1423, 1424, 1426, 1428, 1431, 1432, 1433, 1434, 1435, 1436, 1439, 1440, 1444, 1445, 1446, 1447, 1448, 1449, 1450, 1451, 1452, 1455, 1462, 1463, 1465, 1468, 1475, 1479, 1484, 1489, 1491, 1492, 1493, 1494, 1496, 1497, 1498, 1499, 1500, 1501, 1502, 1504, 1506, 1507, 1509, 1511, 1512, 1515, 1516, 1520, 1525, 1527, 1528, 1530, 1531, 1532, 1535, 1537, 1538, 1542, 1543, 1544, 1545, 1546, 1547, 1548, 1551, 1552, 1555, 1557, 1558, 1562, 1565, 1566, 1567, 1569, 1571, 1572, 1573, 1575, 1576, 1577, 1579, 1580, 1581, 1583, 1584, 1585, 1586, 1587, 1588, 1591, 1593, 1597, 1598, 1599, 1600, 1602, 1604, 1607, 1609, 1610, 1611, 1612, 1613, 1615, 1618, 1619, 1621, 1624, 1625, 1627, 1628, 1629, 1630, 1634, 1636, 1637, 1638, 1639, 1640, 1641, 1642, 1644, 1646, 1647, 1650, 1651, 1652, 1654, 1656, 1657, 1658, 1666, 1667, 1668, 1669, 1673, 1675, 1676, 1684, 1685, 1686, 1687, 1689, 1690, 1695, 1696, 1697, 1699, 1702, 1704, 1707, 1710, 1711, 1713, 1721, 1725, 1729, 1730, 1731, 1734, 1739, 1740, 1744, 1747, 1748, 1751, 1752, 1755, 1762, 1764, 1766, 1768, 1769, 1770, 1772, 1774, 1777, 1778, 1781, 1784, 1785, 1786, 1787, 1793, 1797, 1798, 1799, 1801, 1802, 1805, 1807, 1808, 1810, 1811, 1812, 1813, 1814, 1815, 1818, 1821])"
      ]
     },
     "execution_count": 18,
     "metadata": {},
     "output_type": "execute_result"
    }
   ],
   "source": [
    "subject_ids"
   ]
  },
  {
   "cell_type": "code",
   "execution_count": 19,
   "metadata": {
    "collapsed": true,
    "scrolled": false
   },
   "outputs": [],
   "source": [
    "facial_ids_dict= {}"
   ]
  },
  {
   "cell_type": "code",
   "execution_count": 20,
   "metadata": {
    "collapsed": true,
    "scrolled": false
   },
   "outputs": [
    {
     "data": {
      "text/plain": [
       "(2, 64)"
      ]
     },
     "execution_count": 20,
     "metadata": {},
     "output_type": "execute_result"
    }
   ],
   "source": [
    "subject_id = 1\n",
    "df = db_g.get_group(subject_id)\n",
    "images = []\n",
    "for ff in list(df.iloc[:, 1]):\n",
    "    image = imread(os.path.join('subject_faces', ff))\n",
    "    images.append(image/255)\n",
    "images = np.asarray(images)\n",
    "facial_ids = fr.fid_extractor.predict(images)\n",
    "facial_ids_dict[subject_id] = facial_ids\n",
    "facial_ids.shape"
   ]
  },
  {
   "cell_type": "code",
   "execution_count": 21,
   "metadata": {
    "collapsed": true,
    "scrolled": false
   },
   "outputs": [
    {
     "data": {
      "text/plain": [
       "(0.33885938466856186, 0.792156862745098)"
      ]
     },
     "execution_count": 21,
     "metadata": {},
     "output_type": "execute_result"
    }
   ],
   "source": [
    "images[0].mean(), images[0].max()"
   ]
  },
  {
   "cell_type": "code",
   "execution_count": 22,
   "metadata": {
    "collapsed": true,
    "scrolled": false
   },
   "outputs": [
    {
     "data": {
      "text/plain": [
       "0.6564363837242126"
      ]
     },
     "execution_count": 22,
     "metadata": {},
     "output_type": "execute_result"
    }
   ],
   "source": [
    "norm(facial_ids[1] - facial_ids[0]) "
   ]
  },
  {
   "cell_type": "code",
   "execution_count": 23,
   "metadata": {
    "collapsed": true,
    "scrolled": false
   },
   "outputs": [
    {
     "data": {
      "text/plain": [
       "0.9999999403953552"
      ]
     },
     "execution_count": 23,
     "metadata": {},
     "output_type": "execute_result"
    }
   ],
   "source": [
    "norm(facial_ids[1])"
   ]
  },
  {
   "cell_type": "code",
   "execution_count": 24,
   "metadata": {
    "collapsed": true,
    "scrolled": false
   },
   "outputs": [
    {
     "data": {
      "text/plain": [
       "0.3282181918621063"
      ]
     },
     "execution_count": 24,
     "metadata": {},
     "output_type": "execute_result"
    }
   ],
   "source": [
    "norm(facial_ids[0] - ref_facial_ids[1])"
   ]
  },
  {
   "cell_type": "code",
   "execution_count": 25,
   "metadata": {
    "collapsed": true,
    "scrolled": false
   },
   "outputs": [
    {
     "name": "stdout",
     "output_type": "stream",
     "text": [
      "0.04090014 0.0 0.02045007\n",
      "0.03977998 0.0 0.01988999\n",
      "0.19046932 0.0 0.09523466\n",
      "0.0 0.0 0.0\n",
      "0.0 0.0 0.0\n",
      "0.0 0.0 0.0\n",
      "0.0 0.09083261 0.045416307\n",
      "0.0 0.0 0.0\n",
      "0.10685497 0.0 0.053427484\n",
      "0.0 0.0 0.0\n",
      "0.09216177 0.09694002 0.09455089\n",
      "0.06337923 0.0 0.031689614\n",
      "0.16797353 0.07752244 0.12274799\n",
      "0.0 0.0 0.0\n",
      "0.0 0.064892024 0.032446012\n",
      "0.0 0.15904397 0.079521984\n",
      "0.0 0.0 0.0\n",
      "0.33197746 0.30113384 0.31655565\n",
      "0.0 0.057104085 0.028552042\n",
      "0.34729454 0.3217736 0.33453405\n",
      "0.0 0.22355926 0.11177963\n",
      "0.0 0.0 0.0\n",
      "0.0 0.014336667 0.0071683335\n",
      "0.079082675 0.0 0.039541338\n",
      "0.0 0.0 0.0\n",
      "0.0 0.0 0.0\n",
      "0.12397027 0.0 0.061985135\n",
      "0.0 0.03314824 0.01657412\n",
      "0.0 0.0 0.0\n",
      "0.18859637 0.23819974 0.21339805\n",
      "0.0 0.0 0.0\n",
      "0.0 0.0 0.0\n",
      "0.0 0.0 0.0\n",
      "0.0 0.10889461 0.054447304\n",
      "0.27906024 0.16343652 0.22124839\n",
      "0.0 0.0 0.0\n",
      "0.0 0.0 0.0\n",
      "0.0 0.17898594 0.08949297\n",
      "0.0 0.13046496 0.06523248\n",
      "0.0 0.0 0.0\n",
      "0.014301421 0.0 0.0071507106\n",
      "0.22975554 0.24071017 0.23523286\n",
      "0.0 0.0 0.0\n",
      "0.0 0.0 0.0\n",
      "0.0 0.0 0.0\n",
      "0.0 0.0063292254 0.0031646127\n",
      "0.27587554 0.20527865 0.2405771\n",
      "0.10310437 0.21230085 0.15770261\n",
      "0.0 0.0 0.0\n",
      "0.4855536 0.42029572 0.45292467\n",
      "0.20542474 0.14418186 0.1748033\n",
      "0.0 0.0 0.0\n",
      "0.22057068 0.33656347 0.27856708\n",
      "0.0 0.03857858 0.01928929\n",
      "0.10548661 0.0 0.052743305\n",
      "0.0 0.0 0.0\n",
      "0.018453406 0.306136 0.16229472\n",
      "0.17662685 0.033475112 0.10505098\n",
      "0.0 0.0 0.0\n",
      "0.0 0.0 0.0\n",
      "0.0 0.0 0.0\n",
      "0.18282764 0.038397536 0.110612586\n",
      "0.0 0.0 0.0\n",
      "0.0 0.0 0.0\n"
     ]
    }
   ],
   "source": [
    "for i in range(facial_ids.shape[1]):\n",
    "    print(facial_ids[0,i], facial_ids[1,i], ref_facial_ids[1][i])"
   ]
  },
  {
   "cell_type": "code",
   "execution_count": 26,
   "metadata": {
    "collapsed": true,
    "scrolled": false
   },
   "outputs": [
    {
     "data": {
      "text/plain": [
       "(13, 64)"
      ]
     },
     "execution_count": 26,
     "metadata": {},
     "output_type": "execute_result"
    }
   ],
   "source": [
    "subject_id = 2\n",
    "df = db_g.get_group(subject_id)\n",
    "images = []\n",
    "for ff in list(df.iloc[:, 1]):\n",
    "    image = cv.imread(os.path.join('subject_faces', ff))\n",
    "    r = image[:, :, 0].copy()\n",
    "    g = image[:, :, 1].copy()\n",
    "    b = image[:, :, 2].copy()\n",
    "    image[:, :, 0] = b\n",
    "    image[:, :, 1] = g\n",
    "    image[:, :, 2] = r \n",
    "    images.append(image/255)\n",
    "images = np.asarray(images)\n",
    "facial_ids = fr.fid_extractor.predict(images)\n",
    "facial_ids_dict[subject_id] = facial_ids\n",
    "facial_ids.shape"
   ]
  },
  {
   "cell_type": "code",
   "execution_count": 27,
   "metadata": {
    "collapsed": true,
    "scrolled": false
   },
   "outputs": [
    {
     "name": "stdout",
     "output_type": "stream",
     "text": [
      "0.9999999403953552\n",
      "1.0000001192092896\n",
      "1.0\n",
      "0.9999999403953552\n",
      "1.0\n",
      "1.0\n",
      "0.9999999403953552\n",
      "0.9999999403953552\n",
      "1.0\n",
      "1.0\n",
      "0.9999999403953552\n",
      "1.0\n",
      "1.0\n"
     ]
    }
   ],
   "source": [
    "for i in range(facial_ids.shape[0]): print(norm(facial_ids[i]))"
   ]
  },
  {
   "cell_type": "code",
   "execution_count": 28,
   "metadata": {
    "collapsed": true,
    "scrolled": false
   },
   "outputs": [
    {
     "data": {
      "text/plain": [
       "0.135909765958786"
      ]
     },
     "execution_count": 28,
     "metadata": {},
     "output_type": "execute_result"
    }
   ],
   "source": [
    "norm(facial_ids[0] - facial_ids[1]) "
   ]
  },
  {
   "cell_type": "code",
   "execution_count": 29,
   "metadata": {
    "collapsed": true,
    "scrolled": false
   },
   "outputs": [
    {
     "name": "stdout",
     "output_type": "stream",
     "text": [
      "0.0781058669090271 0.6144140362739563 0.29359102497498196\n"
     ]
    }
   ],
   "source": [
    "dists = []\n",
    "for i in range(facial_ids.shape[0] - 1):\n",
    "    for j in range(i + 1, facial_ids.shape[0]):\n",
    "        dists.append(norm(facial_ids[i] - facial_ids[j]))\n",
    "dists = np.asarray(dists)\n",
    "print(dists.min(), dists.max(), dists.mean())"
   ]
  },
  {
   "cell_type": "code",
   "execution_count": 30,
   "metadata": {
    "collapsed": true,
    "scrolled": false
   },
   "outputs": [
    {
     "data": {
      "text/plain": [
       "1.3032399415969849"
      ]
     },
     "execution_count": 30,
     "metadata": {},
     "output_type": "execute_result"
    }
   ],
   "source": [
    "norm(facial_ids_dict[1][0] - facial_ids[1][1])"
   ]
  },
  {
   "cell_type": "code",
   "execution_count": 31,
   "metadata": {
    "collapsed": true,
    "scrolled": false
   },
   "outputs": [],
   "source": [
    "res = fr.fid_extractor.predict(np.random.rand(1, 416, 416, 3))"
   ]
  },
  {
   "cell_type": "code",
   "execution_count": 32,
   "metadata": {
    "collapsed": true,
    "scrolled": false
   },
   "outputs": [
    {
     "data": {
      "text/plain": [
       "0.99999994"
      ]
     },
     "execution_count": 32,
     "metadata": {},
     "output_type": "execute_result"
    }
   ],
   "source": [
    "norm(res)"
   ]
  },
  {
   "cell_type": "code",
   "execution_count": 33,
   "metadata": {
    "collapsed": true,
    "scrolled": false
   },
   "outputs": [],
   "source": [
    "subject_id = 3\n",
    "df = db_g.get_group(subject_id)\n",
    "images = []\n",
    "for ff in list(df.iloc[:, 1]):\n",
    "    image = imread(os.path.join('subject_faces', ff))\n",
    "    images.append(image/255)\n",
    "images = np.asarray(images)"
   ]
  },
  {
   "cell_type": "code",
   "execution_count": 34,
   "metadata": {
    "collapsed": true,
    "scrolled": false
   },
   "outputs": [
    {
     "data": {
      "text/plain": [
       "(28, 416, 416, 3)"
      ]
     },
     "execution_count": 34,
     "metadata": {},
     "output_type": "execute_result"
    }
   ],
   "source": [
    "images.shape"
   ]
  },
  {
   "cell_type": "code",
   "execution_count": 35,
   "metadata": {
    "collapsed": true,
    "scrolled": false
   },
   "outputs": [
    {
     "data": {
      "text/plain": [
       "(416, 416, 3)"
      ]
     },
     "execution_count": 35,
     "metadata": {},
     "output_type": "execute_result"
    }
   ],
   "source": [
    "images[0].shape"
   ]
  },
  {
   "cell_type": "code",
   "execution_count": 36,
   "metadata": {
    "collapsed": true,
    "scrolled": false
   },
   "outputs": [],
   "source": [
    "facial_ids = fr.fid_extractor.predict(images)"
   ]
  },
  {
   "cell_type": "code",
   "execution_count": 37,
   "metadata": {
    "collapsed": true,
    "scrolled": false
   },
   "outputs": [
    {
     "data": {
      "text/plain": [
       "(28, 64)"
      ]
     },
     "execution_count": 37,
     "metadata": {},
     "output_type": "execute_result"
    }
   ],
   "source": [
    "facial_ids.shape"
   ]
  },
  {
   "cell_type": "code",
   "execution_count": 38,
   "metadata": {
    "collapsed": true,
    "scrolled": false
   },
   "outputs": [
    {
     "data": {
      "text/plain": [
       "(64,)"
      ]
     },
     "execution_count": 38,
     "metadata": {},
     "output_type": "execute_result"
    }
   ],
   "source": [
    "res = facial_ids[0]\n",
    "res.shape"
   ]
  },
  {
   "cell_type": "code",
   "execution_count": 39,
   "metadata": {
    "collapsed": true,
    "scrolled": false
   },
   "outputs": [
    {
     "data": {
      "text/plain": [
       "1.0"
      ]
     },
     "execution_count": 39,
     "metadata": {},
     "output_type": "execute_result"
    }
   ],
   "source": [
    "norm(res)"
   ]
  },
  {
   "cell_type": "code",
   "execution_count": 40,
   "metadata": {
    "collapsed": true,
    "scrolled": false
   },
   "outputs": [
    {
     "data": {
      "text/plain": [
       "1.0"
      ]
     },
     "execution_count": 40,
     "metadata": {},
     "output_type": "execute_result"
    }
   ],
   "source": [
    "norm(facial_ids[0])"
   ]
  },
  {
   "cell_type": "code",
   "execution_count": 41,
   "metadata": {
    "collapsed": true,
    "scrolled": false
   },
   "outputs": [],
   "source": [
    "res = fr.fid_extractor.predict(images[0:2])"
   ]
  },
  {
   "cell_type": "code",
   "execution_count": 42,
   "metadata": {
    "collapsed": true,
    "scrolled": false
   },
   "outputs": [
    {
     "data": {
      "text/plain": [
       "(2, 64)"
      ]
     },
     "execution_count": 42,
     "metadata": {},
     "output_type": "execute_result"
    }
   ],
   "source": [
    "res.shape"
   ]
  },
  {
   "cell_type": "code",
   "execution_count": 43,
   "metadata": {
    "collapsed": true,
    "scrolled": false
   },
   "outputs": [
    {
     "data": {
      "text/plain": [
       "(64,)"
      ]
     },
     "execution_count": 43,
     "metadata": {},
     "output_type": "execute_result"
    }
   ],
   "source": [
    "res[0].shape"
   ]
  },
  {
   "cell_type": "code",
   "execution_count": 44,
   "metadata": {
    "collapsed": true,
    "scrolled": false
   },
   "outputs": [
    {
     "data": {
      "text/plain": [
       "0.9999999403953552"
      ]
     },
     "execution_count": 44,
     "metadata": {},
     "output_type": "execute_result"
    }
   ],
   "source": [
    "norm(res[1])"
   ]
  },
  {
   "cell_type": "code",
   "execution_count": 45,
   "metadata": {
    "collapsed": true,
    "scrolled": false
   },
   "outputs": [
    {
     "name": "stdout",
     "output_type": "stream",
     "text": [
      "0.119878850877285 0.8533779978752136 0.3935427498368044\n"
     ]
    }
   ],
   "source": [
    "dists = []\n",
    "for i in range(facial_ids.shape[0] - 1):\n",
    "    for j in range(i + 1, facial_ids.shape[0]):\n",
    "        dists.append(norm(facial_ids[i] - facial_ids[j]))\n",
    "dists = np.asarray(dists)\n",
    "print(dists.min(), dists.max(), dists.mean())"
   ]
  },
  {
   "cell_type": "code",
   "execution_count": 10,
   "metadata": {
    "collapsed": true,
    "scrolled": false
   },
   "outputs": [],
   "source": [
    "image = imread(os.path.join('subject_faces', ff))"
   ]
  },
  {
   "cell_type": "code",
   "execution_count": 11,
   "metadata": {
    "collapsed": true,
    "scrolled": false
   },
   "outputs": [
    {
     "data": {
      "text/plain": [
       "<matplotlib.image.AxesImage at 0x13dd6f30b70>"
      ]
     },
     "execution_count": 11,
     "metadata": {},
     "output_type": "execute_result"
    },
    {
     "data": {
      "image/png": "[encoded data removed]",
      "text/plain": [
       "<Figure size 432x288 with 1 Axes>"
      ]
     },
     "metadata": {
      "needs_background": "light"
     },
     "output_type": "display_data"
    }
   ],
   "source": [
    "imshow(image)"
   ]
  },
  {
   "cell_type": "code",
   "execution_count": 12,
   "metadata": {
    "collapsed": true,
    "scrolled": false
   },
   "outputs": [],
   "source": [
    "from skimage.io import imread, imsave\n",
    "from skimage.transform import resize \n",
    "from skimage.draw import polygon_perimeter, set_color\n",
    "\n",
    "from PIL import Image, ImageFont, ImageDraw"
   ]
  },
  {
   "cell_type": "code",
   "execution_count": 16,
   "metadata": {
    "collapsed": true,
    "scrolled": false
   },
   "outputs": [],
   "source": [
    "imageObject = Image.fromarray(image, mode='RGB')\n",
    "imageDraw = ImageDraw.Draw(imageObject)"
   ]
  },
  {
   "cell_type": "code",
   "execution_count": 17,
   "metadata": {
    "collapsed": true,
    "scrolled": false
   },
   "outputs": [
    {
     "data": {
      "text/plain": [
       "<matplotlib.image.AxesImage at 0x13dd709e550>"
      ]
     },
     "execution_count": 17,
     "metadata": {},
     "output_type": "execute_result"
    },
    {
     "data": {
      "image/png": "[encoded data removed]",
      "text/plain": [
       "<Figure size 432x288 with 1 Axes>"
      ]
     },
     "metadata": {
      "needs_background": "light"
     },
     "output_type": "display_data"
    }
   ],
   "source": [
    "font = ImageFont.truetype('arial.ttf', 30)\n",
    "imageDraw.text((100, 100), 'test', fill=(0,255,0), font=font)\n",
    "imageDraw.rectangle([10, 10, 50, 50], outline=(0,255,0), width=3)\n",
    "imshow(np.asarray(imageObject))"
   ]
  },
  {
   "cell_type": "code",
   "execution_count": 45,
   "metadata": {
    "collapsed": true,
    "scrolled": false
   },
   "outputs": [],
   "source": [
    "res = fr.fid_extractor.predict(image[np.newaxis, ...]/255)"
   ]
  },
  {
   "cell_type": "code",
   "execution_count": 46,
   "metadata": {
    "collapsed": true,
    "scrolled": false
   },
   "outputs": [
    {
     "data": {
      "text/plain": [
       "(1, 64)"
      ]
     },
     "execution_count": 46,
     "metadata": {},
     "output_type": "execute_result"
    }
   ],
   "source": [
    "res.shape"
   ]
  },
  {
   "cell_type": "code",
   "execution_count": 47,
   "metadata": {
    "collapsed": true,
    "scrolled": false
   },
   "outputs": [
    {
     "data": {
      "text/plain": [
       "0.9999999"
      ]
     },
     "execution_count": 47,
     "metadata": {},
     "output_type": "execute_result"
    }
   ],
   "source": [
    "norm(res)"
   ]
  },
  {
   "cell_type": "code",
   "execution_count": 48,
   "metadata": {
    "collapsed": true,
    "scrolled": false
   },
   "outputs": [],
   "source": [
    "b, g, t = cv.split(image)"
   ]
  },
  {
   "cell_type": "code",
   "execution_count": 49,
   "metadata": {
    "collapsed": true,
    "scrolled": false
   },
   "outputs": [],
   "source": [
    "m_image = cv.merge((b, np.zeros(shape=(416,416), dtype=uint8), np.zeros(shape=(416,416), dtype=uint8)))"
   ]
  },
  {
   "cell_type": "code",
   "execution_count": 50,
   "metadata": {
    "collapsed": true,
    "scrolled": false
   },
   "outputs": [
    {
     "data": {
      "text/plain": [
       "'fd5723edbcc50150c7cdbd06fe2f9111_3_2399_2776.jpg'"
      ]
     },
     "execution_count": 50,
     "metadata": {},
     "output_type": "execute_result"
    }
   ],
   "source": [
    "ff"
   ]
  },
  {
   "cell_type": "code",
   "execution_count": 51,
   "metadata": {
    "collapsed": true,
    "scrolled": false
   },
   "outputs": [],
   "source": [
    "image2 = imread(os.path.join('subject_faces', ff))"
   ]
  },
  {
   "cell_type": "code",
   "execution_count": 52,
   "metadata": {
    "collapsed": true,
    "scrolled": false
   },
   "outputs": [
    {
     "data": {
      "text/plain": [
       "<matplotlib.image.AxesImage at 0x21a9afd7b38>"
      ]
     },
     "execution_count": 52,
     "metadata": {},
     "output_type": "execute_result"
    },
    {
     "data": {
      "image/png": "[encoded data removed]",
      "text/plain": [
       "<Figure size 432x288 with 1 Axes>"
      ]
     },
     "metadata": {
      "needs_background": "light"
     },
     "output_type": "display_data"
    }
   ],
   "source": [
    "imshow(image2)"
   ]
  },
  {
   "cell_type": "code",
   "execution_count": 80,
   "metadata": {
    "collapsed": true,
    "scrolled": false
   },
   "outputs": [
    {
     "data": {
      "text/plain": [
       "(416, 416, 3)"
      ]
     },
     "execution_count": 80,
     "metadata": {},
     "output_type": "execute_result"
    }
   ],
   "source": [
    "image2.shape"
   ]
  },
  {
   "cell_type": "code",
   "execution_count": 46,
   "metadata": {
    "collapsed": true,
    "scrolled": true
   },
   "outputs": [
    {
     "name": "stdout",
     "output_type": "stream",
     "text": [
      "1 0.3282181918621063 0.3282181918621063 0.3282181918621063\n",
      "2 0.09776227176189423 0.4496275782585144 0.19587569454541573\n",
      "3 0.14648465812206268 0.6909347772598267 0.27209533963884625\n",
      "5 0.22532857954502106 0.6506620645523071 0.3906365147658757\n",
      "6 0.1292135864496231 0.46190983057022095 0.24524033218622207\n",
      "7 0.1636487990617752 0.4223509132862091 0.2570698857307434\n",
      "8 0.11237556487321854 0.3275497257709503 0.22105075005027983\n",
      "9 0.1800781637430191 0.4633833169937134 0.2848810525167556\n",
      "10 0.27548903226852417 0.27548903226852417 0.27548903226852417\n",
      "11 0.4075438976287842 0.5887928605079651 0.4979041814804077\n",
      "12 0.12606452405452728 0.6607770323753357 0.25329342221512513\n",
      "13 0.3103359639644623 0.31033599376678467 0.3103359788656235\n",
      "16 0.10277058184146881 0.5460433959960938 0.21784452108606214\n",
      "17 0.34336137771606445 0.4759681522846222 0.39208707213401794\n",
      "18 0.3369521200656891 0.41645216941833496 0.37697476893663406\n",
      "20 0.4359006881713867 0.4359006881713867 0.4359006881713867\n",
      "21 0.3247784376144409 0.4918125569820404 0.3877932627995809\n",
      "22 0.3220153748989105 0.4389573633670807 0.38960006833076477\n",
      "23 0.10896944999694824 0.2129555493593216 0.17491533500807627\n",
      "24 0.3101889193058014 0.3101889193058014 0.3101889193058014\n",
      "25 0.2817368507385254 0.4584561586380005 0.364787620306015\n",
      "26 0.18997441232204437 0.5999894142150879 0.2836901232600212\n",
      "27 0.38090312480926514 0.5999343991279602 0.487796093026797\n",
      "28 0.21081377565860748 0.5346242785453796 0.3558857034553181\n",
      "29 0.1617731899023056 0.1617731899023056 0.1617731899023056\n",
      "31 0.12826237082481384 0.3771611154079437 0.27191287956454535\n",
      "33 0.18545271456241608 0.2328212708234787 0.20872976382573447\n",
      "34 0.1586984097957611 0.23235119879245758 0.19809584816296896\n",
      "35 0.20870812237262726 0.20870812237262726 0.20870812237262726\n",
      "36 0.23915542662143707 0.5025331377983093 0.3515044723947843\n",
      "37 0.1528049111366272 0.6784846782684326 0.32098426504267585\n",
      "38 0.1278991848230362 0.5114182829856873 0.2977517755894825\n",
      "39 0.3519986867904663 0.47430992126464844 0.42422160506248474\n",
      "40 0.20292237401008606 0.34090977907180786 0.29408736030260724\n",
      "41 0.26688146591186523 0.6937331557273865 0.40073437492052716\n",
      "42 0.15779082477092743 0.4478815793991089 0.2651756288189637\n",
      "43 0.3198487460613251 0.31984877586364746 0.31984876096248627\n",
      "45 0.13865822553634644 0.5245214104652405 0.3017297737300396\n",
      "46 0.24707622826099396 0.6390672922134399 0.3865261089343291\n",
      "47 0.1267055869102478 0.5744870901107788 0.2147248351573944\n",
      "48 0.19391703605651855 0.62760990858078 0.320656401515007\n",
      "50 0.25881361961364746 0.25881361961364746 0.25881361961364746\n",
      "52 0.20264078676700592 0.3199499547481537 0.26256583631038666\n",
      "53 0.0790594220161438 0.3541436195373535 0.16291525916141622\n",
      "55 0.2227511703968048 0.222751185297966 0.2227511778473854\n",
      "56 0.32127583026885986 0.487051784992218 0.3769315878550212\n",
      "57 0.1959262639284134 0.5814850926399231 0.3520217971957248\n",
      "58 0.15819226205348969 0.7391268610954285 0.30203279852867126\n",
      "59 0.10126709192991257 0.35360726714134216 0.16054960464437804\n",
      "60 0.15052200853824615 0.30789339542388916 0.21376087764898935\n",
      "62 0.3769512176513672 0.5133703947067261 0.4499901086091995\n",
      "64 0.2678168714046478 0.3826829195022583 0.3235257963339488\n",
      "65 0.11561070382595062 0.26726189255714417 0.1879855878651142\n",
      "67 0.1387566775083542 0.46716201305389404 0.2554774060845375\n",
      "68 0.19718608260154724 0.38297346234321594 0.2832732007784002\n",
      "69 0.12019012868404388 0.4797932207584381 0.2431514047086239\n",
      "70 0.18272146582603455 0.28561100363731384 0.22593554854393005\n",
      "72 0.4511141777038574 0.4511142075061798 0.4511141926050186\n",
      "73 0.28560012578964233 0.36415964365005493 0.33359503000974655\n",
      "74 0.14380915462970734 0.48023533821105957 0.27098206281661985\n",
      "75 0.16613620519638062 0.5747144818305969 0.2631090711802244\n",
      "77 0.18443961441516876 0.444892942905426 0.24374291939394815\n",
      "80 0.13204242289066315 0.430698037147522 0.21436085265416366\n",
      "83 0.31331729888916016 0.7264036536216736 0.49797024991777206\n",
      "84 0.2600298523902893 0.5360550284385681 0.4194617672608449\n",
      "85 0.10129870474338531 0.3942640721797943 0.1936370146771272\n",
      "87 0.13358770310878754 0.47223538160324097 0.2758329262336095\n",
      "89 0.3752698600292206 0.3752698600292206 0.3752698600292206\n",
      "90 0.1736857295036316 0.4733114540576935 0.31207775076230365\n",
      "91 0.16052711009979248 0.444069504737854 0.31476303272777134\n",
      "93 0.14455349743366241 0.5720409750938416 0.2422664389014244\n",
      "94 0.12409958988428116 0.46742796897888184 0.22009072168951943\n",
      "95 0.07249567657709122 0.6505886316299438 0.16666074842214584\n",
      "99 0.15782827138900757 0.39708417654037476 0.2653765930184003\n",
      "101 0.2215290367603302 0.5455591678619385 0.35391946964793736\n",
      "102 0.3088357746601105 0.3088357746601105 0.3088357746601105\n",
      "103 0.5951208472251892 0.5951208472251892 0.5951208472251892\n",
      "104 0.42380714416503906 0.42380714416503906 0.42380714416503906\n",
      "105 0.14250008761882782 0.3992358148097992 0.2637103431754642\n",
      "106 0.13866837322711945 0.44492772221565247 0.24116681143641472\n",
      "107 0.5419430136680603 0.7379029989242554 0.5979412347078323\n",
      "108 0.19476661086082458 0.40841925144195557 0.2558730360534456\n",
      "109 0.34796175360679626 0.5538684725761414 0.4188045263290405\n",
      "111 0.1492520272731781 0.8052762150764465 0.32823048159480095\n",
      "112 0.3865808844566345 0.6008287072181702 0.5194830099741617\n",
      "114 0.12004098296165466 0.12004100531339645 0.12004099413752556\n",
      "115 0.2169443815946579 0.2169443815946579 0.2169443815946579\n",
      "116 0.2662968337535858 0.46131592988967896 0.3244981633292304\n",
      "117 0.2353457510471344 0.7609527111053467 0.35613303246169253\n",
      "119 0.1658269762992859 0.5437402129173279 0.27487023174762726\n",
      "120 0.25084707140922546 0.626500129699707 0.35742209951082865\n",
      "122 0.17838792502880096 0.17838793992996216 0.17838793247938156\n",
      "123 0.17062658071517944 0.45234906673431396 0.2714408167770931\n",
      "124 0.3541164994239807 0.45103320479393005 0.4014346202214559\n",
      "125 0.13985559344291687 0.4028530418872833 0.2582023807547309\n",
      "126 0.23658664524555206 0.6759719848632812 0.3850615206691954\n",
      "127 0.2819057106971741 0.28190574049949646 0.28190572559833527\n"
     ]
    }
   ],
   "source": [
    "for subject_id in list(subject_ids)[:100]:\n",
    "    df = db_g.get_group(subject_id)\n",
    "    images = []\n",
    "    for ff in list(df.iloc[:, 1]):\n",
    "        image = imread(os.path.join('subject_faces', ff))\n",
    "        images.append(image/255)\n",
    "    images = np.asarray(images)\n",
    "    facial_ids = fr.fid_extractor.predict(images)\n",
    "    \n",
    "    dists = []\n",
    "    for i in range(facial_ids.shape[0] - 1):\n",
    "        for j in range(i + 1, facial_ids.shape[0]):\n",
    "            dists.append(norm(facial_ids[i] - facial_ids[j]))\n",
    "    dists = np.asarray(dists)\n",
    "    \n",
    "    ref_dists = []\n",
    "    for i in range(facial_ids.shape[0]):\n",
    "        ref_dists.append(norm(ref_facial_ids[subject_id] - facial_ids[i]))\n",
    "    ref_dists = np.asarray(ref_dists)\n",
    "    \n",
    "    #if len(dists) != 0: print(subject_id, dists.min(), dists.max(), dists.mean())\n",
    "    if len(dists) != 0: print(subject_id, ref_dists.min(), ref_dists.max(), ref_dists.mean()) "
   ]
  },
  {
   "cell_type": "code",
   "execution_count": 47,
   "metadata": {
    "collapsed": true,
    "scrolled": false
   },
   "outputs": [
    {
     "name": "stdout",
     "output_type": "stream",
     "text": [
      "1 0.30392056703567505 1.2681528329849243 0.622514363491174\n",
      "2 0.5279995203018188 1.1687475442886353 0.8758791570248489\n",
      "3 0.2531627416610718 1.2098956108093262 0.8236650763587519\n",
      "5 0.23516255617141724 1.2391843795776367 0.6389886435750243\n",
      "6 0.2377052903175354 1.2061262130737305 0.6133693524081297\n",
      "7 0.2037312239408493 1.2438901662826538 0.6614966954095195\n",
      "8 0.2082042247056961 1.2929039001464844 0.6628061068044635\n",
      "9 0.19181610643863678 1.2440906763076782 0.6434196394013922\n",
      "10 0.3424980342388153 1.2475141286849976 0.6403603859321035\n",
      "11 0.20997650921344757 1.2108741998672485 0.7054000479554889\n",
      "12 0.2144407033920288 1.216333031654358 0.6214638077036936\n",
      "13 0.2653812766075134 1.1587035655975342 0.6531599480094332\n",
      "16 0.17491118609905243 1.253640055656433 0.5894149730777694\n",
      "17 0.33631473779678345 1.189286470413208 0.7542514649505165\n",
      "18 0.21779915690422058 1.2106177806854248 0.6757441926183123\n",
      "20 0.31721100211143494 1.2196459770202637 0.7084443414151066\n",
      "21 0.30964940786361694 1.3016996383666992 0.7109066725579978\n",
      "22 0.3218415677547455 1.2539212703704834 0.6980073190849236\n",
      "23 0.1837712526321411 1.2450402975082397 0.6039832744634512\n",
      "24 0.29694873094558716 1.154557228088379 0.7178930813314939\n",
      "25 0.31974393129348755 1.1774295568466187 0.755563064115216\n",
      "26 0.31819817423820496 1.1362130641937256 0.666978901544404\n",
      "27 0.34901437163352966 1.2073274850845337 0.7573758438982144\n",
      "28 0.24495527148246765 1.1614181995391846 0.7241439763097395\n",
      "29 0.1498897820711136 1.2751374244689941 0.61896394915653\n",
      "31 0.265280157327652 1.1316345930099487 0.6523567704403477\n",
      "33 0.31449154019355774 1.1872146129608154 0.7424455774753583\n",
      "34 0.1984783411026001 1.2358148097991943 0.5794398577426018\n",
      "35 0.3106236159801483 1.1567445993423462 0.6431603743271395\n",
      "36 0.2847941517829895 1.1642308235168457 0.7175884200667693\n",
      "37 0.19289818406105042 1.2179166078567505 0.7041993520894704\n",
      "38 0.24855884909629822 1.1407934427261353 0.716322236206838\n",
      "39 0.40122154355049133 1.2264909744262695 0.7577949419166102\n",
      "40 0.262115478515625 1.3026889562606812 0.6113359189595438\n",
      "41 0.2736896276473999 1.2153538465499878 0.6532037489693173\n",
      "42 0.23921340703964233 1.220200777053833 0.8047199937446139\n",
      "43 0.2871048152446747 1.2597328424453735 0.6677398865271096\n",
      "45 0.20781901478767395 1.3144623041152954 0.6288103285010415\n",
      "46 0.2319818139076233 1.333171010017395 0.7237700716459946\n",
      "47 0.25554031133651733 1.2008789777755737 0.8075013344336037\n",
      "48 0.2304159253835678 1.1899513006210327 0.6800621570059747\n",
      "50 0.4667183458805084 1.0967551469802856 0.8422273511838432\n",
      "52 0.46274158358573914 1.088224172592163 0.7134145380872668\n",
      "53 0.16882826387882233 1.259207844734192 0.6191185798431817\n",
      "55 0.3529231548309326 1.236601710319519 0.6400697749070446\n",
      "56 0.2520084083080292 1.291401743888855 0.6243901088181569\n",
      "57 0.26339131593704224 1.231500506401062 0.690728579519818\n",
      "58 0.3247237503528595 1.1813814640045166 0.7998489173908961\n",
      "59 0.2701302170753479 1.168911099433899 0.7622353881430278\n",
      "60 0.15847110748291016 1.2291336059570312 0.5851787756940331\n",
      "62 0.2615208327770233 1.1121758222579956 0.7112194131871666\n",
      "64 0.26810482144355774 1.2681339979171753 0.6265715408806849\n",
      "65 0.31845712661743164 1.245996117591858 0.6986472161505559\n",
      "67 0.24337299168109894 1.1923646926879883 0.7641749458641491\n",
      "68 0.21884703636169434 1.191534399986267 0.781561004198242\n",
      "69 0.16827274858951569 1.2547439336776733 0.5800570454335574\n",
      "70 0.2743608355522156 1.1092298030853271 0.6263466050929895\n",
      "72 0.43525102734565735 1.0786643028259277 0.7380061705004085\n",
      "73 0.26528534293174744 1.1656649112701416 0.6155215741106959\n",
      "74 0.24987554550170898 1.1467026472091675 0.6903642562302676\n",
      "75 0.5943430662155151 1.3337702751159668 1.0621656452365194\n",
      "77 0.24291250109672546 1.2661815881729126 0.681239174084918\n",
      "79 0.4035170078277588 1.0291727781295776 0.7184572397458433\n",
      "80 0.1788526475429535 1.2938770055770874 0.6285925806263388\n",
      "82 0.3369252681732178 1.1424912214279175 0.6149372919039293\n",
      "83 0.25709253549575806 1.2659939527511597 0.8038635098037763\n",
      "84 0.2484683245420456 1.2038755416870117 0.644758850503959\n",
      "85 0.1735910177230835 1.2793382406234741 0.6533697061700585\n",
      "87 0.2775198221206665 1.2093840837478638 0.596537128391892\n",
      "89 0.23069636523723602 1.2029948234558105 0.6616230496402943\n",
      "90 0.21486853063106537 1.2407379150390625 0.6267252395851444\n",
      "91 0.3025767505168915 1.1562519073486328 0.7042439622275624\n",
      "92 0.616307258605957 1.1508363485336304 0.8897372586558564\n",
      "93 0.3225058913230896 1.2007672786712646 0.7153548423388991\n",
      "94 0.17031316459178925 1.2841172218322754 0.6451713668362575\n",
      "95 0.11912423372268677 1.272993803024292 0.6537793452568907\n",
      "99 0.1923917979001999 1.3062070608139038 0.6469777774900063\n",
      "101 0.22466346621513367 1.2385475635528564 0.6248813999020291\n",
      "102 0.2779240906238556 1.2639650106430054 0.6359224533191835\n",
      "103 0.324420690536499 1.267991304397583 0.8510305560899504\n",
      "104 0.24084141850471497 1.1273683309555054 0.7861509154541324\n",
      "105 0.25614598393440247 1.1935278177261353 0.7823689775301016\n",
      "106 0.19453169405460358 1.2457525730133057 0.6150983191951357\n",
      "107 0.181242436170578 1.2655671834945679 0.7904654603564378\n",
      "108 0.24501286447048187 1.2512202262878418 0.5926210076185455\n",
      "109 0.3006484806537628 1.2409567832946777 0.6794080600292995\n",
      "111 0.3139076828956604 1.2464191913604736 0.820116514622262\n",
      "112 0.2106301188468933 1.2519538402557373 0.7950634848991227\n",
      "114 0.15730462968349457 1.2662773132324219 0.6318190054911555\n",
      "115 0.3393007218837738 1.2631011009216309 0.6697251086283211\n",
      "116 0.23997682332992554 1.1374787092208862 0.6570741529215868\n",
      "117 0.18795756995677948 1.2885922193527222 0.6274819839648443\n",
      "119 0.5350584387779236 1.217179298400879 0.9837123611856041\n",
      "120 0.18163356184959412 1.2249295711517334 0.6470830274551405\n",
      "122 0.1710376739501953 1.2816287279129028 0.6180147783774318\n",
      "123 0.37090054154396057 1.2266117334365845 0.8424472245905135\n",
      "124 0.30264830589294434 1.251145601272583 0.6656525543442479\n",
      "125 0.24134421348571777 1.1950610876083374 0.6088507500630218\n",
      "126 0.2408820390701294 1.1789880990982056 0.6596324652868222\n",
      "127 0.2988525331020355 1.0929896831512451 0.6190568348675063\n"
     ]
    }
   ],
   "source": [
    "for subject_id in list(subject_ids)[:100]:\n",
    "    df = db_g.get_group(subject_id)\n",
    "    images = []\n",
    "    for ff in list(df.iloc[:, 1]):\n",
    "        image = imread(os.path.join('subject_faces', ff))\n",
    "        images.append(image/255)\n",
    "    images = np.asarray(images)\n",
    "    facial_ids = fr.fid_extractor.predict(images)\n",
    "    \n",
    "    dists = []\n",
    "        \n",
    "    for i in range(facial_ids.shape[0]):\n",
    "        for subject_id_p in list(subject_ids)[:100]:\n",
    "            if subject_id_p == subject_id: continue\n",
    "            dists.append(norm(facial_ids[i] - ref_facial_ids[subject_id_p]))\n",
    "                \n",
    "    dists = np.asarray(dists)\n",
    "        \n",
    "    if len(dists) != 0: print(subject_id, dists.min(), dists.max(), dists.mean())"
   ]
  },
  {
   "cell_type": "code",
   "execution_count": 83,
   "metadata": {
    "collapsed": true,
    "scrolled": false
   },
   "outputs": [],
   "source": [
    "from keras import backend as K\n",
    "from keras.layers import Layer, Input, Flatten, Dense\n",
    "from keras.models import Model\n",
    "\n",
    "class MyLayer(Layer):\n",
    "\n",
    "    def __init__(self, output_dim, **kwargs):\n",
    "        self.output_dim = output_dim\n",
    "        super(MyLayer, self).__init__(**kwargs)\n",
    "\n",
    "    def build(self, input_shape):\n",
    "        # Create a trainable weight variable for this layer.\n",
    "        self.rbm_weight = self.add_weight(name='rbm_weight'\n",
    "                                 , shape=(input_shape[1], self.output_dim)\n",
    "                                 , initializer='uniform' # Which initializer is optimal?\n",
    "                                 , trainable=True)\n",
    "\n",
    "        self.hidden_bias = self.add_weight(name='rbm_hidden_bias'\n",
    "                                           , shape=(self.output_dim, )\n",
    "                                           , initializer='uniform'\n",
    "                                           , trainable=True)\n",
    "        super(MyLayer, self).build(input_shape)  # Be sure to call this at the end\n",
    "\n",
    "    def call(self, x):\n",
    "        return K.sigmoid(K.dot(x, self.rbm_weight) + self.hidden_bias) # Float type?\n",
    "\n",
    "    def compute_output_shape(self, input_shape):\n",
    "        return (input_shape[0], self.output_dim)\n",
    "    \n",
    "    def fit(self, x):\n",
    "        pass"
   ]
  },
  {
   "cell_type": "code",
   "execution_count": 85,
   "metadata": {
    "collapsed": true,
    "scrolled": false
   },
   "outputs": [
    {
     "name": "stdout",
     "output_type": "stream",
     "text": [
      "Epoch 1/1\n",
      "1/1 [==============================] - 8s 8s/step - loss: 11.2390\n"
     ]
    },
    {
     "data": {
      "text/plain": [
       "<keras.callbacks.History at 0x1ae0f0d4fd0>"
      ]
     },
     "execution_count": 85,
     "metadata": {},
     "output_type": "execute_result"
    }
   ],
   "source": [
    "input1 = Input(shape=(100,))\n",
    "x = MyLayer(10)(input1)\n",
    "x = Dense(10, activation='softmax')(x)\n",
    "model = Model(input1, x)\n",
    "model.compile(optimizer='sgd', loss='categorical_crossentropy')\n",
    "model.fit(np.random.rand(1,100), np.random.rand(1,10))"
   ]
  },
  {
   "cell_type": "code",
   "execution_count": 3,
   "metadata": {
    "collapsed": true,
    "scrolled": false
   },
   "outputs": [
    {
     "name": "stderr",
     "output_type": "stream",
     "text": [
      "Using TensorFlow backend.\n"
     ]
    }
   ],
   "source": [
    "import numpy as np\n",
    "\n",
    "from keras import backend as K\n",
    "from keras.layers import Layer, Input\n",
    "from tensorflow.keras import initializers\n",
    "\n",
    "class RBM(Layer):\n",
    "    \"\"\"Restricted Boltzmann Machine based on Keras.\"\"\"\n",
    "    def __init__(self, hps, output_dim, name=None, **kwargs):\n",
    "        self.hps = hps\n",
    "        self.output_dim = output_dim\n",
    "        self.name = name\n",
    "        super(RBM, self).__init__(**kwargs)\n",
    "    \n",
    "    def build(self, input_shape):\n",
    "        self.rbm_weight = self.add_weight(name='rbm_weight'\n",
    "                                 , shape=(input_shape[1], self.output_dim)\n",
    "                                 , initializer='uniform' # Which initializer is optimal?\n",
    "                                 , trainable=True)\n",
    "\n",
    "        self.hidden_bias = self.add_weight(name='rbm_hidden_bias'\n",
    "                                           , shape=(self.output_dim, )\n",
    "                                           , initializer='uniform'\n",
    "                                           , trainable=True)\n",
    "        self.visible_bias = K.variable(initializers.get('uniform')((input_shape[1], ))\n",
    "                            , dtype=K.floatx()\n",
    "                            , name='rbm_visible_bias')\n",
    "        \n",
    "        # Make symbolic computation objects.\n",
    "        # Transform visible units.\n",
    "        self.input_visible = K.placeholder(shape=(None, input_shape[1]), name='input_visible')\n",
    "        self.transform = K.sigmoid(K.dot(self.input_visible, self.rbm_weight) + self.hidden_bias)\n",
    "        self.transform_func = K.function([self.input_visible], [self.transform])\n",
    "  \n",
    "        # Transform hidden units.      \n",
    "        self.input_hidden = K.placeholder(shape=(None, self.output_dim), name='input_hidden')\n",
    "        self.inv_transform = K.sigmoid(K.dot(self.input_hidden, K.transpose(self.rbm_weight)) + self.visible_bias)\n",
    "        self.inv_transform_func = K.function([self.input_hidden], [self.inv_transform])\n",
    "        \n",
    "        super(RBM, self).build(input_shape)\n",
    "        \n",
    "    def call(self, x):\n",
    "        return K.sigmoid(K.dot(x, self.rbm_weight) + self.hidden_bias) # Float type?\n",
    "    \n",
    "    def transform(self, v):\n",
    "        return self.transform_func(v)\n",
    "    \n",
    "    def inv_transform(self, h):\n",
    "        return self.inv_transform_func(h)\n",
    "        \n",
    "    def compute_output_shape(self, input_shape):\n",
    "        return (input_shape[0], self.output_dim)\n",
    "    \n",
    "    def fit(self, V, verbose=1):\n",
    "        \"\"\"Train RBM with the data V.\n",
    "        \n",
    "        Parameters\n",
    "        ----------\n",
    "        V : 2d numpy array\n",
    "            Visible data (batch size x input_dim).\n",
    "        verbose : integer\n",
    "            Verbose mode (default, 1).\n",
    "        \"\"\"\n",
    "        num_step = V.shape[0] // self.hps['batch_size'] \\\n",
    "            if V.shape[0] % self.hps['batch_size'] == 0 else V.shape[0] // self.hps['batch_size'] + 1 # Exception processing?\n",
    "        \n",
    "        # Contrastive divergence.\n",
    "        v_pos = self.input_visible\n",
    "        h_pos = self.transform\n",
    "        v_neg = K.cast(K.less(K.random_uniform(shape=(self.hps['batch_size'], V.shape[1]))\n",
    "                       , K.sigmoid(K.dot(h_pos, K.transpose(self.rbm_weight)) + self.visible_bias))\n",
    "                       , dtype=np.float32)\n",
    "        h_neg = K.sigmoid(K.dot(v_neg, self.rbm_weight) + self.hidden_bias)\n",
    "        update = K.transpose(K.transpose(K.dot(K.transpose(v_pos), h_pos)) \\\n",
    "                             - K.dot(K.transpose(h_neg), v_neg))\n",
    "        self.rbm_weight_update_func = K.function([self.input_visible], \n",
    "                                [K.update_add(self.rbm_weight, self.hps['lr'] * update)])\n",
    "        self.hidden_bias_update_func = K.function([self.input_visible], \n",
    "                                [K.update_add(self.hidden_bias, self.hps['lr'] \\\n",
    "                                * (K.sum(h_pos, axis=0) - K.sum(h_neg, axis=0)))])\n",
    "        self.visible_bias_update_func = K.function([self.input_visible], \n",
    "                                [K.update_add(self.visible_bias, self.hps['lr'] \\\n",
    "                                * (K.sum(v_pos, axis=0) - K.sum(v_neg, axis=0)))])\n",
    "        \n",
    "        for k in range(self.hps['epochs']):\n",
    "            if verbose == 1:\n",
    "                print(k, '/', self.hps['epochs'], ' epochs')\n",
    "                \n",
    "            for i in range(num_step):\n",
    "                if i == (num_step - 1):\n",
    "                    # Contrastive divergence.\n",
    "                    v_pos = self.input_visible\n",
    "                    h_pos = self.transform\n",
    "                    v_neg = K.cast(K.less(K.random_uniform(shape=(V.shape[0] \\\n",
    "                                   - int(i*self.hps['batch_size']), V.shape[1])) #?\n",
    "                                   , K.sigmoid(K.dot(h_pos, K.transpose(self.rbm_weight)) \\\n",
    "                                   + self.visible_bias)), dtype=np.float32)\n",
    "                    h_neg = K.sigmoid(K.dot(v_neg, self.rbm_weight) + self.hidden_bias)\n",
    "                    update = K.transpose(K.transpose(K.dot(K.transpose(v_pos), h_pos)) \\\n",
    "                                         - K.dot(K.transpose(h_neg), v_neg))\n",
    "                    self.rbm_weight_update_func = K.function([self.input_visible], \n",
    "                            [K.update_add(self.rbm_weight, self.hps['lr'] * update)])\n",
    "                    self.hidden_bias_update_func = K.function([self.input_visible], \n",
    "                            [K.update_add(self.hidden_bias, self.hps['lr'] \\\n",
    "                            * (K.sum(h_pos, axis=0) - K.sum(h_neg, axis=0)))])\n",
    "                    self.visible_bias_update_func = K.function([self.input_visible], \n",
    "                            [K.update_add(self.visible_bias, self.hps['lr'] \\\n",
    "                            * (K.sum(v_pos, axis=0) - K.sum(v_neg, axis=0)))])\n",
    "\n",
    "                    V_batch = [V[int(i*self.hps['batch_size']):V.shape[0]]]\n",
    "                    \n",
    "                    # Train.\n",
    "                    self.rbm_weight_update_func(V_batch)\n",
    "                    self.hidden_bias_update_func(V_batch)\n",
    "                    self.visible_bias_update_func(V_batch)\n",
    "                else:\n",
    "                    V_batch = [V[int(i*self.hps['batch_size']):int((i+1)*self.hps['batch_size'])]]\n",
    "                    \n",
    "                    # Train.\n",
    "                    self.rbm_weight_update_func(V_batch)\n",
    "                    self.hidden_bias_update_func(V_batch)\n",
    "                    self.visible_bias_update_func(V_batch)  "
   ]
  },
  {
   "cell_type": "code",
   "execution_count": 4,
   "metadata": {
    "collapsed": true,
    "scrolled": false
   },
   "outputs": [
    {
     "ename": "NameError",
     "evalue": "name 'Flatten' is not defined",
     "output_type": "error",
     "traceback": [
      "\u001b[1;31m---------------------------------------------------------------------------\u001b[0m",
      "\u001b[1;31mNameError\u001b[0m                                 Traceback (most recent call last)",
      "\u001b[1;32m<ipython-input-4-fc81ba510d11>\u001b[0m in \u001b[0;36m<module>\u001b[1;34m\u001b[0m\n\u001b[0;32m      9\u001b[0m \u001b[0mrbm_layer\u001b[0m \u001b[1;33m=\u001b[0m \u001b[0mRBM\u001b[0m\u001b[1;33m(\u001b[0m\u001b[0mhps\u001b[0m\u001b[1;33m,\u001b[0m \u001b[1;36m10\u001b[0m\u001b[1;33m)\u001b[0m\u001b[1;33m\u001b[0m\u001b[1;33m\u001b[0m\u001b[0m\n\u001b[0;32m     10\u001b[0m \u001b[0minput1\u001b[0m \u001b[1;33m=\u001b[0m \u001b[0mInput\u001b[0m\u001b[1;33m(\u001b[0m\u001b[0mshape\u001b[0m\u001b[1;33m=\u001b[0m\u001b[1;33m(\u001b[0m\u001b[1;36m10\u001b[0m\u001b[1;33m,\u001b[0m \u001b[1;36m10\u001b[0m\u001b[1;33m,\u001b[0m \u001b[1;36m3\u001b[0m\u001b[1;33m)\u001b[0m\u001b[1;33m)\u001b[0m\u001b[1;33m\u001b[0m\u001b[1;33m\u001b[0m\u001b[0m\n\u001b[1;32m---> 11\u001b[1;33m \u001b[0mx\u001b[0m \u001b[1;33m=\u001b[0m \u001b[0mFlatten\u001b[0m\u001b[1;33m(\u001b[0m\u001b[1;33m)\u001b[0m\u001b[1;33m(\u001b[0m\u001b[0minput1\u001b[0m\u001b[1;33m)\u001b[0m\u001b[1;33m\u001b[0m\u001b[1;33m\u001b[0m\u001b[0m\n\u001b[0m\u001b[0;32m     12\u001b[0m \u001b[0mx\u001b[0m \u001b[1;33m=\u001b[0m \u001b[0mrbm_layer\u001b[0m\u001b[1;33m(\u001b[0m\u001b[0mx\u001b[0m\u001b[1;33m)\u001b[0m\u001b[1;33m\u001b[0m\u001b[1;33m\u001b[0m\u001b[0m\n\u001b[0;32m     13\u001b[0m \u001b[0moutput\u001b[0m \u001b[1;33m=\u001b[0m \u001b[0mDense\u001b[0m\u001b[1;33m(\u001b[0m\u001b[1;36m10\u001b[0m\u001b[1;33m,\u001b[0m \u001b[0mactivation\u001b[0m\u001b[1;33m=\u001b[0m\u001b[1;34m'softmax'\u001b[0m\u001b[1;33m)\u001b[0m\u001b[1;33m(\u001b[0m\u001b[0mx\u001b[0m\u001b[1;33m)\u001b[0m\u001b[1;33m\u001b[0m\u001b[1;33m\u001b[0m\u001b[0m\n",
      "\u001b[1;31mNameError\u001b[0m: name 'Flatten' is not defined"
     ]
    }
   ],
   "source": [
    "hps = {}\n",
    "hps['lr'] = 0.1\n",
    "hps['batch_size'] = 1\n",
    "hps['epochs'] = 10\n",
    "hps['beta_1'] = 0.99\n",
    "hps['beta_2'] = 0.99\n",
    "hps['decay'] = 0.0\n",
    "\n",
    "rbm_layer = RBM(hps, 10)\n",
    "input1 = Input(shape=(10, 10, 3))\n",
    "x = Flatten()(input1)\n",
    "x = rbm_layer(x)\n",
    "output = Dense(10, activation='softmax')(x)\n",
    "model = Model(inputs=[input1], outputs=[output])\n",
    "opt = optimizers.Adam(lr=hps['lr']\n",
    "                                , beta_1=hps['beta_1']\n",
    "                                , beta_2=hps['beta_2']\n",
    "                                , decay=hps['decay'])\n",
    "\n",
    "model.compile(optimizer=opt, loss='mse')"
   ]
  },
  {
   "cell_type": "code",
   "execution_count": 47,
   "metadata": {
    "collapsed": true,
    "scrolled": false
   },
   "outputs": [
    {
     "data": {
      "text/plain": [
       "array([[0.05225093, 0.08817174, 0.16123906, 0.06477234, 0.12430384,\n",
       "        0.06368855, 0.09730622, 0.1456283 , 0.0880848 , 0.11455426]],\n",
       "      dtype=float32)"
      ]
     },
     "execution_count": 47,
     "metadata": {},
     "output_type": "execute_result"
    }
   ],
   "source": [
    "model.predict(np.random.rand(1,10,10,3))"
   ]
  },
  {
   "cell_type": "code",
   "execution_count": 48,
   "metadata": {
    "collapsed": true,
    "scrolled": false
   },
   "outputs": [
    {
     "name": "stdout",
     "output_type": "stream",
     "text": [
      "0 / 10  epochs\n",
      "1 / 10  epochs\n",
      "2 / 10  epochs\n",
      "3 / 10  epochs\n",
      "4 / 10  epochs\n",
      "5 / 10  epochs\n",
      "6 / 10  epochs\n",
      "7 / 10  epochs\n",
      "8 / 10  epochs\n",
      "9 / 10  epochs\n"
     ]
    }
   ],
   "source": [
    "rbm_layer.fit(np.random.rand(1, 300))"
   ]
  },
  {
   "cell_type": "code",
   "execution_count": 49,
   "metadata": {
    "collapsed": true,
    "scrolled": false
   },
   "outputs": [
    {
     "name": "stdout",
     "output_type": "stream",
     "text": [
      "Epoch 1/1\n",
      "10/10 [==============================] - 8s 807ms/step - loss: 0.2910\n"
     ]
    },
    {
     "data": {
      "text/plain": [
       "<keras.callbacks.History at 0x1dd1b532390>"
      ]
     },
     "execution_count": 49,
     "metadata": {},
     "output_type": "execute_result"
    }
   ],
   "source": [
    "model.fit(np.random.rand(10,10,10,3), np.random.rand(10, 10))"
   ]
  },
  {
   "cell_type": "code",
   "execution_count": 52,
   "metadata": {
    "collapsed": true,
    "scrolled": false
   },
   "outputs": [],
   "source": [
    "input1 = Input(shape=(10,))\n",
    "x = Lambda(lambda x: K.l2_normalize(x, axis=1))(input1)\n",
    "model = Model(input1, x)"
   ]
  },
  {
   "cell_type": "code",
   "execution_count": 74,
   "metadata": {
    "collapsed": true,
    "scrolled": false
   },
   "outputs": [],
   "source": [
    "res = model.predict(np.random.rand(2,10))"
   ]
  },
  {
   "cell_type": "code",
   "execution_count": 75,
   "metadata": {
    "collapsed": true,
    "scrolled": false
   },
   "outputs": [
    {
     "data": {
      "text/plain": [
       "(2, 10)"
      ]
     },
     "execution_count": 75,
     "metadata": {},
     "output_type": "execute_result"
    }
   ],
   "source": [
    "res.shape"
   ]
  },
  {
   "cell_type": "code",
   "execution_count": 77,
   "metadata": {
    "collapsed": true,
    "scrolled": false
   },
   "outputs": [
    {
     "data": {
      "text/plain": [
       "1.0"
      ]
     },
     "execution_count": 77,
     "metadata": {},
     "output_type": "execute_result"
    }
   ],
   "source": [
    "norm(res[0])"
   ]
  },
  {
   "cell_type": "code",
   "execution_count": 59,
   "metadata": {
    "collapsed": true,
    "scrolled": false
   },
   "outputs": [],
   "source": [
    "input1 = Input(shape=(10,))\n",
    "input2 = Input(shape=(10,))\n",
    "x = Lambda(lambda x: K.cast(K.less(x[0], x[1]), dtype=float32))([input1, input2])\n",
    "model = Model(inputs=[input1, input2], outputs=[x])"
   ]
  },
  {
   "cell_type": "code",
   "execution_count": 60,
   "metadata": {
    "collapsed": true,
    "scrolled": false
   },
   "outputs": [
    {
     "data": {
      "text/plain": [
       "array([[0., 0., 1., 0., 0., 1., 0., 0., 0., 0.]], dtype=float32)"
      ]
     },
     "execution_count": 60,
     "metadata": {},
     "output_type": "execute_result"
    }
   ],
   "source": [
    "model.predict([np.random.rand(1,10), np.random.rand(1, 10)])"
   ]
  },
  {
   "cell_type": "code",
   "execution_count": 62,
   "metadata": {
    "collapsed": true,
    "scrolled": false
   },
   "outputs": [
    {
     "name": "stderr",
     "output_type": "stream",
     "text": [
      "D:\\Users\\gutom\\Anaconda3\\envs\\tf36\\lib\\site-packages\\keras_applications\\mobilenet_v2.py:306: UserWarning: MobileNet shape is undefined. Weights for input shape(224, 224) will be loaded.\n",
      "  warnings.warn('MobileNet shape is undefined.'\n"
     ]
    },
    {
     "name": "stdout",
     "output_type": "stream",
     "text": [
      "Downloading data from https://github.com/JonathanCMitchell/mobilenet_v2_keras/releases/download/v1.1/mobilenet_v2_weights_tf_dim_ordering_tf_kernels_1.0_224_no_top.h5\n",
      "9412608/9406464 [==============================] - 4s 0us/step\n"
     ]
    }
   ],
   "source": [
    "base = MobileNetV2(include_top = False)"
   ]
  },
  {
   "cell_type": "code",
   "execution_count": 63,
   "metadata": {
    "collapsed": true,
    "scrolled": true
   },
   "outputs": [
    {
     "name": "stdout",
     "output_type": "stream",
     "text": [
      "__________________________________________________________________________________________________\n",
      "Layer (type)                    Output Shape         Param #     Connected to                     \n",
      "==================================================================================================\n",
      "input_2 (InputLayer)            (None, None, None, 3 0                                            \n",
      "__________________________________________________________________________________________________\n",
      "Conv1_pad (ZeroPadding2D)       (None, None, None, 3 0           input_2[0][0]                    \n",
      "__________________________________________________________________________________________________\n",
      "Conv1 (Conv2D)                  (None, None, None, 3 864         Conv1_pad[0][0]                  \n",
      "__________________________________________________________________________________________________\n",
      "bn_Conv1 (BatchNormalization)   (None, None, None, 3 128         Conv1[0][0]                      \n",
      "__________________________________________________________________________________________________\n",
      "Conv1_relu (ReLU)               (None, None, None, 3 0           bn_Conv1[0][0]                   \n",
      "__________________________________________________________________________________________________\n",
      "expanded_conv_depthwise (Depthw (None, None, None, 3 288         Conv1_relu[0][0]                 \n",
      "__________________________________________________________________________________________________\n",
      "expanded_conv_depthwise_BN (Bat (None, None, None, 3 128         expanded_conv_depthwise[0][0]    \n",
      "__________________________________________________________________________________________________\n",
      "expanded_conv_depthwise_relu (R (None, None, None, 3 0           expanded_conv_depthwise_BN[0][0] \n",
      "__________________________________________________________________________________________________\n",
      "expanded_conv_project (Conv2D)  (None, None, None, 1 512         expanded_conv_depthwise_relu[0][0\n",
      "__________________________________________________________________________________________________\n",
      "expanded_conv_project_BN (Batch (None, None, None, 1 64          expanded_conv_project[0][0]      \n",
      "__________________________________________________________________________________________________\n",
      "block_1_expand (Conv2D)         (None, None, None, 9 1536        expanded_conv_project_BN[0][0]   \n",
      "__________________________________________________________________________________________________\n",
      "block_1_expand_BN (BatchNormali (None, None, None, 9 384         block_1_expand[0][0]             \n",
      "__________________________________________________________________________________________________\n",
      "block_1_expand_relu (ReLU)      (None, None, None, 9 0           block_1_expand_BN[0][0]          \n",
      "__________________________________________________________________________________________________\n",
      "block_1_pad (ZeroPadding2D)     (None, None, None, 9 0           block_1_expand_relu[0][0]        \n",
      "__________________________________________________________________________________________________\n",
      "block_1_depthwise (DepthwiseCon (None, None, None, 9 864         block_1_pad[0][0]                \n",
      "__________________________________________________________________________________________________\n",
      "block_1_depthwise_BN (BatchNorm (None, None, None, 9 384         block_1_depthwise[0][0]          \n",
      "__________________________________________________________________________________________________\n",
      "block_1_depthwise_relu (ReLU)   (None, None, None, 9 0           block_1_depthwise_BN[0][0]       \n",
      "__________________________________________________________________________________________________\n",
      "block_1_project (Conv2D)        (None, None, None, 2 2304        block_1_depthwise_relu[0][0]     \n",
      "__________________________________________________________________________________________________\n",
      "block_1_project_BN (BatchNormal (None, None, None, 2 96          block_1_project[0][0]            \n",
      "__________________________________________________________________________________________________\n",
      "block_2_expand (Conv2D)         (None, None, None, 1 3456        block_1_project_BN[0][0]         \n",
      "__________________________________________________________________________________________________\n",
      "block_2_expand_BN (BatchNormali (None, None, None, 1 576         block_2_expand[0][0]             \n",
      "__________________________________________________________________________________________________\n",
      "block_2_expand_relu (ReLU)      (None, None, None, 1 0           block_2_expand_BN[0][0]          \n",
      "__________________________________________________________________________________________________\n",
      "block_2_depthwise (DepthwiseCon (None, None, None, 1 1296        block_2_expand_relu[0][0]        \n",
      "__________________________________________________________________________________________________\n",
      "block_2_depthwise_BN (BatchNorm (None, None, None, 1 576         block_2_depthwise[0][0]          \n",
      "__________________________________________________________________________________________________\n",
      "block_2_depthwise_relu (ReLU)   (None, None, None, 1 0           block_2_depthwise_BN[0][0]       \n",
      "__________________________________________________________________________________________________\n",
      "block_2_project (Conv2D)        (None, None, None, 2 3456        block_2_depthwise_relu[0][0]     \n",
      "__________________________________________________________________________________________________\n",
      "block_2_project_BN (BatchNormal (None, None, None, 2 96          block_2_project[0][0]            \n",
      "__________________________________________________________________________________________________\n",
      "block_2_add (Add)               (None, None, None, 2 0           block_1_project_BN[0][0]         \n",
      "                                                                 block_2_project_BN[0][0]         \n",
      "__________________________________________________________________________________________________\n",
      "block_3_expand (Conv2D)         (None, None, None, 1 3456        block_2_add[0][0]                \n",
      "__________________________________________________________________________________________________\n",
      "block_3_expand_BN (BatchNormali (None, None, None, 1 576         block_3_expand[0][0]             \n",
      "__________________________________________________________________________________________________\n",
      "block_3_expand_relu (ReLU)      (None, None, None, 1 0           block_3_expand_BN[0][0]          \n",
      "__________________________________________________________________________________________________\n",
      "block_3_pad (ZeroPadding2D)     (None, None, None, 1 0           block_3_expand_relu[0][0]        \n",
      "__________________________________________________________________________________________________\n",
      "block_3_depthwise (DepthwiseCon (None, None, None, 1 1296        block_3_pad[0][0]                \n",
      "__________________________________________________________________________________________________\n",
      "block_3_depthwise_BN (BatchNorm (None, None, None, 1 576         block_3_depthwise[0][0]          \n",
      "__________________________________________________________________________________________________\n",
      "block_3_depthwise_relu (ReLU)   (None, None, None, 1 0           block_3_depthwise_BN[0][0]       \n",
      "__________________________________________________________________________________________________\n",
      "block_3_project (Conv2D)        (None, None, None, 3 4608        block_3_depthwise_relu[0][0]     \n",
      "__________________________________________________________________________________________________\n",
      "block_3_project_BN (BatchNormal (None, None, None, 3 128         block_3_project[0][0]            \n",
      "__________________________________________________________________________________________________\n",
      "block_4_expand (Conv2D)         (None, None, None, 1 6144        block_3_project_BN[0][0]         \n",
      "__________________________________________________________________________________________________\n",
      "block_4_expand_BN (BatchNormali (None, None, None, 1 768         block_4_expand[0][0]             \n",
      "__________________________________________________________________________________________________\n",
      "block_4_expand_relu (ReLU)      (None, None, None, 1 0           block_4_expand_BN[0][0]          \n",
      "__________________________________________________________________________________________________\n",
      "block_4_depthwise (DepthwiseCon (None, None, None, 1 1728        block_4_expand_relu[0][0]        \n",
      "__________________________________________________________________________________________________\n",
      "block_4_depthwise_BN (BatchNorm (None, None, None, 1 768         block_4_depthwise[0][0]          \n",
      "__________________________________________________________________________________________________\n",
      "block_4_depthwise_relu (ReLU)   (None, None, None, 1 0           block_4_depthwise_BN[0][0]       \n",
      "__________________________________________________________________________________________________\n",
      "block_4_project (Conv2D)        (None, None, None, 3 6144        block_4_depthwise_relu[0][0]     \n",
      "__________________________________________________________________________________________________\n",
      "block_4_project_BN (BatchNormal (None, None, None, 3 128         block_4_project[0][0]            \n",
      "__________________________________________________________________________________________________\n",
      "block_4_add (Add)               (None, None, None, 3 0           block_3_project_BN[0][0]         \n",
      "                                                                 block_4_project_BN[0][0]         \n",
      "__________________________________________________________________________________________________\n",
      "block_5_expand (Conv2D)         (None, None, None, 1 6144        block_4_add[0][0]                \n",
      "__________________________________________________________________________________________________\n",
      "block_5_expand_BN (BatchNormali (None, None, None, 1 768         block_5_expand[0][0]             \n",
      "__________________________________________________________________________________________________\n",
      "block_5_expand_relu (ReLU)      (None, None, None, 1 0           block_5_expand_BN[0][0]          \n",
      "__________________________________________________________________________________________________\n",
      "block_5_depthwise (DepthwiseCon (None, None, None, 1 1728        block_5_expand_relu[0][0]        \n",
      "__________________________________________________________________________________________________\n",
      "block_5_depthwise_BN (BatchNorm (None, None, None, 1 768         block_5_depthwise[0][0]          \n",
      "__________________________________________________________________________________________________\n",
      "block_5_depthwise_relu (ReLU)   (None, None, None, 1 0           block_5_depthwise_BN[0][0]       \n",
      "__________________________________________________________________________________________________\n",
      "block_5_project (Conv2D)        (None, None, None, 3 6144        block_5_depthwise_relu[0][0]     \n",
      "__________________________________________________________________________________________________\n",
      "block_5_project_BN (BatchNormal (None, None, None, 3 128         block_5_project[0][0]            \n",
      "__________________________________________________________________________________________________\n",
      "block_5_add (Add)               (None, None, None, 3 0           block_4_add[0][0]                \n",
      "                                                                 block_5_project_BN[0][0]         \n",
      "__________________________________________________________________________________________________\n",
      "block_6_expand (Conv2D)         (None, None, None, 1 6144        block_5_add[0][0]                \n",
      "__________________________________________________________________________________________________\n",
      "block_6_expand_BN (BatchNormali (None, None, None, 1 768         block_6_expand[0][0]             \n",
      "__________________________________________________________________________________________________\n",
      "block_6_expand_relu (ReLU)      (None, None, None, 1 0           block_6_expand_BN[0][0]          \n",
      "__________________________________________________________________________________________________\n",
      "block_6_pad (ZeroPadding2D)     (None, None, None, 1 0           block_6_expand_relu[0][0]        \n",
      "__________________________________________________________________________________________________\n",
      "block_6_depthwise (DepthwiseCon (None, None, None, 1 1728        block_6_pad[0][0]                \n",
      "__________________________________________________________________________________________________\n",
      "block_6_depthwise_BN (BatchNorm (None, None, None, 1 768         block_6_depthwise[0][0]          \n",
      "__________________________________________________________________________________________________\n",
      "block_6_depthwise_relu (ReLU)   (None, None, None, 1 0           block_6_depthwise_BN[0][0]       \n",
      "__________________________________________________________________________________________________\n",
      "block_6_project (Conv2D)        (None, None, None, 6 12288       block_6_depthwise_relu[0][0]     \n",
      "__________________________________________________________________________________________________\n",
      "block_6_project_BN (BatchNormal (None, None, None, 6 256         block_6_project[0][0]            \n",
      "__________________________________________________________________________________________________\n",
      "block_7_expand (Conv2D)         (None, None, None, 3 24576       block_6_project_BN[0][0]         \n",
      "__________________________________________________________________________________________________\n",
      "block_7_expand_BN (BatchNormali (None, None, None, 3 1536        block_7_expand[0][0]             \n",
      "__________________________________________________________________________________________________\n",
      "block_7_expand_relu (ReLU)      (None, None, None, 3 0           block_7_expand_BN[0][0]          \n",
      "__________________________________________________________________________________________________\n",
      "block_7_depthwise (DepthwiseCon (None, None, None, 3 3456        block_7_expand_relu[0][0]        \n",
      "__________________________________________________________________________________________________\n",
      "block_7_depthwise_BN (BatchNorm (None, None, None, 3 1536        block_7_depthwise[0][0]          \n",
      "__________________________________________________________________________________________________\n",
      "block_7_depthwise_relu (ReLU)   (None, None, None, 3 0           block_7_depthwise_BN[0][0]       \n",
      "__________________________________________________________________________________________________\n",
      "block_7_project (Conv2D)        (None, None, None, 6 24576       block_7_depthwise_relu[0][0]     \n",
      "__________________________________________________________________________________________________\n",
      "block_7_project_BN (BatchNormal (None, None, None, 6 256         block_7_project[0][0]            \n",
      "__________________________________________________________________________________________________\n",
      "block_7_add (Add)               (None, None, None, 6 0           block_6_project_BN[0][0]         \n",
      "                                                                 block_7_project_BN[0][0]         \n",
      "__________________________________________________________________________________________________\n",
      "block_8_expand (Conv2D)         (None, None, None, 3 24576       block_7_add[0][0]                \n",
      "__________________________________________________________________________________________________\n",
      "block_8_expand_BN (BatchNormali (None, None, None, 3 1536        block_8_expand[0][0]             \n",
      "__________________________________________________________________________________________________\n",
      "block_8_expand_relu (ReLU)      (None, None, None, 3 0           block_8_expand_BN[0][0]          \n",
      "__________________________________________________________________________________________________\n",
      "block_8_depthwise (DepthwiseCon (None, None, None, 3 3456        block_8_expand_relu[0][0]        \n",
      "__________________________________________________________________________________________________\n",
      "block_8_depthwise_BN (BatchNorm (None, None, None, 3 1536        block_8_depthwise[0][0]          \n",
      "__________________________________________________________________________________________________\n",
      "block_8_depthwise_relu (ReLU)   (None, None, None, 3 0           block_8_depthwise_BN[0][0]       \n",
      "__________________________________________________________________________________________________\n",
      "block_8_project (Conv2D)        (None, None, None, 6 24576       block_8_depthwise_relu[0][0]     \n",
      "__________________________________________________________________________________________________\n",
      "block_8_project_BN (BatchNormal (None, None, None, 6 256         block_8_project[0][0]            \n",
      "__________________________________________________________________________________________________\n",
      "block_8_add (Add)               (None, None, None, 6 0           block_7_add[0][0]                \n",
      "                                                                 block_8_project_BN[0][0]         \n",
      "__________________________________________________________________________________________________\n",
      "block_9_expand (Conv2D)         (None, None, None, 3 24576       block_8_add[0][0]                \n",
      "__________________________________________________________________________________________________\n",
      "block_9_expand_BN (BatchNormali (None, None, None, 3 1536        block_9_expand[0][0]             \n",
      "__________________________________________________________________________________________________\n",
      "block_9_expand_relu (ReLU)      (None, None, None, 3 0           block_9_expand_BN[0][0]          \n",
      "__________________________________________________________________________________________________\n",
      "block_9_depthwise (DepthwiseCon (None, None, None, 3 3456        block_9_expand_relu[0][0]        \n",
      "__________________________________________________________________________________________________\n",
      "block_9_depthwise_BN (BatchNorm (None, None, None, 3 1536        block_9_depthwise[0][0]          \n",
      "__________________________________________________________________________________________________\n",
      "block_9_depthwise_relu (ReLU)   (None, None, None, 3 0           block_9_depthwise_BN[0][0]       \n",
      "__________________________________________________________________________________________________\n",
      "block_9_project (Conv2D)        (None, None, None, 6 24576       block_9_depthwise_relu[0][0]     \n",
      "__________________________________________________________________________________________________\n",
      "block_9_project_BN (BatchNormal (None, None, None, 6 256         block_9_project[0][0]            \n",
      "__________________________________________________________________________________________________\n",
      "block_9_add (Add)               (None, None, None, 6 0           block_8_add[0][0]                \n",
      "                                                                 block_9_project_BN[0][0]         \n",
      "__________________________________________________________________________________________________\n",
      "block_10_expand (Conv2D)        (None, None, None, 3 24576       block_9_add[0][0]                \n",
      "__________________________________________________________________________________________________\n",
      "block_10_expand_BN (BatchNormal (None, None, None, 3 1536        block_10_expand[0][0]            \n",
      "__________________________________________________________________________________________________\n",
      "block_10_expand_relu (ReLU)     (None, None, None, 3 0           block_10_expand_BN[0][0]         \n",
      "__________________________________________________________________________________________________\n",
      "block_10_depthwise (DepthwiseCo (None, None, None, 3 3456        block_10_expand_relu[0][0]       \n",
      "__________________________________________________________________________________________________\n",
      "block_10_depthwise_BN (BatchNor (None, None, None, 3 1536        block_10_depthwise[0][0]         \n",
      "__________________________________________________________________________________________________\n",
      "block_10_depthwise_relu (ReLU)  (None, None, None, 3 0           block_10_depthwise_BN[0][0]      \n",
      "__________________________________________________________________________________________________\n",
      "block_10_project (Conv2D)       (None, None, None, 9 36864       block_10_depthwise_relu[0][0]    \n",
      "__________________________________________________________________________________________________\n",
      "block_10_project_BN (BatchNorma (None, None, None, 9 384         block_10_project[0][0]           \n",
      "__________________________________________________________________________________________________\n",
      "block_11_expand (Conv2D)        (None, None, None, 5 55296       block_10_project_BN[0][0]        \n",
      "__________________________________________________________________________________________________\n",
      "block_11_expand_BN (BatchNormal (None, None, None, 5 2304        block_11_expand[0][0]            \n",
      "__________________________________________________________________________________________________\n",
      "block_11_expand_relu (ReLU)     (None, None, None, 5 0           block_11_expand_BN[0][0]         \n",
      "__________________________________________________________________________________________________\n",
      "block_11_depthwise (DepthwiseCo (None, None, None, 5 5184        block_11_expand_relu[0][0]       \n",
      "__________________________________________________________________________________________________\n",
      "block_11_depthwise_BN (BatchNor (None, None, None, 5 2304        block_11_depthwise[0][0]         \n",
      "__________________________________________________________________________________________________\n",
      "block_11_depthwise_relu (ReLU)  (None, None, None, 5 0           block_11_depthwise_BN[0][0]      \n",
      "__________________________________________________________________________________________________\n",
      "block_11_project (Conv2D)       (None, None, None, 9 55296       block_11_depthwise_relu[0][0]    \n",
      "__________________________________________________________________________________________________\n",
      "block_11_project_BN (BatchNorma (None, None, None, 9 384         block_11_project[0][0]           \n",
      "__________________________________________________________________________________________________\n",
      "block_11_add (Add)              (None, None, None, 9 0           block_10_project_BN[0][0]        \n",
      "                                                                 block_11_project_BN[0][0]        \n",
      "__________________________________________________________________________________________________\n",
      "block_12_expand (Conv2D)        (None, None, None, 5 55296       block_11_add[0][0]               \n",
      "__________________________________________________________________________________________________\n",
      "block_12_expand_BN (BatchNormal (None, None, None, 5 2304        block_12_expand[0][0]            \n",
      "__________________________________________________________________________________________________\n",
      "block_12_expand_relu (ReLU)     (None, None, None, 5 0           block_12_expand_BN[0][0]         \n",
      "__________________________________________________________________________________________________\n",
      "block_12_depthwise (DepthwiseCo (None, None, None, 5 5184        block_12_expand_relu[0][0]       \n",
      "__________________________________________________________________________________________________\n",
      "block_12_depthwise_BN (BatchNor (None, None, None, 5 2304        block_12_depthwise[0][0]         \n",
      "__________________________________________________________________________________________________\n",
      "block_12_depthwise_relu (ReLU)  (None, None, None, 5 0           block_12_depthwise_BN[0][0]      \n",
      "__________________________________________________________________________________________________\n",
      "block_12_project (Conv2D)       (None, None, None, 9 55296       block_12_depthwise_relu[0][0]    \n",
      "__________________________________________________________________________________________________\n",
      "block_12_project_BN (BatchNorma (None, None, None, 9 384         block_12_project[0][0]           \n",
      "__________________________________________________________________________________________________\n",
      "block_12_add (Add)              (None, None, None, 9 0           block_11_add[0][0]               \n",
      "                                                                 block_12_project_BN[0][0]        \n",
      "__________________________________________________________________________________________________\n",
      "block_13_expand (Conv2D)        (None, None, None, 5 55296       block_12_add[0][0]               \n",
      "__________________________________________________________________________________________________\n",
      "block_13_expand_BN (BatchNormal (None, None, None, 5 2304        block_13_expand[0][0]            \n",
      "__________________________________________________________________________________________________\n",
      "block_13_expand_relu (ReLU)     (None, None, None, 5 0           block_13_expand_BN[0][0]         \n",
      "__________________________________________________________________________________________________\n",
      "block_13_pad (ZeroPadding2D)    (None, None, None, 5 0           block_13_expand_relu[0][0]       \n",
      "__________________________________________________________________________________________________\n",
      "block_13_depthwise (DepthwiseCo (None, None, None, 5 5184        block_13_pad[0][0]               \n",
      "__________________________________________________________________________________________________\n",
      "block_13_depthwise_BN (BatchNor (None, None, None, 5 2304        block_13_depthwise[0][0]         \n",
      "__________________________________________________________________________________________________\n",
      "block_13_depthwise_relu (ReLU)  (None, None, None, 5 0           block_13_depthwise_BN[0][0]      \n",
      "__________________________________________________________________________________________________\n",
      "block_13_project (Conv2D)       (None, None, None, 1 92160       block_13_depthwise_relu[0][0]    \n",
      "__________________________________________________________________________________________________\n",
      "block_13_project_BN (BatchNorma (None, None, None, 1 640         block_13_project[0][0]           \n",
      "__________________________________________________________________________________________________\n",
      "block_14_expand (Conv2D)        (None, None, None, 9 153600      block_13_project_BN[0][0]        \n",
      "__________________________________________________________________________________________________\n",
      "block_14_expand_BN (BatchNormal (None, None, None, 9 3840        block_14_expand[0][0]            \n",
      "__________________________________________________________________________________________________\n",
      "block_14_expand_relu (ReLU)     (None, None, None, 9 0           block_14_expand_BN[0][0]         \n",
      "__________________________________________________________________________________________________\n",
      "block_14_depthwise (DepthwiseCo (None, None, None, 9 8640        block_14_expand_relu[0][0]       \n",
      "__________________________________________________________________________________________________\n",
      "block_14_depthwise_BN (BatchNor (None, None, None, 9 3840        block_14_depthwise[0][0]         \n",
      "__________________________________________________________________________________________________\n",
      "block_14_depthwise_relu (ReLU)  (None, None, None, 9 0           block_14_depthwise_BN[0][0]      \n",
      "__________________________________________________________________________________________________\n",
      "block_14_project (Conv2D)       (None, None, None, 1 153600      block_14_depthwise_relu[0][0]    \n",
      "__________________________________________________________________________________________________\n",
      "block_14_project_BN (BatchNorma (None, None, None, 1 640         block_14_project[0][0]           \n",
      "__________________________________________________________________________________________________\n",
      "block_14_add (Add)              (None, None, None, 1 0           block_13_project_BN[0][0]        \n",
      "                                                                 block_14_project_BN[0][0]        \n",
      "__________________________________________________________________________________________________\n",
      "block_15_expand (Conv2D)        (None, None, None, 9 153600      block_14_add[0][0]               \n",
      "__________________________________________________________________________________________________\n",
      "block_15_expand_BN (BatchNormal (None, None, None, 9 3840        block_15_expand[0][0]            \n",
      "__________________________________________________________________________________________________\n",
      "block_15_expand_relu (ReLU)     (None, None, None, 9 0           block_15_expand_BN[0][0]         \n",
      "__________________________________________________________________________________________________\n",
      "block_15_depthwise (DepthwiseCo (None, None, None, 9 8640        block_15_expand_relu[0][0]       \n",
      "__________________________________________________________________________________________________\n",
      "block_15_depthwise_BN (BatchNor (None, None, None, 9 3840        block_15_depthwise[0][0]         \n",
      "__________________________________________________________________________________________________\n",
      "block_15_depthwise_relu (ReLU)  (None, None, None, 9 0           block_15_depthwise_BN[0][0]      \n",
      "__________________________________________________________________________________________________\n",
      "block_15_project (Conv2D)       (None, None, None, 1 153600      block_15_depthwise_relu[0][0]    \n",
      "__________________________________________________________________________________________________\n",
      "block_15_project_BN (BatchNorma (None, None, None, 1 640         block_15_project[0][0]           \n",
      "__________________________________________________________________________________________________\n",
      "block_15_add (Add)              (None, None, None, 1 0           block_14_add[0][0]               \n",
      "                                                                 block_15_project_BN[0][0]        \n",
      "__________________________________________________________________________________________________\n",
      "block_16_expand (Conv2D)        (None, None, None, 9 153600      block_15_add[0][0]               \n",
      "__________________________________________________________________________________________________\n",
      "block_16_expand_BN (BatchNormal (None, None, None, 9 3840        block_16_expand[0][0]            \n",
      "__________________________________________________________________________________________________\n",
      "block_16_expand_relu (ReLU)     (None, None, None, 9 0           block_16_expand_BN[0][0]         \n",
      "__________________________________________________________________________________________________\n",
      "block_16_depthwise (DepthwiseCo (None, None, None, 9 8640        block_16_expand_relu[0][0]       \n",
      "__________________________________________________________________________________________________\n",
      "block_16_depthwise_BN (BatchNor (None, None, None, 9 3840        block_16_depthwise[0][0]         \n",
      "__________________________________________________________________________________________________\n",
      "block_16_depthwise_relu (ReLU)  (None, None, None, 9 0           block_16_depthwise_BN[0][0]      \n",
      "__________________________________________________________________________________________________\n",
      "block_16_project (Conv2D)       (None, None, None, 3 307200      block_16_depthwise_relu[0][0]    \n",
      "__________________________________________________________________________________________________\n",
      "block_16_project_BN (BatchNorma (None, None, None, 3 1280        block_16_project[0][0]           \n",
      "__________________________________________________________________________________________________\n",
      "Conv_1 (Conv2D)                 (None, None, None, 1 409600      block_16_project_BN[0][0]        \n",
      "__________________________________________________________________________________________________\n",
      "Conv_1_bn (BatchNormalization)  (None, None, None, 1 5120        Conv_1[0][0]                     \n",
      "__________________________________________________________________________________________________\n",
      "out_relu (ReLU)                 (None, None, None, 1 0           Conv_1_bn[0][0]                  \n",
      "==================================================================================================\n",
      "Total params: 2,257,984\n",
      "Trainable params: 2,223,872\n",
      "Non-trainable params: 34,112\n",
      "__________________________________________________________________________________________________\n"
     ]
    }
   ],
   "source": [
    "base.summary()"
   ]
  },
  {
   "cell_type": "code",
   "execution_count": 2,
   "metadata": {
    "collapsed": true,
    "scrolled": false
   },
   "outputs": [
    {
     "name": "stdout",
     "output_type": "stream",
     "text": [
      "Help on method raw_input in module ipykernel.kernelbase:\n",
      "\n",
      "raw_input(prompt='') method of ipykernel.ipkernel.IPythonKernel instance\n",
      "    Forward raw_input to frontends\n",
      "    \n",
      "    Raises\n",
      "    ------\n",
      "    StdinNotImplentedError if active frontend doesn't support stdin.\n",
      "\n"
     ]
    }
   ],
   "source": [
    "help(input)"
   ]
  },
  {
   "cell_type": "code",
   "execution_count": 4,
   "metadata": {
    "collapsed": true,
    "scrolled": false
   },
   "outputs": [
    {
     "name": "stdout",
     "output_type": "stream",
     "text": [
      ">hello\n"
     ]
    }
   ],
   "source": [
    "res = input('>')"
   ]
  },
  {
   "cell_type": "code",
   "execution_count": 5,
   "metadata": {
    "collapsed": true,
    "scrolled": false
   },
   "outputs": [
    {
     "data": {
      "text/plain": [
       "'hello'"
      ]
     },
     "execution_count": 5,
     "metadata": {},
     "output_type": "execute_result"
    }
   ],
   "source": [
    "res"
   ]
  },
  {
   "cell_type": "code",
   "execution_count": 7,
   "metadata": {
    "collapsed": true,
    "scrolled": false
   },
   "outputs": [
    {
     "name": "stdout",
     "output_type": "stream",
     "text": [
      "Score  1.800000\n"
     ]
    }
   ],
   "source": [
    "print('Score {0: f}'.format(1.8))"
   ]
  },
  {
   "cell_type": "code",
   "execution_count": 5,
   "metadata": {
    "collapsed": true,
    "scrolled": false
   },
   "outputs": [
    {
     "data": {
      "text/plain": [
       "{'lr': 0.1,\n",
       " 'batch_size': 1,\n",
       " 'epochs': 10,\n",
       " 'beta_1': 0.99,\n",
       " 'beta_2': 0.99,\n",
       " 'decay': 0.0}"
      ]
     },
     "execution_count": 5,
     "metadata": {},
     "output_type": "execute_result"
    }
   ],
   "source": [
    "hps"
   ]
  },
  {
   "cell_type": "code",
   "execution_count": 6,
   "metadata": {
    "collapsed": true,
    "scrolled": false
   },
   "outputs": [],
   "source": [
    "import json"
   ]
  },
  {
   "cell_type": "code",
   "execution_count": 7,
   "metadata": {
    "collapsed": true,
    "scrolled": false
   },
   "outputs": [],
   "source": [
    "res = json.dumps(hps)"
   ]
  },
  {
   "cell_type": "code",
   "execution_count": 8,
   "metadata": {
    "collapsed": true,
    "scrolled": false
   },
   "outputs": [
    {
     "data": {
      "text/plain": [
       "'{\"lr\": 0.1, \"batch_size\": 1, \"epochs\": 10, \"beta_1\": 0.99, \"beta_2\": 0.99, \"decay\": 0.0}'"
      ]
     },
     "execution_count": 8,
     "metadata": {},
     "output_type": "execute_result"
    }
   ],
   "source": [
    "res"
   ]
  },
  {
   "cell_type": "code",
   "execution_count": 9,
   "metadata": {
    "collapsed": true,
    "scrolled": false
   },
   "outputs": [],
   "source": [
    "hps['flag'] = True"
   ]
  },
  {
   "cell_type": "code",
   "execution_count": 10,
   "metadata": {
    "collapsed": true,
    "scrolled": false
   },
   "outputs": [
    {
     "data": {
      "text/plain": [
       "'{\"lr\": 0.1, \"batch_size\": 1, \"epochs\": 10, \"beta_1\": 0.99, \"beta_2\": 0.99, \"decay\": 0.0, \"flag\": true}'"
      ]
     },
     "execution_count": 10,
     "metadata": {},
     "output_type": "execute_result"
    }
   ],
   "source": [
    "res = json.dumps(hps)\n",
    "res"
   ]
  },
  {
   "cell_type": "code",
   "execution_count": 13,
   "metadata": {
    "collapsed": true,
    "scrolled": false
   },
   "outputs": [],
   "source": [
    "res = json.loads('{\"mode\" : \"train\", \"hps\" : {\"lr\" : 0.001, \"beta_1\" : 0.99, \"beta_2\" : 0.99, \"decay\" : 0.0, \"epochs\" : 1, \"batch_size\" : 128}, \"rbm_hps\" : { \"lr\" : 0.001, \"epochs\" : 1, \"batch_size\" : 128}, \"nn_arch\" : {\"output_dim\" : 128}, \"model_loading\": false}')"
   ]
  },
  {
   "cell_type": "code",
   "execution_count": 16,
   "metadata": {
    "collapsed": true,
    "scrolled": false
   },
   "outputs": [
    {
     "data": {
      "text/plain": [
       "dict"
      ]
     },
     "execution_count": 16,
     "metadata": {},
     "output_type": "execute_result"
    }
   ],
   "source": [
    "type(res)"
   ]
  },
  {
   "cell_type": "code",
   "execution_count": 20,
   "metadata": {
    "collapsed": true,
    "scrolled": false
   },
   "outputs": [
    {
     "data": {
      "text/plain": [
       "array([0.71868607, 0.7595842 , 0.10236726, 0.63356467, 0.08557064,\n",
       "       0.14795317, 0.66096607, 0.94096301, 0.87105102, 0.98301912])"
      ]
     },
     "execution_count": 20,
     "metadata": {},
     "output_type": "execute_result"
    }
   ],
   "source": [
    "p = np.random.rand(10)\n",
    "p"
   ]
  },
  {
   "cell_type": "code",
   "execution_count": 21,
   "metadata": {
    "collapsed": true,
    "scrolled": false
   },
   "outputs": [
    {
     "data": {
      "text/plain": [
       "array([[1., 0., 0., 0., 0., 0., 0., 0., 0., 0.],\n",
       "       [0., 1., 0., 0., 0., 0., 0., 0., 0., 0.],\n",
       "       [0., 0., 1., 0., 0., 0., 0., 0., 0., 0.],\n",
       "       [0., 0., 0., 1., 0., 0., 0., 0., 0., 0.],\n",
       "       [0., 0., 0., 0., 1., 0., 0., 0., 0., 0.],\n",
       "       [0., 0., 0., 0., 0., 1., 0., 0., 0., 0.],\n",
       "       [0., 0., 0., 0., 0., 0., 1., 0., 0., 0.],\n",
       "       [0., 0., 0., 0., 0., 0., 0., 1., 0., 0.],\n",
       "       [0., 0., 0., 0., 0., 0., 0., 0., 1., 0.],\n",
       "       [0., 0., 0., 0., 0., 0., 0., 0., 0., 1.]])"
      ]
     },
     "execution_count": 21,
     "metadata": {},
     "output_type": "execute_result"
    }
   ],
   "source": [
    "sample = np.identity(10)\n",
    "sample"
   ]
  },
  {
   "cell_type": "code",
   "execution_count": 19,
   "metadata": {
    "collapsed": true,
    "scrolled": false
   },
   "outputs": [
    {
     "data": {
      "text/plain": [
       "array([ 0.72697841, -0.38562431, -0.47842945,  0.40895143, -0.24434335,\n",
       "       -0.29382098, -1.31171756,  0.83955232, -1.66124913,  0.26366205])"
      ]
     },
     "execution_count": 19,
     "metadata": {},
     "output_type": "execute_result"
    }
   ],
   "source": [
    "p = p/p.sum()\n",
    "res = np.random.multivariate_normal(p, np.identity(10))\n",
    "res"
   ]
  },
  {
   "cell_type": "code",
   "execution_count": 17,
   "metadata": {
    "collapsed": true,
    "scrolled": false
   },
   "outputs": [],
   "source": [
    "sol_df = pd.read_csv('d:\\\\topcoder\\\\face_recog\\\\src\\\\space\\\\solution.csv', header=None)"
   ]
  },
  {
   "cell_type": "code",
   "execution_count": 18,
   "metadata": {
    "collapsed": true,
    "scrolled": false
   },
   "outputs": [],
   "source": [
    "res = sol_df.iloc[0]"
   ]
  },
  {
   "cell_type": "code",
   "execution_count": 19,
   "metadata": {
    "collapsed": true,
    "scrolled": false
   },
   "outputs": [
    {
     "data": {
      "text/plain": [
       "pandas.core.series.Series"
      ]
     },
     "execution_count": 19,
     "metadata": {},
     "output_type": "execute_result"
    }
   ],
   "source": [
    "type(res)"
   ]
  },
  {
   "cell_type": "code",
   "execution_count": 20,
   "metadata": {
    "collapsed": true,
    "scrolled": false
   },
   "outputs": [
    {
     "data": {
      "text/plain": [
       "0    1389.jpg\n",
       "1         301\n",
       "2     2495.47\n",
       "3      1049.5\n",
       "4     256.543\n",
       "5      326.51\n",
       "6    0.773768\n",
       "Name: 0, dtype: object"
      ]
     },
     "execution_count": 20,
     "metadata": {},
     "output_type": "execute_result"
    }
   ],
   "source": [
    "res"
   ]
  },
  {
   "cell_type": "code",
   "execution_count": 21,
   "metadata": {
    "collapsed": true,
    "scrolled": false
   },
   "outputs": [
    {
     "data": {
      "text/plain": [
       "0    1389.jpg\n",
       "1         301\n",
       "2     2495.47\n",
       "3      1049.5\n",
       "4     256.543\n",
       "5      326.51\n",
       "6    0.773768\n",
       "Name: 0, dtype: object"
      ]
     },
     "execution_count": 21,
     "metadata": {},
     "output_type": "execute_result"
    }
   ],
   "source": [
    "sol_df.iloc[0, :]"
   ]
  },
  {
   "cell_type": "code",
   "execution_count": 26,
   "metadata": {
    "collapsed": true,
    "scrolled": false
   },
   "outputs": [
    {
     "data": {
      "text/plain": [
       "0    1389.jpg\n",
       "1         301\n",
       "2     2495.47\n",
       "3      1049.5\n",
       "4     256.543\n",
       "5      326.51\n",
       "6    0.773768\n",
       "Name: 0, dtype: object"
      ]
     },
     "execution_count": 26,
     "metadata": {},
     "output_type": "execute_result"
    }
   ],
   "source": [
    "sol_df.loc[0]"
   ]
  },
  {
   "cell_type": "code",
   "execution_count": 25,
   "metadata": {
    "collapsed": true,
    "scrolled": false
   },
   "outputs": [],
   "source": [
    "import pandas as pd\n",
    "import numpy as np\n",
    "sample = pd.DataFrame([(0, 0, 1), (0, 1, 10), (1, 0, 2), (1, 1, 3)])"
   ]
  },
  {
   "cell_type": "code",
   "execution_count": 26,
   "metadata": {
    "collapsed": true,
    "scrolled": false
   },
   "outputs": [
    {
     "data": {
      "text/html": [
       "<div>\n",
       "<style scoped>\n",
       "    .dataframe tbody tr th:only-of-type {\n",
       "        vertical-align: middle;\n",
       "    }\n",
       "\n",
       "    .dataframe tbody tr th {\n",
       "        vertical-align: top;\n",
       "    }\n",
       "\n",
       "    .dataframe thead th {\n",
       "        text-align: right;\n",
       "    }\n",
       "</style>\n",
       "<table border=\"1\" class=\"dataframe\">\n",
       "  <thead>\n",
       "    <tr style=\"text-align: right;\">\n",
       "      <th></th>\n",
       "      <th>0</th>\n",
       "      <th>1</th>\n",
       "      <th>2</th>\n",
       "    </tr>\n",
       "  </thead>\n",
       "  <tbody>\n",
       "    <tr>\n",
       "      <th>1</th>\n",
       "      <td>0</td>\n",
       "      <td>1</td>\n",
       "      <td>10</td>\n",
       "    </tr>\n",
       "    <tr>\n",
       "      <th>3</th>\n",
       "      <td>1</td>\n",
       "      <td>1</td>\n",
       "      <td>3</td>\n",
       "    </tr>\n",
       "    <tr>\n",
       "      <th>2</th>\n",
       "      <td>1</td>\n",
       "      <td>0</td>\n",
       "      <td>2</td>\n",
       "    </tr>\n",
       "    <tr>\n",
       "      <th>0</th>\n",
       "      <td>0</td>\n",
       "      <td>0</td>\n",
       "      <td>1</td>\n",
       "    </tr>\n",
       "  </tbody>\n",
       "</table>\n",
       "</div>"
      ],
      "text/plain": [
       "   0  1   2\n",
       "1  0  1  10\n",
       "3  1  1   3\n",
       "2  1  0   2\n",
       "0  0  0   1"
      ]
     },
     "execution_count": 26,
     "metadata": {},
     "output_type": "execute_result"
    }
   ],
   "source": [
    "sample.sort_values(by=2, ascending=False)"
   ]
  },
  {
   "cell_type": "code",
   "execution_count": 27,
   "metadata": {
    "collapsed": true,
    "scrolled": false
   },
   "outputs": [
    {
     "data": {
      "text/plain": [
       "0    1\n",
       "1    0\n",
       "2    2\n",
       "Name: 2, dtype: int64"
      ]
     },
     "execution_count": 27,
     "metadata": {},
     "output_type": "execute_result"
    }
   ],
   "source": [
    "df = sample.iloc[2]\n",
    "df"
   ]
  },
  {
   "cell_type": "code",
   "execution_count": 28,
   "metadata": {
    "collapsed": true,
    "scrolled": false
   },
   "outputs": [],
   "source": [
    "df.iloc[2] = 100"
   ]
  },
  {
   "cell_type": "code",
   "execution_count": 29,
   "metadata": {
    "collapsed": true,
    "scrolled": false
   },
   "outputs": [
    {
     "data": {
      "text/html": [
       "<div>\n",
       "<style scoped>\n",
       "    .dataframe tbody tr th:only-of-type {\n",
       "        vertical-align: middle;\n",
       "    }\n",
       "\n",
       "    .dataframe tbody tr th {\n",
       "        vertical-align: top;\n",
       "    }\n",
       "\n",
       "    .dataframe thead th {\n",
       "        text-align: right;\n",
       "    }\n",
       "</style>\n",
       "<table border=\"1\" class=\"dataframe\">\n",
       "  <thead>\n",
       "    <tr style=\"text-align: right;\">\n",
       "      <th></th>\n",
       "      <th>0</th>\n",
       "      <th>1</th>\n",
       "      <th>2</th>\n",
       "    </tr>\n",
       "  </thead>\n",
       "  <tbody>\n",
       "    <tr>\n",
       "      <th>0</th>\n",
       "      <td>0</td>\n",
       "      <td>0</td>\n",
       "      <td>1</td>\n",
       "    </tr>\n",
       "    <tr>\n",
       "      <th>1</th>\n",
       "      <td>0</td>\n",
       "      <td>1</td>\n",
       "      <td>10</td>\n",
       "    </tr>\n",
       "    <tr>\n",
       "      <th>2</th>\n",
       "      <td>1</td>\n",
       "      <td>0</td>\n",
       "      <td>100</td>\n",
       "    </tr>\n",
       "    <tr>\n",
       "      <th>3</th>\n",
       "      <td>1</td>\n",
       "      <td>1</td>\n",
       "      <td>3</td>\n",
       "    </tr>\n",
       "  </tbody>\n",
       "</table>\n",
       "</div>"
      ],
      "text/plain": [
       "   0  1    2\n",
       "0  0  0    1\n",
       "1  0  1   10\n",
       "2  1  0  100\n",
       "3  1  1    3"
      ]
     },
     "execution_count": 29,
     "metadata": {},
     "output_type": "execute_result"
    }
   ],
   "source": [
    "sample"
   ]
  },
  {
   "cell_type": "code",
   "execution_count": 30,
   "metadata": {
    "collapsed": true,
    "scrolled": false
   },
   "outputs": [],
   "source": [
    "res = sample[sample[2] != 100]"
   ]
  },
  {
   "cell_type": "code",
   "execution_count": 31,
   "metadata": {
    "collapsed": true,
    "scrolled": false
   },
   "outputs": [
    {
     "data": {
      "text/html": [
       "<div>\n",
       "<style scoped>\n",
       "    .dataframe tbody tr th:only-of-type {\n",
       "        vertical-align: middle;\n",
       "    }\n",
       "\n",
       "    .dataframe tbody tr th {\n",
       "        vertical-align: top;\n",
       "    }\n",
       "\n",
       "    .dataframe thead th {\n",
       "        text-align: right;\n",
       "    }\n",
       "</style>\n",
       "<table border=\"1\" class=\"dataframe\">\n",
       "  <thead>\n",
       "    <tr style=\"text-align: right;\">\n",
       "      <th></th>\n",
       "      <th>0</th>\n",
       "      <th>1</th>\n",
       "      <th>2</th>\n",
       "    </tr>\n",
       "  </thead>\n",
       "  <tbody>\n",
       "    <tr>\n",
       "      <th>0</th>\n",
       "      <td>0</td>\n",
       "      <td>0</td>\n",
       "      <td>1</td>\n",
       "    </tr>\n",
       "    <tr>\n",
       "      <th>1</th>\n",
       "      <td>0</td>\n",
       "      <td>1</td>\n",
       "      <td>10</td>\n",
       "    </tr>\n",
       "    <tr>\n",
       "      <th>3</th>\n",
       "      <td>1</td>\n",
       "      <td>1</td>\n",
       "      <td>3</td>\n",
       "    </tr>\n",
       "  </tbody>\n",
       "</table>\n",
       "</div>"
      ],
      "text/plain": [
       "   0  1   2\n",
       "0  0  0   1\n",
       "1  0  1  10\n",
       "3  1  1   3"
      ]
     },
     "execution_count": 31,
     "metadata": {},
     "output_type": "execute_result"
    }
   ],
   "source": [
    "res"
   ]
  },
  {
   "cell_type": "code",
   "execution_count": 34,
   "metadata": {
    "collapsed": true,
    "scrolled": false
   },
   "outputs": [],
   "source": [
    "res_g = res.groupby(2)"
   ]
  },
  {
   "cell_type": "code",
   "execution_count": 35,
   "metadata": {
    "collapsed": true,
    "scrolled": false
   },
   "outputs": [
    {
     "data": {
      "text/plain": [
       "dict_keys([1, 3, 10])"
      ]
     },
     "execution_count": 35,
     "metadata": {},
     "output_type": "execute_result"
    }
   ],
   "source": [
    "res_g.groups.keys()"
   ]
  },
  {
   "cell_type": "code",
   "execution_count": 1,
   "metadata": {
    "collapsed": true,
    "scrolled": false
   },
   "outputs": [
    {
     "name": "stdout",
     "output_type": "stream",
     "text": [
      "d:\\topcoder\\face_recog\\src\\space\n"
     ]
    }
   ],
   "source": [
    "cd ../src/space"
   ]
  },
  {
   "cell_type": "code",
   "execution_count": 2,
   "metadata": {
    "collapsed": true,
    "scrolled": false
   },
   "outputs": [],
   "source": [
    "import pdb"
   ]
  },
  {
   "cell_type": "code",
   "execution_count": 36,
   "metadata": {
    "scrolled": false
   },
   "outputs": [],
   "source": [
    "import numpy as np\n",
    "import pandas as pd\n",
    "\n",
    "class BoundBox:\n",
    "    def __init__(self, xmin, ymin, xmax, ymax\n",
    "                 , objness = None\n",
    "                 , classes = None\n",
    "                 , anchor = None\n",
    "                 , subject_id = -1):\n",
    "        self.xmin = xmin\n",
    "        self.ymin = ymin\n",
    "        self.xmax = xmax\n",
    "        self.ymax = ymax\n",
    "        \n",
    "        self.objness = objness\n",
    "        self.classes = classes\n",
    "        self.anchor = anchor\n",
    "        self.subject_id = subject_id\n",
    "\n",
    "        self.label = -1\n",
    "        self.score = -1\n",
    "\n",
    "    def get_label(self):\n",
    "        if self.label == -1:\n",
    "            self.label = np.argmax(self.classes)\n",
    "        \n",
    "        return self.label\n",
    "    \n",
    "    def get_score(self):\n",
    "        if self.score == -1:\n",
    "            self.score = self.classes[self.get_label()]\n",
    "            \n",
    "        return np.min([self.score, 1.0])\n",
    "        \n",
    "    def get_relative_bb(self, width, height):\n",
    "        left = int(self.xmin/width * 100.)\n",
    "        top = int(self.ymin/height * 100.)\n",
    "        width = int((self.xmax - self.xmin)/width * 100.)\n",
    "        height = int((self.ymax - self.ymin)/height * 100.)\n",
    "        \n",
    "        return (left, top, width, height)\n",
    "\n",
    "def bbox_iou(box1, box2):\n",
    "    intersect_w = _interval_overlap([box1.xmin, box1.xmax], [box2.xmin, box2.xmax])\n",
    "    intersect_h = _interval_overlap([box1.ymin, box1.ymax], [box2.ymin, box2.ymax])\n",
    "    \n",
    "    intersect = intersect_w * intersect_h\n",
    "\n",
    "    w1, h1 = box1.xmax-box1.xmin, box1.ymax-box1.ymin\n",
    "    w2, h2 = box2.xmax-box2.xmin, box2.ymax-box2.ymin\n",
    "    \n",
    "    union = w1*h1 + w2*h2 - intersect\n",
    "    \n",
    "    return float(intersect) / union    \n",
    "\n",
    "def _interval_overlap(interval_a, interval_b):\n",
    "    x1, x2 = interval_a\n",
    "    x3, x4 = interval_b\n",
    "\n",
    "    if x3 < x1:\n",
    "        if x4 < x1:\n",
    "            return 0\n",
    "        else:\n",
    "            return min(x2,x4) - x1\n",
    "    else:\n",
    "        if x2 < x3:\n",
    "             return 0\n",
    "        else:\n",
    "            return min(x2,x4) - x3 \n",
    "\n",
    "sol_path='D:\\\\topcoder\\\\face_recog\\\\resource\\\\solution_training_fd.csv'\n",
    "gt_path='D:\\\\topcoder\\\\face_recog\\\\resource\\\\training.csv'\n",
    "\n",
    "def evaluate_fd(gt_path, sol_path, iou_th):\n",
    "    # Load ground truth, predicted results and calculate IoU.\n",
    "    sol_df = pd.read_csv(sol_path, header=None)\n",
    "    sol_df = pd.concat([sol_df, pd.DataFrame(np.zeros(shape=(sol_df.shape[0]), dtype=np.float64), columns=[7])], axis=1) # IoU\n",
    "    sol_df.iloc[:, 6] = -1.0\n",
    "    sol_df_g = sol_df.groupby(0) #?\n",
    "        \n",
    "    gt_df = pd.read_csv(gt_path)\n",
    "    gt_df = pd.concat([gt_df, pd.DataFrame(np.zeros(shape=(gt_df.shape[0]), dtype=np.float64), columns=[8])], axis=1) # IoU\n",
    "    gt_df.iloc[:, 7] = -1.0\n",
    "    gt_df_g = gt_df.groupby('FILE') #?\n",
    "    \n",
    "    for k, image_id in enumerate(list(gt_df_g.groups.keys())):\n",
    "        print(k, '/', len(gt_df_g.groups.keys()), ':', image_id)\n",
    "        df = gt_df_g.get_group(image_id)\n",
    "        \n",
    "        try:\n",
    "            rel_sol_df = sol_df_g.get_group(image_id)\n",
    "        except KeyError:\n",
    "            continue\n",
    "        \n",
    "        gt_ious = {}\n",
    "        \n",
    "        for i in range(df.shape[0]):\n",
    "            gt_ious[i] = []\n",
    "            gt_sample = df.iloc[i]\n",
    "            gt_sample_bb = BoundBox(gt_sample[3]\n",
    "                                      , gt_sample[4]\n",
    "                                      , gt_sample[3] + gt_sample[5]\n",
    "                                      , gt_sample[4] + gt_sample[6])\n",
    "                    \n",
    "            # Check exception.\n",
    "            if rel_sol_df.shape[0] == 0: continue\n",
    "        \n",
    "            # Calculate IoUs between a gt region and detected regions\n",
    "            for j in range(rel_sol_df.shape[0]):\n",
    "                rel_sol = rel_sol_df.iloc[j]\n",
    "                rel_sol_bb = BoundBox(rel_sol[1]\n",
    "                                      , rel_sol[2]\n",
    "                                      , rel_sol[1] + rel_sol[3]\n",
    "                                      , rel_sol[2] + rel_sol[4])\n",
    "            \n",
    "                iou = bbox_iou(gt_sample_bb, rel_sol_bb)\n",
    "                if iou > 0.: #?\n",
    "                    gt_ious[i].append((i, j, iou))\n",
    "        \n",
    "        total_gt_ious = []\n",
    "        for i in gt_ious:\n",
    "            total_gt_ious += gt_ious[i]\n",
    "            \n",
    "        if len(total_gt_ious) == 0: continue\n",
    "            \n",
    "        total_gt_ious_df = pd.DataFrame(total_gt_ious)\n",
    "        \n",
    "        # IoU descending order sorting.\n",
    "        total_gt_ious_df = total_gt_ious_df.sort_values(by=2, ascending=False)\n",
    "        \n",
    "        # Determine IoU for each detected region.\n",
    "        while total_gt_ious_df.shape[0] != 0: #?\n",
    "            df_p = total_gt_ious_df.iloc[0]\n",
    "            i = int(df_p.iloc[0])\n",
    "            j = int(df_p.iloc[1])\n",
    "            iou = df_p.iloc[2]\n",
    "            \n",
    "            #df.iloc[i, -1] = iou \n",
    "            rel_sol_df.iloc[j, -1] = iou \n",
    "            \n",
    "            # Remove assigned samples.\n",
    "            total_gt_ious_df = total_gt_ious_df[total_gt_ious_df[0] != i]\n",
    "            total_gt_ious_df = total_gt_ious_df[total_gt_ious_df[1] != j]\n",
    "            \n",
    "        if k == 0:\n",
    "            res_df = rel_sol_df\n",
    "        else:\n",
    "            res_df = pd.concat([res_df, rel_sol_df])\n",
    "        \n",
    "    # Get the p-r curve.\n",
    "    # Sort the solution in confidence descending order.\n",
    "    res_df = res_df.sort_values(by=5, ascending=False)\n",
    "    ps = []\n",
    "    rs = []\n",
    "    tp_count = 0\n",
    "    count = 0\n",
    "    gt_count = gt_df.shape[0]\n",
    "    \n",
    "    for i in range(res_df.shape[0]):\n",
    "        count +=1\n",
    "        \n",
    "        if res_df.iloc[i, 6] >= iou_th:\n",
    "            tp_count += 1\n",
    "            ps.append(tp_count / count)\n",
    "            rs.append(tp_count / gt_count)\n",
    "    \n",
    "    ps = np.asarray(ps)\n",
    "    rs = np.asarray(rs)\n",
    "    \n",
    "    return ps, rs"
   ]
  },
  {
   "cell_type": "code",
   "execution_count": 37,
   "metadata": {
    "scrolled": false
   },
   "outputs": [
    {
     "name": "stdout",
     "output_type": "stream",
     "text": [
      "0 / 10916 : 00056475158675a7f26160c17b6643bb.jpg\n",
      "1 / 10916 : 0013609d9d3189887f659e1c0354ac3d.jpg\n",
      "2 / 10916 : 00210c5646520304c9b950ac058d661a.jpg\n",
      "3 / 10916 : 00247f87096bc308c349452d2d6f70b1.jpg\n",
      "4 / 10916 : 0026c4ba8119a16fc4e6c42e1ea9d9cb.jpg\n",
      "5 / 10916 : 00277e13db74abebccb2035f0e90eabe.jpg\n",
      "6 / 10916 : 0029791ed650e8de3cf58a150023398f.jpg\n",
      "7 / 10916 : 002e2cbe8e3166addb2baf9b56dcef98.jpg\n",
      "8 / 10916 : 0035a3b3d850c868faf9d8a9e5bc3066.jpg\n",
      "9 / 10916 : 0037a2983f1128042d116f55c77b9075.jpg\n"
     ]
    }
   ],
   "source": [
    "ps, rs = evaluate_fd(gt_path, sol_path, 0.5)"
   ]
  },
  {
   "cell_type": "code",
   "execution_count": 38,
   "metadata": {
    "scrolled": true
   },
   "outputs": [
    {
     "data": {
      "text/plain": [
       "array([1.        , 1.        , 1.        , 1.        , 0.83333333,\n",
       "       0.85714286, 0.875     , 0.88888889, 0.81818182, 0.83333333,\n",
       "       0.84615385, 0.75      , 0.76470588])"
      ]
     },
     "execution_count": 38,
     "metadata": {},
     "output_type": "execute_result"
    }
   ],
   "source": [
    "ps"
   ]
  },
  {
   "cell_type": "code",
   "execution_count": 39,
   "metadata": {
    "scrolled": true
   },
   "outputs": [
    {
     "data": {
      "text/plain": [
       "array([3.72217673e-05, 7.44435346e-05, 1.11665302e-04, 1.48887069e-04,\n",
       "       1.86108836e-04, 2.23330604e-04, 2.60552371e-04, 2.97774138e-04,\n",
       "       3.34995906e-04, 3.72217673e-04, 4.09439440e-04, 4.46661207e-04,\n",
       "       4.83882975e-04])"
      ]
     },
     "execution_count": 39,
     "metadata": {},
     "output_type": "execute_result"
    }
   ],
   "source": [
    "rs"
   ]
  },
  {
   "cell_type": "code",
   "execution_count": 42,
   "metadata": {
    "scrolled": true
   },
   "outputs": [
    {
     "data": {
      "text/plain": [
       "[<matplotlib.lines.Line2D at 0x28980b15ac8>]"
      ]
     },
     "execution_count": 42,
     "metadata": {},
     "output_type": "execute_result"
    },
    {
     "data": {
      "image/png": "[encoded data removed]",
      "text/plain": [
       "<Figure size 432x288 with 1 Axes>"
      ]
     },
     "metadata": {
      "needs_background": "light"
     },
     "output_type": "display_data"
    }
   ],
   "source": [
    "plot(rs, ps)"
   ]
  },
  {
   "cell_type": "code",
   "execution_count": null,
   "metadata": {},
   "outputs": [],
   "source": []
  }
 ],
 "metadata": {
  "kernelspec": {
   "display_name": "Python 3",
   "language": "python",
   "name": "python3"
  },
  "language_info": {
   "codemirror_mode": {
    "name": "ipython",
    "version": 3
   },
   "file_extension": ".py",
   "mimetype": "text/x-python",
   "name": "python",
   "nbconvert_exporter": "python",
   "pygments_lexer": "ipython3",
   "version": "3.6.8"
  }
 },
 "nbformat": 4,
 "nbformat_minor": 2
}
