{
 "cells": [
  {
   "cell_type": "code",
   "execution_count": 1,
   "metadata": {
    "scrolled": false
   },
   "outputs": [
    {
     "name": "stdout",
     "output_type": "stream",
     "text": [
      "Using matplotlib backend: Qt5Agg\n",
      "Populating the interactive namespace from numpy and matplotlib\n"
     ]
    },
    {
     "name": "stderr",
     "output_type": "stream",
     "text": [
      "Using TensorFlow backend.\n"
     ]
    }
   ],
   "source": [
    "%pylab\n",
    "\n",
    "import pandas as pd\n",
    "import pickle\n",
    "from scipy.linalg import norm\n",
    "import cv2 as cv\n",
    "import os\n",
    "import importlib\n",
    "from sklearn.preprocessing import normalize\n",
    "from skimage.io import imsave, imread\n",
    "import os\n",
    "import glob\n",
    "import argparse\n",
    "import time\n",
    "import pickle\n",
    "import platform\n",
    "import shutil\n",
    "import json\n",
    "\n",
    "import numpy as np\n",
    "import pandas as pd\n",
    "import cv2 as cv\n",
    "from skimage.io import imsave\n",
    "from scipy.stats import entropy\n",
    "from scipy.linalg import norm\n",
    "import h5py\n",
    "\n",
    "from keras.applications.mobilenet_v2 import MobileNetV2\n",
    "from keras.models import Model, load_model\n",
    "from keras.layers import Input, Dense, Lambda, ZeroPadding2D, LeakyReLU, Flatten, Concatenate\n",
    "from keras.layers.merge import add\n",
    "from keras.utils import multi_gpu_model\n",
    "from keras.utils.data_utils import Sequence\n",
    "import keras.backend as K\n",
    "from keras import optimizers"
   ]
  },
  {
   "cell_type": "code",
   "execution_count": 2,
   "metadata": {
    "scrolled": false
   },
   "outputs": [
    {
     "name": "stdout",
     "output_type": "stream",
     "text": [
      "D:\\topcoder\\face_recog\\src\\space\n"
     ]
    }
   ],
   "source": [
    "cd D:\\\\topcoder\\\\face_recog\\\\src\\\\space"
   ]
  },
  {
   "cell_type": "code",
   "execution_count": 62,
   "metadata": {
    "scrolled": false
   },
   "outputs": [],
   "source": [
    "import sys\n",
    "sys.path.append('D:\\\\topcoder\\\\face_recog\\\\src')"
   ]
  },
  {
   "cell_type": "code",
   "execution_count": 63,
   "metadata": {
    "scrolled": false
   },
   "outputs": [],
   "source": [
    "with open('ref_facial_id_db.pickle', 'rb') as f:\n",
    "    facial_ids = pickle.load(f)"
   ]
  },
  {
   "cell_type": "code",
   "execution_count": 64,
   "metadata": {
    "scrolled": false
   },
   "outputs": [],
   "source": [
    "diff_norms = []\n",
    "for subject_id in facial_ids:\n",
    "    diff_norms.append(norm(facial_ids[1] - facial_ids[subject_id]))\n",
    "diff_norms = np.asarray(diff_norms)[1:]"
   ]
  },
  {
   "cell_type": "code",
   "execution_count": 65,
   "metadata": {
    "scrolled": false
   },
   "outputs": [
    {
     "data": {
      "text/plain": [
       "(0.23180201649665833, 1.1048119068145752, 0.5986249867136831)"
      ]
     },
     "execution_count": 65,
     "metadata": {},
     "output_type": "execute_result"
    }
   ],
   "source": [
    "diff_norms.min(), diff_norms.max(), diff_norms.mean()"
   ]
  },
  {
   "cell_type": "code",
   "execution_count": 66,
   "metadata": {
    "scrolled": false
   },
   "outputs": [
    {
     "data": {
      "text/plain": [
       "(array([ 2.,  1.,  0.,  1.,  0.,  3.,  2.,  5.,  6.,  9.,  9., 10., 20.,\n",
       "        11., 12., 13., 10.,  9., 10., 16., 23., 14., 17., 22., 12.,  9.,\n",
       "        15., 25., 13., 18., 21., 19., 20., 16., 16., 19., 27., 19., 23.,\n",
       "        22., 23., 26., 20., 19., 20., 18., 22., 23., 20., 12., 15., 18.,\n",
       "        18., 21., 19., 19., 15., 11.,  6., 10., 13., 10., 12., 11., 16.,\n",
       "        11.,  9.,  9.,  2., 12.,  8.,  6.,  3.,  6., 14.,  5.,  6.,  5.,\n",
       "         5.,  3.,  3.,  8.,  4.,  5.,  4.,  4.,  1.,  5.,  1.,  0.,  1.,\n",
       "         1.,  1.,  0.,  0.,  0.,  0.,  0.,  1.,  1.]),\n",
       " array([0.23180202, 0.24053212, 0.24926221, 0.25799231, 0.26672241,\n",
       "        0.27545251, 0.28418261, 0.29291271, 0.30164281, 0.31037291,\n",
       "        0.31910301, 0.3278331 , 0.3365632 , 0.3452933 , 0.3540234 ,\n",
       "        0.3627535 , 0.3714836 , 0.3802137 , 0.3889438 , 0.3976739 ,\n",
       "        0.40640399, 0.41513409, 0.42386419, 0.43259429, 0.44132439,\n",
       "        0.45005449, 0.45878459, 0.46751469, 0.47624479, 0.48497488,\n",
       "        0.49370498, 0.50243508, 0.51116518, 0.51989528, 0.52862538,\n",
       "        0.53735548, 0.54608558, 0.55481568, 0.56354577, 0.57227587,\n",
       "        0.58100597, 0.58973607, 0.59846617, 0.60719627, 0.61592637,\n",
       "        0.62465647, 0.63338657, 0.64211666, 0.65084676, 0.65957686,\n",
       "        0.66830696, 0.67703706, 0.68576716, 0.69449726, 0.70322736,\n",
       "        0.71195746, 0.72068756, 0.72941765, 0.73814775, 0.74687785,\n",
       "        0.75560795, 0.76433805, 0.77306815, 0.78179825, 0.79052835,\n",
       "        0.79925845, 0.80798854, 0.81671864, 0.82544874, 0.83417884,\n",
       "        0.84290894, 0.85163904, 0.86036914, 0.86909924, 0.87782934,\n",
       "        0.88655943, 0.89528953, 0.90401963, 0.91274973, 0.92147983,\n",
       "        0.93020993, 0.93894003, 0.94767013, 0.95640023, 0.96513032,\n",
       "        0.97386042, 0.98259052, 0.99132062, 1.00005072, 1.00878082,\n",
       "        1.01751092, 1.02624102, 1.03497112, 1.04370121, 1.05243131,\n",
       "        1.06116141, 1.06989151, 1.07862161, 1.08735171, 1.09608181,\n",
       "        1.10481191]),\n",
       " <a list of 100 Patch objects>)"
      ]
     },
     "execution_count": 66,
     "metadata": {},
     "output_type": "execute_result"
    },
    {
     "data": {
      "image/png": "[encoded data removed]",
      "text/plain": [
       "<Figure size 432x288 with 1 Axes>"
      ]
     },
     "metadata": {
      "needs_background": "light"
     },
     "output_type": "display_data"
    }
   ],
   "source": [
    "hist(diff_norms, bins=100)"
   ]
  },
  {
   "cell_type": "code",
   "execution_count": 67,
   "metadata": {
    "scrolled": false
   },
   "outputs": [
    {
     "name": "stdout",
     "output_type": "stream",
     "text": [
      "1\n",
      "0.0 1.1048119068145752 0.5980712170682496\n"
     ]
    },
    {
     "data": {
      "image/png": "[encoded data removed]",
      "text/plain": [
       "<Figure size 432x288 with 1 Axes>"
      ]
     },
     "metadata": {
      "needs_background": "light"
     },
     "output_type": "display_data"
    }
   ],
   "source": [
    "for subject_id_t in list(facial_ids.keys())[:1]:\n",
    "    print(subject_id_t)\n",
    "    diff_norms = []\n",
    "    for subject_id_b in facial_ids:\n",
    "        diff_norms.append(norm(facial_ids[subject_id_t] - facial_ids[subject_id_b]))\n",
    "    diff_norms = np.asarray(diff_norms)\n",
    "    print(diff_norms.min(), diff_norms.max(), diff_norms.mean())\n",
    "    hist(diff_norms, bins=100)"
   ]
  },
  {
   "cell_type": "code",
   "execution_count": 68,
   "metadata": {
    "scrolled": false
   },
   "outputs": [],
   "source": [
    "ref_facial_ids = facial_ids"
   ]
  },
  {
   "cell_type": "code",
   "execution_count": 69,
   "metadata": {
    "scrolled": false
   },
   "outputs": [],
   "source": [
    "with open(\"face_vijnana_yolov3_win.json\", 'r') as f:\n",
    "    conf = json.load(f)"
   ]
  },
  {
   "cell_type": "code",
   "execution_count": 70,
   "metadata": {
    "scrolled": false
   },
   "outputs": [],
   "source": [
    "import face_identification"
   ]
  },
  {
   "cell_type": "code",
   "execution_count": 71,
   "metadata": {
    "scrolled": false
   },
   "outputs": [
    {
     "data": {
      "text/plain": [
       "<module 'face_identification' from 'D:\\\\topcoder\\\\face_recog\\\\src\\\\space\\\\face_identification.py'>"
      ]
     },
     "execution_count": 71,
     "metadata": {},
     "output_type": "execute_result"
    }
   ],
   "source": [
    "importlib.reload(face_identification)"
   ]
  },
  {
   "cell_type": "code",
   "execution_count": 72,
   "metadata": {
    "scrolled": false
   },
   "outputs": [
    {
     "name": "stdout",
     "output_type": "stream",
     "text": [
      "WARNING:tensorflow:From D:\\Users\\gutom\\Anaconda3\\envs\\tf36\\lib\\site-packages\\tensorflow\\python\\ops\\math_ops.py:3066: to_int32 (from tensorflow.python.ops.math_ops) is deprecated and will be removed in a future version.\n",
      "Instructions for updating:\n",
      "Use tf.cast instead.\n"
     ]
    }
   ],
   "source": [
    "fr = face_identification.FaceIdentifier(conf)"
   ]
  },
  {
   "cell_type": "code",
   "execution_count": 14,
   "metadata": {
    "scrolled": false
   },
   "outputs": [],
   "source": [
    "db = pd.read_csv('subject_image_db.csv')\n",
    "db = db.iloc[:, 1:]\n",
    "db_g = db.groupby('subject_id')"
   ]
  },
  {
   "cell_type": "code",
   "execution_count": 15,
   "metadata": {
    "scrolled": false
   },
   "outputs": [],
   "source": [
    "subject_ids = db_g.groups.keys()"
   ]
  },
  {
   "cell_type": "code",
   "execution_count": 16,
   "metadata": {
    "scrolled": false
   },
   "outputs": [],
   "source": [
    "facial_ids_dict= {}"
   ]
  },
  {
   "cell_type": "code",
   "execution_count": 17,
   "metadata": {
    "scrolled": false
   },
   "outputs": [
    {
     "data": {
      "text/plain": [
       "(2, 64)"
      ]
     },
     "execution_count": 17,
     "metadata": {},
     "output_type": "execute_result"
    }
   ],
   "source": [
    "subject_id = 1\n",
    "df = db_g.get_group(subject_id)\n",
    "images = []\n",
    "for ff in list(df.iloc[:, 1]):\n",
    "    image = imread(os.path.join('subject_faces', ff))\n",
    "    images.append(image/255)\n",
    "images = np.asarray(images)\n",
    "facial_ids = fr.fid_extractor.predict(images)\n",
    "facial_ids_dict[subject_id] = facial_ids\n",
    "facial_ids.shape"
   ]
  },
  {
   "cell_type": "code",
   "execution_count": 18,
   "metadata": {
    "scrolled": false
   },
   "outputs": [
    {
     "data": {
      "text/plain": [
       "(0.33885938466856186, 0.792156862745098)"
      ]
     },
     "execution_count": 18,
     "metadata": {},
     "output_type": "execute_result"
    }
   ],
   "source": [
    "images[0].mean(), images[0].max()"
   ]
  },
  {
   "cell_type": "code",
   "execution_count": 19,
   "metadata": {
    "scrolled": false
   },
   "outputs": [
    {
     "data": {
      "text/plain": [
       "0.6339962482452393"
      ]
     },
     "execution_count": 19,
     "metadata": {},
     "output_type": "execute_result"
    }
   ],
   "source": [
    "norm(facial_ids[1] - facial_ids[0]) "
   ]
  },
  {
   "cell_type": "code",
   "execution_count": 20,
   "metadata": {
    "scrolled": false
   },
   "outputs": [
    {
     "data": {
      "text/plain": [
       "1.0"
      ]
     },
     "execution_count": 20,
     "metadata": {},
     "output_type": "execute_result"
    }
   ],
   "source": [
    "norm(facial_ids[1])"
   ]
  },
  {
   "cell_type": "code",
   "execution_count": 21,
   "metadata": {
    "scrolled": false
   },
   "outputs": [
    {
     "data": {
      "text/plain": [
       "0.31699812412261963"
      ]
     },
     "execution_count": 21,
     "metadata": {},
     "output_type": "execute_result"
    }
   ],
   "source": [
    "norm(facial_ids[0] - ref_facial_ids[1])"
   ]
  },
  {
   "cell_type": "code",
   "execution_count": 22,
   "metadata": {
    "scrolled": false
   },
   "outputs": [
    {
     "name": "stdout",
     "output_type": "stream",
     "text": [
      "0.0 0.0 0.0\n",
      "0.13209204 0.10122908 0.116660565\n",
      "0.1779783 0.0 0.08898915\n",
      "0.0 0.0 0.0\n",
      "0.0 0.0 0.0\n",
      "0.0 0.0 0.0\n",
      "0.0 0.06827514 0.03413757\n",
      "0.0 0.0 0.0\n",
      "0.09583154 0.0 0.04791577\n",
      "0.0 0.0 0.0\n",
      "0.095636934 0.056734137 0.07618554\n",
      "0.0 0.0 0.0\n",
      "0.17804354 0.15667246 0.16735801\n",
      "0.0 0.0 0.0\n",
      "0.0 0.11982947 0.059914734\n",
      "0.0 0.0 0.0\n",
      "0.0 0.0 0.0\n",
      "0.3648225 0.36048463 0.36265355\n",
      "0.0 0.0 0.0\n",
      "0.34382787 0.26104456 0.30243623\n",
      "0.0 0.303261 0.1516305\n",
      "0.0 0.0 0.0\n",
      "0.0 0.0 0.0\n",
      "0.1129849 0.0 0.05649245\n",
      "0.0 0.0 0.0\n",
      "0.0 0.0 0.0\n",
      "0.12511502 0.0 0.06255751\n",
      "0.0 0.021784527 0.010892264\n",
      "0.0 0.0 0.0\n",
      "0.17774335 0.16308546 0.1704144\n",
      "0.0 0.0 0.0\n",
      "0.0 0.0 0.0\n",
      "0.0 0.0 0.0\n",
      "0.0 0.08727419 0.043637093\n",
      "0.29922163 0.26390207 0.28156185\n",
      "0.0 0.0 0.0\n",
      "0.06007005 0.0 0.030035025\n",
      "0.0 0.12578288 0.06289144\n",
      "0.0 0.0 0.0\n",
      "0.0 0.0 0.0\n",
      "0.104970194 0.0 0.052485097\n",
      "0.23774455 0.19571386 0.21672921\n",
      "0.0 0.0 0.0\n",
      "0.0 0.0 0.0\n",
      "0.0 0.0 0.0\n",
      "0.0 0.0 0.0\n",
      "0.14961724 0.09623521 0.12292622\n",
      "0.08503348 0.27368355 0.17935851\n",
      "0.0 0.0 0.0\n",
      "0.4709177 0.4353036 0.45311064\n",
      "0.13228397 0.1491272 0.14070559\n",
      "0.0 0.0 0.0\n",
      "0.17897956 0.34789202 0.26343578\n",
      "0.0 0.0 0.0\n",
      "0.10385425 0.0 0.051927123\n",
      "0.0 0.0 0.0\n",
      "0.0 0.2236794 0.1118397\n",
      "0.18914571 0.028086359 0.10861604\n",
      "0.0 0.0 0.0\n",
      "0.0 0.0 0.0\n",
      "0.0 0.0 0.0\n",
      "0.28524277 0.16342117 0.22433197\n",
      "0.0 0.0 0.0\n",
      "0.0 0.0 0.0\n"
     ]
    }
   ],
   "source": [
    "for i in range(facial_ids.shape[1]):\n",
    "    print(facial_ids[0,i], facial_ids[1,i], ref_facial_ids[1][i])"
   ]
  },
  {
   "cell_type": "code",
   "execution_count": 23,
   "metadata": {
    "scrolled": false
   },
   "outputs": [
    {
     "data": {
      "text/plain": [
       "(13, 64)"
      ]
     },
     "execution_count": 23,
     "metadata": {},
     "output_type": "execute_result"
    }
   ],
   "source": [
    "subject_id = 2\n",
    "df = db_g.get_group(subject_id)\n",
    "images = []\n",
    "for ff in list(df.iloc[:, 1]):\n",
    "    image = cv.imread(os.path.join('subject_faces', ff))\n",
    "    r = image[:, :, 0].copy()\n",
    "    g = image[:, :, 1].copy()\n",
    "    b = image[:, :, 2].copy()\n",
    "    image[:, :, 0] = b\n",
    "    image[:, :, 1] = g\n",
    "    image[:, :, 2] = r \n",
    "    images.append(image/255)\n",
    "images = np.asarray(images)\n",
    "facial_ids = fr.fid_extractor.predict(images)\n",
    "facial_ids_dict[subject_id] = facial_ids\n",
    "facial_ids.shape"
   ]
  },
  {
   "cell_type": "code",
   "execution_count": 24,
   "metadata": {
    "scrolled": false
   },
   "outputs": [
    {
     "name": "stdout",
     "output_type": "stream",
     "text": [
      "1.0\n",
      "1.0\n",
      "0.9999999403953552\n",
      "1.0\n",
      "1.0000001192092896\n",
      "1.0\n",
      "1.0\n",
      "1.0\n",
      "1.0\n",
      "1.0\n",
      "0.9999999403953552\n",
      "1.0\n",
      "1.0\n"
     ]
    }
   ],
   "source": [
    "for i in range(facial_ids.shape[0]): print(norm(facial_ids[i]))"
   ]
  },
  {
   "cell_type": "code",
   "execution_count": 25,
   "metadata": {
    "scrolled": false
   },
   "outputs": [
    {
     "data": {
      "text/plain": [
       "0.0934089943766594"
      ]
     },
     "execution_count": 25,
     "metadata": {},
     "output_type": "execute_result"
    }
   ],
   "source": [
    "norm(facial_ids[0] - facial_ids[1]) "
   ]
  },
  {
   "cell_type": "code",
   "execution_count": 26,
   "metadata": {
    "scrolled": false
   },
   "outputs": [
    {
     "name": "stdout",
     "output_type": "stream",
     "text": [
      "0.09184958040714264 0.6300374865531921 0.2816047358016173\n"
     ]
    }
   ],
   "source": [
    "dists = []\n",
    "for i in range(facial_ids.shape[0] - 1):\n",
    "    for j in range(i + 1, facial_ids.shape[0]):\n",
    "        dists.append(norm(facial_ids[i] - facial_ids[j]))\n",
    "dists = np.asarray(dists)\n",
    "print(dists.min(), dists.max(), dists.mean())"
   ]
  },
  {
   "cell_type": "code",
   "execution_count": 27,
   "metadata": {
    "scrolled": false
   },
   "outputs": [
    {
     "data": {
      "text/plain": [
       "2.2123892307281494"
      ]
     },
     "execution_count": 27,
     "metadata": {},
     "output_type": "execute_result"
    }
   ],
   "source": [
    "norm(facial_ids_dict[1][0] - facial_ids[1][1])"
   ]
  },
  {
   "cell_type": "code",
   "execution_count": 28,
   "metadata": {
    "scrolled": false
   },
   "outputs": [],
   "source": [
    "subject_id = 3\n",
    "df = db_g.get_group(subject_id)\n",
    "images = []\n",
    "for ff in list(df.iloc[:, 1]):\n",
    "    image = imread(os.path.join('subject_faces', ff))\n",
    "    images.append(image/255)\n",
    "images = np.asarray(images)"
   ]
  },
  {
   "cell_type": "code",
   "execution_count": 29,
   "metadata": {
    "scrolled": false
   },
   "outputs": [],
   "source": [
    "facial_ids = fr.fid_extractor.predict(images)"
   ]
  },
  {
   "cell_type": "code",
   "execution_count": 30,
   "metadata": {
    "scrolled": false
   },
   "outputs": [
    {
     "name": "stdout",
     "output_type": "stream",
     "text": [
      "0.142851322889328 0.8016296029090881 0.3784285101389128\n"
     ]
    }
   ],
   "source": [
    "dists = []\n",
    "for i in range(facial_ids.shape[0] - 1):\n",
    "    for j in range(i + 1, facial_ids.shape[0]):\n",
    "        dists.append(norm(facial_ids[i] - facial_ids[j]))\n",
    "dists = np.asarray(dists)\n",
    "print(dists.min(), dists.max(), dists.mean())"
   ]
  },
  {
   "cell_type": "code",
   "execution_count": 31,
   "metadata": {
    "scrolled": false
   },
   "outputs": [],
   "source": [
    "image = imread(os.path.join('subject_faces', ff))"
   ]
  },
  {
   "cell_type": "code",
   "execution_count": 32,
   "metadata": {
    "scrolled": false
   },
   "outputs": [
    {
     "data": {
      "text/plain": [
       "<matplotlib.image.AxesImage at 0x23f19fca2e8>"
      ]
     },
     "execution_count": 32,
     "metadata": {},
     "output_type": "execute_result"
    },
    {
     "data": {
      "image/png": "[encoded data removed]",
      "text/plain": [
       "<Figure size 432x288 with 1 Axes>"
      ]
     },
     "metadata": {
      "needs_background": "light"
     },
     "output_type": "display_data"
    }
   ],
   "source": [
    "imshow(image)"
   ]
  },
  {
   "cell_type": "code",
   "execution_count": 33,
   "metadata": {
    "scrolled": false
   },
   "outputs": [],
   "source": [
    "from skimage.io import imread, imsave\n",
    "from skimage.transform import resize \n",
    "from skimage.draw import polygon_perimeter, set_color\n",
    "\n",
    "from PIL import Image, ImageFont, ImageDraw"
   ]
  },
  {
   "cell_type": "code",
   "execution_count": 34,
   "metadata": {
    "scrolled": false
   },
   "outputs": [],
   "source": [
    "imageObject = Image.fromarray(image, mode='RGB')\n",
    "imageDraw = ImageDraw.Draw(imageObject)"
   ]
  },
  {
   "cell_type": "code",
   "execution_count": 35,
   "metadata": {
    "scrolled": false
   },
   "outputs": [
    {
     "data": {
      "text/plain": [
       "<matplotlib.image.AxesImage at 0x23f19f61c50>"
      ]
     },
     "execution_count": 35,
     "metadata": {},
     "output_type": "execute_result"
    },
    {
     "data": {
      "image/png": "[encoded data removed]",
      "text/plain": [
       "<Figure size 432x288 with 1 Axes>"
      ]
     },
     "metadata": {
      "needs_background": "light"
     },
     "output_type": "display_data"
    }
   ],
   "source": [
    "font = ImageFont.truetype('arial.ttf', 30)\n",
    "imageDraw.text((100, 100), 'test', fill=(0,255,0), font=font)\n",
    "imageDraw.rectangle([10, 10, 50, 50], outline=(0,255,0), width=3)\n",
    "imshow(np.asarray(imageObject))"
   ]
  },
  {
   "cell_type": "code",
   "execution_count": 36,
   "metadata": {
    "scrolled": false
   },
   "outputs": [],
   "source": [
    "res = fr.fid_extractor.predict(image[np.newaxis, ...]/255)"
   ]
  },
  {
   "cell_type": "code",
   "execution_count": 37,
   "metadata": {
    "scrolled": false
   },
   "outputs": [
    {
     "data": {
      "text/plain": [
       "(1, 64)"
      ]
     },
     "execution_count": 37,
     "metadata": {},
     "output_type": "execute_result"
    }
   ],
   "source": [
    "res.shape"
   ]
  },
  {
   "cell_type": "code",
   "execution_count": 38,
   "metadata": {
    "scrolled": false
   },
   "outputs": [
    {
     "data": {
      "text/plain": [
       "1.0"
      ]
     },
     "execution_count": 38,
     "metadata": {},
     "output_type": "execute_result"
    }
   ],
   "source": [
    "norm(res)"
   ]
  },
  {
   "cell_type": "code",
   "execution_count": 39,
   "metadata": {
    "scrolled": false
   },
   "outputs": [],
   "source": [
    "b, g, t = cv.split(image)"
   ]
  },
  {
   "cell_type": "code",
   "execution_count": 40,
   "metadata": {
    "scrolled": false
   },
   "outputs": [],
   "source": [
    "m_image = cv.merge((b, np.zeros(shape=(416,416), dtype=uint8), np.zeros(shape=(416,416), dtype=uint8)))"
   ]
  },
  {
   "cell_type": "code",
   "execution_count": 41,
   "metadata": {
    "scrolled": false
   },
   "outputs": [
    {
     "data": {
      "text/plain": [
       "'fd5723edbcc50150c7cdbd06fe2f9111_3_2399_2776.jpg'"
      ]
     },
     "execution_count": 41,
     "metadata": {},
     "output_type": "execute_result"
    }
   ],
   "source": [
    "ff"
   ]
  },
  {
   "cell_type": "code",
   "execution_count": 42,
   "metadata": {
    "scrolled": false
   },
   "outputs": [],
   "source": [
    "image2 = imread(os.path.join('subject_faces', ff))"
   ]
  },
  {
   "cell_type": "code",
   "execution_count": 43,
   "metadata": {
    "scrolled": false
   },
   "outputs": [
    {
     "data": {
      "text/plain": [
       "<matplotlib.image.AxesImage at 0x23f18934940>"
      ]
     },
     "execution_count": 43,
     "metadata": {},
     "output_type": "execute_result"
    },
    {
     "data": {
      "image/png": "[encoded data removed]",
      "text/plain": [
       "<Figure size 432x288 with 1 Axes>"
      ]
     },
     "metadata": {
      "needs_background": "light"
     },
     "output_type": "display_data"
    }
   ],
   "source": [
    "imshow(image2)"
   ]
  },
  {
   "cell_type": "code",
   "execution_count": 47,
   "metadata": {
    "scrolled": false
   },
   "outputs": [
    {
     "name": "stdout",
     "output_type": "stream",
     "text": [
      "Same face identity pairs.\n",
      "1081 / 1081 1081 / 1081 / 1081 / 1081 / 1081 / 1081 / 1081 / 1081 / 1081 / 1081 / 1081 / 1081 / 1081 / 1081 / 1081 / 1081 / 1081 / 1081 / 10811081\n",
      "Different face identity pairs.\n",
      "540 / 540/ 540 / 540 / 540 / 540 / 540\r"
     ]
    }
   ],
   "source": [
    "db = pd.read_csv('subject_image_db.csv')\n",
    "db = db.iloc[:, 1:]\n",
    "db_g = db.groupby('subject_id')\n",
    "same_dists = []\n",
    "diff_dists = []\n",
    "\n",
    "with h5py.File('subject_facial_ids.h5', 'r') as f:\n",
    "    subject_ids = list(db_g.groups.keys())\n",
    "    \n",
    "    # Same face identity pairs.\n",
    "    print('Same face identity pairs.')\n",
    "    for c, subject_id in enumerate(subject_ids):\n",
    "        print(c + 1, '/', len(subject_ids), end='\\r')\n",
    "        \n",
    "        if subject_id == -1:\n",
    "            continue\n",
    "        \n",
    "        # Get face images of a subject id.\n",
    "        df = db_g.get_group(subject_id)\n",
    "        file_names = list(df.iloc[:, 1])\n",
    "        \n",
    "        # Check exception.\n",
    "        if len(file_names) < 2: continue\n",
    "        \n",
    "        for i in range(len(file_names)): \n",
    "            same_dists.append(norm(ref_facial_ids[subject_id] - f[file_names[i]].value)) \n",
    "\n",
    "    print()\n",
    "\n",
    "    # Determine pairs of different face identity randomly.\n",
    "    idxes = range(len(subject_ids))\n",
    "    num_pairs = len(subject_ids) // 2\n",
    "    pairs = np.random.choice(idxes, size=(num_pairs, 2), replace=False)\n",
    "        \n",
    "    # Different face identity pairs.b\n",
    "    print('Different face identity pairs.')\n",
    "    for i in range(pairs.shape[0]):\n",
    "        print(i + 1, '/', pairs.shape[0], end='\\r')\n",
    "        \n",
    "        k = pairs[i, 0]\n",
    "        l = pairs[i, 1]\n",
    "\n",
    "        if subject_ids[k] == -1 or subject_ids[l] == -1:\n",
    "            continue            \n",
    "\n",
    "        comp_df = db_g.get_group(subject_ids[l])\n",
    "        comp_file_names = list(comp_df.iloc[:, 1])\n",
    "                        \n",
    "        for comp_fn in comp_file_names: \n",
    "            diff_dists.append(norm(ref_facial_ids[subject_ids[k]] - f[comp_fn].value))            \n",
    "        \n",
    "same_dists = np.asarray(same_dists)\n",
    "diff_dists = np.asarray(diff_dists)"
   ]
  },
  {
   "cell_type": "code",
   "execution_count": 48,
   "metadata": {},
   "outputs": [
    {
     "data": {
      "image/png": "[encoded data removed]",
      "text/plain": [
       "<Figure size 1440x720 with 1 Axes>"
      ]
     },
     "metadata": {
      "needs_background": "light"
     },
     "output_type": "display_data"
    }
   ],
   "source": [
    "figure(figsize=(20,10))\n",
    "hist(same_dists, bins=100)\n",
    "grid()"
   ]
  },
  {
   "cell_type": "code",
   "execution_count": 49,
   "metadata": {
    "scrolled": true
   },
   "outputs": [
    {
     "data": {
      "image/png": "[encoded data removed]",
      "text/plain": [
       "<Figure size 1440x720 with 1 Axes>"
      ]
     },
     "metadata": {
      "needs_background": "light"
     },
     "output_type": "display_data"
    }
   ],
   "source": [
    "figure(figsize=(20,10))\n",
    "hist(diff_dists, bins=100)\n",
    "grid()"
   ]
  },
  {
   "cell_type": "code",
   "execution_count": 50,
   "metadata": {},
   "outputs": [
    {
     "data": {
      "image/png": "[encoded data removed]",
      "text/plain": [
       "<Figure size 1440x720 with 1 Axes>"
      ]
     },
     "metadata": {
      "needs_background": "light"
     },
     "output_type": "display_data"
    }
   ],
   "source": [
    "figure(figsize=(20,10))\n",
    "hist(same_dists, bins=100)\n",
    "hist(diff_dists, bins=100)\n",
    "grid()"
   ]
  },
  {
   "cell_type": "code",
   "execution_count": 109,
   "metadata": {
    "scrolled": true
   },
   "outputs": [
    {
     "name": "stdout",
     "output_type": "stream",
     "text": [
      "1 0.31699812412261963 0.31699812412261963 0.31699812412261963\n",
      "2 0.08188753575086594 0.4054949879646301 0.18553479073139337\n",
      "3 0.1484779715538025 0.6170151829719543 0.26271721135292736\n",
      "5 0.19021432101726532 0.6365389823913574 0.36230561988694326\n",
      "6 0.11527179926633835 0.44185009598731995 0.23848825879395008\n",
      "7 0.16121390461921692 0.41147810220718384 0.24995450675487518\n",
      "8 0.13463760912418365 0.3316146731376648 0.23080525050560632\n",
      "9 0.15575015544891357 0.44398587942123413 0.28678986572083975\n",
      "10 0.28028953075408936 0.28028953075408936 0.28028953075408936\n",
      "11 0.42411935329437256 0.5666417479515076 0.5062295347452164\n",
      "12 0.12864883244037628 0.6153002977371216 0.2331407639910193\n",
      "13 0.31551414728164673 0.31551414728164673 0.31551414728164673\n",
      "16 0.11225592344999313 0.5599376559257507 0.23820211353801912\n",
      "17 0.3693578839302063 0.5138313174247742 0.4329121212164561\n",
      "18 0.3331071436405182 0.4633590579032898 0.38914355635643005\n",
      "20 0.42223650217056274 0.42223650217056274 0.42223650217056274\n",
      "21 0.3092263340950012 0.501957893371582 0.38780998190244037\n",
      "22 0.3028967082500458 0.455478698015213 0.3790234997868538\n",
      "23 0.12647537887096405 0.2515859603881836 0.1821641900709697\n",
      "24 0.3164145350456238 0.3164145350456238 0.3164145350456238\n",
      "25 0.3496836721897125 0.4074612259864807 0.3752492547035217\n",
      "26 0.1807204931974411 0.5715295076370239 0.2853487302859624\n",
      "27 0.3707302510738373 0.5488224625587463 0.4553210139274597\n",
      "28 0.19409765303134918 0.5388122200965881 0.3618404154073108\n",
      "29 0.18311697244644165 0.18311697244644165 0.18311697244644165\n",
      "31 0.14199110865592957 0.40347716212272644 0.2756297005848451\n",
      "33 0.22115452587604523 0.26543131470680237 0.2431072493394216\n",
      "34 0.21325215697288513 0.2433660328388214 0.22793151438236237\n",
      "35 0.22087125480175018 0.22087126970291138 0.22087126225233078\n",
      "36 0.21716022491455078 0.3983328342437744 0.3248545030752818\n",
      "37 0.1533924788236618 0.631114661693573 0.31506100876463783\n",
      "38 0.1487940400838852 0.5022932291030884 0.2988810868098818\n",
      "39 0.38524749875068665 0.46042218804359436 0.420492947101593\n",
      "40 0.2217010259628296 0.35877707600593567 0.30975932876269024\n",
      "41 0.3058403730392456 0.7303902506828308 0.40651557842890423\n",
      "42 0.16331881284713745 0.4226173758506775 0.26659407976426575\n",
      "43 0.3180469572544098 0.3180469870567322 0.318046972155571\n",
      "45 0.1494944840669632 0.5014434456825256 0.2991530068218708\n",
      "46 0.2425835281610489 0.6299128532409668 0.3762871405253044\n",
      "47 0.10529498755931854 0.5577930808067322 0.22432681381702424\n",
      "48 0.19194619357585907 0.5528509020805359 0.32982402920722964\n",
      "50 0.24824385344982147 0.24824385344982147 0.24824385344982147\n",
      "52 0.18682019412517548 0.29532960057258606 0.23649167517820993\n",
      "53 0.09419003129005432 0.36148396134376526 0.17676477353362477\n",
      "55 0.2352800816297531 0.2352800816297531 0.2352800816297531\n",
      "56 0.3303857445716858 0.46707332134246826 0.3783135215441386\n",
      "57 0.19526544213294983 0.5759896636009216 0.327823664183202\n",
      "58 0.13107913732528687 0.6597092747688293 0.26528305891487336\n",
      "59 0.08799313753843307 0.3438397943973541 0.15653008098403612\n",
      "60 0.14080911874771118 0.3529632091522217 0.23024744043747583\n",
      "62 0.36657288670539856 0.48037034273147583 0.4423562288284302\n",
      "64 0.28050369024276733 0.44100692868232727 0.37001755833625793\n",
      "65 0.11837535351514816 0.29379427433013916 0.20244224509224296\n",
      "67 0.14670270681381226 0.4238179326057434 0.25353167625144124\n",
      "68 0.17990688979625702 0.36332279443740845 0.2638928110108656\n",
      "69 0.13167977333068848 0.3924271762371063 0.22911071106791497\n",
      "70 0.17591136693954468 0.32554399967193604 0.2601621747016907\n",
      "72 0.43960151076316833 0.43960151076316833 0.43960151076316833\n",
      "73 0.26333004236221313 0.3575674891471863 0.3105510249733925\n",
      "74 0.15444530546665192 0.48661723732948303 0.27517875134944914\n",
      "75 0.13809353113174438 0.5019286870956421 0.2375482531885306\n",
      "77 0.18361884355545044 0.46159881353378296 0.2636632706437792\n",
      "80 0.1433970034122467 0.3574551045894623 0.21648151599443877\n",
      "83 0.3447574973106384 0.7580814957618713 0.49557995133929783\n",
      "84 0.23760583996772766 0.5148887038230896 0.3756090717820021\n",
      "85 0.10387306660413742 0.40878409147262573 0.1813560509019428\n",
      "87 0.15286985039710999 0.44818171858787537 0.26726778596639633\n",
      "89 0.34504586458206177 0.34504586458206177 0.34504586458206177\n",
      "90 0.2016468048095703 0.48745694756507874 0.333470044657588\n",
      "91 0.15891946852207184 0.47084343433380127 0.3038289381398095\n",
      "93 0.10443758964538574 0.5223195552825928 0.2393099471926689\n",
      "94 0.12411447614431381 0.46926170587539673 0.23384397122121992\n",
      "95 0.07978103309869766 0.5762542486190796 0.16681839084183728\n",
      "99 0.15997838973999023 0.42517536878585815 0.2678019430102973\n",
      "101 0.21738070249557495 0.5654335021972656 0.3485201862123277\n",
      "102 0.32829925417900085 0.32829925417900085 0.32829925417900085\n",
      "103 0.535029947757721 0.535029947757721 0.535029947757721\n",
      "104 0.39883288741111755 0.39883288741111755 0.39883288741111755\n",
      "105 0.16015447676181793 0.43114426732063293 0.2712632028592957\n",
      "106 0.12831465899944305 0.486915647983551 0.2779421638697386\n",
      "107 0.5334543585777283 0.7224316000938416 0.5995169132947922\n",
      "108 0.16679953038692474 0.3449627459049225 0.23314524524741703\n",
      "109 0.3827427327632904 0.5613706707954407 0.4565582424402237\n",
      "111 0.1624726504087448 0.74188232421875 0.34612495576341945\n",
      "112 0.3145076036453247 0.5069137811660767 0.43796445926030475\n",
      "114 0.14728957414627075 0.14728957414627075 0.14728957414627075\n",
      "115 0.20105692744255066 0.20105692744255066 0.20105692744255066\n",
      "116 0.26350414752960205 0.4052577316761017 0.3089999324745602\n",
      "117 0.22979509830474854 0.6973041892051697 0.34633567620968\n",
      "119 0.17522822320461273 0.4684298634529114 0.2518704695546109\n",
      "120 0.2363234907388687 0.6076624393463135 0.3554166952768962\n",
      "122 0.2419903427362442 0.2419903427362442 0.2419903427362442\n",
      "123 0.18261194229125977 0.5129793882369995 0.31693913894040243\n",
      "124 0.34848877787590027 0.44765594601631165 0.3828201691309611\n",
      "125 0.13677069544792175 0.4452853202819824 0.2676083967089653\n",
      "126 0.2382781207561493 0.6125172972679138 0.3746753086646398\n",
      "127 0.25968363881111145 0.25968363881111145 0.25968363881111145\n"
     ]
    }
   ],
   "source": [
    "for subject_id in list(subject_ids)[:100]:\n",
    "    df = db_g.get_group(subject_id)\n",
    "    images = []\n",
    "    for ff in list(df.iloc[:, 1]):\n",
    "        image = imread(os.path.join('subject_faces', ff))\n",
    "        images.append(image/255)\n",
    "    images = np.asarray(images)\n",
    "    facial_ids = fr.fid_extractor.predict(images)\n",
    "    \n",
    "    dists = []\n",
    "    for i in range(facial_ids.shape[0] - 1):\n",
    "        for j in range(i + 1, facial_ids.shape[0]):\n",
    "            dists.append(norm(facial_ids[i] - facial_ids[j]))\n",
    "    dists = np.asarray(dists)\n",
    "    \n",
    "    ref_dists = []\n",
    "    for i in range(facial_ids.shape[0]):\n",
    "        ref_dists.append(norm(ref_facial_ids[subject_id] - facial_ids[i]))\n",
    "    ref_dists = np.asarray(ref_dists)\n",
    "    \n",
    "    #if len(dists) != 0: print(subject_id, dists.min(), dists.max(), dists.mean())\n",
    "    if len(dists) != 0: print(subject_id, ref_dists.min(), ref_dists.max(), ref_dists.mean()) "
   ]
  },
  {
   "cell_type": "code",
   "execution_count": 110,
   "metadata": {
    "scrolled": true
   },
   "outputs": [
    {
     "name": "stdout",
     "output_type": "stream",
     "text": [
      "1 0.32682424783706665 1.2354539632797241 0.6279167690963456\n",
      "2 0.4623224139213562 1.1534909009933472 0.872683232781863\n",
      "3 0.2979465425014496 1.1764167547225952 0.784358753162889\n",
      "5 0.2493106722831726 1.2194240093231201 0.6306898415604711\n",
      "6 0.24852897226810455 1.1145596504211426 0.6116204857750974\n",
      "7 0.24132616817951202 1.196224570274353 0.6219323082855254\n",
      "8 0.2278444617986679 1.2935820817947388 0.6586079824000898\n",
      "9 0.21413087844848633 1.224406123161316 0.6402781238459577\n",
      "10 0.37052327394485474 1.2311433553695679 0.6564201396523099\n",
      "11 0.22488977015018463 1.2181252241134644 0.6992323739134302\n",
      "12 0.22202083468437195 1.1764651536941528 0.6085586018829351\n",
      "13 0.25683656334877014 1.1618164777755737 0.6673696765092888\n",
      "16 0.1957782655954361 1.222368836402893 0.5907984091574068\n",
      "17 0.3465452492237091 1.1574393510818481 0.7613928338092586\n",
      "18 0.21062570810317993 1.1831930875778198 0.6801464117386125\n",
      "20 0.3563513159751892 1.1020655632019043 0.7345768496243641\n",
      "21 0.3090371787548065 1.272788405418396 0.7163123131199718\n",
      "22 0.3301844894886017 1.229425072669983 0.7014620024146456\n",
      "23 0.22713615000247955 1.2151803970336914 0.6068332413531313\n",
      "24 0.33073174953460693 1.1305768489837646 0.7310018980442875\n",
      "25 0.2912006080150604 1.1292701959609985 0.7378560282967307\n",
      "26 0.30230557918548584 1.084632396697998 0.6564783674197566\n",
      "27 0.3632320463657379 1.2127814292907715 0.7335774712389969\n",
      "28 0.24713163077831268 1.121216893196106 0.7040851959005969\n",
      "29 0.23721230030059814 1.2346769571304321 0.6244796272179093\n",
      "31 0.27582794427871704 1.1043967008590698 0.6308692169638267\n",
      "33 0.3067566752433777 1.145004391670227 0.7208873086706155\n",
      "34 0.259182333946228 1.2266056537628174 0.6040450723885687\n",
      "35 0.2907234728336334 1.1546623706817627 0.6750273507351827\n",
      "36 0.2975221872329712 1.1198207139968872 0.7117051930740627\n",
      "37 0.2397398203611374 1.186493992805481 0.6695179818772975\n",
      "38 0.24008317291736603 1.1154811382293701 0.7038651145748127\n",
      "39 0.43826693296432495 1.164879560470581 0.7747874486727345\n",
      "40 0.28730902075767517 1.2826366424560547 0.6254174073135813\n",
      "41 0.2948196530342102 1.1711996793746948 0.6455568097255848\n",
      "42 0.2320333868265152 1.2002174854278564 0.8031945693118974\n",
      "43 0.2620754837989807 1.251878023147583 0.6510045514865355\n",
      "45 0.21768242120742798 1.264164686203003 0.6313664476001504\n",
      "46 0.2558865249156952 1.29461669921875 0.7232113857554574\n",
      "47 0.2473333179950714 1.1356264352798462 0.7592310414410601\n",
      "48 0.21442587673664093 1.0932996273040771 0.6726218397268141\n",
      "50 0.44641706347465515 1.0474278926849365 0.8334404574801223\n",
      "52 0.40562140941619873 1.132164478302002 0.7355370366011404\n",
      "53 0.1482282131910324 1.2260302305221558 0.5895113154971309\n",
      "55 0.33790624141693115 1.2215665578842163 0.6328414208961256\n",
      "56 0.23843985795974731 1.2482671737670898 0.6185385743375579\n",
      "57 0.18657337129116058 1.1770317554473877 0.6462423400196738\n",
      "58 0.33926159143447876 1.1156190633773804 0.7561767076368953\n",
      "59 0.3208383023738861 1.136523962020874 0.7792877272590911\n",
      "60 0.18493446707725525 1.1899513006210327 0.5910158120221161\n",
      "62 0.24619510769844055 1.0870245695114136 0.7191894377271334\n",
      "64 0.30280816555023193 1.2321488857269287 0.652595010169026\n",
      "65 0.37510135769844055 1.1223423480987549 0.70388602145543\n",
      "67 0.25072935223579407 1.1735484600067139 0.7532955229451711\n",
      "68 0.21763554215431213 1.1421217918395996 0.7822814560226933\n",
      "69 0.2021256536245346 1.207935094833374 0.5850265957038812\n",
      "70 0.2798786759376526 1.094085454940796 0.6300825955289783\n",
      "72 0.40201306343078613 1.0625855922698975 0.7202021895032941\n",
      "73 0.25975391268730164 1.1174811124801636 0.6173536109201836\n",
      "74 0.2347659021615982 1.1014750003814697 0.7076718136216655\n",
      "75 0.5351157188415527 1.3144060373306274 1.021498028025884\n",
      "77 0.316349059343338 1.2345277070999146 0.6823046562217531\n",
      "79 0.4094926714897156 1.0981227159500122 0.7473274716223129\n",
      "80 0.21091334521770477 1.30032479763031 0.6465211193183641\n",
      "82 0.3882306218147278 1.0862547159194946 0.6581880540558787\n",
      "83 0.29971516132354736 1.2282198667526245 0.7890037168758084\n",
      "84 0.20946259796619415 1.1465743780136108 0.6217896198302438\n",
      "85 0.193461611866951 1.2719465494155884 0.668744476321838\n",
      "87 0.2836129665374756 1.1636486053466797 0.591538652426466\n",
      "89 0.2607213258743286 1.1766713857650757 0.6361928984071269\n",
      "90 0.2543376386165619 1.2359062433242798 0.6342024678483555\n",
      "91 0.30520007014274597 1.1562724113464355 0.6726116494732406\n",
      "92 0.5868563055992126 1.1258131265640259 0.8623082168174513\n",
      "93 0.2898908257484436 1.1785142421722412 0.6801192509706574\n",
      "94 0.15582136809825897 1.2830997705459595 0.6305494689995879\n",
      "95 0.14101652801036835 1.2735815048217773 0.6433558925244856\n",
      "99 0.21774668991565704 1.2911392450332642 0.6299409153039179\n",
      "101 0.2628994584083557 1.2156726121902466 0.6342633274602302\n",
      "102 0.2706310451030731 1.2384148836135864 0.6433169620506691\n",
      "103 0.40530306100845337 1.2193058729171753 0.8200343431848468\n",
      "104 0.25291913747787476 1.068092703819275 0.748856044176853\n",
      "105 0.2127961814403534 1.154465913772583 0.7808589086555338\n",
      "106 0.23357383906841278 1.2227522134780884 0.6179173965515061\n",
      "107 0.1888054609298706 1.2465745210647583 0.7872189883932923\n",
      "108 0.23113517463207245 1.2275840044021606 0.5762127053523572\n",
      "109 0.3232382833957672 1.2116285562515259 0.6976253993131898\n",
      "111 0.30677667260169983 1.2242411375045776 0.7901174477505363\n",
      "112 0.2647967040538788 1.2114598751068115 0.7731996681353058\n",
      "114 0.16250675916671753 1.246220350265503 0.6240080699625642\n",
      "115 0.3149905502796173 1.2249481678009033 0.683764909252976\n",
      "116 0.2579823434352875 1.1188488006591797 0.6593007308532359\n",
      "117 0.21725428104400635 1.2638981342315674 0.6272910591960992\n",
      "119 0.4479420483112335 1.2093818187713623 0.9118098794733374\n",
      "120 0.1903020441532135 1.2309513092041016 0.6403180942992971\n",
      "122 0.20826618373394012 1.246978759765625 0.619263963943178\n",
      "123 0.38642066717147827 1.1991806030273438 0.8515568753599605\n",
      "124 0.3149493932723999 1.2310563325881958 0.6494150846092789\n",
      "125 0.21439525485038757 1.2115117311477661 0.613443722437017\n",
      "126 0.2177315354347229 1.1271460056304932 0.6482231888573043\n",
      "127 0.33712896704673767 1.031691074371338 0.5956679134055821\n"
     ]
    }
   ],
   "source": [
    "for subject_id in list(subject_ids)[:100]:\n",
    "    df = db_g.get_group(subject_id)\n",
    "    images = []\n",
    "    for ff in list(df.iloc[:, 1]):\n",
    "        image = imread(os.path.join('subject_faces', ff))\n",
    "        images.append(image/255)\n",
    "    images = np.asarray(images)\n",
    "    facial_ids = fr.fid_extractor.predict(images)\n",
    "    \n",
    "    dists = []\n",
    "        \n",
    "    for i in range(facial_ids.shape[0]):\n",
    "        for subject_id_p in list(subject_ids)[:100]:\n",
    "            if subject_id_p == subject_id: continue\n",
    "            dists.append(norm(facial_ids[i] - ref_facial_ids[subject_id_p]))\n",
    "                \n",
    "    dists = np.asarray(dists)\n",
    "        \n",
    "    if len(dists) != 0: print(subject_id, dists.min(), dists.max(), dists.mean())"
   ]
  },
  {
   "cell_type": "code",
   "execution_count": null,
   "metadata": {},
   "outputs": [],
   "source": []
  },
  {
   "cell_type": "code",
   "execution_count": 83,
   "metadata": {
    "collapsed": true,
    "scrolled": false
   },
   "outputs": [],
   "source": [
    "from keras import backend as K\n",
    "from keras.layers import Layer, Input, Flatten, Dense\n",
    "from keras.models import Model\n",
    "\n",
    "class MyLayer(Layer):\n",
    "\n",
    "    def __init__(self, output_dim, **kwargs):\n",
    "        self.output_dim = output_dim\n",
    "        super(MyLayer, self).__init__(**kwargs)\n",
    "\n",
    "    def build(self, input_shape):\n",
    "        # Create a trainable weight variable for this layer.\n",
    "        self.rbm_weight = self.add_weight(name='rbm_weight'\n",
    "                                 , shape=(input_shape[1], self.output_dim)\n",
    "                                 , initializer='uniform' # Which initializer is optimal?\n",
    "                                 , trainable=True)\n",
    "\n",
    "        self.hidden_bias = self.add_weight(name='rbm_hidden_bias'\n",
    "                                           , shape=(self.output_dim, )\n",
    "                                           , initializer='uniform'\n",
    "                                           , trainable=True)\n",
    "        super(MyLayer, self).build(input_shape)  # Be sure to call this at the end\n",
    "\n",
    "    def call(self, x):\n",
    "        return K.sigmoid(K.dot(x, self.rbm_weight) + self.hidden_bias) # Float type?\n",
    "\n",
    "    def compute_output_shape(self, input_shape):\n",
    "        return (input_shape[0], self.output_dim)\n",
    "    \n",
    "    def fit(self, x):\n",
    "        pass"
   ]
  },
  {
   "cell_type": "code",
   "execution_count": 85,
   "metadata": {
    "collapsed": true,
    "scrolled": false
   },
   "outputs": [
    {
     "name": "stdout",
     "output_type": "stream",
     "text": [
      "Epoch 1/1\n",
      "1/1 [==============================] - 8s 8s/step - loss: 11.2390\n"
     ]
    },
    {
     "data": {
      "text/plain": [
       "<keras.callbacks.History at 0x1ae0f0d4fd0>"
      ]
     },
     "execution_count": 85,
     "metadata": {},
     "output_type": "execute_result"
    }
   ],
   "source": [
    "input1 = Input(shape=(100,))\n",
    "x = MyLayer(10)(input1)\n",
    "x = Dense(10, activation='softmax')(x)\n",
    "model = Model(input1, x)\n",
    "model.compile(optimizer='sgd', loss='categorical_crossentropy')\n",
    "model.fit(np.random.rand(1,100), np.random.rand(1,10))"
   ]
  },
  {
   "cell_type": "code",
   "execution_count": 3,
   "metadata": {
    "collapsed": true,
    "scrolled": false
   },
   "outputs": [
    {
     "name": "stderr",
     "output_type": "stream",
     "text": [
      "Using TensorFlow backend.\n"
     ]
    }
   ],
   "source": [
    "import numpy as np\n",
    "\n",
    "from keras import backend as K\n",
    "from keras.layers import Layer, Input\n",
    "from tensorflow.keras import initializers\n",
    "\n",
    "class RBM(Layer):\n",
    "    \"\"\"Restricted Boltzmann Machine based on Keras.\"\"\"\n",
    "    def __init__(self, hps, output_dim, name=None, **kwargs):\n",
    "        self.hps = hps\n",
    "        self.output_dim = output_dim\n",
    "        self.name = name\n",
    "        super(RBM, self).__init__(**kwargs)\n",
    "    \n",
    "    def build(self, input_shape):\n",
    "        self.rbm_weight = self.add_weight(name='rbm_weight'\n",
    "                                 , shape=(input_shape[1], self.output_dim)\n",
    "                                 , initializer='uniform' # Which initializer is optimal?\n",
    "                                 , trainable=True)\n",
    "\n",
    "        self.hidden_bias = self.add_weight(name='rbm_hidden_bias'\n",
    "                                           , shape=(self.output_dim, )\n",
    "                                           , initializer='uniform'\n",
    "                                           , trainable=True)\n",
    "        self.visible_bias = K.variable(initializers.get('uniform')((input_shape[1], ))\n",
    "                            , dtype=K.floatx()\n",
    "                            , name='rbm_visible_bias')\n",
    "        \n",
    "        # Make symbolic computation objects.\n",
    "        # Transform visible units.\n",
    "        self.input_visible = K.placeholder(shape=(None, input_shape[1]), name='input_visible')\n",
    "        self.transform = K.sigmoid(K.dot(self.input_visible, self.rbm_weight) + self.hidden_bias)\n",
    "        self.transform_func = K.function([self.input_visible], [self.transform])\n",
    "  \n",
    "        # Transform hidden units.      \n",
    "        self.input_hidden = K.placeholder(shape=(None, self.output_dim), name='input_hidden')\n",
    "        self.inv_transform = K.sigmoid(K.dot(self.input_hidden, K.transpose(self.rbm_weight)) + self.visible_bias)\n",
    "        self.inv_transform_func = K.function([self.input_hidden], [self.inv_transform])\n",
    "        \n",
    "        super(RBM, self).build(input_shape)\n",
    "        \n",
    "    def call(self, x):\n",
    "        return K.sigmoid(K.dot(x, self.rbm_weight) + self.hidden_bias) # Float type?\n",
    "    \n",
    "    def transform(self, v):\n",
    "        return self.transform_func(v)\n",
    "    \n",
    "    def inv_transform(self, h):\n",
    "        return self.inv_transform_func(h)\n",
    "        \n",
    "    def compute_output_shape(self, input_shape):\n",
    "        return (input_shape[0], self.output_dim)\n",
    "    \n",
    "    def fit(self, V, verbose=1):\n",
    "        \"\"\"Train RBM with the data V.\n",
    "        \n",
    "        Parameters\n",
    "        ----------\n",
    "        V : 2d numpy array\n",
    "            Visible data (batch size x input_dim).\n",
    "        verbose : integer\n",
    "            Verbose mode (default, 1).\n",
    "        \"\"\"\n",
    "        num_step = V.shape[0] // self.hps['batch_size'] \\\n",
    "            if V.shape[0] % self.hps['batch_size'] == 0 else V.shape[0] // self.hps['batch_size'] + 1 # Exception processing?\n",
    "        \n",
    "        # Contrastive divergence.\n",
    "        v_pos = self.input_visible\n",
    "        h_pos = self.transform\n",
    "        v_neg = K.cast(K.less(K.random_uniform(shape=(self.hps['batch_size'], V.shape[1]))\n",
    "                       , K.sigmoid(K.dot(h_pos, K.transpose(self.rbm_weight)) + self.visible_bias))\n",
    "                       , dtype=np.float32)\n",
    "        h_neg = K.sigmoid(K.dot(v_neg, self.rbm_weight) + self.hidden_bias)\n",
    "        update = K.transpose(K.transpose(K.dot(K.transpose(v_pos), h_pos)) \\\n",
    "                             - K.dot(K.transpose(h_neg), v_neg))\n",
    "        self.rbm_weight_update_func = K.function([self.input_visible], \n",
    "                                [K.update_add(self.rbm_weight, self.hps['lr'] * update)])\n",
    "        self.hidden_bias_update_func = K.function([self.input_visible], \n",
    "                                [K.update_add(self.hidden_bias, self.hps['lr'] \\\n",
    "                                * (K.sum(h_pos, axis=0) - K.sum(h_neg, axis=0)))])\n",
    "        self.visible_bias_update_func = K.function([self.input_visible], \n",
    "                                [K.update_add(self.visible_bias, self.hps['lr'] \\\n",
    "                                * (K.sum(v_pos, axis=0) - K.sum(v_neg, axis=0)))])\n",
    "        \n",
    "        for k in range(self.hps['epochs']):\n",
    "            if verbose == 1:\n",
    "                print(k, '/', self.hps['epochs'], ' epochs')\n",
    "                \n",
    "            for i in range(num_step):\n",
    "                if i == (num_step - 1):\n",
    "                    # Contrastive divergence.\n",
    "                    v_pos = self.input_visible\n",
    "                    h_pos = self.transform\n",
    "                    v_neg = K.cast(K.less(K.random_uniform(shape=(V.shape[0] \\\n",
    "                                   - int(i*self.hps['batch_size']), V.shape[1])) #?\n",
    "                                   , K.sigmoid(K.dot(h_pos, K.transpose(self.rbm_weight)) \\\n",
    "                                   + self.visible_bias)), dtype=np.float32)\n",
    "                    h_neg = K.sigmoid(K.dot(v_neg, self.rbm_weight) + self.hidden_bias)\n",
    "                    update = K.transpose(K.transpose(K.dot(K.transpose(v_pos), h_pos)) \\\n",
    "                                         - K.dot(K.transpose(h_neg), v_neg))\n",
    "                    self.rbm_weight_update_func = K.function([self.input_visible], \n",
    "                            [K.update_add(self.rbm_weight, self.hps['lr'] * update)])\n",
    "                    self.hidden_bias_update_func = K.function([self.input_visible], \n",
    "                            [K.update_add(self.hidden_bias, self.hps['lr'] \\\n",
    "                            * (K.sum(h_pos, axis=0) - K.sum(h_neg, axis=0)))])\n",
    "                    self.visible_bias_update_func = K.function([self.input_visible], \n",
    "                            [K.update_add(self.visible_bias, self.hps['lr'] \\\n",
    "                            * (K.sum(v_pos, axis=0) - K.sum(v_neg, axis=0)))])\n",
    "\n",
    "                    V_batch = [V[int(i*self.hps['batch_size']):V.shape[0]]]\n",
    "                    \n",
    "                    # Train.\n",
    "                    self.rbm_weight_update_func(V_batch)\n",
    "                    self.hidden_bias_update_func(V_batch)\n",
    "                    self.visible_bias_update_func(V_batch)\n",
    "                else:\n",
    "                    V_batch = [V[int(i*self.hps['batch_size']):int((i+1)*self.hps['batch_size'])]]\n",
    "                    \n",
    "                    # Train.\n",
    "                    self.rbm_weight_update_func(V_batch)\n",
    "                    self.hidden_bias_update_func(V_batch)\n",
    "                    self.visible_bias_update_func(V_batch)  "
   ]
  },
  {
   "cell_type": "code",
   "execution_count": 4,
   "metadata": {
    "collapsed": true,
    "scrolled": false
   },
   "outputs": [
    {
     "ename": "NameError",
     "evalue": "name 'Flatten' is not defined",
     "output_type": "error",
     "traceback": [
      "\u001b[1;31m---------------------------------------------------------------------------\u001b[0m",
      "\u001b[1;31mNameError\u001b[0m                                 Traceback (most recent call last)",
      "\u001b[1;32m<ipython-input-4-fc81ba510d11>\u001b[0m in \u001b[0;36m<module>\u001b[1;34m\u001b[0m\n\u001b[0;32m      9\u001b[0m \u001b[0mrbm_layer\u001b[0m \u001b[1;33m=\u001b[0m \u001b[0mRBM\u001b[0m\u001b[1;33m(\u001b[0m\u001b[0mhps\u001b[0m\u001b[1;33m,\u001b[0m \u001b[1;36m10\u001b[0m\u001b[1;33m)\u001b[0m\u001b[1;33m\u001b[0m\u001b[1;33m\u001b[0m\u001b[0m\n\u001b[0;32m     10\u001b[0m \u001b[0minput1\u001b[0m \u001b[1;33m=\u001b[0m \u001b[0mInput\u001b[0m\u001b[1;33m(\u001b[0m\u001b[0mshape\u001b[0m\u001b[1;33m=\u001b[0m\u001b[1;33m(\u001b[0m\u001b[1;36m10\u001b[0m\u001b[1;33m,\u001b[0m \u001b[1;36m10\u001b[0m\u001b[1;33m,\u001b[0m \u001b[1;36m3\u001b[0m\u001b[1;33m)\u001b[0m\u001b[1;33m)\u001b[0m\u001b[1;33m\u001b[0m\u001b[1;33m\u001b[0m\u001b[0m\n\u001b[1;32m---> 11\u001b[1;33m \u001b[0mx\u001b[0m \u001b[1;33m=\u001b[0m \u001b[0mFlatten\u001b[0m\u001b[1;33m(\u001b[0m\u001b[1;33m)\u001b[0m\u001b[1;33m(\u001b[0m\u001b[0minput1\u001b[0m\u001b[1;33m)\u001b[0m\u001b[1;33m\u001b[0m\u001b[1;33m\u001b[0m\u001b[0m\n\u001b[0m\u001b[0;32m     12\u001b[0m \u001b[0mx\u001b[0m \u001b[1;33m=\u001b[0m \u001b[0mrbm_layer\u001b[0m\u001b[1;33m(\u001b[0m\u001b[0mx\u001b[0m\u001b[1;33m)\u001b[0m\u001b[1;33m\u001b[0m\u001b[1;33m\u001b[0m\u001b[0m\n\u001b[0;32m     13\u001b[0m \u001b[0moutput\u001b[0m \u001b[1;33m=\u001b[0m \u001b[0mDense\u001b[0m\u001b[1;33m(\u001b[0m\u001b[1;36m10\u001b[0m\u001b[1;33m,\u001b[0m \u001b[0mactivation\u001b[0m\u001b[1;33m=\u001b[0m\u001b[1;34m'softmax'\u001b[0m\u001b[1;33m)\u001b[0m\u001b[1;33m(\u001b[0m\u001b[0mx\u001b[0m\u001b[1;33m)\u001b[0m\u001b[1;33m\u001b[0m\u001b[1;33m\u001b[0m\u001b[0m\n",
      "\u001b[1;31mNameError\u001b[0m: name 'Flatten' is not defined"
     ]
    }
   ],
   "source": [
    "hps = {}\n",
    "hps['lr'] = 0.1\n",
    "hps['batch_size'] = 1\n",
    "hps['epochs'] = 10\n",
    "hps['beta_1'] = 0.99\n",
    "hps['beta_2'] = 0.99\n",
    "hps['decay'] = 0.0\n",
    "\n",
    "rbm_layer = RBM(hps, 10)\n",
    "input1 = Input(shape=(10, 10, 3))\n",
    "x = Flatten()(input1)\n",
    "x = rbm_layer(x)\n",
    "output = Dense(10, activation='softmax')(x)\n",
    "model = Model(inputs=[input1], outputs=[output])\n",
    "opt = optimizers.Adam(lr=hps['lr']\n",
    "                                , beta_1=hps['beta_1']\n",
    "                                , beta_2=hps['beta_2']\n",
    "                                , decay=hps['decay'])\n",
    "\n",
    "model.compile(optimizer=opt, loss='mse')"
   ]
  },
  {
   "cell_type": "code",
   "execution_count": 47,
   "metadata": {
    "collapsed": true,
    "scrolled": false
   },
   "outputs": [
    {
     "data": {
      "text/plain": [
       "array([[0.05225093, 0.08817174, 0.16123906, 0.06477234, 0.12430384,\n",
       "        0.06368855, 0.09730622, 0.1456283 , 0.0880848 , 0.11455426]],\n",
       "      dtype=float32)"
      ]
     },
     "execution_count": 47,
     "metadata": {},
     "output_type": "execute_result"
    }
   ],
   "source": [
    "model.predict(np.random.rand(1,10,10,3))"
   ]
  },
  {
   "cell_type": "code",
   "execution_count": 48,
   "metadata": {
    "collapsed": true,
    "scrolled": false
   },
   "outputs": [
    {
     "name": "stdout",
     "output_type": "stream",
     "text": [
      "0 / 10  epochs\n",
      "1 / 10  epochs\n",
      "2 / 10  epochs\n",
      "3 / 10  epochs\n",
      "4 / 10  epochs\n",
      "5 / 10  epochs\n",
      "6 / 10  epochs\n",
      "7 / 10  epochs\n",
      "8 / 10  epochs\n",
      "9 / 10  epochs\n"
     ]
    }
   ],
   "source": [
    "rbm_layer.fit(np.random.rand(1, 300))"
   ]
  },
  {
   "cell_type": "code",
   "execution_count": 49,
   "metadata": {
    "collapsed": true,
    "scrolled": false
   },
   "outputs": [
    {
     "name": "stdout",
     "output_type": "stream",
     "text": [
      "Epoch 1/1\n",
      "10/10 [==============================] - 8s 807ms/step - loss: 0.2910\n"
     ]
    },
    {
     "data": {
      "text/plain": [
       "<keras.callbacks.History at 0x1dd1b532390>"
      ]
     },
     "execution_count": 49,
     "metadata": {},
     "output_type": "execute_result"
    }
   ],
   "source": [
    "model.fit(np.random.rand(10,10,10,3), np.random.rand(10, 10))"
   ]
  },
  {
   "cell_type": "code",
   "execution_count": 52,
   "metadata": {
    "collapsed": true,
    "scrolled": false
   },
   "outputs": [],
   "source": [
    "input1 = Input(shape=(10,))\n",
    "x = Lambda(lambda x: K.l2_normalize(x, axis=1))(input1)\n",
    "model = Model(input1, x)"
   ]
  },
  {
   "cell_type": "code",
   "execution_count": 74,
   "metadata": {
    "collapsed": true,
    "scrolled": false
   },
   "outputs": [],
   "source": [
    "res = model.predict(np.random.rand(2,10))"
   ]
  },
  {
   "cell_type": "code",
   "execution_count": 75,
   "metadata": {
    "collapsed": true,
    "scrolled": false
   },
   "outputs": [
    {
     "data": {
      "text/plain": [
       "(2, 10)"
      ]
     },
     "execution_count": 75,
     "metadata": {},
     "output_type": "execute_result"
    }
   ],
   "source": [
    "res.shape"
   ]
  },
  {
   "cell_type": "code",
   "execution_count": 77,
   "metadata": {
    "collapsed": true,
    "scrolled": false
   },
   "outputs": [
    {
     "data": {
      "text/plain": [
       "1.0"
      ]
     },
     "execution_count": 77,
     "metadata": {},
     "output_type": "execute_result"
    }
   ],
   "source": [
    "norm(res[0])"
   ]
  },
  {
   "cell_type": "code",
   "execution_count": 59,
   "metadata": {
    "collapsed": true,
    "scrolled": false
   },
   "outputs": [],
   "source": [
    "input1 = Input(shape=(10,))\n",
    "input2 = Input(shape=(10,))\n",
    "x = Lambda(lambda x: K.cast(K.less(x[0], x[1]), dtype=float32))([input1, input2])\n",
    "model = Model(inputs=[input1, input2], outputs=[x])"
   ]
  },
  {
   "cell_type": "code",
   "execution_count": 60,
   "metadata": {
    "collapsed": true,
    "scrolled": false
   },
   "outputs": [
    {
     "data": {
      "text/plain": [
       "array([[0., 0., 1., 0., 0., 1., 0., 0., 0., 0.]], dtype=float32)"
      ]
     },
     "execution_count": 60,
     "metadata": {},
     "output_type": "execute_result"
    }
   ],
   "source": [
    "model.predict([np.random.rand(1,10), np.random.rand(1, 10)])"
   ]
  },
  {
   "cell_type": "code",
   "execution_count": 62,
   "metadata": {
    "collapsed": true,
    "scrolled": false
   },
   "outputs": [
    {
     "name": "stderr",
     "output_type": "stream",
     "text": [
      "D:\\Users\\gutom\\Anaconda3\\envs\\tf36\\lib\\site-packages\\keras_applications\\mobilenet_v2.py:306: UserWarning: MobileNet shape is undefined. Weights for input shape(224, 224) will be loaded.\n",
      "  warnings.warn('MobileNet shape is undefined.'\n"
     ]
    },
    {
     "name": "stdout",
     "output_type": "stream",
     "text": [
      "Downloading data from https://github.com/JonathanCMitchell/mobilenet_v2_keras/releases/download/v1.1/mobilenet_v2_weights_tf_dim_ordering_tf_kernels_1.0_224_no_top.h5\n",
      "9412608/9406464 [==============================] - 4s 0us/step\n"
     ]
    }
   ],
   "source": [
    "base = MobileNetV2(include_top = False)"
   ]
  },
  {
   "cell_type": "code",
   "execution_count": 63,
   "metadata": {
    "collapsed": true,
    "scrolled": true
   },
   "outputs": [
    {
     "name": "stdout",
     "output_type": "stream",
     "text": [
      "__________________________________________________________________________________________________\n",
      "Layer (type)                    Output Shape         Param #     Connected to                     \n",
      "==================================================================================================\n",
      "input_2 (InputLayer)            (None, None, None, 3 0                                            \n",
      "__________________________________________________________________________________________________\n",
      "Conv1_pad (ZeroPadding2D)       (None, None, None, 3 0           input_2[0][0]                    \n",
      "__________________________________________________________________________________________________\n",
      "Conv1 (Conv2D)                  (None, None, None, 3 864         Conv1_pad[0][0]                  \n",
      "__________________________________________________________________________________________________\n",
      "bn_Conv1 (BatchNormalization)   (None, None, None, 3 128         Conv1[0][0]                      \n",
      "__________________________________________________________________________________________________\n",
      "Conv1_relu (ReLU)               (None, None, None, 3 0           bn_Conv1[0][0]                   \n",
      "__________________________________________________________________________________________________\n",
      "expanded_conv_depthwise (Depthw (None, None, None, 3 288         Conv1_relu[0][0]                 \n",
      "__________________________________________________________________________________________________\n",
      "expanded_conv_depthwise_BN (Bat (None, None, None, 3 128         expanded_conv_depthwise[0][0]    \n",
      "__________________________________________________________________________________________________\n",
      "expanded_conv_depthwise_relu (R (None, None, None, 3 0           expanded_conv_depthwise_BN[0][0] \n",
      "__________________________________________________________________________________________________\n",
      "expanded_conv_project (Conv2D)  (None, None, None, 1 512         expanded_conv_depthwise_relu[0][0\n",
      "__________________________________________________________________________________________________\n",
      "expanded_conv_project_BN (Batch (None, None, None, 1 64          expanded_conv_project[0][0]      \n",
      "__________________________________________________________________________________________________\n",
      "block_1_expand (Conv2D)         (None, None, None, 9 1536        expanded_conv_project_BN[0][0]   \n",
      "__________________________________________________________________________________________________\n",
      "block_1_expand_BN (BatchNormali (None, None, None, 9 384         block_1_expand[0][0]             \n",
      "__________________________________________________________________________________________________\n",
      "block_1_expand_relu (ReLU)      (None, None, None, 9 0           block_1_expand_BN[0][0]          \n",
      "__________________________________________________________________________________________________\n",
      "block_1_pad (ZeroPadding2D)     (None, None, None, 9 0           block_1_expand_relu[0][0]        \n",
      "__________________________________________________________________________________________________\n",
      "block_1_depthwise (DepthwiseCon (None, None, None, 9 864         block_1_pad[0][0]                \n",
      "__________________________________________________________________________________________________\n",
      "block_1_depthwise_BN (BatchNorm (None, None, None, 9 384         block_1_depthwise[0][0]          \n",
      "__________________________________________________________________________________________________\n",
      "block_1_depthwise_relu (ReLU)   (None, None, None, 9 0           block_1_depthwise_BN[0][0]       \n",
      "__________________________________________________________________________________________________\n",
      "block_1_project (Conv2D)        (None, None, None, 2 2304        block_1_depthwise_relu[0][0]     \n",
      "__________________________________________________________________________________________________\n",
      "block_1_project_BN (BatchNormal (None, None, None, 2 96          block_1_project[0][0]            \n",
      "__________________________________________________________________________________________________\n",
      "block_2_expand (Conv2D)         (None, None, None, 1 3456        block_1_project_BN[0][0]         \n",
      "__________________________________________________________________________________________________\n",
      "block_2_expand_BN (BatchNormali (None, None, None, 1 576         block_2_expand[0][0]             \n",
      "__________________________________________________________________________________________________\n",
      "block_2_expand_relu (ReLU)      (None, None, None, 1 0           block_2_expand_BN[0][0]          \n",
      "__________________________________________________________________________________________________\n",
      "block_2_depthwise (DepthwiseCon (None, None, None, 1 1296        block_2_expand_relu[0][0]        \n",
      "__________________________________________________________________________________________________\n",
      "block_2_depthwise_BN (BatchNorm (None, None, None, 1 576         block_2_depthwise[0][0]          \n",
      "__________________________________________________________________________________________________\n",
      "block_2_depthwise_relu (ReLU)   (None, None, None, 1 0           block_2_depthwise_BN[0][0]       \n",
      "__________________________________________________________________________________________________\n",
      "block_2_project (Conv2D)        (None, None, None, 2 3456        block_2_depthwise_relu[0][0]     \n",
      "__________________________________________________________________________________________________\n",
      "block_2_project_BN (BatchNormal (None, None, None, 2 96          block_2_project[0][0]            \n",
      "__________________________________________________________________________________________________\n",
      "block_2_add (Add)               (None, None, None, 2 0           block_1_project_BN[0][0]         \n",
      "                                                                 block_2_project_BN[0][0]         \n",
      "__________________________________________________________________________________________________\n",
      "block_3_expand (Conv2D)         (None, None, None, 1 3456        block_2_add[0][0]                \n",
      "__________________________________________________________________________________________________\n",
      "block_3_expand_BN (BatchNormali (None, None, None, 1 576         block_3_expand[0][0]             \n",
      "__________________________________________________________________________________________________\n",
      "block_3_expand_relu (ReLU)      (None, None, None, 1 0           block_3_expand_BN[0][0]          \n",
      "__________________________________________________________________________________________________\n",
      "block_3_pad (ZeroPadding2D)     (None, None, None, 1 0           block_3_expand_relu[0][0]        \n",
      "__________________________________________________________________________________________________\n",
      "block_3_depthwise (DepthwiseCon (None, None, None, 1 1296        block_3_pad[0][0]                \n",
      "__________________________________________________________________________________________________\n",
      "block_3_depthwise_BN (BatchNorm (None, None, None, 1 576         block_3_depthwise[0][0]          \n",
      "__________________________________________________________________________________________________\n",
      "block_3_depthwise_relu (ReLU)   (None, None, None, 1 0           block_3_depthwise_BN[0][0]       \n",
      "__________________________________________________________________________________________________\n",
      "block_3_project (Conv2D)        (None, None, None, 3 4608        block_3_depthwise_relu[0][0]     \n",
      "__________________________________________________________________________________________________\n",
      "block_3_project_BN (BatchNormal (None, None, None, 3 128         block_3_project[0][0]            \n",
      "__________________________________________________________________________________________________\n",
      "block_4_expand (Conv2D)         (None, None, None, 1 6144        block_3_project_BN[0][0]         \n",
      "__________________________________________________________________________________________________\n",
      "block_4_expand_BN (BatchNormali (None, None, None, 1 768         block_4_expand[0][0]             \n",
      "__________________________________________________________________________________________________\n",
      "block_4_expand_relu (ReLU)      (None, None, None, 1 0           block_4_expand_BN[0][0]          \n",
      "__________________________________________________________________________________________________\n",
      "block_4_depthwise (DepthwiseCon (None, None, None, 1 1728        block_4_expand_relu[0][0]        \n",
      "__________________________________________________________________________________________________\n",
      "block_4_depthwise_BN (BatchNorm (None, None, None, 1 768         block_4_depthwise[0][0]          \n",
      "__________________________________________________________________________________________________\n",
      "block_4_depthwise_relu (ReLU)   (None, None, None, 1 0           block_4_depthwise_BN[0][0]       \n",
      "__________________________________________________________________________________________________\n",
      "block_4_project (Conv2D)        (None, None, None, 3 6144        block_4_depthwise_relu[0][0]     \n",
      "__________________________________________________________________________________________________\n",
      "block_4_project_BN (BatchNormal (None, None, None, 3 128         block_4_project[0][0]            \n",
      "__________________________________________________________________________________________________\n",
      "block_4_add (Add)               (None, None, None, 3 0           block_3_project_BN[0][0]         \n",
      "                                                                 block_4_project_BN[0][0]         \n",
      "__________________________________________________________________________________________________\n",
      "block_5_expand (Conv2D)         (None, None, None, 1 6144        block_4_add[0][0]                \n",
      "__________________________________________________________________________________________________\n",
      "block_5_expand_BN (BatchNormali (None, None, None, 1 768         block_5_expand[0][0]             \n",
      "__________________________________________________________________________________________________\n",
      "block_5_expand_relu (ReLU)      (None, None, None, 1 0           block_5_expand_BN[0][0]          \n",
      "__________________________________________________________________________________________________\n",
      "block_5_depthwise (DepthwiseCon (None, None, None, 1 1728        block_5_expand_relu[0][0]        \n",
      "__________________________________________________________________________________________________\n",
      "block_5_depthwise_BN (BatchNorm (None, None, None, 1 768         block_5_depthwise[0][0]          \n",
      "__________________________________________________________________________________________________\n",
      "block_5_depthwise_relu (ReLU)   (None, None, None, 1 0           block_5_depthwise_BN[0][0]       \n",
      "__________________________________________________________________________________________________\n",
      "block_5_project (Conv2D)        (None, None, None, 3 6144        block_5_depthwise_relu[0][0]     \n",
      "__________________________________________________________________________________________________\n",
      "block_5_project_BN (BatchNormal (None, None, None, 3 128         block_5_project[0][0]            \n",
      "__________________________________________________________________________________________________\n",
      "block_5_add (Add)               (None, None, None, 3 0           block_4_add[0][0]                \n",
      "                                                                 block_5_project_BN[0][0]         \n",
      "__________________________________________________________________________________________________\n",
      "block_6_expand (Conv2D)         (None, None, None, 1 6144        block_5_add[0][0]                \n",
      "__________________________________________________________________________________________________\n",
      "block_6_expand_BN (BatchNormali (None, None, None, 1 768         block_6_expand[0][0]             \n",
      "__________________________________________________________________________________________________\n",
      "block_6_expand_relu (ReLU)      (None, None, None, 1 0           block_6_expand_BN[0][0]          \n",
      "__________________________________________________________________________________________________\n",
      "block_6_pad (ZeroPadding2D)     (None, None, None, 1 0           block_6_expand_relu[0][0]        \n",
      "__________________________________________________________________________________________________\n",
      "block_6_depthwise (DepthwiseCon (None, None, None, 1 1728        block_6_pad[0][0]                \n",
      "__________________________________________________________________________________________________\n",
      "block_6_depthwise_BN (BatchNorm (None, None, None, 1 768         block_6_depthwise[0][0]          \n",
      "__________________________________________________________________________________________________\n",
      "block_6_depthwise_relu (ReLU)   (None, None, None, 1 0           block_6_depthwise_BN[0][0]       \n",
      "__________________________________________________________________________________________________\n",
      "block_6_project (Conv2D)        (None, None, None, 6 12288       block_6_depthwise_relu[0][0]     \n",
      "__________________________________________________________________________________________________\n",
      "block_6_project_BN (BatchNormal (None, None, None, 6 256         block_6_project[0][0]            \n",
      "__________________________________________________________________________________________________\n",
      "block_7_expand (Conv2D)         (None, None, None, 3 24576       block_6_project_BN[0][0]         \n",
      "__________________________________________________________________________________________________\n",
      "block_7_expand_BN (BatchNormali (None, None, None, 3 1536        block_7_expand[0][0]             \n",
      "__________________________________________________________________________________________________\n",
      "block_7_expand_relu (ReLU)      (None, None, None, 3 0           block_7_expand_BN[0][0]          \n",
      "__________________________________________________________________________________________________\n",
      "block_7_depthwise (DepthwiseCon (None, None, None, 3 3456        block_7_expand_relu[0][0]        \n",
      "__________________________________________________________________________________________________\n",
      "block_7_depthwise_BN (BatchNorm (None, None, None, 3 1536        block_7_depthwise[0][0]          \n",
      "__________________________________________________________________________________________________\n",
      "block_7_depthwise_relu (ReLU)   (None, None, None, 3 0           block_7_depthwise_BN[0][0]       \n",
      "__________________________________________________________________________________________________\n",
      "block_7_project (Conv2D)        (None, None, None, 6 24576       block_7_depthwise_relu[0][0]     \n",
      "__________________________________________________________________________________________________\n",
      "block_7_project_BN (BatchNormal (None, None, None, 6 256         block_7_project[0][0]            \n",
      "__________________________________________________________________________________________________\n",
      "block_7_add (Add)               (None, None, None, 6 0           block_6_project_BN[0][0]         \n",
      "                                                                 block_7_project_BN[0][0]         \n",
      "__________________________________________________________________________________________________\n",
      "block_8_expand (Conv2D)         (None, None, None, 3 24576       block_7_add[0][0]                \n",
      "__________________________________________________________________________________________________\n",
      "block_8_expand_BN (BatchNormali (None, None, None, 3 1536        block_8_expand[0][0]             \n",
      "__________________________________________________________________________________________________\n",
      "block_8_expand_relu (ReLU)      (None, None, None, 3 0           block_8_expand_BN[0][0]          \n",
      "__________________________________________________________________________________________________\n",
      "block_8_depthwise (DepthwiseCon (None, None, None, 3 3456        block_8_expand_relu[0][0]        \n",
      "__________________________________________________________________________________________________\n",
      "block_8_depthwise_BN (BatchNorm (None, None, None, 3 1536        block_8_depthwise[0][0]          \n",
      "__________________________________________________________________________________________________\n",
      "block_8_depthwise_relu (ReLU)   (None, None, None, 3 0           block_8_depthwise_BN[0][0]       \n",
      "__________________________________________________________________________________________________\n",
      "block_8_project (Conv2D)        (None, None, None, 6 24576       block_8_depthwise_relu[0][0]     \n",
      "__________________________________________________________________________________________________\n",
      "block_8_project_BN (BatchNormal (None, None, None, 6 256         block_8_project[0][0]            \n",
      "__________________________________________________________________________________________________\n",
      "block_8_add (Add)               (None, None, None, 6 0           block_7_add[0][0]                \n",
      "                                                                 block_8_project_BN[0][0]         \n",
      "__________________________________________________________________________________________________\n",
      "block_9_expand (Conv2D)         (None, None, None, 3 24576       block_8_add[0][0]                \n",
      "__________________________________________________________________________________________________\n",
      "block_9_expand_BN (BatchNormali (None, None, None, 3 1536        block_9_expand[0][0]             \n",
      "__________________________________________________________________________________________________\n",
      "block_9_expand_relu (ReLU)      (None, None, None, 3 0           block_9_expand_BN[0][0]          \n",
      "__________________________________________________________________________________________________\n",
      "block_9_depthwise (DepthwiseCon (None, None, None, 3 3456        block_9_expand_relu[0][0]        \n",
      "__________________________________________________________________________________________________\n",
      "block_9_depthwise_BN (BatchNorm (None, None, None, 3 1536        block_9_depthwise[0][0]          \n",
      "__________________________________________________________________________________________________\n",
      "block_9_depthwise_relu (ReLU)   (None, None, None, 3 0           block_9_depthwise_BN[0][0]       \n",
      "__________________________________________________________________________________________________\n",
      "block_9_project (Conv2D)        (None, None, None, 6 24576       block_9_depthwise_relu[0][0]     \n",
      "__________________________________________________________________________________________________\n",
      "block_9_project_BN (BatchNormal (None, None, None, 6 256         block_9_project[0][0]            \n",
      "__________________________________________________________________________________________________\n",
      "block_9_add (Add)               (None, None, None, 6 0           block_8_add[0][0]                \n",
      "                                                                 block_9_project_BN[0][0]         \n",
      "__________________________________________________________________________________________________\n",
      "block_10_expand (Conv2D)        (None, None, None, 3 24576       block_9_add[0][0]                \n",
      "__________________________________________________________________________________________________\n",
      "block_10_expand_BN (BatchNormal (None, None, None, 3 1536        block_10_expand[0][0]            \n",
      "__________________________________________________________________________________________________\n",
      "block_10_expand_relu (ReLU)     (None, None, None, 3 0           block_10_expand_BN[0][0]         \n",
      "__________________________________________________________________________________________________\n",
      "block_10_depthwise (DepthwiseCo (None, None, None, 3 3456        block_10_expand_relu[0][0]       \n",
      "__________________________________________________________________________________________________\n",
      "block_10_depthwise_BN (BatchNor (None, None, None, 3 1536        block_10_depthwise[0][0]         \n",
      "__________________________________________________________________________________________________\n",
      "block_10_depthwise_relu (ReLU)  (None, None, None, 3 0           block_10_depthwise_BN[0][0]      \n",
      "__________________________________________________________________________________________________\n",
      "block_10_project (Conv2D)       (None, None, None, 9 36864       block_10_depthwise_relu[0][0]    \n",
      "__________________________________________________________________________________________________\n",
      "block_10_project_BN (BatchNorma (None, None, None, 9 384         block_10_project[0][0]           \n",
      "__________________________________________________________________________________________________\n",
      "block_11_expand (Conv2D)        (None, None, None, 5 55296       block_10_project_BN[0][0]        \n",
      "__________________________________________________________________________________________________\n",
      "block_11_expand_BN (BatchNormal (None, None, None, 5 2304        block_11_expand[0][0]            \n",
      "__________________________________________________________________________________________________\n",
      "block_11_expand_relu (ReLU)     (None, None, None, 5 0           block_11_expand_BN[0][0]         \n",
      "__________________________________________________________________________________________________\n",
      "block_11_depthwise (DepthwiseCo (None, None, None, 5 5184        block_11_expand_relu[0][0]       \n",
      "__________________________________________________________________________________________________\n",
      "block_11_depthwise_BN (BatchNor (None, None, None, 5 2304        block_11_depthwise[0][0]         \n",
      "__________________________________________________________________________________________________\n",
      "block_11_depthwise_relu (ReLU)  (None, None, None, 5 0           block_11_depthwise_BN[0][0]      \n",
      "__________________________________________________________________________________________________\n",
      "block_11_project (Conv2D)       (None, None, None, 9 55296       block_11_depthwise_relu[0][0]    \n",
      "__________________________________________________________________________________________________\n",
      "block_11_project_BN (BatchNorma (None, None, None, 9 384         block_11_project[0][0]           \n",
      "__________________________________________________________________________________________________\n",
      "block_11_add (Add)              (None, None, None, 9 0           block_10_project_BN[0][0]        \n",
      "                                                                 block_11_project_BN[0][0]        \n",
      "__________________________________________________________________________________________________\n",
      "block_12_expand (Conv2D)        (None, None, None, 5 55296       block_11_add[0][0]               \n",
      "__________________________________________________________________________________________________\n",
      "block_12_expand_BN (BatchNormal (None, None, None, 5 2304        block_12_expand[0][0]            \n",
      "__________________________________________________________________________________________________\n",
      "block_12_expand_relu (ReLU)     (None, None, None, 5 0           block_12_expand_BN[0][0]         \n",
      "__________________________________________________________________________________________________\n",
      "block_12_depthwise (DepthwiseCo (None, None, None, 5 5184        block_12_expand_relu[0][0]       \n",
      "__________________________________________________________________________________________________\n",
      "block_12_depthwise_BN (BatchNor (None, None, None, 5 2304        block_12_depthwise[0][0]         \n",
      "__________________________________________________________________________________________________\n",
      "block_12_depthwise_relu (ReLU)  (None, None, None, 5 0           block_12_depthwise_BN[0][0]      \n",
      "__________________________________________________________________________________________________\n",
      "block_12_project (Conv2D)       (None, None, None, 9 55296       block_12_depthwise_relu[0][0]    \n",
      "__________________________________________________________________________________________________\n",
      "block_12_project_BN (BatchNorma (None, None, None, 9 384         block_12_project[0][0]           \n",
      "__________________________________________________________________________________________________\n",
      "block_12_add (Add)              (None, None, None, 9 0           block_11_add[0][0]               \n",
      "                                                                 block_12_project_BN[0][0]        \n",
      "__________________________________________________________________________________________________\n",
      "block_13_expand (Conv2D)        (None, None, None, 5 55296       block_12_add[0][0]               \n",
      "__________________________________________________________________________________________________\n",
      "block_13_expand_BN (BatchNormal (None, None, None, 5 2304        block_13_expand[0][0]            \n",
      "__________________________________________________________________________________________________\n",
      "block_13_expand_relu (ReLU)     (None, None, None, 5 0           block_13_expand_BN[0][0]         \n",
      "__________________________________________________________________________________________________\n",
      "block_13_pad (ZeroPadding2D)    (None, None, None, 5 0           block_13_expand_relu[0][0]       \n",
      "__________________________________________________________________________________________________\n",
      "block_13_depthwise (DepthwiseCo (None, None, None, 5 5184        block_13_pad[0][0]               \n",
      "__________________________________________________________________________________________________\n",
      "block_13_depthwise_BN (BatchNor (None, None, None, 5 2304        block_13_depthwise[0][0]         \n",
      "__________________________________________________________________________________________________\n",
      "block_13_depthwise_relu (ReLU)  (None, None, None, 5 0           block_13_depthwise_BN[0][0]      \n",
      "__________________________________________________________________________________________________\n",
      "block_13_project (Conv2D)       (None, None, None, 1 92160       block_13_depthwise_relu[0][0]    \n",
      "__________________________________________________________________________________________________\n",
      "block_13_project_BN (BatchNorma (None, None, None, 1 640         block_13_project[0][0]           \n",
      "__________________________________________________________________________________________________\n",
      "block_14_expand (Conv2D)        (None, None, None, 9 153600      block_13_project_BN[0][0]        \n",
      "__________________________________________________________________________________________________\n",
      "block_14_expand_BN (BatchNormal (None, None, None, 9 3840        block_14_expand[0][0]            \n",
      "__________________________________________________________________________________________________\n",
      "block_14_expand_relu (ReLU)     (None, None, None, 9 0           block_14_expand_BN[0][0]         \n",
      "__________________________________________________________________________________________________\n",
      "block_14_depthwise (DepthwiseCo (None, None, None, 9 8640        block_14_expand_relu[0][0]       \n",
      "__________________________________________________________________________________________________\n",
      "block_14_depthwise_BN (BatchNor (None, None, None, 9 3840        block_14_depthwise[0][0]         \n",
      "__________________________________________________________________________________________________\n",
      "block_14_depthwise_relu (ReLU)  (None, None, None, 9 0           block_14_depthwise_BN[0][0]      \n",
      "__________________________________________________________________________________________________\n",
      "block_14_project (Conv2D)       (None, None, None, 1 153600      block_14_depthwise_relu[0][0]    \n",
      "__________________________________________________________________________________________________\n",
      "block_14_project_BN (BatchNorma (None, None, None, 1 640         block_14_project[0][0]           \n",
      "__________________________________________________________________________________________________\n",
      "block_14_add (Add)              (None, None, None, 1 0           block_13_project_BN[0][0]        \n",
      "                                                                 block_14_project_BN[0][0]        \n",
      "__________________________________________________________________________________________________\n",
      "block_15_expand (Conv2D)        (None, None, None, 9 153600      block_14_add[0][0]               \n",
      "__________________________________________________________________________________________________\n",
      "block_15_expand_BN (BatchNormal (None, None, None, 9 3840        block_15_expand[0][0]            \n",
      "__________________________________________________________________________________________________\n",
      "block_15_expand_relu (ReLU)     (None, None, None, 9 0           block_15_expand_BN[0][0]         \n",
      "__________________________________________________________________________________________________\n",
      "block_15_depthwise (DepthwiseCo (None, None, None, 9 8640        block_15_expand_relu[0][0]       \n",
      "__________________________________________________________________________________________________\n",
      "block_15_depthwise_BN (BatchNor (None, None, None, 9 3840        block_15_depthwise[0][0]         \n",
      "__________________________________________________________________________________________________\n",
      "block_15_depthwise_relu (ReLU)  (None, None, None, 9 0           block_15_depthwise_BN[0][0]      \n",
      "__________________________________________________________________________________________________\n",
      "block_15_project (Conv2D)       (None, None, None, 1 153600      block_15_depthwise_relu[0][0]    \n",
      "__________________________________________________________________________________________________\n",
      "block_15_project_BN (BatchNorma (None, None, None, 1 640         block_15_project[0][0]           \n",
      "__________________________________________________________________________________________________\n",
      "block_15_add (Add)              (None, None, None, 1 0           block_14_add[0][0]               \n",
      "                                                                 block_15_project_BN[0][0]        \n",
      "__________________________________________________________________________________________________\n",
      "block_16_expand (Conv2D)        (None, None, None, 9 153600      block_15_add[0][0]               \n",
      "__________________________________________________________________________________________________\n",
      "block_16_expand_BN (BatchNormal (None, None, None, 9 3840        block_16_expand[0][0]            \n",
      "__________________________________________________________________________________________________\n",
      "block_16_expand_relu (ReLU)     (None, None, None, 9 0           block_16_expand_BN[0][0]         \n",
      "__________________________________________________________________________________________________\n",
      "block_16_depthwise (DepthwiseCo (None, None, None, 9 8640        block_16_expand_relu[0][0]       \n",
      "__________________________________________________________________________________________________\n",
      "block_16_depthwise_BN (BatchNor (None, None, None, 9 3840        block_16_depthwise[0][0]         \n",
      "__________________________________________________________________________________________________\n",
      "block_16_depthwise_relu (ReLU)  (None, None, None, 9 0           block_16_depthwise_BN[0][0]      \n",
      "__________________________________________________________________________________________________\n",
      "block_16_project (Conv2D)       (None, None, None, 3 307200      block_16_depthwise_relu[0][0]    \n",
      "__________________________________________________________________________________________________\n",
      "block_16_project_BN (BatchNorma (None, None, None, 3 1280        block_16_project[0][0]           \n",
      "__________________________________________________________________________________________________\n",
      "Conv_1 (Conv2D)                 (None, None, None, 1 409600      block_16_project_BN[0][0]        \n",
      "__________________________________________________________________________________________________\n",
      "Conv_1_bn (BatchNormalization)  (None, None, None, 1 5120        Conv_1[0][0]                     \n",
      "__________________________________________________________________________________________________\n",
      "out_relu (ReLU)                 (None, None, None, 1 0           Conv_1_bn[0][0]                  \n",
      "==================================================================================================\n",
      "Total params: 2,257,984\n",
      "Trainable params: 2,223,872\n",
      "Non-trainable params: 34,112\n",
      "__________________________________________________________________________________________________\n"
     ]
    }
   ],
   "source": [
    "base.summary()"
   ]
  },
  {
   "cell_type": "code",
   "execution_count": 2,
   "metadata": {
    "collapsed": true,
    "scrolled": false
   },
   "outputs": [
    {
     "name": "stdout",
     "output_type": "stream",
     "text": [
      "Help on method raw_input in module ipykernel.kernelbase:\n",
      "\n",
      "raw_input(prompt='') method of ipykernel.ipkernel.IPythonKernel instance\n",
      "    Forward raw_input to frontends\n",
      "    \n",
      "    Raises\n",
      "    ------\n",
      "    StdinNotImplentedError if active frontend doesn't support stdin.\n",
      "\n"
     ]
    }
   ],
   "source": [
    "help(input)"
   ]
  },
  {
   "cell_type": "code",
   "execution_count": 4,
   "metadata": {
    "collapsed": true,
    "scrolled": false
   },
   "outputs": [
    {
     "name": "stdout",
     "output_type": "stream",
     "text": [
      ">hello\n"
     ]
    }
   ],
   "source": [
    "res = input('>')"
   ]
  },
  {
   "cell_type": "code",
   "execution_count": 5,
   "metadata": {
    "collapsed": true,
    "scrolled": false
   },
   "outputs": [
    {
     "data": {
      "text/plain": [
       "'hello'"
      ]
     },
     "execution_count": 5,
     "metadata": {},
     "output_type": "execute_result"
    }
   ],
   "source": [
    "res"
   ]
  },
  {
   "cell_type": "code",
   "execution_count": 7,
   "metadata": {
    "collapsed": true,
    "scrolled": false
   },
   "outputs": [
    {
     "name": "stdout",
     "output_type": "stream",
     "text": [
      "Score  1.800000\n"
     ]
    }
   ],
   "source": [
    "print('Score {0: f}'.format(1.8))"
   ]
  },
  {
   "cell_type": "code",
   "execution_count": 5,
   "metadata": {
    "collapsed": true,
    "scrolled": false
   },
   "outputs": [
    {
     "data": {
      "text/plain": [
       "{'lr': 0.1,\n",
       " 'batch_size': 1,\n",
       " 'epochs': 10,\n",
       " 'beta_1': 0.99,\n",
       " 'beta_2': 0.99,\n",
       " 'decay': 0.0}"
      ]
     },
     "execution_count": 5,
     "metadata": {},
     "output_type": "execute_result"
    }
   ],
   "source": [
    "hps"
   ]
  },
  {
   "cell_type": "code",
   "execution_count": 6,
   "metadata": {
    "collapsed": true,
    "scrolled": false
   },
   "outputs": [],
   "source": [
    "import json"
   ]
  },
  {
   "cell_type": "code",
   "execution_count": 7,
   "metadata": {
    "collapsed": true,
    "scrolled": false
   },
   "outputs": [],
   "source": [
    "res = json.dumps(hps)"
   ]
  },
  {
   "cell_type": "code",
   "execution_count": 8,
   "metadata": {
    "collapsed": true,
    "scrolled": false
   },
   "outputs": [
    {
     "data": {
      "text/plain": [
       "'{\"lr\": 0.1, \"batch_size\": 1, \"epochs\": 10, \"beta_1\": 0.99, \"beta_2\": 0.99, \"decay\": 0.0}'"
      ]
     },
     "execution_count": 8,
     "metadata": {},
     "output_type": "execute_result"
    }
   ],
   "source": [
    "res"
   ]
  },
  {
   "cell_type": "code",
   "execution_count": 9,
   "metadata": {
    "collapsed": true,
    "scrolled": false
   },
   "outputs": [],
   "source": [
    "hps['flag'] = True"
   ]
  },
  {
   "cell_type": "code",
   "execution_count": 10,
   "metadata": {
    "collapsed": true,
    "scrolled": false
   },
   "outputs": [
    {
     "data": {
      "text/plain": [
       "'{\"lr\": 0.1, \"batch_size\": 1, \"epochs\": 10, \"beta_1\": 0.99, \"beta_2\": 0.99, \"decay\": 0.0, \"flag\": true}'"
      ]
     },
     "execution_count": 10,
     "metadata": {},
     "output_type": "execute_result"
    }
   ],
   "source": [
    "res = json.dumps(hps)\n",
    "res"
   ]
  },
  {
   "cell_type": "code",
   "execution_count": 13,
   "metadata": {
    "collapsed": true,
    "scrolled": false
   },
   "outputs": [],
   "source": [
    "res = json.loads('{\"mode\" : \"train\", \"hps\" : {\"lr\" : 0.001, \"beta_1\" : 0.99, \"beta_2\" : 0.99, \"decay\" : 0.0, \"epochs\" : 1, \"batch_size\" : 128}, \"rbm_hps\" : { \"lr\" : 0.001, \"epochs\" : 1, \"batch_size\" : 128}, \"nn_arch\" : {\"output_dim\" : 128}, \"model_loading\": false}')"
   ]
  },
  {
   "cell_type": "code",
   "execution_count": 16,
   "metadata": {
    "collapsed": true,
    "scrolled": false
   },
   "outputs": [
    {
     "data": {
      "text/plain": [
       "dict"
      ]
     },
     "execution_count": 16,
     "metadata": {},
     "output_type": "execute_result"
    }
   ],
   "source": [
    "type(res)"
   ]
  },
  {
   "cell_type": "code",
   "execution_count": 20,
   "metadata": {
    "collapsed": true,
    "scrolled": false
   },
   "outputs": [
    {
     "data": {
      "text/plain": [
       "array([0.71868607, 0.7595842 , 0.10236726, 0.63356467, 0.08557064,\n",
       "       0.14795317, 0.66096607, 0.94096301, 0.87105102, 0.98301912])"
      ]
     },
     "execution_count": 20,
     "metadata": {},
     "output_type": "execute_result"
    }
   ],
   "source": [
    "p = np.random.rand(10)\n",
    "p"
   ]
  },
  {
   "cell_type": "code",
   "execution_count": 21,
   "metadata": {
    "collapsed": true,
    "scrolled": false
   },
   "outputs": [
    {
     "data": {
      "text/plain": [
       "array([[1., 0., 0., 0., 0., 0., 0., 0., 0., 0.],\n",
       "       [0., 1., 0., 0., 0., 0., 0., 0., 0., 0.],\n",
       "       [0., 0., 1., 0., 0., 0., 0., 0., 0., 0.],\n",
       "       [0., 0., 0., 1., 0., 0., 0., 0., 0., 0.],\n",
       "       [0., 0., 0., 0., 1., 0., 0., 0., 0., 0.],\n",
       "       [0., 0., 0., 0., 0., 1., 0., 0., 0., 0.],\n",
       "       [0., 0., 0., 0., 0., 0., 1., 0., 0., 0.],\n",
       "       [0., 0., 0., 0., 0., 0., 0., 1., 0., 0.],\n",
       "       [0., 0., 0., 0., 0., 0., 0., 0., 1., 0.],\n",
       "       [0., 0., 0., 0., 0., 0., 0., 0., 0., 1.]])"
      ]
     },
     "execution_count": 21,
     "metadata": {},
     "output_type": "execute_result"
    }
   ],
   "source": [
    "sample = np.identity(10)\n",
    "sample"
   ]
  },
  {
   "cell_type": "code",
   "execution_count": 19,
   "metadata": {
    "collapsed": true,
    "scrolled": false
   },
   "outputs": [
    {
     "data": {
      "text/plain": [
       "array([ 0.72697841, -0.38562431, -0.47842945,  0.40895143, -0.24434335,\n",
       "       -0.29382098, -1.31171756,  0.83955232, -1.66124913,  0.26366205])"
      ]
     },
     "execution_count": 19,
     "metadata": {},
     "output_type": "execute_result"
    }
   ],
   "source": [
    "p = p/p.sum()\n",
    "res = np.random.multivariate_normal(p, np.identity(10))\n",
    "res"
   ]
  },
  {
   "cell_type": "code",
   "execution_count": 17,
   "metadata": {
    "collapsed": true,
    "scrolled": false
   },
   "outputs": [],
   "source": [
    "sol_df = pd.read_csv('d:\\\\topcoder\\\\face_recog\\\\src\\\\space\\\\solution.csv', header=None)"
   ]
  },
  {
   "cell_type": "code",
   "execution_count": 18,
   "metadata": {
    "collapsed": true,
    "scrolled": false
   },
   "outputs": [],
   "source": [
    "res = sol_df.iloc[0]"
   ]
  },
  {
   "cell_type": "code",
   "execution_count": 19,
   "metadata": {
    "collapsed": true,
    "scrolled": false
   },
   "outputs": [
    {
     "data": {
      "text/plain": [
       "pandas.core.series.Series"
      ]
     },
     "execution_count": 19,
     "metadata": {},
     "output_type": "execute_result"
    }
   ],
   "source": [
    "type(res)"
   ]
  },
  {
   "cell_type": "code",
   "execution_count": 20,
   "metadata": {
    "collapsed": true,
    "scrolled": false
   },
   "outputs": [
    {
     "data": {
      "text/plain": [
       "0    1389.jpg\n",
       "1         301\n",
       "2     2495.47\n",
       "3      1049.5\n",
       "4     256.543\n",
       "5      326.51\n",
       "6    0.773768\n",
       "Name: 0, dtype: object"
      ]
     },
     "execution_count": 20,
     "metadata": {},
     "output_type": "execute_result"
    }
   ],
   "source": [
    "res"
   ]
  },
  {
   "cell_type": "code",
   "execution_count": 21,
   "metadata": {
    "collapsed": true,
    "scrolled": false
   },
   "outputs": [
    {
     "data": {
      "text/plain": [
       "0    1389.jpg\n",
       "1         301\n",
       "2     2495.47\n",
       "3      1049.5\n",
       "4     256.543\n",
       "5      326.51\n",
       "6    0.773768\n",
       "Name: 0, dtype: object"
      ]
     },
     "execution_count": 21,
     "metadata": {},
     "output_type": "execute_result"
    }
   ],
   "source": [
    "sol_df.iloc[0, :]"
   ]
  },
  {
   "cell_type": "code",
   "execution_count": 26,
   "metadata": {
    "collapsed": true,
    "scrolled": false
   },
   "outputs": [
    {
     "data": {
      "text/plain": [
       "0    1389.jpg\n",
       "1         301\n",
       "2     2495.47\n",
       "3      1049.5\n",
       "4     256.543\n",
       "5      326.51\n",
       "6    0.773768\n",
       "Name: 0, dtype: object"
      ]
     },
     "execution_count": 26,
     "metadata": {},
     "output_type": "execute_result"
    }
   ],
   "source": [
    "sol_df.loc[0]"
   ]
  },
  {
   "cell_type": "code",
   "execution_count": 25,
   "metadata": {
    "collapsed": true,
    "scrolled": false
   },
   "outputs": [],
   "source": [
    "import pandas as pd\n",
    "import numpy as np\n",
    "sample = pd.DataFrame([(0, 0, 1), (0, 1, 10), (1, 0, 2), (1, 1, 3)])"
   ]
  },
  {
   "cell_type": "code",
   "execution_count": 26,
   "metadata": {
    "collapsed": true,
    "scrolled": false
   },
   "outputs": [
    {
     "data": {
      "text/html": [
       "<div>\n",
       "<style scoped>\n",
       "    .dataframe tbody tr th:only-of-type {\n",
       "        vertical-align: middle;\n",
       "    }\n",
       "\n",
       "    .dataframe tbody tr th {\n",
       "        vertical-align: top;\n",
       "    }\n",
       "\n",
       "    .dataframe thead th {\n",
       "        text-align: right;\n",
       "    }\n",
       "</style>\n",
       "<table border=\"1\" class=\"dataframe\">\n",
       "  <thead>\n",
       "    <tr style=\"text-align: right;\">\n",
       "      <th></th>\n",
       "      <th>0</th>\n",
       "      <th>1</th>\n",
       "      <th>2</th>\n",
       "    </tr>\n",
       "  </thead>\n",
       "  <tbody>\n",
       "    <tr>\n",
       "      <th>1</th>\n",
       "      <td>0</td>\n",
       "      <td>1</td>\n",
       "      <td>10</td>\n",
       "    </tr>\n",
       "    <tr>\n",
       "      <th>3</th>\n",
       "      <td>1</td>\n",
       "      <td>1</td>\n",
       "      <td>3</td>\n",
       "    </tr>\n",
       "    <tr>\n",
       "      <th>2</th>\n",
       "      <td>1</td>\n",
       "      <td>0</td>\n",
       "      <td>2</td>\n",
       "    </tr>\n",
       "    <tr>\n",
       "      <th>0</th>\n",
       "      <td>0</td>\n",
       "      <td>0</td>\n",
       "      <td>1</td>\n",
       "    </tr>\n",
       "  </tbody>\n",
       "</table>\n",
       "</div>"
      ],
      "text/plain": [
       "   0  1   2\n",
       "1  0  1  10\n",
       "3  1  1   3\n",
       "2  1  0   2\n",
       "0  0  0   1"
      ]
     },
     "execution_count": 26,
     "metadata": {},
     "output_type": "execute_result"
    }
   ],
   "source": [
    "sample.sort_values(by=2, ascending=False)"
   ]
  },
  {
   "cell_type": "code",
   "execution_count": 27,
   "metadata": {
    "collapsed": true,
    "scrolled": false
   },
   "outputs": [
    {
     "data": {
      "text/plain": [
       "0    1\n",
       "1    0\n",
       "2    2\n",
       "Name: 2, dtype: int64"
      ]
     },
     "execution_count": 27,
     "metadata": {},
     "output_type": "execute_result"
    }
   ],
   "source": [
    "df = sample.iloc[2]\n",
    "df"
   ]
  },
  {
   "cell_type": "code",
   "execution_count": 28,
   "metadata": {
    "collapsed": true,
    "scrolled": false
   },
   "outputs": [],
   "source": [
    "df.iloc[2] = 100"
   ]
  },
  {
   "cell_type": "code",
   "execution_count": 29,
   "metadata": {
    "collapsed": true,
    "scrolled": false
   },
   "outputs": [
    {
     "data": {
      "text/html": [
       "<div>\n",
       "<style scoped>\n",
       "    .dataframe tbody tr th:only-of-type {\n",
       "        vertical-align: middle;\n",
       "    }\n",
       "\n",
       "    .dataframe tbody tr th {\n",
       "        vertical-align: top;\n",
       "    }\n",
       "\n",
       "    .dataframe thead th {\n",
       "        text-align: right;\n",
       "    }\n",
       "</style>\n",
       "<table border=\"1\" class=\"dataframe\">\n",
       "  <thead>\n",
       "    <tr style=\"text-align: right;\">\n",
       "      <th></th>\n",
       "      <th>0</th>\n",
       "      <th>1</th>\n",
       "      <th>2</th>\n",
       "    </tr>\n",
       "  </thead>\n",
       "  <tbody>\n",
       "    <tr>\n",
       "      <th>0</th>\n",
       "      <td>0</td>\n",
       "      <td>0</td>\n",
       "      <td>1</td>\n",
       "    </tr>\n",
       "    <tr>\n",
       "      <th>1</th>\n",
       "      <td>0</td>\n",
       "      <td>1</td>\n",
       "      <td>10</td>\n",
       "    </tr>\n",
       "    <tr>\n",
       "      <th>2</th>\n",
       "      <td>1</td>\n",
       "      <td>0</td>\n",
       "      <td>100</td>\n",
       "    </tr>\n",
       "    <tr>\n",
       "      <th>3</th>\n",
       "      <td>1</td>\n",
       "      <td>1</td>\n",
       "      <td>3</td>\n",
       "    </tr>\n",
       "  </tbody>\n",
       "</table>\n",
       "</div>"
      ],
      "text/plain": [
       "   0  1    2\n",
       "0  0  0    1\n",
       "1  0  1   10\n",
       "2  1  0  100\n",
       "3  1  1    3"
      ]
     },
     "execution_count": 29,
     "metadata": {},
     "output_type": "execute_result"
    }
   ],
   "source": [
    "sample"
   ]
  },
  {
   "cell_type": "code",
   "execution_count": 30,
   "metadata": {
    "collapsed": true,
    "scrolled": false
   },
   "outputs": [],
   "source": [
    "res = sample[sample[2] != 100]"
   ]
  },
  {
   "cell_type": "code",
   "execution_count": 31,
   "metadata": {
    "collapsed": true,
    "scrolled": false
   },
   "outputs": [
    {
     "data": {
      "text/html": [
       "<div>\n",
       "<style scoped>\n",
       "    .dataframe tbody tr th:only-of-type {\n",
       "        vertical-align: middle;\n",
       "    }\n",
       "\n",
       "    .dataframe tbody tr th {\n",
       "        vertical-align: top;\n",
       "    }\n",
       "\n",
       "    .dataframe thead th {\n",
       "        text-align: right;\n",
       "    }\n",
       "</style>\n",
       "<table border=\"1\" class=\"dataframe\">\n",
       "  <thead>\n",
       "    <tr style=\"text-align: right;\">\n",
       "      <th></th>\n",
       "      <th>0</th>\n",
       "      <th>1</th>\n",
       "      <th>2</th>\n",
       "    </tr>\n",
       "  </thead>\n",
       "  <tbody>\n",
       "    <tr>\n",
       "      <th>0</th>\n",
       "      <td>0</td>\n",
       "      <td>0</td>\n",
       "      <td>1</td>\n",
       "    </tr>\n",
       "    <tr>\n",
       "      <th>1</th>\n",
       "      <td>0</td>\n",
       "      <td>1</td>\n",
       "      <td>10</td>\n",
       "    </tr>\n",
       "    <tr>\n",
       "      <th>3</th>\n",
       "      <td>1</td>\n",
       "      <td>1</td>\n",
       "      <td>3</td>\n",
       "    </tr>\n",
       "  </tbody>\n",
       "</table>\n",
       "</div>"
      ],
      "text/plain": [
       "   0  1   2\n",
       "0  0  0   1\n",
       "1  0  1  10\n",
       "3  1  1   3"
      ]
     },
     "execution_count": 31,
     "metadata": {},
     "output_type": "execute_result"
    }
   ],
   "source": [
    "res"
   ]
  },
  {
   "cell_type": "code",
   "execution_count": 34,
   "metadata": {
    "collapsed": true,
    "scrolled": false
   },
   "outputs": [],
   "source": [
    "res_g = res.groupby(2)"
   ]
  },
  {
   "cell_type": "code",
   "execution_count": 35,
   "metadata": {
    "collapsed": true,
    "scrolled": false
   },
   "outputs": [
    {
     "data": {
      "text/plain": [
       "dict_keys([1, 3, 10])"
      ]
     },
     "execution_count": 35,
     "metadata": {},
     "output_type": "execute_result"
    }
   ],
   "source": [
    "res_g.groups.keys()"
   ]
  },
  {
   "cell_type": "code",
   "execution_count": 1,
   "metadata": {
    "collapsed": true,
    "scrolled": false
   },
   "outputs": [
    {
     "name": "stdout",
     "output_type": "stream",
     "text": [
      "d:\\topcoder\\face_recog\\src\\space\n"
     ]
    }
   ],
   "source": [
    "cd ../src/space"
   ]
  },
  {
   "cell_type": "code",
   "execution_count": 2,
   "metadata": {
    "collapsed": true,
    "scrolled": false
   },
   "outputs": [],
   "source": [
    "import pdb"
   ]
  },
  {
   "cell_type": "code",
   "execution_count": 78,
   "metadata": {
    "scrolled": false
   },
   "outputs": [],
   "source": [
    "import numpy as np\n",
    "import pandas as pd\n",
    "\n",
    "class BoundBox:\n",
    "    def __init__(self, xmin, ymin, xmax, ymax\n",
    "                 , objness = None\n",
    "                 , classes = None\n",
    "                 , anchor = None\n",
    "                 , subject_id = -1):\n",
    "        self.xmin = xmin\n",
    "        self.ymin = ymin\n",
    "        self.xmax = xmax\n",
    "        self.ymax = ymax\n",
    "        \n",
    "        self.objness = objness\n",
    "        self.classes = classes\n",
    "        self.anchor = anchor\n",
    "        self.subject_id = subject_id\n",
    "\n",
    "        self.label = -1\n",
    "        self.score = -1\n",
    "\n",
    "    def get_label(self):\n",
    "        if self.label == -1:\n",
    "            self.label = np.argmax(self.classes)\n",
    "        \n",
    "        return self.label\n",
    "    \n",
    "    def get_score(self):\n",
    "        if self.score == -1:\n",
    "            self.score = self.classes[self.get_label()]\n",
    "            \n",
    "        return np.min([self.score, 1.0])\n",
    "        \n",
    "    def get_relative_bb(self, width, height):\n",
    "        left = int(self.xmin/width * 100.)\n",
    "        top = int(self.ymin/height * 100.)\n",
    "        width = int((self.xmax - self.xmin)/width * 100.)\n",
    "        height = int((self.ymax - self.ymin)/height * 100.)\n",
    "        \n",
    "        return (left, top, width, height)\n",
    "\n",
    "def bbox_iou(box1, box2):\n",
    "    intersect_w = _interval_overlap([box1.xmin, box1.xmax], [box2.xmin, box2.xmax])\n",
    "    intersect_h = _interval_overlap([box1.ymin, box1.ymax], [box2.ymin, box2.ymax])\n",
    "    \n",
    "    intersect = intersect_w * intersect_h\n",
    "\n",
    "    w1, h1 = box1.xmax-box1.xmin, box1.ymax-box1.ymin\n",
    "    w2, h2 = box2.xmax-box2.xmin, box2.ymax-box2.ymin\n",
    "    \n",
    "    union = w1*h1 + w2*h2 - intersect\n",
    "    \n",
    "    return float(intersect) / union    \n",
    "\n",
    "def _interval_overlap(interval_a, interval_b):\n",
    "    x1, x2 = interval_a\n",
    "    x3, x4 = interval_b\n",
    "\n",
    "    if x3 < x1:\n",
    "        if x4 < x1:\n",
    "            return 0\n",
    "        else:\n",
    "            return min(x2,x4) - x1\n",
    "    else:\n",
    "        if x2 < x3:\n",
    "             return 0\n",
    "        else:\n",
    "            return min(x2,x4) - x3 \n",
    "\n",
    "sol_path='D:\\\\topcoder\\\\face_recog\\\\resource\\\\solution_training_fd.csv'\n",
    "gt_path='D:\\\\topcoder\\\\face_recog\\\\resource\\\\training.csv'\n",
    "\n",
    "def evaluate_fd(gt_path, sol_path, iou_th):\n",
    "    # Load ground truth, predicted results and calculate IoU.\n",
    "    sol_df = pd.read_csv(sol_path, header=None)\n",
    "    sol_df = pd.concat([sol_df, pd.DataFrame(np.zeros(shape=(sol_df.shape[0]), dtype=np.float64), columns=[7])], axis=1) # IoU\n",
    "    sol_df.iloc[:, 6] = -1.0\n",
    "    sol_df_g = sol_df.groupby(0) #?\n",
    "        \n",
    "    gt_df = pd.read_csv(gt_path)\n",
    "    gt_df = pd.concat([gt_df, pd.DataFrame(np.zeros(shape=(gt_df.shape[0]), dtype=np.float64), columns=[8])], axis=1) # IoU\n",
    "    gt_df.iloc[:, 7] = -1.0\n",
    "    gt_df_g = gt_df.groupby('FILE') #?\n",
    "    \n",
    "    for k, image_id in enumerate(list(gt_df_g.groups.keys())):\n",
    "        print(k, '/', len(gt_df_g.groups.keys()), ':', image_id, end='\\r')\n",
    "        df = gt_df_g.get_group(image_id)\n",
    "        \n",
    "        try:\n",
    "            rel_sol_df = sol_df_g.get_group(image_id)\n",
    "        except KeyError:\n",
    "            continue\n",
    "        \n",
    "        gt_ious = {}\n",
    "        \n",
    "        for i in range(df.shape[0]):\n",
    "            gt_ious[i] = []\n",
    "            gt_sample = df.iloc[i]\n",
    "            gt_sample_bb = BoundBox(gt_sample[3]\n",
    "                                      , gt_sample[4]\n",
    "                                      , gt_sample[3] + gt_sample[5]\n",
    "                                      , gt_sample[4] + gt_sample[6])\n",
    "                    \n",
    "            # Check exception.\n",
    "            if rel_sol_df.shape[0] == 0: continue\n",
    "        \n",
    "            # Calculate IoUs between a gt region and detected regions\n",
    "            for j in range(rel_sol_df.shape[0]):\n",
    "                rel_sol = rel_sol_df.iloc[j]\n",
    "                rel_sol_bb = BoundBox(rel_sol[1]\n",
    "                                      , rel_sol[2]\n",
    "                                      , rel_sol[1] + rel_sol[3]\n",
    "                                      , rel_sol[2] + rel_sol[4])\n",
    "            \n",
    "                iou = bbox_iou(gt_sample_bb, rel_sol_bb)\n",
    "                if iou > 0.: #? \n",
    "                    gt_ious[i].append((i, j, iou))\n",
    "        \n",
    "        total_gt_ious = []\n",
    "        for i in gt_ious:\n",
    "            total_gt_ious += gt_ious[i]\n",
    "            \n",
    "        if len(total_gt_ious) == 0: continue\n",
    "            \n",
    "        total_gt_ious_df = pd.DataFrame(total_gt_ious)\n",
    "        \n",
    "        # IoU descending order sorting.\n",
    "        total_gt_ious_df = total_gt_ious_df.sort_values(by=2, ascending=False)\n",
    "        \n",
    "        # Determine IoU for each detected region.\n",
    "        while total_gt_ious_df.shape[0] != 0: #?\n",
    "            df_p = total_gt_ious_df.iloc[0]\n",
    "            i = int(df_p.iloc[0])\n",
    "            j = int(df_p.iloc[1])\n",
    "            iou = df_p.iloc[2]\n",
    "            \n",
    "            #df.iloc[i, -1] = iou \n",
    "            rel_sol_df.iloc[j, -1] = iou \n",
    "            \n",
    "            # Remove assigned samples.\n",
    "            total_gt_ious_df = total_gt_ious_df[total_gt_ious_df[0] != i]\n",
    "            total_gt_ious_df = total_gt_ious_df[total_gt_ious_df[1] != j]\n",
    "            \n",
    "        if k == 0:\n",
    "            res_df = rel_sol_df\n",
    "        else:\n",
    "            res_df = pd.concat([res_df, rel_sol_df])\n",
    "        \n",
    "    # Get the p-r curve.\n",
    "    # Sort the solution in confidence descending order.\n",
    "    res_df = res_df.sort_values(by=5, ascending=False)\n",
    "    ps = []\n",
    "    rs = []\n",
    "    tp_count = 0\n",
    "    count = 0\n",
    "    gt_count = gt_df.shape[0]\n",
    "    \n",
    "    for i in range(gt_df.shape[0]):\n",
    "        count +=1\n",
    "        \n",
    "        if i < res_df.shape[0] and res_df.iloc[i, 6] >= iou_th:\n",
    "            tp_count += 1\n",
    "            \n",
    "        ps.append(tp_count / count)\n",
    "        rs.append(tp_count / gt_count)\n",
    "    \n",
    "    ps = np.asarray(ps)\n",
    "    rs = np.asarray(rs)\n",
    "    \n",
    "    func = interp1d(rs, ps)\n",
    "    mAP = quad(lambda x: func(x), rs[0], rs[-1])\n",
    "    \n",
    "    return (ps, rs, mAP[0])"
   ]
  },
  {
   "cell_type": "code",
   "execution_count": 80,
   "metadata": {
    "scrolled": false
   },
   "outputs": [
    {
     "name": "stdout",
     "output_type": "stream",
     "text": [
      "9811 / 10916 : e72a77b8b745a003de0ef73f7c7cce3a.jpg 10916 : 003e5ac87f021ed99108973d87c3a26f.jpg 10916 : 0060629d1d4499ff6a2d053b355f430d.jpg / 10916 : 0086b162f62fbfa5c315153c8a8f052a.jpg / 10916 : 04c25db1c459de97bb2e46485553fd8e.jpg10916 : 063d039678d944bb411154880544a9ce.jpg/ 10916 : 08ccebceb4ec9db4d2024163e8c751e5.jpg / 10916 : 0a165f4d385134ab2e1957b7ff0c210b.jpg / 10916 : 0ce298bc887f921a27f40de743e0b64e.jpg 0db98e5d994ff4e60a72c7ae9c0ee9e5.jpg / 10916 : 0eeae042739301b85dc39285aea570e7.jpg / 10916 : 0ff13f95dd2412988d27ffd60850b0f9.jpg / 10916 : 115eaf230bf36453ab3ac2d31e8c9181.jpg117b427dea33af43ebeafcb30a92f263.jpg : 11d07af07b3b6162212ddeada848d3a8.jpg : 1454e47f8b6637d511716837143f97eb.jpg: 1553ddba5789786110f950b57ceb9ff6.jpg / 10916 : 164330be2e0e8a0ed63260696fd06016.jpg/ 10916 : 16abd09b9c9a37fac6269c113109fd60.jpg / 10916 : 1712886a017b4afe53310a54b770f4f6.jpg10916 : 18c22746926348c34dd5023b7f5075bf.jpg/ 10916 : 20181631e3c793c983516a3332d57574.jpg / 10916 : 20e4c2cb312c3d82cd1413255b985215.jpg / 10916 : 2192de81998ea5c55eaa17dc16d8436f.jpg 234e8143ef3106fd2711653cecb860f9.jpg / 10916 : 2543876283081dd72746f7a1c7dee4c2.jpg / 10916 : 274b7d67a4538ec271cf2c4a3541fd98.jpg: 27a0cbe9ef6eac1a1f3d4b69cea29361.jpg / 10916 : 2a22acf04474399e9a3a3ceafead07e7.jpg: 2dc3140452bd75c66a266a93e4c3f734.jpg / 10916 : 2ebd19066fa76a6e78ee22a1cd91c653.jpg / 10916 : 2f863940656260217a19c24a6d115f41.jpg / 10916 : 2fa8c103e413da65227a4623b37c6ed0.jpg / 10916 : 307502d143ca872f7816496275038db6.jpg / 10916 : 337aa5b0f688cb607645c6656d08ad2a.jpg10916 : 3650fdad023e28a2ee3ebcbc49f4e1ed.jpg: 36d1358c9d6b8266effcd83ecbea6c6b.jpg / 10916 : 372bd8e6e9eb8d1b3e259185352f22cb.jpg 10916 : 394dc2bc4473833b9120f1095af06860.jpg10916 : 3bfe113210019a328efb0af42588a590.jpg: 3c858007cdc0e41fab859820c6de8e7c.jpg: 3da7874932345447cbbcf1121258b463.jpg: 423a22dfbaed02cfa15d54cee475a8da.jpg: 478c47beeda5be3ae22e7bc033825d5c.jpg : 4cbb618a3de59e0e09741c3ac4d138ac.jpg / 10916 : 4d7d9021475393b4a5fc621e71a2322b.jpg / 10916 : 4d7f2853dce62b735e8a263d73aaf155.jpg / 10916 : 4d9d281655402027530b05fde227cf27.jpg / 10916 : 4dec7131dcf8d8f8a79775d52f7a1e2d.jpg / 10916 : 4e347ae8c051111fd95430cba7dbfb36.jpg / 10916 : 4e7fc0236fac00e4601e7f5fce89572c.jpg / 10916 : 4e84a476c1817ae7181100fc3fd31a5d.jpg10916 : 4ec188daa7d35914e951bd416bbad4a5.jpg / 10916 : 500f7e897d81e33f512d90c7cdc585bd.jpg : 5167b01f8547d83b62789e8420d62323.jpg10916 : 5225498d473a39479ac26d4012d57814.jpg / 10916 : 52472725a479f4244a97d040e1404bdc.jpg / 10916 : 52c75b2b26eb2afd948f5ee676b7ee2d.jpg : 550bd13673562cace9bc11a2d3826b32.jpg10916 : 55606eb1e5a2760c1ffaabc370ba002c.jpg / 10916 : 559dab953cdf5c419c7193b887c1f42c.jpg567138a0a344e222666ff634e462ead1.jpg : 56eaec2f7a46de8339153d5f4a44c24d.jpg / 10916 : 572fb9c0d830f91157e78806162f03b9.jpg / 10916 : 5792694bd8f2cae5cf0814b0ae1a1431.jpg10916 : 5894661be6a013920351212b1056358f.jpg / 10916 : 593d0d8ecb42c5a2fe2bdd90d63a402b.jpg / 10916 : 59a9bbc68f5482a390787166a544f569.jpg / 10916 : 5a35519f4180f743fecc38d9ed5485e2.jpg/ 10916 : 5b5440965cc8ac028eb4370c0efd3275.jpg : 5bf7aaf6a80c8d1b66d6ce835bc4e0bd.jpg / 10916 : 5e48936c12e96bfd8bd26868a10395cd.jpg / 10916 : 5efe18510afe21513537c4464b0c49aa.jpg10916 : 5f07f32093a1d8a57c4d6bfe68b8fcd5.jpg / 10916 : 5f5cc9266d98e981c008e00aaa80fec7.jpg600d9496fed74c927294fe3b7144bc00.jpg / 10916 : 6381da4ca2d5500faeca402232f38bd4.jpg / 10916 : 64745d9bcd8398903afc7bc1962f9f75.jpg / 10916 : 650c343ceea4b1a47ebc5881d9665a5c.jpg / 10916 : 6640505543b1f7c9053fb667bb122b1c.jpg / 10916 : 66f1fc78750f817b7542f5aabce591bf.jpg10916 : 67396c5fb27a1c32bb0724f05d4f2bf7.jpg10916 : 67839bfb9dd82c0ad7da05378ad5acbc.jpg / 10916 : 682f77d6091f8869982458cb6dde9822.jpg / 10916 : 69497e1d1e16cfe47adfb953b326d42d.jpg / 10916 : 6c3af471b8697f176589be7f8d11f48b.jpg/ 10916 : 6d266f84da9585094ce625b503a9542f.jpg : 6f340c73593a7404db30332a508486a8.jpg/ 10916 : 6fc600c8ced2f651f0f2f39effd3f7ef.jpg / 10916 : 7472e17912f73be7c57baad3ebc0def4.jpg / 10916 : 761e718e9a1672900bca5e96bad789cf.jpg7b5c6d193f2ffce4f79fb78ad46d9e2d.jpg / 10916 : 7bb82a9605e3412fb831fea319aa2fb2.jpg10916 : 7cf73544eb285082432dd883ca9d77f1.jpg 10916 : 7d4cd411e12fce97bef62750ddaddba4.jpg / 10916 : 81d4565e79a94dc2b07040a8b107eae8.jpg / 10916 : 821324f6f6258c0419cbe0b7ff0e6f44.jpg / 10916 : 82d0f8f4b0c39f57313cf735abb969a1.jpg / 10916 : 833e4d6b79a637eba29051291c02e0e9.jpg / 10916 : 8556e2ad929990ce8d7bab1aef4d1125.jpg8573f79357774e0287a7d1d0c908018c.jpg / 10916 : 863a4c22398c762c2422031bb9818b8a.jpg / 10916 : 8887949744bff73c013a5afa659786cb.jpg : 88cf9df782e3bb738bfe62bb5d7e6883.jpg / 10916 : 88d41836d298449e91ff72c9428c9750.jpg / 10916 : 893be80fed8c306d7df5fa211ccc86b9.jpg / 10916 : 8a32707abf39635384555c83081d1d54.jpg / 10916 : 8b6747ba4bd584619801650070eadc9c.jpg/ 10916 : 8bf2297b1df418c5cbbba1cc58a71490.jpg8c1a799245419bd297c9048e80b33449.jpg / 10916 : 8d7d124d427d1869c472bcebd32bd0fd.jpg / 10916 : 8d920cc04afbe6b719696f125fdb5f2f.jpg / 10916 : 8fed4b531b12f99541f6f9a66d4a98be.jpg10916 : 9129413fac4cc9cf534d30b803ca5d51.jpg / 10916 : 92d24dda18ceb243edfc18133249fe32.jpg / 10916 : 931135ce9c00e2b94cc42ea5ea64b90a.jpg / 10916 : 9343405619545c15a23f8c2de2afe0ad.jpg / 10916 : 9344bcae9b5cebedbc372d2d2d54c358.jpg / 10916 : 94a4e72160ba775030172f695c5518c2.jpg / 10916 : 951dc63acd8498ad7c5d3baa0e03713c.jpg : 9861172ad89bd539035b5813f3284eb5.jpg : 9936a7ee8313c0cb07242c7d7248137a.jpg : 99a137806813147afbbb9f363c43a720.jpg10916 : 99ed965f005c931e35791a1a0ce1915e.jpg / 10916 : 99f9d89123e51724e7a84d1de9963ce2.jpg : 9ded1256429e8f379683b53c7ccddc0c.jpg / 10916 : 9e66e1e7ce882d38bea79b517dd05df7.jpg/ 10916 : 9ece2cc640671810db7a9c0e3e76f623.jpg10916 : a22ec42f0b6434d9a4383dc86dafd752.jpg/ 10916 : a2d2fb97a5dc5293a5f67fe5e68f079c.jpg / 10916 : a31543147f2a9490733f75e25a4dacf9.jpg: a3c82325c0f9ccaa05c5b035feda47c5.jpg 10916 : a3f7f8e01cb967570caff603107207c8.jpg / 10916 : a5ccf1c4c07092e8e52c1d7fd6e10ef6.jpg / 10916 : a624bcd55d132cb46ca3a27469c0b0c2.jpg : a816f08ac100e6bcfd118da731e836cc.jpg / 10916 : a8d510dbfbd1faf90678b3a528a243cd.jpg / 10916 : a8ecc034b27d14f958a6e03ce23aa800.jpg/ 10916 : aa4f58fd0a37e7147c738096d879576d.jpg/ 10916 : ad9c7ccd7dab0a66da00239979546383.jpg / 10916 : aef75ae9bddd6afcdae65eed0c91052b.jpg/ 10916 : af8997e077bab002bfe473947eae7f33.jpg / 10916 : b21e38e69845b7fab4575b9028a456ec.jpg/ 10916 : b5c067cd72a339b1044c5d80a15c4a8f.jpg / 10916 : b5ff68c67bd36b92058af74d89daa41e.jpg b66a2fc329264e7330474ef427252ef9.jpg b7223b6e2e4fd11be8b3074ffd98288a.jpg / 10916 : b792f43708522ea729949c903756fc47.jpg / 10916 : b82e89b61473b773c26aaf120ce31578.jpg / 10916 : b9b304d7906424700d30ced68be22bf2.jpg / 10916 : ba1dc9ea7bd92016a8d339456db6f4a5.jpg : ba9fd46f5f43650f461af8daee846bd5.jpg bfdbdb6bec0f79c82a92572b3aff2aa3.jpg : c05e7856f72ea62467f955036a26a0a1.jpg / 10916 : c1af19fc9e3c33377210053fc7d69854.jpg / 10916 : c649702b29bc8db371478a7bb9077cbe.jpg 10916 : c6f798664af2f8d5d15533a45eda7833.jpg / 10916 : c89c64c62d4d291c58c5497406d72166.jpg / 10916 : c983d592a2cfb01ae2b6351af9486c18.jpg / 10916 : c9a28a193c589dde2c6a07750a23805e.jpg / 10916 : c9cc3518c0bd5dc165495897d6ac354f.jpg ccc40fd7dfc90af1b33fbbb97d55c04f.jpg / 10916 : ce318b324f3225fcee7806acb01a46df.jpg / 10916 : d08f7b7306c688ad345cfab26f04f24a.jpg10916 : d29319341a8df004db87094c6857a600.jpg : d32ef172f63053844ccb00cadfb1efc9.jpg: d361990ce291bd925d2b18a5db431c56.jpg/ 10916 : d4e4b0adc7305f895e390013c064c6c5.jpg / 10916 : d8657e0e5eb25dc7ba4213c6d243f5bd.jpg/ 10916 : d9d4543a66f7fe6037e9082d6394cd4c.jpg / 10916 : da0a6a3f1a48aaae9a681116a233756f.jpg / 10916 : da8822f57078a2ec7c162e99e16522d6.jpg / 10916 : da8c18770a36c6a9d751964ee66b3acb.jpg: db6e2f8678ff55c9426a909060795955.jpg / 10916 : dd9a1c90b976970792be33cdca3b3f25.jpg : df3b94c812b3a79443622a7f8c128728.jpg / 10916 : dfeb402cae5127dd73011bfbf564f03f.jpg / 10916 : e184c123b7861b0247f80163f8d5e708.jpg / 10916 : e18bb82aedb81d671486f34715b5cd2f.jpg / 10916 : e2542f503e084981262df5ec56cfa7da.jpg10916 : e3345493222ba578b67b7d8088f93b55.jpg/ 10916 : e39b7ae4c65c944789a35e71b53b67ad.jpg/ 10916 : e5194ec44a77f30a240e5f1d8ff7e739.jpg / 10916 : e721ed3aa357da1f94d36d1438d15953.jpg\r"
     ]
    },
    {
     "name": "stdout",
     "output_type": "stream",
     "text": [
      "10915 / 10916 : fff83eb60e6ab68b787d573c3d0a104f.jpg/ 10916 : e7573ed2e7f344263497f24301375985.jpg: ed5dea9a10912a44b7b8638aca0717f9.jpg ed8dac9f8bf83b95e9396a1b9312b26b.jpg / 10916 : efe1bb79220137a2e30476559608993a.jpg / 10916 : f006a570e8cd2bcb11f8624509fd8d03.jpg / 10916 : f07b7ef2e85c91029a720b2aaad6ce29.jpg / 10916 : f0b87dca949ad2df6e3e5e85570a7143.jpg / 10916 : f0edff2753163e4e04d2d763c5401936.jpg / 10916 : f30574ed1d93632f4363a35b6a49c4ec.jpg / 10916 : f4d2f0576354d7df3e8a4a7830624e7d.jpg / 10916 : f6eee4623a888f60a56314877fe9dd25.jpg 10916 : f75a73a81ecf9e977a2b586bb648c4e1.jpg / 10916 : f8d8b26e4de045150051a11d8e94866d.jpg: f94bac096977915fd2062136997eb573.jpg/ 10916 : fa47ace57c9cfbac1efd649a0d0157bf.jpg / 10916 : fc5bbb536d9da7aaf316ddc0169d13b8.jpg / 10916 : fd3b0de9329d94da257a74fd562cf83c.jpg / 10916 : fda3f9cb8b1ed91f2f37386e691d0a68.jpg / 10916 : feac78f300b0cccc1a2b8ad5b7e01b26.jpg\r"
     ]
    },
    {
     "name": "stderr",
     "output_type": "stream",
     "text": [
      "D:\\Users\\gutom\\Anaconda3\\envs\\tf36\\lib\\site-packages\\ipykernel_launcher.py:172: IntegrationWarning: The maximum number of subdivisions (50) has been achieved.\n",
      "  If increasing the limit yields no improvement it is advised to analyze \n",
      "  the integrand in order to determine the difficulties.  If the position of a \n",
      "  local difficulty can be determined (singularity, discontinuity) one will \n",
      "  probably gain from splitting up the interval and calling the integrator \n",
      "  on the subranges.  Perhaps a special-purpose integrator should be used.\n"
     ]
    }
   ],
   "source": [
    "res_5 = evaluate_fd(gt_path, sol_path, 0.5)"
   ]
  },
  {
   "cell_type": "code",
   "execution_count": 81,
   "metadata": {},
   "outputs": [
    {
     "data": {
      "text/plain": [
       "(array([1.        , 1.        , 1.        , ..., 0.68895176, 0.68892611,\n",
       "        0.68890047]),\n",
       " array([3.72217673e-05, 7.44435346e-05, 1.11665302e-04, ...,\n",
       "        6.88900469e-01, 6.88900469e-01, 6.88900469e-01]),\n",
       " 0.5553575171975492)"
      ]
     },
     "execution_count": 81,
     "metadata": {},
     "output_type": "execute_result"
    }
   ],
   "source": [
    "res_5"
   ]
  },
  {
   "cell_type": "code",
   "execution_count": 84,
   "metadata": {},
   "outputs": [],
   "source": [
    "ps = res_5[0]\n",
    "rs = res_5[1]"
   ]
  },
  {
   "cell_type": "code",
   "execution_count": 87,
   "metadata": {},
   "outputs": [
    {
     "data": {
      "text/plain": [
       "(26866,)"
      ]
     },
     "execution_count": 87,
     "metadata": {},
     "output_type": "execute_result"
    }
   ],
   "source": [
    "rs.shape"
   ]
  },
  {
   "cell_type": "code",
   "execution_count": 85,
   "metadata": {
    "scrolled": true
   },
   "outputs": [
    {
     "data": {
      "image/png": "[encoded data removed]",
      "text/plain": [
       "<Figure size 1440x720 with 1 Axes>"
      ]
     },
     "metadata": {
      "needs_background": "light"
     },
     "output_type": "display_data"
    }
   ],
   "source": [
    "figure(figsize=(20,10))\n",
    "plot(rs, ps)\n",
    "grid()"
   ]
  },
  {
   "cell_type": "code",
   "execution_count": 49,
   "metadata": {},
   "outputs": [
    {
     "name": "stdout",
     "output_type": "stream",
     "text": [
      "0\r",
      "1\r",
      "2\r",
      "3\r",
      "4\r",
      "5\r",
      "6\r",
      "7\r",
      "8\r",
      "9\r"
     ]
    }
   ],
   "source": [
    "for i in range(10): print(i, end='\\r')"
   ]
  },
  {
   "cell_type": "code",
   "execution_count": 55,
   "metadata": {},
   "outputs": [
    {
     "data": {
      "text/plain": [
       "0.6889004689942678"
      ]
     },
     "execution_count": 55,
     "metadata": {},
     "output_type": "execute_result"
    }
   ],
   "source": [
    "rs.max()"
   ]
  },
  {
   "cell_type": "code",
   "execution_count": 56,
   "metadata": {},
   "outputs": [
    {
     "data": {
      "text/plain": [
       "3.722176728951091e-05"
      ]
     },
     "execution_count": 56,
     "metadata": {},
     "output_type": "execute_result"
    }
   ],
   "source": [
    "rs.min()"
   ]
  },
  {
   "cell_type": "code",
   "execution_count": 57,
   "metadata": {},
   "outputs": [],
   "source": [
    "from scipy.interpolate import interp1d\n",
    "from scipy.integrate import quad"
   ]
  },
  {
   "cell_type": "code",
   "execution_count": 59,
   "metadata": {},
   "outputs": [],
   "source": [
    "func = interp1d(rs, ps)"
   ]
  },
  {
   "cell_type": "code",
   "execution_count": 65,
   "metadata": {},
   "outputs": [
    {
     "name": "stderr",
     "output_type": "stream",
     "text": [
      "D:\\Users\\gutom\\Anaconda3\\envs\\tf36\\lib\\site-packages\\ipykernel_launcher.py:1: IntegrationWarning: The maximum number of subdivisions (50) has been achieved.\n",
      "  If increasing the limit yields no improvement it is advised to analyze \n",
      "  the integrand in order to determine the difficulties.  If the position of a \n",
      "  local difficulty can be determined (singularity, discontinuity) one will \n",
      "  probably gain from splitting up the interval and calling the integrator \n",
      "  on the subranges.  Perhaps a special-purpose integrator should be used.\n",
      "  \"\"\"Entry point for launching an IPython kernel.\n"
     ]
    }
   ],
   "source": [
    "mAP = quad(lambda x: func(x), rs[0], rs[-1])"
   ]
  },
  {
   "cell_type": "code",
   "execution_count": 66,
   "metadata": {},
   "outputs": [
    {
     "data": {
      "text/plain": [
       "(0.5553826637303485, 5.407731600481913e-05)"
      ]
     },
     "execution_count": 66,
     "metadata": {},
     "output_type": "execute_result"
    }
   ],
   "source": [
    "mAP"
   ]
  },
  {
   "cell_type": "code",
   "execution_count": 67,
   "metadata": {},
   "outputs": [
    {
     "name": "stdout",
     "output_type": "stream",
     "text": [
      "0 / 10916 : 00056475158675a7f26160c17b6643bb.jpg\r"
     ]
    },
    {
     "name": "stderr",
     "output_type": "stream",
     "text": [
      "D:\\Users\\gutom\\Anaconda3\\envs\\tf36\\lib\\site-packages\\pandas\\core\\indexing.py:543: SettingWithCopyWarning: \n",
      "A value is trying to be set on a copy of a slice from a DataFrame.\n",
      "Try using .loc[row_indexer,col_indexer] = value instead\n",
      "\n",
      "See the caveats in the documentation: http://pandas.pydata.org/pandas-docs/stable/indexing.html#indexing-view-versus-copy\n",
      "  self.obj[item] = s\n"
     ]
    },
    {
     "name": "stdout",
     "output_type": "stream",
     "text": [
      "8890 / 10916 : d1ba03104c4ee50aea9a02de8a6ac86d.jpg 10916 : 00705f8a0e1331de1cadbd6326392953.jpg / 10916 : 009c8ad5fe84916fe989fa48752f2bf2.jpg / 10916 : 00ccc05926722cb8cb88219b8b7142c8.jpg : 02a74348671f163991a5436d85cb6306.jpg: 0452de6a75c8ed6f99eff8c7e8c31ebb.jpg : 054639f9a4787a79531b8eecc80d72f0.jpg : 0691224312b9b862b24ee7264b0b1c52.jpg 0830cf4f24a54bd61faf3a109172b58b.jpg / 10916 : 08d23bb651a5b80a0e7fb3e177d5bd89.jpg / 10916 : 09821af6999f75fdafccb9e775d757bd.jpg / 10916 : 0992d4fc2d7197f41f7250156995ac81.jpg / 10916 : 0a537679b8a0439dc2c55a7c8189cd24.jpg / 10916 : 0a804ce735f05244292d156979f39b5c.jpg / 10916 : 0abf809edddda0d93bd89ad4d9208755.jpg / 10916 : 0b0ad6c073491f0a6904987ee8e700ae.jpg / 10916 : 0c92e4bfd571ab2a69e0d6eaad8cdecb.jpg10916 : 0ce4af7c4bf3f6519970309d153837e2.jpg / 10916 : 11070caecdf750119269014216f4594e.jpg10916 : 117b427dea33af43ebeafcb30a92f263.jpg / 10916 : 1243e3f6682208b4024cfc06c55e8105.jpg / 10916 : 12d784fba056243b5d158126d8ffaf3d.jpg / 10916 : 1302a86e3c7a5c508295f9d93f4927bb.jpg / 10916 : 131aab6ae0ced505731341ff15b5fb3c.jpg10916 : 13b681abe3a7e7763f167ed7ab2f673e.jpg / 10916 : 13e872603d053894d9f0b64383f1a38d.jpg / 10916 : 17dec60bc653e030a3acebb02f5ff563.jpg / 10916 : 18cc6dd6af3d9a1e501b4d5350b6db6b.jpg / 10916 : 1b5bcfce430e3a3f5bb5954760d33aaa.jpg / 10916 : 1f092acaea0b49704e659e0c216160ca.jpg10916 : 1f94d90be02a8f1b4d92fdcdb013523b.jpg 1fe38e8c3809ca91e66ba3843f835a09.jpg 10916 : 203ed17165104944e52bf3edeff9548f.jpg / 10916 : 277cd5b22004b07cb0b155949587ca8e.jpg / 10916 : 2856a4536b64dfc99a84e5f7ff29e11b.jpg / 10916 : 2c2b08a38062e28e2da69fdf2344dc7b.jpg/ 10916 : 2cb294eb6cf7621be94ddbf652e1ed82.jpg / 10916 : 2ea2d0ee42c0fc79f23ec43591511b80.jpg: 33ac98a55286b5ed66fac3033108b197.jpg 33c1a2461422e16e71b4b85f662fcec8.jpg 342661628b1c66b00c2974fdcb3345ae.jpg / 10916 : 34a0fccb50a635a6cfd1e74569c446fb.jpg: 3701cad759185320865586b8a467a1df.jpg : 374be9ffd607c88a6781834011eda1c4.jpg / 10916 : 397f8831f68b16a7a245184817ff21db.jpg: 3d9db3136141fafd5b9d6b09ba350d1d.jpg / 10916 : 3e61294bb8e7d1f2640329c687320350.jpg 10916 : 3ff0071149cae86e115c8b80d445ed46.jpg10916 : 4156e63e8fe3dc252fb2e18f374dc245.jpg / 10916 : 451d4b0cce37a40731b81fe1224bfdaf.jpg / 10916 : 45819911a000bf731cb10396be978b1c.jpg / 10916 : 45e74b607eebc858b324a3903dff585b.jpg / 10916 : 46a3a5fdba3cd424b504dfefa602dc3b.jpg/ 10916 : 47d75c896079e1e700b48396f3859a49.jpg / 10916 : 47f685f69a4e95cefab98a5968ddb3d7.jpg / 10916 : 489038959052543571a46ab52fe0ca1f.jpg / 10916 : 497d20c1d790273fef4d4dce3deeffff.jpg / 10916 : 4bc92139e3a99d390cb3e332905e05b2.jpg4cbd9717093a25e6ee46a960e9d32b53.jpg / 10916 : 4ea049fc3fa5ad85b9d9b91fdfd5fef3.jpg : 4f7da8925d91c3d3d4cd2855c72721c6.jpg10916 : 4fcf60eb985e7a1811fef6d45284cfa9.jpg: 50a16d918bc13686d7f0ba106ec69ca6.jpg / 10916 : 50adbb287570bd9363efc540f5caaa96.jpg / 10916 : 53268221d22049daa6ae16ec517a7b93.jpg/ 10916 : 53479603051159a43793f6eefb8425dd.jpg / 10916 : 5384c4829d586dc14215e1b73394197a.jpg 58600931c71f6d21c26630ec4c73fd62.jpg/ 10916 : 5861f1a557705d7793334cbdb2918f6d.jpg 58948f68da4d877e2ac0680ef497023c.jpg / 10916 : 58c5edf755dc5c5ecb65ad724f58d653.jpg / 10916 : 592b4afee4c7a694297c68ab48b017e1.jpg5985e520d7b801794e7f932259d0cdd0.jpg / 10916 : 59b18edc261955d0bb2a59814313f606.jpg/ 10916 : 59e182965adeefa4007fb9ce63ec24c7.jpg 5a505443df556b80ebf62d859dc0ec84.jpg10916 : 5c5c9e5b93042ef6d7fcfe466fdff439.jpg : 5cf16866fa49634731cd31cc8635ef3b.jpg : 5d9d04a533a9bf35b00d90f9feb08000.jpg/ 10916 : 5deb35c5c1fcdfde0e6b574a13725874.jpg / 10916 : 5ef9feb2ecbf7acc1ea50c9f139e0acd.jpg/ 10916 : 621874034d75ae4e28e3830a27fbcf20.jpg 62fa839deaa2f76133312131c230b1a4.jpg10916 : 64d13244d54ed5be92743f7113485019.jpg / 10916 : 65a807c021998359d319aa16434b8576.jpg / 10916 : 65eda9deae75b047aa4ed1c411b9975d.jpg/ 10916 : 65fd1c33478f652889ecd5e6a92cd6ea.jpg / 10916 : 661c93ec73fcd273eaf46ed77930d003.jpg 674b2fb3601a622c31c8bc4f12123eaa.jpg : 6836fdf78fa822327fdebdba8632ca82.jpg/ 10916 : 692f7e0e39bafdf62253d20901b3841e.jpg : 6a404711bd2c4d132331c6958c1d5e27.jpg10916 : 6abde73be43aad147d7ce7884075184a.jpg : 6fb355aaa9e5bbebfbeac7fa3f8754fb.jpg6fd07a34d0f8a6e0ecd4d13c9cb6e5ad.jpg / 10916 : 72c0e68108b95cfd3b326273fa773ca4.jpg10916 : 738fdfa1cf1456728497d58c47ab3fba.jpg / 10916 : 761e718e9a1672900bca5e96bad789cf.jpg / 10916 : 77423ae5ad0866c0f62583cc087a5e7b.jpg / 10916 : 796892e517ce74a6627ba9d40a76923a.jpg / 10916 : 7a22ae78970d3397e498e5ab3dca0362.jpg / 10916 : 7a2f1fa6c799040609c038c180cbd500.jpg: 7a341b017a954e3c0775052b439b83e7.jpg / 10916 : 7b66636055c45d866d782be16635b0a4.jpg / 10916 : 7b8f6f1f9a8f4211b3ab215ebd85b5b2.jpg / 10916 : 7c7385b9d1710ae7cdcacd56f71182b7.jpg : 7cb9d898febb4370bc07fe21bcc98781.jpg / 10916 : 7cd0947478a3c8c1652752f93f4fa5bc.jpg/ 10916 : 7e86db8f0675ffb4ec996fa17e578d08.jpg8234273039201b71988cd83770d828c6.jpg: 8a1bba32d14863f228110d4aab67290b.jpg / 10916 : 8b06f6105c489998b18a0309c760c22b.jpg : 8cd2c2d41b90765047f8eb6129b63ae2.jpg/ 10916 : 8e1aa3cb8c39959329ca185c68a6ec04.jpg: 8fc9e789f344a18a80cdcdc294d2094b.jpg : 91216249a826aa158c45efd056260ce5.jpg / 10916 : 920215332a33adb0aab873e1021105f5.jpg / 10916 : 932c4f717b49eba96f645ea8a892c4ed.jpg / 10916 : 93c672f3497006a2ed2655c23b88be53.jpg / 10916 : 93cca5b348804329b6db13daf884c787.jpg / 10916 : 94d004bc5e4a84b6aa9621d928bbc762.jpg / 10916 : 98aca7b8a614506cae74ba326cb8b4dc.jpg / 10916 : 9b124ee4c81e9707035c8c22aa7e023d.jpg / 10916 : 9b9d6ca41a0b2c5b3b71286186b930fe.jpg / 10916 : 9f46e9be584ccfb9a8fdd872eb3bea4d.jpg / 10916 : a2cdd2a5e61725c09e3548a23ad10991.jpg / 10916 : a379e27840d052f1ab0c03279b6bb0a6.jpg 10916 : a3a265634817d423243eb8e4622f05cf.jpg / 10916 : a3deaabc9988ccc73b40ac4a8adc006f.jpg / 10916 : a4cb66031bbd92215f24a2e494320763.jpg / 10916 : a50f906164d3bcf7a68d48f291ae0053.jpg / 10916 : a6636e050a4cc7bf46c789b03f4adbbd.jpg / 10916 : a69a33efb4767bd444fedeba1c4f77e5.jpg / 10916 : a9052e42630a4320c3000e61697d8f13.jpg / 10916 : aaa30ea6ce2ae829bf292f44b750b812.jpg / 10916 : aca8e0d0c8ee1afdbe6e81cc488bc44c.jpg : ad47df81db56d362c99ff0f298c21cd0.jpg / 10916 : ad951ac5f1fe2aafd2ee621c9bd8d997.jpg 10916 : adad6c928fe3a9e31bfa7a6593f56899.jpg / 10916 : aebec6604a601b7f4d9ac045ecabee6d.jpg / 10916 : b00b507c388f2b0d17ff39a261450fc0.jpg / 10916 : b0848ca41bbe849023c77eeef0717599.jpg / 10916 : b0bdf4fbd1fcccc3e2c469869e56485c.jpg / 10916 : b34ec7cdf54eb7626fab38077b839edc.jpg / 10916 : b39719c2686f629da0f2ac5cec0f2753.jpg: b433591d55eb9d416941dda2bbbc41d4.jpg / 10916 : b4d932f1af3c834abd86a21bff6e1f9a.jpg / 10916 : b4ff317cc21d3430394a3b4faea65104.jpg / 10916 : b58cbe9fd62cd5b0bef16cb7236a1c1a.jpg / 10916 : b7a8d7a28f2a5cdf69bcb0031b341812.jpg / 10916 : ba93cb6d19008fb9d9a8880de5b34041.jpg / 10916 : bb35c1484e092c2ed81a5e0aa5cad696.jpg / 10916 : bbc781c11b990b2522bbd139105c22e7.jpg / 10916 : bcf1d0aa9fd8770f0b0ec8bc5200dcc6.jpg / 10916 : bd359ecc937946be98f1eab323c3be34.jpg / 10916 : be309848e50aeea40089041955727610.jpg / 10916 : be53fd60bc25e50a37fb713fb4d4269a.jpg / 10916 : be6902a62b937f7784b564a69aa1cd4d.jpg / 10916 : beae50324ef275e06895fa1cbae00534.jpg / 10916 : bf8b1791828484fdbb5958374b77fb29.jpg / 10916 : c0306d2b4ec69c131fd1c3a860a130c6.jpg / 10916 : c04f15d439ceca23d1341130d0b4b186.jpg/ 10916 : c0fca8681159118fe0310c77d681c98e.jpg / 10916 : c290ac1d6032ddc163cace03ed7e1a7b.jpg / 10916 : c34c68eceba7974e4667d73a37513336.jpg / 10916 : c37f594bf7c90f94ea0e098d2a2025eb.jpg / 10916 : c5c4b106fe3d9dfc11e10d8dd3606b22.jpgc63ea3fbbf39692f9525e7e32c92798c.jpg/ 10916 : c82fd27ac2da9d136a17b3ee2e06ada9.jpg : c90ac97f20e68b9c565c3e7058e9f28c.jpg / 10916 : c92cc11e9cfbddc5225ccf9800c8dab8.jpg / 10916 : ca9ac0219223d7a8e643bb26448a0f5c.jpg / 10916 : cb2c7c19678da587e7fe274093972f0f.jpg / 10916 : cbd8560bc54e2e72e51b3cb5b9ebc32d.jpg / 10916 : cbf28725e0279fd81321d35159e23212.jpg10916 : ce5d475eed5ceabbeebedffb9758a410.jpg : cee3c036718137ad7ac1a45e65940132.jpg / 10916 : d0005f4d0b36aedef5a3161d7c69c78d.jpg / 10916 : d0a40f247017b6469eb3007ac772e42d.jpg / 10916 : d1558e5c0ae60a0d38e6e7f04cacb294.jpg / 10916 : d15e01fc03e6a5da70663b520e170090.jpg / 10916 : d1828090177d23e93a828194ce4a3347.jpg / 10916 : d1b759bab8f0989bbbc96eab96a08c72.jpg\r"
     ]
    },
    {
     "name": "stdout",
     "output_type": "stream",
     "text": [
      "10915 / 10916 : fff83eb60e6ab68b787d573c3d0a104f.jpg/ 10916 : d1fbc4fee7c59b1b8ff9136a17c4447c.jpg / 10916 : d2ce0f72d8001fe04eced2b1c9ce2fa8.jpg / 10916 : d3765bcd9e2dd119742f3bf3b292ddac.jpg / 10916 : d39baf7305ba948bfb5b555340d1cc28.jpg / 10916 : d3cbc9f918ec2c7fd1abc910bcf327c2.jpg / 10916 : d41a45ffc7e3f954e72a68e3c295fb3f.jpg / 10916 : d42ad25f53867b1003d13080add6b8ce.jpg / 10916 : d4baf4217e24bb7a8d3a971f7ac60117.jpg / 10916 : d62d712ac72dadacd308a7a0e7e5d7d2.jpg / 10916 : d9eeac46687201424975e78868fe56dc.jpg / 10916 : db45e6df055bcea50898c178a7e8b428.jpg / 10916 : dbe3b9272a9822749569e0ce8f9344fc.jpg / 10916 : dbf221011733653ded7a2ae275e2dfc6.jpg/ 10916 : dca4084c4e145fab7610b79f901f3b5d.jpg 10916 : dd2c3dbfeb873847e671ee52ee576378.jpg / 10916 : dd9ff9f4bb670fba5f78bdbe39640779.jpg / 10916 : de73cda2950ad23ffb1a78e875b25924.jpg / 10916 : dfa8674f64d5debb3c098943d363d657.jpg / 10916 : e0a0b8237f6b59b3cea6c508386d2127.jpg / 10916 : e0bdfa8cc799aa36069124729b46fd3a.jpg / 10916 : e0cb4e4c2c010586e6b20d3404b64728.jpg / 10916 : e3bd97af24a9ad69f068cfc4c6710987.jpg / 10916 : e4cb13bbf5002cc11672eaee44e2af29.jpg / 10916 : e529ad8a816aa86c77256baa16c6515e.jpg: e58092139a852dccfc1c6e5ad71860d0.jpg / 10916 : e6a3097500977865db9c7a58196b2c44.jpg : e85196ddede52ebe73a05bd750bdd03f.jpg / 10916 : e8eb5fa9cc2bbe93f019d1979ad64e5c.jpg / 10916 : ec461e0e11b65a8ca47441d52ac5bee8.jpg : ed2255420110087b9dbb431c0372352a.jpg / 10916 : ee66b7249a5febfa4cdabc034e562268.jpg / 10916 : efc07fccc4b75bf4dd4c030bb485ee18.jpg/ 10916 : efd0d4c0f9812d60833133f0c22b0f21.jpg / 10916 : f218256d868d6f7cf911c5a8340e7b41.jpg / 10916 : f3aba68c100116a0c3c1642dfb2d0673.jpg / 10916 : f53f9091331efb038b29792162be90d1.jpg/ 10916 : f73222782761280018d67d714aa24e63.jpg / 10916 : f79ee83fc055d14ba874bc1bbda9f132.jpg10916 : f7e5e8fe39adcceedd1ff86b37d6808d.jpg / 10916 : f8d8b26e4de045150051a11d8e94866d.jpg/ 10916 : f9489624a4fb33a5556447458492d131.jpg / 10916 : fa7ed5384beea64633866e469426de91.jpg / 10916 : fd1f0ad3f9e15dbbd89cd8930bbc5596.jpg / 10916 : fd708724aac549b46295506ccc11c70d.jpg / 10916 : fda3f9cb8b1ed91f2f37386e691d0a68.jpg\r"
     ]
    }
   ],
   "source": [
    "ps_9, rs_9 = evaluate_fd(gt_path, sol_path, 0.9)"
   ]
  },
  {
   "cell_type": "code",
   "execution_count": 68,
   "metadata": {},
   "outputs": [
    {
     "name": "stderr",
     "output_type": "stream",
     "text": [
      "D:\\Users\\gutom\\Anaconda3\\envs\\tf36\\lib\\site-packages\\ipykernel_launcher.py:2: IntegrationWarning: The maximum number of subdivisions (50) has been achieved.\n",
      "  If increasing the limit yields no improvement it is advised to analyze \n",
      "  the integrand in order to determine the difficulties.  If the position of a \n",
      "  local difficulty can be determined (singularity, discontinuity) one will \n",
      "  probably gain from splitting up the interval and calling the integrator \n",
      "  on the subranges.  Perhaps a special-purpose integrator should be used.\n",
      "  \n"
     ]
    },
    {
     "data": {
      "text/plain": [
       "(4.525356868807096e-05, 1.2643668468998018e-07)"
      ]
     },
     "execution_count": 68,
     "metadata": {},
     "output_type": "execute_result"
    }
   ],
   "source": [
    "func = interp1d(rs_9, ps_9)\n",
    "quad(lambda x: func(x), rs_9[0], rs_9[-1])"
   ]
  },
  {
   "cell_type": "code",
   "execution_count": 69,
   "metadata": {},
   "outputs": [
    {
     "data": {
      "image/png": "[encoded data removed]",
      "text/plain": [
       "<Figure size 1440x720 with 1 Axes>"
      ]
     },
     "metadata": {
      "needs_background": "light"
     },
     "output_type": "display_data"
    }
   ],
   "source": [
    "figure(figsize=(20,10))\n",
    "plot(rs_9, ps_9)\n",
    "grid()"
   ]
  },
  {
   "cell_type": "code",
   "execution_count": 70,
   "metadata": {},
   "outputs": [
    {
     "data": {
      "text/plain": [
       "0.004838829747636417"
      ]
     },
     "execution_count": 70,
     "metadata": {},
     "output_type": "execute_result"
    }
   ],
   "source": [
    "rs_9.max()"
   ]
  },
  {
   "cell_type": "code",
   "execution_count": 71,
   "metadata": {},
   "outputs": [
    {
     "name": "stdout",
     "output_type": "stream",
     "text": [
      "10915 / 10916 : fff83eb60e6ab68b787d573c3d0a104f.jpg0916 : 002e2cbe8e3166addb2baf9b56dcef98.jpg/ 10916 : 022227161de6dfbe91c4dc7fd3733e90.jpg10916 : 025fbde418777954135958ce6e6ed336.jpg: 042272f1f38fd9a2f90a397837e1789f.jpg / 10916 : 08ccebceb4ec9db4d2024163e8c751e5.jpg / 10916 : 091d176cd2d8e1b9bcd8a6b3196506c1.jpg / 10916 : 0992f67c5892d6fcb6c0fb37ea1a2376.jpg / 10916 : 09cbc08038fc54aeb725e7388a0a07ee.jpg / 10916 : 0a6b3b9f64f755c3c3f70566e7fc1ce1.jpg / 10916 : 0b273dffc42186843bff0681cd30bf83.jpg : 0c706f0ef29b21d8cab7388d097dbc5f.jpg / 10916 : 0e227209d919233afce1173cf86cb425.jpg / 10916 : 103454a456b58525aa2907c3c7e02bd9.jpg10916 : 112161ff3b9ecdee6844422ecfaef937.jpg : 1214291cbd12a2ff3282ce4acec57415.jpg / 10916 : 1451fe7e10748afe565715f253a84dc7.jpg / 10916 : 1a4eacecb06e5e069103c9b9f4b58c6e.jpg / 10916 : 1bfa8ee3331ca3bcee16f62d4bcb33cf.jpg / 10916 : 1d19c4c50a112d56f4767688d41b752a.jpg : 1f8cfccc22036261f39ab325066cdc64.jpg10916 : 1f94d90be02a8f1b4d92fdcdb013523b.jpg / 10916 : 24cfb531f654a0300b4a3cbea4a05d24.jpg/ 10916 : 26f4007af48c4adf820d825130d12c5f.jpg : 2966ccf8606c00b328d3d63421f01dfc.jpg / 10916 : 2b00a4d81944ddca59dfa9f616956afb.jpg / 10916 : 2d2a19afcb362b8d198debf84e459c3c.jpg / 10916 : 2d410538bd3fc2b16cd508c609c1a31d.jpg 10916 : 2f78841e6b7dad5012f5c7b9664807e8.jpg10916 : 31b990dceb6a24ee3754982ee567bc0e.jpg / 10916 : 31e59be6aa6cf204e30c0ddd4ef8ab17.jpg : 341946a4db1da95657fb7dfb0cdeef17.jpg / 10916 : 374c63b96e683ad83541c0c344177c83.jpg / 10916 : 38828edd4259ed83b0a4313c36f5b865.jpg / 10916 : 3a13bc52a33ce8e9c6b08d2325258c12.jpg : 3a372c11fbc2126aaa2d1bd37801d410.jpg/ 10916 : 3fe6db0b5b2d8fb24b400c014c1b44c7.jpg : 42dbdd15747ceedabdd3130938f9e6ee.jpg : 44feff1c5f47e6a181654793e39134b9.jpg / 10916 : 4538937de59f28c8a707417108449ae6.jpg / 10916 : 46a357276503bff60b7ebba5ab7e449a.jpg / 10916 : 4885b363184f768537539a802b678083.jpg / 10916 : 4a59b6b9b50cf6fc87e45caa0fdb86df.jpg / 10916 : 4ce7b201a4bd88c81b3f4f25a574d976.jpg50adbb287570bd9363efc540f5caaa96.jpg / 10916 : 518aa5c5a83961155e5e168276a81b67.jpg / 10916 : 51f00c7f2f5070a3d436c6e242b11fc4.jpg 5225ac404da107b61af5fe39c64df569.jpg / 10916 : 54022d07bc6377bd836d55c2f3b9f2a7.jpg / 10916 : 54a230f9265f298dcea130e7429ca058.jpg / 10916 : 5523819b61ca7692aa1075007dfc6ef0.jpg: 5790f2275c88f4c2ca6c0ac0cfd4c4c2.jpg 10916 : 587fd69e75e31e89c66aeca1be499925.jpg : 58f185ad4dc33e94868c0f3777a67fa9.jpg : 5ab8cd0c97e7562c9aca64486db2008e.jpg : 5cb426ab75343784d95c9c02c3178a1c.jpg/ 10916 : 5d54d84dd351a18b9f5f29532887689b.jpg / 10916 : 6110f27c6e8ecbd966e210103b1d346a.jpg : 620b4f18c35c47291ba431cc1cd675c6.jpg 10916 : 639841c671f5503066b79c841e439127.jpg 10916 : 6a0d68aa31f6d37001e3ce9134f09255.jpg / 10916 : 6abafc68feeef87da49c7358d40d9480.jpg: 6ac3c6cb79edde19dcbe04013ee5cf1e.jpg / 10916 : 6b10e73ffd878133464000d5ca3b74cf.jpg10916 : 6c18b30be216490e734c2e3b34b520fe.jpg / 10916 : 6eca041c06fcfc7943c0fecfd57a43c2.jpg 10916 : 71d46697d00b1626d35369138d28eef8.jpg / 10916 : 72c3297ef543a7b9d03a3c40e6535a7a.jpg : 72e4e9a42eb5ff1740ca091d012a68cb.jpg10916 : 74bbb93c73556e1c0b912ed6a7af2120.jpg10916 : 7987b4bbc9deffff8ba9857cfc1cf215.jpg / 10916 : 7b988c661aed64449f28e144cf2ca7bd.jpg : 7da9ae0fb0e7a10f1cd5f37f2599d2b7.jpg 10916 : 7e5b73c5ac9261c4902b1651ede74bac.jpg / 10916 : 7ebfc70937763210675c257c1e5751de.jpg/ 10916 : 803450691b6bc735642563a84bfbad06.jpg / 10916 : 84b10f631319d1a4b27c3490a787fa92.jpg / 10916 : 84fc9ddcd3f9b12f917e1e57e2dd2b4d.jpg85a4ae19b6bc133bf7c25ca023ce5d24.jpg / 10916 : 86153693585206a875e0a4cc8739ace3.jpg : 87650cb752b5b15a318081458ed8df32.jpg / 10916 : 88cf9df782e3bb738bfe62bb5d7e6883.jpg / 10916 : 892fd97a9a22ba13d15857c6db5f5728.jpg 897bf7c268adedabc52da2caff83cefd.jpg / 10916 : 8b1a501bc9cf2777fcd39a56efb746d3.jpg / 10916 : 8b6747ba4bd584619801650070eadc9c.jpg / 10916 : 8ca0e31b5477950b908a1d06c646530f.jpg8d7d124d427d1869c472bcebd32bd0fd.jpg / 10916 : 8e1e3ebe86fe94e394ffa6f97ee73397.jpg / 10916 : 8ee294ef840cdd162989c4eaadac3dfe.jpg / 10916 : 8f5429f501705bfa4e5d17f030c3ac7e.jpg / 10916 : 90a266d3e4ca7ea4c9fe5a91c4995a81.jpg / 10916 : 9143e6afa6eb212c9143af0c91d796b4.jpg10916 : 922d8eb9d34c77de1c6d33b09883a98f.jpg/ 10916 : 930bf482051ba2a3fbe1a0f4e26f77df.jpg : 930e96fbc08d9158da82bc74cbc062e1.jpg / 10916 : 948ffc99022140fe71a1ab034e5beb0f.jpg / 10916 : 96bb9f5a602f9bc1ca374fdd69c1bc26.jpg: 96f13bb37189964691bf9a4e5c4e87be.jpg / 10916 : 973aa8393966e3715b90e48b4f187224.jpg10916 : 98a271063c4a837624444fe7f7b503a5.jpg : 995db5b07df605b5f89402da77232444.jpg / 10916 : 9a20eb5542f82ad5a16bf05a8652024a.jpg 9bd61d19418866788780dcd3cbffb86b.jpg : 9daab4a170d7f46039018d50056fefad.jpg / 10916 : 9f46e9be584ccfb9a8fdd872eb3bea4d.jpg / 10916 : a4292660fd619b7968b1384f3b6f19a4.jpg / 10916 : a5d497f08b61c356cdfdbe6364a29b71.jpg/ 10916 : a928c66919e604553b22e1ed36e2d280.jpg : ab4d5da4321979505b565d401def30dc.jpg / 10916 : adb1816c88a21c9b7b97d9cbc4b1af7c.jpgaf1056ab1e4318598d76dbb057055f7d.jpgb0848ca41bbe849023c77eeef0717599.jpg / 10916 : b20efc85332725df19b4ff4e4b85c8cb.jpg / 10916 : b3fdb911990f5dd5fe0e8c7f60437694.jpg / 10916 : b5a6562ca6f022a6972dd53a88001173.jpg / 10916 : ba93cb6d19008fb9d9a8880de5b34041.jpg / 10916 : bb4f743ebb5a09acf1dca3330121bed9.jpg / 10916 : bc88e55a200e3c73a7e9406390d1c1d3.jpg / 10916 : c0ea35b405347775d41309f163f408bd.jpg / 10916 : c3a250319d62d503443cda049f0c24ed.jpg / 10916 : c62f721972c9033f74d419cf9f35e2dd.jpg / 10916 : c9f21488f1d9d714bc3307e08445d3ae.jpg / 10916 : cb94162d0b87338e95587fe80a19e56f.jpg : cc756b377514776d768d1c040d8f351c.jpg / 10916 : cca7f4d245f4c716f1be7bd85f20be60.jpg / 10916 : cd05a7591230f0c8cb2b9f4e5341cd80.jpg/ 10916 : cf4e370617721c4c8302c040c4a19e35.jpg d43ee7515cd8c2df31eddb86593be2d1.jpg / 10916 : d4fd9e52fb36832183a92e031210ff18.jpg / 10916 : d57eeec14922edfa21552a287cf31829.jpg : d9f8cf175241a12ae0e39cab0d9f2868.jpg/ 10916 : dc21f28a33d3076f23b524d1dcc45a08.jpg: dcfc7a0de78ac9eb797eb29bf0bde353.jpg/ 10916 : dd304d84bd4f1324d83187ffafc280a9.jpg 10916 : e1e44f66b2a261571f3a86da7c527610.jpg / 10916 : e24ab134e920f67c65ac875e3d85c1a7.jpg / 10916 : e24cebd6baae91a3167a6b1e78c9f6a3.jpg / 10916 : e4612bfdf5cea56ab6c97bb03df64c92.jpg10916 : e4919940343ad575fe2a2e4fefc2ee44.jpg / 10916 : e584a63127813a1d29249196f5295888.jpg 10916 : e69362e8413d5bf2f966d747c2a825c1.jpg / 10916 : e728bb0bf466d1a9d57805249b6e3eb7.jpg / 10916 : e7ef3ceb76a497140650a50477fd31ad.jpg / 10916 : e80be9cf2be1a716bee655d0f2511da3.jpg/ 10916 : eb18eeb69d00888585a1c40bc8b6aca8.jpg / 10916 : f2541f9035f5752b9a60a7cd06c7fe42.jpg / 10916 : f3ca788708cb37a73042605fb9af99c5.jpg10916 : f42c693041b443b54028bf53acd65656.jpg / 10916 : f500da01598b7a13250dbfaa4675c778.jpg / 10916 : f59613016594ecea454b8aa4051ddfed.jpg : f5b7c03d652373051bc5963c194b40a0.jpgfb176477674fb1bf4ed05410dd11a88b.jpg / 10916 : fb60df447b86644c5612da030b77335c.jpg / 10916 : fda3f9cb8b1ed91f2f37386e691d0a68.jpg / 10916 : fec249585de83fd9164865c8abb3c392.jpg\r"
     ]
    }
   ],
   "source": [
    "ps_7, rs_7 = evaluate_fd(gt_path, sol_path, 0.7)"
   ]
  },
  {
   "cell_type": "code",
   "execution_count": 72,
   "metadata": {},
   "outputs": [
    {
     "data": {
      "image/png": "[encoded data removed]",
      "text/plain": [
       "<Figure size 1440x720 with 1 Axes>"
      ]
     },
     "metadata": {
      "needs_background": "light"
     },
     "output_type": "display_data"
    }
   ],
   "source": [
    "figure(figsize=(20,10))\n",
    "plot(rs_7, ps_7)\n",
    "grid()"
   ]
  },
  {
   "cell_type": "code",
   "execution_count": 73,
   "metadata": {},
   "outputs": [
    {
     "name": "stderr",
     "output_type": "stream",
     "text": [
      "D:\\Users\\gutom\\Anaconda3\\envs\\tf36\\lib\\site-packages\\ipykernel_launcher.py:2: IntegrationWarning: The maximum number of subdivisions (50) has been achieved.\n",
      "  If increasing the limit yields no improvement it is advised to analyze \n",
      "  the integrand in order to determine the difficulties.  If the position of a \n",
      "  local difficulty can be determined (singularity, discontinuity) one will \n",
      "  probably gain from splitting up the interval and calling the integrator \n",
      "  on the subranges.  Perhaps a special-purpose integrator should be used.\n",
      "  \n"
     ]
    },
    {
     "data": {
      "text/plain": [
       "(0.08274781890970458, 7.646777534869864e-06)"
      ]
     },
     "execution_count": 73,
     "metadata": {},
     "output_type": "execute_result"
    }
   ],
   "source": [
    "func = interp1d(rs_7, ps_7)\n",
    "quad(lambda x: func(x), rs_7[0], rs_7[-1])"
   ]
  },
  {
   "cell_type": "code",
   "execution_count": 26,
   "metadata": {},
   "outputs": [],
   "source": [
    "import h5py"
   ]
  },
  {
   "cell_type": "code",
   "execution_count": 53,
   "metadata": {},
   "outputs": [],
   "source": [
    "f = h5py.File('sample.h5','w')"
   ]
  },
  {
   "cell_type": "code",
   "execution_count": 54,
   "metadata": {},
   "outputs": [],
   "source": [
    "top = f.create_group('top')"
   ]
  },
  {
   "cell_type": "code",
   "execution_count": 55,
   "metadata": {},
   "outputs": [],
   "source": [
    "top['0'] = np.random.rand(10)\n",
    "top['1'] = np.random.rand(10)"
   ]
  },
  {
   "cell_type": "code",
   "execution_count": 56,
   "metadata": {},
   "outputs": [
    {
     "data": {
      "text/plain": [
       "(10,)"
      ]
     },
     "execution_count": 56,
     "metadata": {},
     "output_type": "execute_result"
    }
   ],
   "source": [
    "top['0'].shape"
   ]
  },
  {
   "cell_type": "code",
   "execution_count": 57,
   "metadata": {},
   "outputs": [],
   "source": [
    "top['0'].attrs['id'] = 100"
   ]
  },
  {
   "cell_type": "code",
   "execution_count": 58,
   "metadata": {},
   "outputs": [
    {
     "data": {
      "text/plain": [
       "100"
      ]
     },
     "execution_count": 58,
     "metadata": {},
     "output_type": "execute_result"
    }
   ],
   "source": [
    "top['0'].attrs['id']"
   ]
  },
  {
   "cell_type": "code",
   "execution_count": 59,
   "metadata": {},
   "outputs": [],
   "source": [
    "f.close()"
   ]
  },
  {
   "cell_type": "code",
   "execution_count": 60,
   "metadata": {},
   "outputs": [
    {
     "name": "stdout",
     "output_type": "stream",
     "text": [
      " D 드라이브의 볼륨: DATA\n",
      " 볼륨 일련 번호: 40C4-7DAF\n",
      "\n",
      " D:\\topcoder\\face_recog\\src\\space 디렉터리\n",
      "\n",
      "2019-05-29  오후 09:12    <DIR>          .\n",
      "2019-05-29  오후 09:12    <DIR>          ..\n",
      "2019-04-25  오후 05:13               158 .gitignore\n",
      "2019-05-27  오후 11:10                92 __init__.py\n",
      "2019-05-22  오전 02:45    <DIR>          __pycache__\n",
      "2019-04-21  오후 10:08           744,004 db.csv\n",
      "2019-05-22  오전 02:27           340,791 db_facial_id.pobj\n",
      "2019-04-29  오후 11:01           604,649 es.csv\n",
      "2019-05-29  오후 04:52             5,806 evaluate.py\n",
      "2019-05-29  오후 07:14            40,904 face_detection.py\n",
      "2019-05-22  오전 11:35       488,322,408 face_detector.h5\n",
      "2019-05-29  오후 07:29            47,025 face_identification.py\n",
      "2019-05-22  오전 02:26       620,573,520 face_identifier.h5\n",
      "2019-05-17  오후 01:03       620,573,520 face_reidentifier.hd5\n",
      "2019-05-29  오후 07:24             1,195 face_vijnana_yolov3.json\n",
      "2019-05-03  오전 07:31         8,701,531 img_triplet_pairs.pickle\n",
      "2019-05-29  오후 09:23             4,752 sample.h5\n",
      "2019-04-25  오후 12:28           402,670 solution.csv\n",
      "2019-05-02  오후 04:53    <DIR>          subject_faces\n",
      "2018-03-25  오후 01:49       248,007,048 yolov3.weights\n",
      "2019-04-24  오후 08:39       162,994,288 yolov3_base.hd5\n",
      "2019-05-21  오후 10:22            25,626 yolov3_detect.py\n",
      "              18개 파일       2,151,389,987 바이트\n",
      "               4개 디렉터리  338,396,741,632 바이트 남음\n"
     ]
    }
   ],
   "source": [
    "ls"
   ]
  },
  {
   "cell_type": "code",
   "execution_count": 61,
   "metadata": {},
   "outputs": [],
   "source": [
    "f = h5py.File('sample.h5','r')"
   ]
  },
  {
   "cell_type": "code",
   "execution_count": 62,
   "metadata": {},
   "outputs": [
    {
     "data": {
      "text/plain": [
       "KeysView(<HDF5 file \"sample.h5\" (mode r)>)"
      ]
     },
     "execution_count": 62,
     "metadata": {},
     "output_type": "execute_result"
    }
   ],
   "source": [
    "f.keys()"
   ]
  },
  {
   "cell_type": "code",
   "execution_count": 63,
   "metadata": {},
   "outputs": [
    {
     "data": {
      "text/plain": [
       "'/'"
      ]
     },
     "execution_count": 63,
     "metadata": {},
     "output_type": "execute_result"
    }
   ],
   "source": [
    "f.name"
   ]
  },
  {
   "cell_type": "code",
   "execution_count": 64,
   "metadata": {},
   "outputs": [
    {
     "name": "stdout",
     "output_type": "stream",
     "text": [
      "top\n"
     ]
    }
   ],
   "source": [
    "for name in f: print(name)"
   ]
  },
  {
   "cell_type": "code",
   "execution_count": 68,
   "metadata": {},
   "outputs": [
    {
     "data": {
      "text/plain": [
       "array([0.34670551, 0.57372988, 0.53244002, 0.37849571, 0.69450392,\n",
       "       0.19979125, 0.62840678, 0.59146162, 0.85161414, 0.22788428])"
      ]
     },
     "execution_count": 68,
     "metadata": {},
     "output_type": "execute_result"
    }
   ],
   "source": [
    "f['top']['0'].value"
   ]
  },
  {
   "cell_type": "code",
   "execution_count": 98,
   "metadata": {},
   "outputs": [],
   "source": [
    "sample = np.random.rand(10)\n",
    "sample = sample <= 0.5"
   ]
  },
  {
   "cell_type": "code",
   "execution_count": 99,
   "metadata": {},
   "outputs": [
    {
     "data": {
      "text/plain": [
       "array([ True, False,  True,  True,  True,  True, False, False,  True,\n",
       "        True])"
      ]
     },
     "execution_count": 99,
     "metadata": {},
     "output_type": "execute_result"
    }
   ],
   "source": [
    "sample"
   ]
  },
  {
   "cell_type": "code",
   "execution_count": 100,
   "metadata": {},
   "outputs": [],
   "source": [
    "sample2 = sample.astype(np.int64)"
   ]
  },
  {
   "cell_type": "code",
   "execution_count": 101,
   "metadata": {},
   "outputs": [
    {
     "data": {
      "text/plain": [
       "array([1, 0, 1, 1, 1, 1, 0, 0, 1, 1], dtype=int64)"
      ]
     },
     "execution_count": 101,
     "metadata": {},
     "output_type": "execute_result"
    }
   ],
   "source": [
    "sample2"
   ]
  },
  {
   "cell_type": "code",
   "execution_count": 102,
   "metadata": {},
   "outputs": [
    {
     "data": {
      "text/plain": [
       "7"
      ]
     },
     "execution_count": 102,
     "metadata": {},
     "output_type": "execute_result"
    }
   ],
   "source": [
    "sample2.sum()"
   ]
  },
  {
   "cell_type": "code",
   "execution_count": 2,
   "metadata": {},
   "outputs": [
    {
     "name": "stdout",
     "output_type": "stream",
     "text": [
      "D:\\topcoder\\face_recog\\src\\space\n"
     ]
    }
   ],
   "source": [
    "cd D:\\topcoder\\\\face_recog\\src\\space"
   ]
  },
  {
   "cell_type": "code",
   "execution_count": 3,
   "metadata": {},
   "outputs": [
    {
     "name": "stderr",
     "output_type": "stream",
     "text": [
      "Using TensorFlow backend.\n"
     ]
    }
   ],
   "source": [
    "import evaluate"
   ]
  },
  {
   "cell_type": "code",
   "execution_count": 6,
   "metadata": {},
   "outputs": [
    {
     "data": {
      "text/plain": [
       "<module 'evaluate' from 'D:\\\\topcoder\\\\face_recog\\\\src\\\\space\\\\evaluate.py'>"
      ]
     },
     "execution_count": 6,
     "metadata": {},
     "output_type": "execute_result"
    }
   ],
   "source": [
    "import importlib\n",
    "importlib.reload(evaluate)"
   ]
  },
  {
   "cell_type": "code",
   "execution_count": 9,
   "metadata": {},
   "outputs": [],
   "source": [
    "import pandas as pd\n",
    "sample = pd.DataFrame({'a': range(10), 'b': range(10)})"
   ]
  },
  {
   "cell_type": "code",
   "execution_count": 14,
   "metadata": {},
   "outputs": [
    {
     "data": {
      "text/plain": [
       "a    0\n",
       "b    0\n",
       "Name: 0, dtype: int64"
      ]
     },
     "execution_count": 14,
     "metadata": {},
     "output_type": "execute_result"
    }
   ],
   "source": [
    "sample.iloc[0, :]"
   ]
  },
  {
   "cell_type": "code",
   "execution_count": 4,
   "metadata": {},
   "outputs": [],
   "source": [
    "import h5py\n",
    "f = h5py.File('p_r_curve.h5', 'r')"
   ]
  },
  {
   "cell_type": "code",
   "execution_count": 5,
   "metadata": {},
   "outputs": [],
   "source": [
    "iou_ths = np.arange(0.5, 1.0, 0.05)\n",
    "ps_ls = f['ps_ls'].value\n",
    "rs_ls = f['rs_ls'].value\n",
    "mAP_ls = f['mAP_ls'].value"
   ]
  },
  {
   "cell_type": "code",
   "execution_count": 12,
   "metadata": {},
   "outputs": [
    {
     "name": "stdout",
     "output_type": "stream",
     "text": [
      "Help on function legend in module matplotlib.pyplot:\n",
      "\n",
      "legend(*args, **kwargs)\n",
      "    Place a legend on the axes.\n",
      "    \n",
      "    Call signatures::\n",
      "    \n",
      "        legend()\n",
      "        legend(labels)\n",
      "        legend(handles, labels)\n",
      "    \n",
      "    The call signatures correspond to three different ways how to use\n",
      "    this method.\n",
      "    \n",
      "    **1. Automatic detection of elements to be shown in the legend**\n",
      "    \n",
      "    The elements to be added to the legend are automatically determined,\n",
      "    when you do not pass in any extra arguments.\n",
      "    \n",
      "    In this case, the labels are taken from the artist. You can specify\n",
      "    them either at artist creation or by calling the\n",
      "    :meth:`~.Artist.set_label` method on the artist::\n",
      "    \n",
      "        line, = ax.plot([1, 2, 3], label='Inline label')\n",
      "        ax.legend()\n",
      "    \n",
      "    or::\n",
      "    \n",
      "        line.set_label('Label via method')\n",
      "        line, = ax.plot([1, 2, 3])\n",
      "        ax.legend()\n",
      "    \n",
      "    Specific lines can be excluded from the automatic legend element\n",
      "    selection by defining a label starting with an underscore.\n",
      "    This is default for all artists, so calling `Axes.legend` without\n",
      "    any arguments and without setting the labels manually will result in\n",
      "    no legend being drawn.\n",
      "    \n",
      "    \n",
      "    **2. Labeling existing plot elements**\n",
      "    \n",
      "    To make a legend for lines which already exist on the axes\n",
      "    (via plot for instance), simply call this function with an iterable\n",
      "    of strings, one for each legend item. For example::\n",
      "    \n",
      "        ax.plot([1, 2, 3])\n",
      "        ax.legend(['A simple line'])\n",
      "    \n",
      "    Note: This way of using is discouraged, because the relation between\n",
      "    plot elements and labels is only implicit by their order and can\n",
      "    easily be mixed up.\n",
      "    \n",
      "    \n",
      "    **3. Explicitly defining the elements in the legend**\n",
      "    \n",
      "    For full control of which artists have a legend entry, it is possible\n",
      "    to pass an iterable of legend artists followed by an iterable of\n",
      "    legend labels respectively::\n",
      "    \n",
      "        legend((line1, line2, line3), ('label1', 'label2', 'label3'))\n",
      "    \n",
      "    Parameters\n",
      "    ----------\n",
      "    \n",
      "    handles : sequence of `.Artist`, optional\n",
      "        A list of Artists (lines, patches) to be added to the legend.\n",
      "        Use this together with *labels*, if you need full control on what\n",
      "        is shown in the legend and the automatic mechanism described above\n",
      "        is not sufficient.\n",
      "    \n",
      "        The length of handles and labels should be the same in this\n",
      "        case. If they are not, they are truncated to the smaller length.\n",
      "    \n",
      "    labels : sequence of strings, optional\n",
      "        A list of labels to show next to the artists.\n",
      "        Use this together with *handles*, if you need full control on what\n",
      "        is shown in the legend and the automatic mechanism described above\n",
      "        is not sufficient.\n",
      "    \n",
      "    Other Parameters\n",
      "    ----------------\n",
      "    \n",
      "    \n",
      "    loc : int or string or pair of floats, default: :rc:`legend.loc` ('best' for axes, 'upper right' for figures)\n",
      "        The location of the legend. Possible codes are:\n",
      "    \n",
      "            ===============   =============\n",
      "            Location String   Location Code\n",
      "            ===============   =============\n",
      "            'best'            0\n",
      "            'upper right'     1\n",
      "            'upper left'      2\n",
      "            'lower left'      3\n",
      "            'lower right'     4\n",
      "            'right'           5\n",
      "            'center left'     6\n",
      "            'center right'    7\n",
      "            'lower center'    8\n",
      "            'upper center'    9\n",
      "            'center'          10\n",
      "            ===============   =============\n",
      "    \n",
      "    \n",
      "        Alternatively can be a 2-tuple giving ``x, y`` of the lower-left\n",
      "        corner of the legend in axes coordinates (in which case\n",
      "        ``bbox_to_anchor`` will be ignored).\n",
      "    \n",
      "        The 'best' option can be quite slow for plots with large amounts\n",
      "        of data. Your plotting speed may benefit from providing a specific\n",
      "        location.\n",
      "    \n",
      "    bbox_to_anchor : `.BboxBase`, 2-tuple, or 4-tuple of floats\n",
      "        Box that is used to position the legend in conjunction with *loc*.\n",
      "        Defaults to `axes.bbox` (if called as a method to `.Axes.legend`) or\n",
      "        `figure.bbox` (if `.Figure.legend`).  This argument allows arbitrary\n",
      "        placement of the legend.\n",
      "    \n",
      "        Bbox coordinates are interpreted in the coordinate system given by\n",
      "        `bbox_transform`, with the default transform\n",
      "        Axes or Figure coordinates, depending on which ``legend`` is called.\n",
      "    \n",
      "        If a 4-tuple or `.BboxBase` is given, then it specifies the bbox\n",
      "        ``(x, y, width, height)`` that the legend is placed in.\n",
      "        To put the legend in the best location in the bottom right\n",
      "        quadrant of the axes (or figure)::\n",
      "    \n",
      "            loc='best', bbox_to_anchor=(0.5, 0., 0.5, 0.5)\n",
      "    \n",
      "        A 2-tuple ``(x, y)`` places the corner of the legend specified by *loc* at\n",
      "        x, y.  For example, to put the legend's upper right-hand corner in the\n",
      "        center of the axes (or figure) the following keywords can be used::\n",
      "    \n",
      "            loc='upper right', bbox_to_anchor=(0.5, 0.5)\n",
      "    \n",
      "    ncol : integer\n",
      "        The number of columns that the legend has. Default is 1.\n",
      "    \n",
      "    prop : None or :class:`matplotlib.font_manager.FontProperties` or dict\n",
      "        The font properties of the legend. If None (default), the current\n",
      "        :data:`matplotlib.rcParams` will be used.\n",
      "    \n",
      "    fontsize : int or float or {'xx-small', 'x-small', 'small', 'medium', 'large', 'x-large', 'xx-large'}\n",
      "        Controls the font size of the legend. If the value is numeric the\n",
      "        size will be the absolute font size in points. String values are\n",
      "        relative to the current default font size. This argument is only\n",
      "        used if `prop` is not specified.\n",
      "    \n",
      "    numpoints : None or int\n",
      "        The number of marker points in the legend when creating a legend\n",
      "        entry for a `.Line2D` (line).\n",
      "        Default is ``None``, which will take the value from\n",
      "        :rc:`legend.numpoints`.\n",
      "    \n",
      "    scatterpoints : None or int\n",
      "        The number of marker points in the legend when creating\n",
      "        a legend entry for a `.PathCollection` (scatter plot).\n",
      "        Default is ``None``, which will take the value from\n",
      "        :rc:`legend.scatterpoints`.\n",
      "    \n",
      "    scatteryoffsets : iterable of floats\n",
      "        The vertical offset (relative to the font size) for the markers\n",
      "        created for a scatter plot legend entry. 0.0 is at the base the\n",
      "        legend text, and 1.0 is at the top. To draw all markers at the\n",
      "        same height, set to ``[0.5]``. Default is ``[0.375, 0.5, 0.3125]``.\n",
      "    \n",
      "    markerscale : None or int or float\n",
      "        The relative size of legend markers compared with the originally\n",
      "        drawn ones.\n",
      "        Default is ``None``, which will take the value from\n",
      "        :rc:`legend.markerscale`.\n",
      "    \n",
      "    markerfirst : bool\n",
      "        If *True*, legend marker is placed to the left of the legend label.\n",
      "        If *False*, legend marker is placed to the right of the legend\n",
      "        label.\n",
      "        Default is *True*.\n",
      "    \n",
      "    frameon : None or bool\n",
      "        Control whether the legend should be drawn on a patch\n",
      "        (frame).\n",
      "        Default is ``None``, which will take the value from\n",
      "        :rc:`legend.frameon`.\n",
      "    \n",
      "    fancybox : None or bool\n",
      "        Control whether round edges should be enabled around the\n",
      "        :class:`~matplotlib.patches.FancyBboxPatch` which makes up the\n",
      "        legend's background.\n",
      "        Default is ``None``, which will take the value from\n",
      "        :rc:`legend.fancybox`.\n",
      "    \n",
      "    shadow : None or bool\n",
      "        Control whether to draw a shadow behind the legend.\n",
      "        Default is ``None``, which will take the value from\n",
      "        :rc:`legend.shadow`.\n",
      "    \n",
      "    framealpha : None or float\n",
      "        Control the alpha transparency of the legend's background.\n",
      "        Default is ``None``, which will take the value from\n",
      "        :rc:`legend.framealpha`.  If shadow is activated and\n",
      "        *framealpha* is ``None``, the default value is ignored.\n",
      "    \n",
      "    facecolor : None or \"inherit\" or a color spec\n",
      "        Control the legend's background color.\n",
      "        Default is ``None``, which will take the value from\n",
      "        :rc:`legend.facecolor`.  If ``\"inherit\"``, it will take\n",
      "        :rc:`axes.facecolor`.\n",
      "    \n",
      "    edgecolor : None or \"inherit\" or a color spec\n",
      "        Control the legend's background patch edge color.\n",
      "        Default is ``None``, which will take the value from\n",
      "        :rc:`legend.edgecolor` If ``\"inherit\"``, it will take\n",
      "        :rc:`axes.edgecolor`.\n",
      "    \n",
      "    mode : {\"expand\", None}\n",
      "        If `mode` is set to ``\"expand\"`` the legend will be horizontally\n",
      "        expanded to fill the axes area (or `bbox_to_anchor` if defines\n",
      "        the legend's size).\n",
      "    \n",
      "    bbox_transform : None or :class:`matplotlib.transforms.Transform`\n",
      "        The transform for the bounding box (`bbox_to_anchor`). For a value\n",
      "        of ``None`` (default) the Axes'\n",
      "        :data:`~matplotlib.axes.Axes.transAxes` transform will be used.\n",
      "    \n",
      "    title : str or None\n",
      "        The legend's title. Default is no title (``None``).\n",
      "    \n",
      "    title_fontsize: str or None\n",
      "        The fontsize of the legend's title.  Default is the default fontsize.\n",
      "    \n",
      "    borderpad : float or None\n",
      "        The fractional whitespace inside the legend border.\n",
      "        Measured in font-size units.\n",
      "        Default is ``None``, which will take the value from\n",
      "        :rc:`legend.borderpad`.\n",
      "    \n",
      "    labelspacing : float or None\n",
      "        The vertical space between the legend entries.\n",
      "        Measured in font-size units.\n",
      "        Default is ``None``, which will take the value from\n",
      "        :rc:`legend.labelspacing`.\n",
      "    \n",
      "    handlelength : float or None\n",
      "        The length of the legend handles.\n",
      "        Measured in font-size units.\n",
      "        Default is ``None``, which will take the value from\n",
      "        :rc:`legend.handlelength`.\n",
      "    \n",
      "    handletextpad : float or None\n",
      "        The pad between the legend handle and text.\n",
      "        Measured in font-size units.\n",
      "        Default is ``None``, which will take the value from\n",
      "        :rc:`legend.handletextpad`.\n",
      "    \n",
      "    borderaxespad : float or None\n",
      "        The pad between the axes and legend border.\n",
      "        Measured in font-size units.\n",
      "        Default is ``None``, which will take the value from\n",
      "        :rc:`legend.borderaxespad`.\n",
      "    \n",
      "    columnspacing : float or None\n",
      "        The spacing between columns.\n",
      "        Measured in font-size units.\n",
      "        Default is ``None``, which will take the value from\n",
      "        :rc:`legend.columnspacing`.\n",
      "    \n",
      "    handler_map : dict or None\n",
      "        The custom dictionary mapping instances or types to a legend\n",
      "        handler. This `handler_map` updates the default handler map\n",
      "        found at :func:`matplotlib.legend.Legend.get_legend_handler_map`.\n",
      "    \n",
      "    \n",
      "    \n",
      "    Returns\n",
      "    -------\n",
      "    \n",
      "    :class:`matplotlib.legend.Legend` instance\n",
      "    \n",
      "    Notes\n",
      "    -----\n",
      "    \n",
      "    Not all kinds of artist are supported by the legend command. See\n",
      "    :doc:`/tutorials/intermediate/legend_guide` for details.\n",
      "    \n",
      "    Examples\n",
      "    --------\n",
      "    \n",
      "    .. plot:: gallery/text_labels_and_annotations/legend.py\n",
      "\n"
     ]
    }
   ],
   "source": [
    "help(legend)"
   ]
  },
  {
   "cell_type": "code",
   "execution_count": 17,
   "metadata": {},
   "outputs": [
    {
     "data": {
      "image/png": "[encoded data removed]",
      "text/plain": [
       "<Figure size 1440x720 with 1 Axes>"
      ]
     },
     "metadata": {
      "needs_background": "light"
     },
     "output_type": "display_data"
    }
   ],
   "source": [
    "figure(figsize=(20, 10))\n",
    "for i in range(len(iou_ths)):\n",
    "    plot(rs_ls[i], ps_ls[i], label=str('{0:1.2f}'.format(iou_ths[i])))\n",
    "title('Precision vs. recall according to IoU threshold.')\n",
    "xlabel('Recall')\n",
    "ylabel('Precision')\n",
    "legend()\n",
    "grid()"
   ]
  },
  {
   "cell_type": "code",
   "execution_count": 91,
   "metadata": {},
   "outputs": [
    {
     "data": {
      "image/png": "[encoded data removed]",
      "text/plain": [
       "<Figure size 1440x720 with 1 Axes>"
      ]
     },
     "metadata": {
      "needs_background": "light"
     },
     "output_type": "display_data"
    }
   ],
   "source": [
    "figure(figsize=(20, 10))\n",
    "plot(mAP_ls, 'o')\n",
    "plot(mAP_ls)\n",
    "grid()"
   ]
  },
  {
   "cell_type": "code",
   "execution_count": 20,
   "metadata": {},
   "outputs": [
    {
     "data": {
      "text/plain": [
       "array([6.72128728e-01, 5.83567271e-01, 4.65188992e-01, 3.30414787e-01,\n",
       "       1.94553682e-01, 8.41897656e-02, 2.32625899e-02, 3.55186558e-03,\n",
       "       1.72193758e-04, 6.35691127e-07])"
      ]
     },
     "execution_count": 20,
     "metadata": {},
     "output_type": "execute_result"
    }
   ],
   "source": [
    "mAP_ls"
   ]
  },
  {
   "cell_type": "code",
   "execution_count": 21,
   "metadata": {},
   "outputs": [
    {
     "data": {
      "text/plain": [
       "0.23570305108706485"
      ]
     },
     "execution_count": 21,
     "metadata": {},
     "output_type": "execute_result"
    }
   ],
   "source": [
    "mAP_ls.mean()"
   ]
  },
  {
   "cell_type": "code",
   "execution_count": 50,
   "metadata": {},
   "outputs": [],
   "source": [
    "input1 = Input(shape=(10,10,3))\n",
    "x = Lambda(lambda x: K.sigmoid(x[..., 0:2]))(input1)\n",
    "#x1 = Lambda(lambda x: K.expand_dims(K.sigmoid(x[..., 0:3])))(input1)\n",
    "#x2 = Lambda(lambda x: K.expand_dims(K.log(x[..., 1])))(input1)\n",
    "#x3 = Lambda(lambda x: K.expand_dims(K.exp(x[..., 2])))(input1)\n",
    "#x = Concatenate()([x1, x2, x3])\n",
    "model = Model(input1, x)"
   ]
  },
  {
   "cell_type": "code",
   "execution_count": 51,
   "metadata": {},
   "outputs": [],
   "source": [
    "res = model.predict(np.ones(shape=(1,10,10,3)))"
   ]
  },
  {
   "cell_type": "code",
   "execution_count": 52,
   "metadata": {},
   "outputs": [
    {
     "data": {
      "text/plain": [
       "(1, 10, 10, 2)"
      ]
     },
     "execution_count": 52,
     "metadata": {},
     "output_type": "execute_result"
    }
   ],
   "source": [
    "res.shape"
   ]
  },
  {
   "cell_type": "code",
   "execution_count": 53,
   "metadata": {},
   "outputs": [
    {
     "data": {
      "text/plain": [
       "array([[[[0.7310586, 0.7310586],\n",
       "         [0.7310586, 0.7310586],\n",
       "         [0.7310586, 0.7310586],\n",
       "         [0.7310586, 0.7310586],\n",
       "         [0.7310586, 0.7310586],\n",
       "         [0.7310586, 0.7310586],\n",
       "         [0.7310586, 0.7310586],\n",
       "         [0.7310586, 0.7310586],\n",
       "         [0.7310586, 0.7310586],\n",
       "         [0.7310586, 0.7310586]],\n",
       "\n",
       "        [[0.7310586, 0.7310586],\n",
       "         [0.7310586, 0.7310586],\n",
       "         [0.7310586, 0.7310586],\n",
       "         [0.7310586, 0.7310586],\n",
       "         [0.7310586, 0.7310586],\n",
       "         [0.7310586, 0.7310586],\n",
       "         [0.7310586, 0.7310586],\n",
       "         [0.7310586, 0.7310586],\n",
       "         [0.7310586, 0.7310586],\n",
       "         [0.7310586, 0.7310586]],\n",
       "\n",
       "        [[0.7310586, 0.7310586],\n",
       "         [0.7310586, 0.7310586],\n",
       "         [0.7310586, 0.7310586],\n",
       "         [0.7310586, 0.7310586],\n",
       "         [0.7310586, 0.7310586],\n",
       "         [0.7310586, 0.7310586],\n",
       "         [0.7310586, 0.7310586],\n",
       "         [0.7310586, 0.7310586],\n",
       "         [0.7310586, 0.7310586],\n",
       "         [0.7310586, 0.7310586]],\n",
       "\n",
       "        [[0.7310586, 0.7310586],\n",
       "         [0.7310586, 0.7310586],\n",
       "         [0.7310586, 0.7310586],\n",
       "         [0.7310586, 0.7310586],\n",
       "         [0.7310586, 0.7310586],\n",
       "         [0.7310586, 0.7310586],\n",
       "         [0.7310586, 0.7310586],\n",
       "         [0.7310586, 0.7310586],\n",
       "         [0.7310586, 0.7310586],\n",
       "         [0.7310586, 0.7310586]],\n",
       "\n",
       "        [[0.7310586, 0.7310586],\n",
       "         [0.7310586, 0.7310586],\n",
       "         [0.7310586, 0.7310586],\n",
       "         [0.7310586, 0.7310586],\n",
       "         [0.7310586, 0.7310586],\n",
       "         [0.7310586, 0.7310586],\n",
       "         [0.7310586, 0.7310586],\n",
       "         [0.7310586, 0.7310586],\n",
       "         [0.7310586, 0.7310586],\n",
       "         [0.7310586, 0.7310586]],\n",
       "\n",
       "        [[0.7310586, 0.7310586],\n",
       "         [0.7310586, 0.7310586],\n",
       "         [0.7310586, 0.7310586],\n",
       "         [0.7310586, 0.7310586],\n",
       "         [0.7310586, 0.7310586],\n",
       "         [0.7310586, 0.7310586],\n",
       "         [0.7310586, 0.7310586],\n",
       "         [0.7310586, 0.7310586],\n",
       "         [0.7310586, 0.7310586],\n",
       "         [0.7310586, 0.7310586]],\n",
       "\n",
       "        [[0.7310586, 0.7310586],\n",
       "         [0.7310586, 0.7310586],\n",
       "         [0.7310586, 0.7310586],\n",
       "         [0.7310586, 0.7310586],\n",
       "         [0.7310586, 0.7310586],\n",
       "         [0.7310586, 0.7310586],\n",
       "         [0.7310586, 0.7310586],\n",
       "         [0.7310586, 0.7310586],\n",
       "         [0.7310586, 0.7310586],\n",
       "         [0.7310586, 0.7310586]],\n",
       "\n",
       "        [[0.7310586, 0.7310586],\n",
       "         [0.7310586, 0.7310586],\n",
       "         [0.7310586, 0.7310586],\n",
       "         [0.7310586, 0.7310586],\n",
       "         [0.7310586, 0.7310586],\n",
       "         [0.7310586, 0.7310586],\n",
       "         [0.7310586, 0.7310586],\n",
       "         [0.7310586, 0.7310586],\n",
       "         [0.7310586, 0.7310586],\n",
       "         [0.7310586, 0.7310586]],\n",
       "\n",
       "        [[0.7310586, 0.7310586],\n",
       "         [0.7310586, 0.7310586],\n",
       "         [0.7310586, 0.7310586],\n",
       "         [0.7310586, 0.7310586],\n",
       "         [0.7310586, 0.7310586],\n",
       "         [0.7310586, 0.7310586],\n",
       "         [0.7310586, 0.7310586],\n",
       "         [0.7310586, 0.7310586],\n",
       "         [0.7310586, 0.7310586],\n",
       "         [0.7310586, 0.7310586]],\n",
       "\n",
       "        [[0.7310586, 0.7310586],\n",
       "         [0.7310586, 0.7310586],\n",
       "         [0.7310586, 0.7310586],\n",
       "         [0.7310586, 0.7310586],\n",
       "         [0.7310586, 0.7310586],\n",
       "         [0.7310586, 0.7310586],\n",
       "         [0.7310586, 0.7310586],\n",
       "         [0.7310586, 0.7310586],\n",
       "         [0.7310586, 0.7310586],\n",
       "         [0.7310586, 0.7310586]]]], dtype=float32)"
      ]
     },
     "execution_count": 53,
     "metadata": {},
     "output_type": "execute_result"
    }
   ],
   "source": [
    "res"
   ]
  },
  {
   "cell_type": "code",
   "execution_count": 3,
   "metadata": {},
   "outputs": [],
   "source": [
    "f = h5py.File('face_pairs_dists.h5', 'r')"
   ]
  },
  {
   "cell_type": "code",
   "execution_count": 4,
   "metadata": {},
   "outputs": [],
   "source": [
    "same_dists = f['sample_dists'].value\n",
    "diff_dists = f['diff_dists'].value"
   ]
  },
  {
   "cell_type": "code",
   "execution_count": 5,
   "metadata": {},
   "outputs": [
    {
     "data": {
      "text/plain": [
       "(87899,)"
      ]
     },
     "execution_count": 5,
     "metadata": {},
     "output_type": "execute_result"
    }
   ],
   "source": [
    "same_dists.shape"
   ]
  },
  {
   "cell_type": "code",
   "execution_count": 8,
   "metadata": {},
   "outputs": [
    {
     "data": {
      "image/png": "[encoded data removed]",
      "text/plain": [
       "<Figure size 1440x720 with 1 Axes>"
      ]
     },
     "metadata": {
      "needs_background": "light"
     },
     "output_type": "display_data"
    }
   ],
   "source": [
    "figure(figsize=(20,10))\n",
    "hist(same_dists, bins=100)\n",
    "grid()"
   ]
  },
  {
   "cell_type": "code",
   "execution_count": 9,
   "metadata": {},
   "outputs": [
    {
     "data": {
      "image/png": "[encoded data removed]",
      "text/plain": [
       "<Figure size 1440x720 with 1 Axes>"
      ]
     },
     "metadata": {
      "needs_background": "light"
     },
     "output_type": "display_data"
    }
   ],
   "source": [
    "figure(figsize=(20,10))\n",
    "hist(diff_dists, bins=100)\n",
    "grid()"
   ]
  },
  {
   "cell_type": "code",
   "execution_count": 10,
   "metadata": {},
   "outputs": [
    {
     "data": {
      "image/png": "[encoded data removed]",
      "text/plain": [
       "<Figure size 1440x720 with 1 Axes>"
      ]
     },
     "metadata": {
      "needs_background": "light"
     },
     "output_type": "display_data"
    }
   ],
   "source": [
    "figure(figsize=(20,10))\n",
    "hist(same_dists, bins=100)\n",
    "hist(diff_dists, bins=100)\n",
    "grid()"
   ]
  },
  {
   "cell_type": "code",
   "execution_count": 12,
   "metadata": {},
   "outputs": [],
   "source": [
    "sample = np.arange(0.1, 1.0, 0.1)"
   ]
  },
  {
   "cell_type": "code",
   "execution_count": 13,
   "metadata": {},
   "outputs": [
    {
     "data": {
      "text/plain": [
       "array([0.1, 0.2, 0.3, 0.4, 0.5, 0.6, 0.7, 0.8, 0.9])"
      ]
     },
     "execution_count": 13,
     "metadata": {},
     "output_type": "execute_result"
    }
   ],
   "source": [
    "sample"
   ]
  },
  {
   "cell_type": "code",
   "execution_count": 14,
   "metadata": {},
   "outputs": [
    {
     "name": "stdout",
     "output_type": "stream",
     "text": [
      "0.1\n",
      "0.2\n",
      "0.30000000000000004\n",
      "0.4\n",
      "0.5\n",
      "0.6\n",
      "0.7000000000000001\n",
      "0.8\n",
      "0.9\n"
     ]
    }
   ],
   "source": [
    "for i in sample: print(i)"
   ]
  },
  {
   "cell_type": "code",
   "execution_count": 15,
   "metadata": {},
   "outputs": [],
   "source": [
    "f.close()"
   ]
  },
  {
   "cell_type": "code",
   "execution_count": 16,
   "metadata": {},
   "outputs": [],
   "source": [
    "f = h5py.File('var_far.h5', 'r')"
   ]
  },
  {
   "cell_type": "code",
   "execution_count": 17,
   "metadata": {},
   "outputs": [],
   "source": [
    "sim_ths = f['sim_ths'].value\n",
    "vars_p = f['vars'].value\n",
    "fars_p = f['fars'].value"
   ]
  },
  {
   "cell_type": "code",
   "execution_count": 21,
   "metadata": {},
   "outputs": [
    {
     "data": {
      "image/png": "[encoded data removed]",
      "text/plain": [
       "<Figure size 1440x720 with 1 Axes>"
      ]
     },
     "metadata": {
      "needs_background": "light"
     },
     "output_type": "display_data"
    }
   ],
   "source": [
    "figure(figsize=(20,10))\n",
    "plot(fars_p, vars_p)\n",
    "grid()"
   ]
  },
  {
   "cell_type": "code",
   "execution_count": 22,
   "metadata": {},
   "outputs": [],
   "source": [
    "f.close()"
   ]
  },
  {
   "cell_type": "code",
   "execution_count": 23,
   "metadata": {},
   "outputs": [],
   "source": [
    "f = h5py.File('fi_acc.h5', 'r')"
   ]
  },
  {
   "cell_type": "code",
   "execution_count": 24,
   "metadata": {},
   "outputs": [],
   "source": [
    "accs = f['acc_ls'].value"
   ]
  },
  {
   "cell_type": "code",
   "execution_count": 25,
   "metadata": {},
   "outputs": [
    {
     "data": {
      "text/plain": [
       "array([0.39620434, 0.39620434, 0.39620434, 0.39620434, 0.39620434,\n",
       "       0.39620434, 0.39620434, 0.39620434, 0.39620434, 0.39620434])"
      ]
     },
     "execution_count": 25,
     "metadata": {},
     "output_type": "execute_result"
    }
   ],
   "source": [
    "accs"
   ]
  },
  {
   "cell_type": "code",
   "execution_count": 26,
   "metadata": {},
   "outputs": [],
   "source": [
    "f.close()"
   ]
  },
  {
   "cell_type": "code",
   "execution_count": 27,
   "metadata": {},
   "outputs": [],
   "source": [
    "f = h5py.File('face_pairs_dists.h5', 'r')"
   ]
  },
  {
   "cell_type": "code",
   "execution_count": 29,
   "metadata": {},
   "outputs": [],
   "source": [
    "same_dists = f['same_dists'].value\n",
    "diff_dists = f['diff_dists'].value"
   ]
  },
  {
   "cell_type": "code",
   "execution_count": 31,
   "metadata": {},
   "outputs": [
    {
     "data": {
      "image/png": "[encoded data removed]",
      "text/plain": [
       "<Figure size 1440x720 with 1 Axes>"
      ]
     },
     "metadata": {
      "needs_background": "light"
     },
     "output_type": "display_data"
    }
   ],
   "source": [
    "figure(figsize=(20,10))\n",
    "hist(same_dists, bins=1000)\n",
    "grid()"
   ]
  },
  {
   "cell_type": "code",
   "execution_count": 34,
   "metadata": {},
   "outputs": [
    {
     "data": {
      "image/png": "[encoded data removed]",
      "text/plain": [
       "<Figure size 1440x720 with 1 Axes>"
      ]
     },
     "metadata": {
      "needs_background": "light"
     },
     "output_type": "display_data"
    }
   ],
   "source": [
    "figure(figsize=(20,10))\n",
    "hist(diff_dists, bins=1000)\n",
    "grid()"
   ]
  },
  {
   "cell_type": "code",
   "execution_count": 35,
   "metadata": {},
   "outputs": [
    {
     "data": {
      "image/png": "[encoded data removed]",
      "text/plain": [
       "<Figure size 1440x720 with 1 Axes>"
      ]
     },
     "metadata": {
      "needs_background": "light"
     },
     "output_type": "display_data"
    }
   ],
   "source": [
    "figure(figsize=(20,10))\n",
    "hist(same_dists, bins=1000)\n",
    "hist(diff_dists, bins=1000)\n",
    "grid()"
   ]
  },
  {
   "cell_type": "code",
   "execution_count": 18,
   "metadata": {},
   "outputs": [
    {
     "data": {
      "text/plain": [
       "67"
      ]
     },
     "execution_count": 18,
     "metadata": {},
     "output_type": "execute_result"
    }
   ],
   "source": [
    "36+1+24+6"
   ]
  },
  {
   "cell_type": "code",
   "execution_count": 19,
   "metadata": {},
   "outputs": [
    {
     "data": {
      "text/plain": [
       "35"
      ]
     },
     "execution_count": 19,
     "metadata": {},
     "output_type": "execute_result"
    }
   ],
   "source": [
    "17+9+9"
   ]
  },
  {
   "cell_type": "code",
   "execution_count": 1,
   "metadata": {},
   "outputs": [],
   "source": [
    "sample = {'a':10, 'b':20}"
   ]
  },
  {
   "cell_type": "code",
   "execution_count": 2,
   "metadata": {},
   "outputs": [
    {
     "data": {
      "text/plain": [
       "False"
      ]
     },
     "execution_count": 2,
     "metadata": {},
     "output_type": "execute_result"
    }
   ],
   "source": [
    "hasattr(sample, 'a')"
   ]
  },
  {
   "cell_type": "code",
   "execution_count": 6,
   "metadata": {},
   "outputs": [
    {
     "data": {
      "text/plain": [
       "False"
      ]
     },
     "execution_count": 6,
     "metadata": {},
     "output_type": "execute_result"
    }
   ],
   "source": [
    "isinstance(None, dict)"
   ]
  },
  {
   "cell_type": "code",
   "execution_count": 10,
   "metadata": {},
   "outputs": [
    {
     "data": {
      "text/plain": [
       "True"
      ]
     },
     "execution_count": 10,
     "metadata": {},
     "output_type": "execute_result"
    }
   ],
   "source": [
    "'a' in sample.keys()"
   ]
  },
  {
   "cell_type": "code",
   "execution_count": 11,
   "metadata": {},
   "outputs": [
    {
     "data": {
      "text/plain": [
       "10"
      ]
     },
     "execution_count": 11,
     "metadata": {},
     "output_type": "execute_result"
    }
   ],
   "source": [
    "sample.pop('a')"
   ]
  },
  {
   "cell_type": "code",
   "execution_count": 12,
   "metadata": {},
   "outputs": [
    {
     "data": {
      "text/plain": [
       "{'b': 20}"
      ]
     },
     "execution_count": 12,
     "metadata": {},
     "output_type": "execute_result"
    }
   ],
   "source": [
    "sample"
   ]
  },
  {
   "cell_type": "code",
   "execution_count": 111,
   "metadata": {},
   "outputs": [],
   "source": [
    "from keras.layers import Conv2D, Conv2DTranspose, Reshape"
   ]
  },
  {
   "cell_type": "code",
   "execution_count": 11,
   "metadata": {},
   "outputs": [],
   "source": [
    "input1 = Input(shape=(10,10,3))\n",
    "x = Conv2D(filters=3, kernel_size=3, padding='same')(input1)\n",
    "x = Flatten()(x)\n",
    "output = Dense(10)(x)\n",
    "model = Model(input1, output)\n",
    "model.compile(optimizer='adam', loss='mse')"
   ]
  },
  {
   "cell_type": "code",
   "execution_count": 12,
   "metadata": {},
   "outputs": [
    {
     "name": "stdout",
     "output_type": "stream",
     "text": [
      "_________________________________________________________________\n",
      "Layer (type)                 Output Shape              Param #   \n",
      "=================================================================\n",
      "input_5 (InputLayer)         (None, 10, 10, 3)         0         \n",
      "_________________________________________________________________\n",
      "conv2d_5 (Conv2D)            (None, 10, 10, 3)         84        \n",
      "_________________________________________________________________\n",
      "flatten_3 (Flatten)          (None, 300)               0         \n",
      "_________________________________________________________________\n",
      "dense_4 (Dense)              (None, 10)                3010      \n",
      "=================================================================\n",
      "Total params: 3,094\n",
      "Trainable params: 3,094\n",
      "Non-trainable params: 0\n",
      "_________________________________________________________________\n"
     ]
    }
   ],
   "source": [
    "model.summary()"
   ]
  },
  {
   "cell_type": "code",
   "execution_count": 14,
   "metadata": {},
   "outputs": [
    {
     "data": {
      "text/plain": [
       "[<keras.engine.input_layer.InputLayer at 0x1befec996a0>,\n",
       " <keras.layers.convolutional.Conv2D at 0x1befec86fd0>,\n",
       " <keras.layers.core.Flatten at 0x1befec99780>,\n",
       " <keras.layers.core.Dense at 0x1beff5f8438>]"
      ]
     },
     "execution_count": 14,
     "metadata": {},
     "output_type": "execute_result"
    }
   ],
   "source": [
    "model.layers"
   ]
  },
  {
   "cell_type": "code",
   "execution_count": 15,
   "metadata": {},
   "outputs": [
    {
     "data": {
      "text/plain": [
       "'input_5'"
      ]
     },
     "execution_count": 15,
     "metadata": {},
     "output_type": "execute_result"
    }
   ],
   "source": [
    "model.layers[0].name"
   ]
  },
  {
   "cell_type": "code",
   "execution_count": 27,
   "metadata": {},
   "outputs": [],
   "source": [
    "layers = model.layers"
   ]
  },
  {
   "cell_type": "code",
   "execution_count": 28,
   "metadata": {},
   "outputs": [],
   "source": [
    "layers.reverse()"
   ]
  },
  {
   "cell_type": "code",
   "execution_count": 29,
   "metadata": {},
   "outputs": [
    {
     "data": {
      "text/plain": [
       "[<keras.layers.core.Dense at 0x1beff5f8438>,\n",
       " <keras.layers.core.Flatten at 0x1befec99780>,\n",
       " <keras.layers.convolutional.Conv2D at 0x1befec86fd0>,\n",
       " <keras.engine.input_layer.InputLayer at 0x1befec996a0>]"
      ]
     },
     "execution_count": 29,
     "metadata": {},
     "output_type": "execute_result"
    }
   ],
   "source": [
    "layers"
   ]
  },
  {
   "cell_type": "code",
   "execution_count": 33,
   "metadata": {},
   "outputs": [
    {
     "data": {
      "text/plain": [
       "[<tf.Variable 'dense_4/kernel:0' shape=(300, 10) dtype=float32_ref>,\n",
       " <tf.Variable 'dense_4/bias:0' shape=(10,) dtype=float32_ref>]"
      ]
     },
     "execution_count": 33,
     "metadata": {},
     "output_type": "execute_result"
    }
   ],
   "source": [
    "layers[0].weights"
   ]
  },
  {
   "cell_type": "code",
   "execution_count": 38,
   "metadata": {},
   "outputs": [],
   "source": [
    "A = np.mat('[1 2 3;4 5 6]')"
   ]
  },
  {
   "cell_type": "code",
   "execution_count": 39,
   "metadata": {},
   "outputs": [],
   "source": [
    "B = np.mat('[1; 2]')"
   ]
  },
  {
   "cell_type": "code",
   "execution_count": 40,
   "metadata": {},
   "outputs": [
    {
     "data": {
      "text/plain": [
       "matrix([[1, 2, 3],\n",
       "        [4, 5, 6]])"
      ]
     },
     "execution_count": 40,
     "metadata": {},
     "output_type": "execute_result"
    }
   ],
   "source": [
    "A"
   ]
  },
  {
   "cell_type": "code",
   "execution_count": 41,
   "metadata": {},
   "outputs": [
    {
     "data": {
      "text/plain": [
       "matrix([[1],\n",
       "        [2]])"
      ]
     },
     "execution_count": 41,
     "metadata": {},
     "output_type": "execute_result"
    }
   ],
   "source": [
    "B"
   ]
  },
  {
   "cell_type": "code",
   "execution_count": 43,
   "metadata": {},
   "outputs": [],
   "source": [
    "B_p = A.T*B"
   ]
  },
  {
   "cell_type": "code",
   "execution_count": 44,
   "metadata": {},
   "outputs": [
    {
     "data": {
      "text/plain": [
       "matrix([[ 9],\n",
       "        [12],\n",
       "        [15]])"
      ]
     },
     "execution_count": 44,
     "metadata": {},
     "output_type": "execute_result"
    }
   ],
   "source": [
    "B_p"
   ]
  },
  {
   "cell_type": "code",
   "execution_count": 45,
   "metadata": {},
   "outputs": [],
   "source": [
    "B_p_p = A*B_p"
   ]
  },
  {
   "cell_type": "code",
   "execution_count": 46,
   "metadata": {},
   "outputs": [
    {
     "data": {
      "text/plain": [
       "matrix([[ 78],\n",
       "        [186]])"
      ]
     },
     "execution_count": 46,
     "metadata": {},
     "output_type": "execute_result"
    }
   ],
   "source": [
    "B_p_p"
   ]
  },
  {
   "cell_type": "code",
   "execution_count": 47,
   "metadata": {},
   "outputs": [],
   "source": [
    "B_p_p = A.T.I*B_p"
   ]
  },
  {
   "cell_type": "code",
   "execution_count": 48,
   "metadata": {},
   "outputs": [
    {
     "data": {
      "text/plain": [
       "matrix([[1.],\n",
       "        [2.]])"
      ]
     },
     "execution_count": 48,
     "metadata": {},
     "output_type": "execute_result"
    }
   ],
   "source": [
    "B_p_p"
   ]
  },
  {
   "cell_type": "code",
   "execution_count": 49,
   "metadata": {},
   "outputs": [],
   "source": [
    "C = B.T"
   ]
  },
  {
   "cell_type": "code",
   "execution_count": 50,
   "metadata": {},
   "outputs": [
    {
     "data": {
      "text/plain": [
       "matrix([[1, 2]])"
      ]
     },
     "execution_count": 50,
     "metadata": {},
     "output_type": "execute_result"
    }
   ],
   "source": [
    "C"
   ]
  },
  {
   "cell_type": "code",
   "execution_count": 51,
   "metadata": {},
   "outputs": [],
   "source": [
    "C_p = C*A"
   ]
  },
  {
   "cell_type": "code",
   "execution_count": 52,
   "metadata": {},
   "outputs": [
    {
     "data": {
      "text/plain": [
       "matrix([[ 9, 12, 15]])"
      ]
     },
     "execution_count": 52,
     "metadata": {},
     "output_type": "execute_result"
    }
   ],
   "source": [
    "C_p"
   ]
  },
  {
   "cell_type": "code",
   "execution_count": 53,
   "metadata": {},
   "outputs": [],
   "source": [
    "C_p_p = C_p*A.I"
   ]
  },
  {
   "cell_type": "code",
   "execution_count": 54,
   "metadata": {},
   "outputs": [
    {
     "data": {
      "text/plain": [
       "matrix([[1., 2.]])"
      ]
     },
     "execution_count": 54,
     "metadata": {},
     "output_type": "execute_result"
    }
   ],
   "source": [
    "C_p_p"
   ]
  },
  {
   "cell_type": "code",
   "execution_count": 92,
   "metadata": {},
   "outputs": [],
   "source": [
    "layer_1 = layers[0]"
   ]
  },
  {
   "cell_type": "code",
   "execution_count": 93,
   "metadata": {},
   "outputs": [
    {
     "data": {
      "text/plain": [
       "'dense_4'"
      ]
     },
     "execution_count": 93,
     "metadata": {},
     "output_type": "execute_result"
    }
   ],
   "source": [
    "layer_1.name"
   ]
  },
  {
   "cell_type": "code",
   "execution_count": 94,
   "metadata": {},
   "outputs": [
    {
     "data": {
      "text/plain": [
       "(None, 300)"
      ]
     },
     "execution_count": 94,
     "metadata": {},
     "output_type": "execute_result"
    }
   ],
   "source": [
    "layer_1.input_shape"
   ]
  },
  {
   "cell_type": "code",
   "execution_count": 95,
   "metadata": {},
   "outputs": [
    {
     "data": {
      "text/plain": [
       "(None, 10)"
      ]
     },
     "execution_count": 95,
     "metadata": {},
     "output_type": "execute_result"
    }
   ],
   "source": [
    "layer_1.output_shape"
   ]
  },
  {
   "cell_type": "code",
   "execution_count": 96,
   "metadata": {},
   "outputs": [
    {
     "data": {
      "text/plain": [
       "<tf.Variable 'dense_4/bias:0' shape=(10,) dtype=float32_ref>"
      ]
     },
     "execution_count": 96,
     "metadata": {},
     "output_type": "execute_result"
    }
   ],
   "source": [
    "layer_1.bias"
   ]
  },
  {
   "cell_type": "code",
   "execution_count": 103,
   "metadata": {},
   "outputs": [],
   "source": [
    "W = layer_1.get_weights()"
   ]
  },
  {
   "cell_type": "code",
   "execution_count": 105,
   "metadata": {},
   "outputs": [
    {
     "data": {
      "text/plain": [
       "((300, 10), (10,))"
      ]
     },
     "execution_count": 105,
     "metadata": {},
     "output_type": "execute_result"
    }
   ],
   "source": [
    "W[0].shape, W[1].shape"
   ]
  },
  {
   "cell_type": "code",
   "execution_count": 99,
   "metadata": {},
   "outputs": [
    {
     "data": {
      "text/plain": [
       "(10, 300)"
      ]
     },
     "execution_count": 99,
     "metadata": {},
     "output_type": "execute_result"
    }
   ],
   "source": [
    "W.T.shape"
   ]
  },
  {
   "cell_type": "code",
   "execution_count": 108,
   "metadata": {},
   "outputs": [
    {
     "data": {
      "text/plain": [
       "(10, 300)"
      ]
     },
     "execution_count": 108,
     "metadata": {},
     "output_type": "execute_result"
    }
   ],
   "source": [
    "layer_1.get_weights()[0].T.shape"
   ]
  },
  {
   "cell_type": "code",
   "execution_count": 109,
   "metadata": {},
   "outputs": [],
   "source": [
    "input2 = Input(shape=(10, ))\n",
    "inv_layer_1 = Dense(layer_1.input_shape[1])\n",
    "x_p = inv_layer_1(input2)\n",
    "inv_layer_1.set_weights([layer_1.get_weights()[0].T, random.rand(300)])"
   ]
  },
  {
   "cell_type": "code",
   "execution_count": 112,
   "metadata": {},
   "outputs": [],
   "source": [
    "x_p = Reshape((10,10,3))(x_p)"
   ]
  },
  {
   "cell_type": "code",
   "execution_count": 113,
   "metadata": {},
   "outputs": [
    {
     "data": {
      "text/plain": [
       "TensorShape([Dimension(None), Dimension(10), Dimension(10), Dimension(3)])"
      ]
     },
     "execution_count": 113,
     "metadata": {},
     "output_type": "execute_result"
    }
   ],
   "source": [
    "inv_layer_2 = Conv2DTranspose()"
   ]
  },
  {
   "cell_type": "code",
   "execution_count": null,
   "metadata": {},
   "outputs": [],
   "source": []
  }
 ],
 "metadata": {
  "kernelspec": {
   "display_name": "Python 3",
   "language": "python",
   "name": "python3"
  },
  "language_info": {
   "codemirror_mode": {
    "name": "ipython",
    "version": 3
   },
   "file_extension": ".py",
   "mimetype": "text/x-python",
   "name": "python",
   "nbconvert_exporter": "python",
   "pygments_lexer": "ipython3",
   "version": "3.6.8"
  }
 },
 "nbformat": 4,
 "nbformat_minor": 2
}
